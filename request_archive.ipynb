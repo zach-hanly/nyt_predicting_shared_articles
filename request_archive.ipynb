{
 "cells": [
  {
   "cell_type": "markdown",
   "metadata": {},
   "source": [
    "# All Article Per Month"
   ]
  },
  {
   "cell_type": "code",
   "execution_count": 18,
   "metadata": {},
   "outputs": [],
   "source": [
    " # import required packages  \n",
    "import requests \n",
    "import json\n",
    "import pandas as pd "
   ]
  },
  {
   "cell_type": "code",
   "execution_count": 19,
   "metadata": {},
   "outputs": [],
   "source": [
    "#function to access private API key\n",
    "def get_api_key(path):\n",
    "    with open(path) as f:\n",
    "        return json.load(f)"
   ]
  },
  {
   "cell_type": "code",
   "execution_count": 20,
   "metadata": {},
   "outputs": [],
   "source": [
    "# function to get a list of all articles for provided months from API\n",
    "def get_articles(year_month):\n",
    "    articles_list = []\n",
    "    \n",
    "    # get API key from private folder in director out of repo \n",
    "    api_key = get_api_key(\"../.nyt_api.json\")['api_key']\n",
    "    \n",
    "    # make API call for every month passed through \n",
    "    for date in year_month:\n",
    "        year = str(date[0])\n",
    "        month = str(date[1])\n",
    "        url = f'https://api.nytimes.com/svc/archive/v1/{year}/{month}.json?api-key={api_key}'\n",
    "        response = requests.get(url)\n",
    "        response_json = response.json()\n",
    "        articles = response_json['response']['docs']\n",
    "        articles_list.extend(articles)\n",
    "        \n",
    "    return articles_list "
   ]
  },
  {
   "cell_type": "code",
   "execution_count": 21,
   "metadata": {},
   "outputs": [],
   "source": [
    "def cleaned_articles(archive):\n",
    "    cleaned = []\n",
    "    \n",
    "    # loop through every article and append to empty list \n",
    "    for article in archive:\n",
    "        uri = article['uri']\n",
    "        date_published = article['pub_date'][:10]\n",
    "        headline = article['headline']['main'].lower()\n",
    "        keywords = ''.join(x['value'].lower() for x in article['keywords'])\n",
    "        snippet = article['snippet']\n",
    "        word_count = article['word_count']\n",
    "        cleaned.append([uri, date_published, headline, keywords, snippet, word_count])\n",
    "        \n",
    "    return cleaned"
   ]
  },
  {
   "cell_type": "code",
   "execution_count": 22,
   "metadata": {},
   "outputs": [],
   "source": [
    "# make a list of months than pass to API call function \n",
    "article_dates_train = [(2021, 12), (2022, 1)]\n",
    "article_dates_deploy = [(2022, 1)]\n",
    "articles = get_articles(article_dates_train)"
   ]
  },
  {
   "cell_type": "code",
   "execution_count": 23,
   "metadata": {},
   "outputs": [],
   "source": [
    "# pass list of articles through cleaning function \n",
    "cleaned_articles = cleaned_articles(articles)"
   ]
  },
  {
   "cell_type": "code",
   "execution_count": 24,
   "metadata": {},
   "outputs": [],
   "source": [
    "# put articles in dataframe and drop duplictes, if any \n",
    "df_articles = pd.DataFrame(cleaned_articles)\n",
    "df_articles.dropna(inplace=True)"
   ]
  },
  {
   "cell_type": "code",
   "execution_count": 25,
   "metadata": {},
   "outputs": [],
   "source": [
    "# rename columns to strings \n",
    "df_articles.columns = ['uri', 'date_published', 'headline', 'keywords', 'snippet', 'word_count']"
   ]
  },
  {
   "cell_type": "code",
   "execution_count": 26,
   "metadata": {},
   "outputs": [
    {
     "data": {
      "text/plain": [
       "(5291, 6)"
      ]
     },
     "execution_count": 26,
     "metadata": {},
     "output_type": "execute_result"
    }
   ],
   "source": [
    "df_articles.shape"
   ]
  },
  {
   "cell_type": "code",
   "execution_count": 27,
   "metadata": {},
   "outputs": [
    {
     "data": {
      "text/plain": [
       "datetime.date(2022, 1, 7)"
      ]
     },
     "execution_count": 27,
     "metadata": {},
     "output_type": "execute_result"
    }
   ],
   "source": [
    "\"\"\"uncomment and unindent next two lines to only accept articles with dates after training phase\n",
    "\"\"\"\n",
    "    # last_training_day = pd.to_datetime('2022/01/15').date()\n",
    "    # df_articles = df_articles[df_articles.date_published > last_training_day]"
   ]
  },
  {
   "cell_type": "code",
   "execution_count": 29,
   "metadata": {},
   "outputs": [
    {
     "data": {
      "text/html": [
       "<div>\n",
       "<style scoped>\n",
       "    .dataframe tbody tr th:only-of-type {\n",
       "        vertical-align: middle;\n",
       "    }\n",
       "\n",
       "    .dataframe tbody tr th {\n",
       "        vertical-align: top;\n",
       "    }\n",
       "\n",
       "    .dataframe thead th {\n",
       "        text-align: right;\n",
       "    }\n",
       "</style>\n",
       "<table border=\"1\" class=\"dataframe\">\n",
       "  <thead>\n",
       "    <tr style=\"text-align: right;\">\n",
       "      <th></th>\n",
       "      <th>idx</th>\n",
       "      <th>date_published</th>\n",
       "      <th>headline</th>\n",
       "      <th>keywords</th>\n",
       "      <th>snippet</th>\n",
       "      <th>word_count</th>\n",
       "    </tr>\n",
       "  </thead>\n",
       "  <tbody>\n",
       "    <tr>\n",
       "      <th>4766</th>\n",
       "      <td>nyt://article/4cc6765c-3935-595b-a0c0-209c81d6...</td>\n",
       "      <td>2022-01-08</td>\n",
       "      <td>5 big questions for the political year ahead</td>\n",
       "      <td>united states politics and governmentbiden, jo...</td>\n",
       "      <td>Inflation and the pandemic are hurting Preside...</td>\n",
       "      <td>1460</td>\n",
       "    </tr>\n",
       "    <tr>\n",
       "      <th>4767</th>\n",
       "      <td>nyt://article/b6d1a470-eb88-555b-ab9a-a0ccfd69...</td>\n",
       "      <td>2022-01-08</td>\n",
       "      <td>officers ran off after firing stun gun that se...</td>\n",
       "      <td>video recordings, downloads and streamingstun ...</td>\n",
       "      <td>The footage was released by New York’s attorne...</td>\n",
       "      <td>753</td>\n",
       "    </tr>\n",
       "    <tr>\n",
       "      <th>4768</th>\n",
       "      <td>nyt://article/263fa419-e2af-5fdc-9c27-8db5a68a...</td>\n",
       "      <td>2022-01-08</td>\n",
       "      <td>amy schneider becomes first woman to surpass $...</td>\n",
       "      <td>game showsschneider, amy (1979- )jeopardy! (tv...</td>\n",
       "      <td>Schneider, a software engineering manager, is ...</td>\n",
       "      <td>410</td>\n",
       "    </tr>\n",
       "    <tr>\n",
       "      <th>4769</th>\n",
       "      <td>nyt://video/070a5c45-58b5-5e17-90ca-f8b55e55cbb4</td>\n",
       "      <td>2022-01-08</td>\n",
       "      <td>sidney poitier, pioneering actor, dies at 94</td>\n",
       "      <td>actors and actressesacademy awards (oscars)dea...</td>\n",
       "      <td>Sidney Poitier was the first Black actor to wi...</td>\n",
       "      <td>0</td>\n",
       "    </tr>\n",
       "    <tr>\n",
       "      <th>4770</th>\n",
       "      <td>nyt://article/7f82d598-ab33-5f2f-abc9-3e4d1f87...</td>\n",
       "      <td>2022-01-08</td>\n",
       "      <td>ex-sheriff’s deputy pleads guilty in killing o...</td>\n",
       "      <td>police brutality, misconduct and shootingscali...</td>\n",
       "      <td>Aaron Russell, 25, faces up to 11 years in pri...</td>\n",
       "      <td>503</td>\n",
       "    </tr>\n",
       "  </tbody>\n",
       "</table>\n",
       "</div>"
      ],
      "text/plain": [
       "                                                    idx date_published  \\\n",
       "4766  nyt://article/4cc6765c-3935-595b-a0c0-209c81d6...     2022-01-08   \n",
       "4767  nyt://article/b6d1a470-eb88-555b-ab9a-a0ccfd69...     2022-01-08   \n",
       "4768  nyt://article/263fa419-e2af-5fdc-9c27-8db5a68a...     2022-01-08   \n",
       "4769   nyt://video/070a5c45-58b5-5e17-90ca-f8b55e55cbb4     2022-01-08   \n",
       "4770  nyt://article/7f82d598-ab33-5f2f-abc9-3e4d1f87...     2022-01-08   \n",
       "\n",
       "                                               headline  \\\n",
       "4766       5 big questions for the political year ahead   \n",
       "4767  officers ran off after firing stun gun that se...   \n",
       "4768  amy schneider becomes first woman to surpass $...   \n",
       "4769       sidney poitier, pioneering actor, dies at 94   \n",
       "4770  ex-sheriff’s deputy pleads guilty in killing o...   \n",
       "\n",
       "                                               keywords  \\\n",
       "4766  united states politics and governmentbiden, jo...   \n",
       "4767  video recordings, downloads and streamingstun ...   \n",
       "4768  game showsschneider, amy (1979- )jeopardy! (tv...   \n",
       "4769  actors and actressesacademy awards (oscars)dea...   \n",
       "4770  police brutality, misconduct and shootingscali...   \n",
       "\n",
       "                                                snippet  word_count  \n",
       "4766  Inflation and the pandemic are hurting Preside...        1460  \n",
       "4767  The footage was released by New York’s attorne...         753  \n",
       "4768  Schneider, a software engineering manager, is ...         410  \n",
       "4769  Sidney Poitier was the first Black actor to wi...           0  \n",
       "4770  Aaron Russell, 25, faces up to 11 years in pri...         503  "
      ]
     },
     "execution_count": 29,
     "metadata": {},
     "output_type": "execute_result"
    }
   ],
   "source": [
    "df_articles.head()"
   ]
  },
  {
   "cell_type": "code",
   "execution_count": 77,
   "metadata": {},
   "outputs": [
    {
     "data": {
      "text/plain": [
       "datetime.date(2021, 12, 1)"
      ]
     },
     "execution_count": 77,
     "metadata": {},
     "output_type": "execute_result"
    }
   ],
   "source": [
    "df_articles.date_published[0]"
   ]
  },
  {
   "cell_type": "code",
   "execution_count": null,
   "metadata": {},
   "outputs": [],
   "source": [
    "# df_articles.to_csv('data/article_archive.csv', index=False)"
   ]
  },
  {
   "cell_type": "code",
   "execution_count": null,
   "metadata": {},
   "outputs": [],
   "source": [
    "\"\"\" uncoment and unindent next line to save delpoyment archive data to a seperate file. \n",
    "    comment line above to prevent delpoyment data from leaking into training file.\n",
    "\"\"\"\n",
    "    # df_articles.to_csv('data/archive_deploy.csv', index=False)"
   ]
  },
  {
   "cell_type": "code",
   "execution_count": null,
   "metadata": {},
   "outputs": [],
   "source": []
  }
 ],
 "metadata": {
  "kernelspec": {
   "display_name": "Python (learn-env)",
   "language": "python",
   "name": "learn-env"
  },
  "language_info": {
   "codemirror_mode": {
    "name": "ipython",
    "version": 3
   },
   "file_extension": ".py",
   "mimetype": "text/x-python",
   "name": "python",
   "nbconvert_exporter": "python",
   "pygments_lexer": "ipython3",
   "version": "3.8.5"
  }
 },
 "nbformat": 4,
 "nbformat_minor": 4
}
