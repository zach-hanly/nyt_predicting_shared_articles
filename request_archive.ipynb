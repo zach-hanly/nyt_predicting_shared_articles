{
 "cells": [
  {
   "cell_type": "markdown",
   "metadata": {},
   "source": [
    "# All Article Per Month"
   ]
  },
  {
   "cell_type": "code",
   "execution_count": 4,
   "metadata": {},
   "outputs": [],
   "source": [
    " # import needed libraries   \n",
    "import requests \n",
    "import json\n",
    "import pandas as pd\n",
    "import datetime as dt  "
   ]
  },
  {
   "cell_type": "code",
   "execution_count": 5,
   "metadata": {},
   "outputs": [],
   "source": [
    "#function to access private API key\n",
    "def get_api_key(path):\n",
    "    with open(path) as f:\n",
    "        return json.load(f)"
   ]
  },
  {
   "cell_type": "code",
   "execution_count": 6,
   "metadata": {},
   "outputs": [],
   "source": [
    "# function to get a list of all articles for provided months from API\n",
    "def get_articles(year_month):\n",
    "    articles_list = []\n",
    "    \n",
    "    # get API key from private folder in director out of repo \n",
    "    api_key = get_api_key(\"../.nyt_api.json\")['api_key']\n",
    "    \n",
    "    # make API call for every month passed through \n",
    "    for date in year_month:\n",
    "        year = str(date[0])\n",
    "        month = str(date[1])\n",
    "        url = f'https://api.nytimes.com/svc/archive/v1/{year}/{month}.json?api-key={api_key}'\n",
    "        response = requests.get(url)\n",
    "        response_json = response.json()\n",
    "        articles = response_json['response']['docs']\n",
    "        articles_list.extend(articles)\n",
    "        \n",
    "    return articles_list "
   ]
  },
  {
   "cell_type": "code",
   "execution_count": 16,
   "metadata": {},
   "outputs": [],
   "source": [
    "# function to extract only needed information and make strings lowercase \n",
    "def cleaned_articles(archive):\n",
    "    cleaned = []\n",
    "    \n",
    "    # loop through every article and append to empty list \n",
    "    for article in archive:\n",
    "        idx = article['uri']\n",
    "        date_published = article['pub_date']\n",
    "        headline = article['headline']['main'].lower()\n",
    "        keywords = [x['value'].lower() for x in article['keywords']]\n",
    "        section = article['section_name'].lower()\n",
    "        word_count = article['word_count']\n",
    "        cleaned.append([idx, date_published, headline, keywords, author, section, word_count])\n",
    "        \n",
    "    return cleaned"
   ]
  },
  {
   "cell_type": "code",
   "execution_count": 17,
   "metadata": {},
   "outputs": [],
   "source": [
    "# make a list of months than pass to API call function \n",
    "article_dates = [(2021, 12), (2022, 1)]\n",
    "articles = get_articles(article_dates)"
   ]
  },
  {
   "cell_type": "code",
   "execution_count": 18,
   "metadata": {},
   "outputs": [],
   "source": [
    "# pass list of articles through cleaning function \n",
    "cleaned_articles = cleaned_articles(articles)"
   ]
  },
  {
   "cell_type": "code",
   "execution_count": 19,
   "metadata": {},
   "outputs": [],
   "source": [
    "# put articles in dataframe and drop duplictes, if any \n",
    "df_articles = pd.DataFrame(cleaned_articles)\n",
    "df_articles.drop_duplicates(0, inplace=True)"
   ]
  },
  {
   "cell_type": "code",
   "execution_count": 20,
   "metadata": {},
   "outputs": [],
   "source": [
    "# rename columns to strings \n",
    "df_articles.columns = ['idx', 'date_published', 'headline', 'keywords', 'author', 'section', 'word_count']"
   ]
  },
  {
   "cell_type": "code",
   "execution_count": 21,
   "metadata": {},
   "outputs": [
    {
     "data": {
      "text/plain": [
       "(5011, 6)"
      ]
     },
     "execution_count": 21,
     "metadata": {},
     "output_type": "execute_result"
    }
   ],
   "source": [
    "df_articles.shape"
   ]
  },
  {
   "cell_type": "code",
   "execution_count": 22,
   "metadata": {},
   "outputs": [
    {
     "data": {
      "text/html": [
       "<div>\n",
       "<style scoped>\n",
       "    .dataframe tbody tr th:only-of-type {\n",
       "        vertical-align: middle;\n",
       "    }\n",
       "\n",
       "    .dataframe tbody tr th {\n",
       "        vertical-align: top;\n",
       "    }\n",
       "\n",
       "    .dataframe thead th {\n",
       "        text-align: right;\n",
       "    }\n",
       "</style>\n",
       "<table border=\"1\" class=\"dataframe\">\n",
       "  <thead>\n",
       "    <tr style=\"text-align: right;\">\n",
       "      <th></th>\n",
       "      <th>idx</th>\n",
       "      <th>headline</th>\n",
       "      <th>keywords</th>\n",
       "      <th>author</th>\n",
       "      <th>section</th>\n",
       "      <th>word_count</th>\n",
       "    </tr>\n",
       "  </thead>\n",
       "  <tbody>\n",
       "    <tr>\n",
       "      <th>0</th>\n",
       "      <td>nyt://article/4e2abcbc-9563-56c0-bf18-c93ce4e7...</td>\n",
       "      <td>let’s end the covid blame games</td>\n",
       "      <td>[coronavirus omicron variant, coronavirus (201...</td>\n",
       "      <td>bret stephens</td>\n",
       "      <td>opinion</td>\n",
       "      <td>918</td>\n",
       "    </tr>\n",
       "    <tr>\n",
       "      <th>1</th>\n",
       "      <td>nyt://article/f7a5e7ef-e4cd-575c-a0e1-ff4d18d5...</td>\n",
       "      <td>trump’s iran policy has become a disaster for ...</td>\n",
       "      <td>[iran, nuclear weapons, embargoes and sanction...</td>\n",
       "      <td>thomas l. friedman</td>\n",
       "      <td>opinion</td>\n",
       "      <td>1560</td>\n",
       "    </tr>\n",
       "    <tr>\n",
       "      <th>2</th>\n",
       "      <td>nyt://article/778af86c-b600-5aeb-be98-0a9a1aa1...</td>\n",
       "      <td>this extinct eagle may have gulped guts like a...</td>\n",
       "      <td>[eagles (birds), vultures (birds), condors, en...</td>\n",
       "      <td>sabrina imbler</td>\n",
       "      <td>science</td>\n",
       "      <td>913</td>\n",
       "    </tr>\n",
       "    <tr>\n",
       "      <th>3</th>\n",
       "      <td>nyt://article/fb7763c2-0f41-5c81-9ecf-17607ba5...</td>\n",
       "      <td>republican recriminations point to a rocky pat...</td>\n",
       "      <td>[republican party, house of representatives, b...</td>\n",
       "      <td>jonathan weisman</td>\n",
       "      <td>u.s.</td>\n",
       "      <td>1172</td>\n",
       "    </tr>\n",
       "    <tr>\n",
       "      <th>4</th>\n",
       "      <td>nyt://article/ba0afd37-0c00-5535-8868-21130e28...</td>\n",
       "      <td>a times editor who attended oxford recalls a d...</td>\n",
       "      <td>[school shootings and armed attacks]</td>\n",
       "      <td>karen workman</td>\n",
       "      <td>u.s.</td>\n",
       "      <td>309</td>\n",
       "    </tr>\n",
       "  </tbody>\n",
       "</table>\n",
       "</div>"
      ],
      "text/plain": [
       "                                                 idx  \\\n",
       "0  nyt://article/4e2abcbc-9563-56c0-bf18-c93ce4e7...   \n",
       "1  nyt://article/f7a5e7ef-e4cd-575c-a0e1-ff4d18d5...   \n",
       "2  nyt://article/778af86c-b600-5aeb-be98-0a9a1aa1...   \n",
       "3  nyt://article/fb7763c2-0f41-5c81-9ecf-17607ba5...   \n",
       "4  nyt://article/ba0afd37-0c00-5535-8868-21130e28...   \n",
       "\n",
       "                                            headline  \\\n",
       "0                    let’s end the covid blame games   \n",
       "1  trump’s iran policy has become a disaster for ...   \n",
       "2  this extinct eagle may have gulped guts like a...   \n",
       "3  republican recriminations point to a rocky pat...   \n",
       "4  a times editor who attended oxford recalls a d...   \n",
       "\n",
       "                                            keywords              author  \\\n",
       "0  [coronavirus omicron variant, coronavirus (201...       bret stephens   \n",
       "1  [iran, nuclear weapons, embargoes and sanction...  thomas l. friedman   \n",
       "2  [eagles (birds), vultures (birds), condors, en...      sabrina imbler   \n",
       "3  [republican party, house of representatives, b...    jonathan weisman   \n",
       "4               [school shootings and armed attacks]       karen workman   \n",
       "\n",
       "   section  word_count  \n",
       "0  opinion         918  \n",
       "1  opinion        1560  \n",
       "2  science         913  \n",
       "3     u.s.        1172  \n",
       "4     u.s.         309  "
      ]
     },
     "execution_count": 22,
     "metadata": {},
     "output_type": "execute_result"
    }
   ],
   "source": [
    "df_articles.head()"
   ]
  },
  {
   "cell_type": "code",
   "execution_count": 24,
   "metadata": {},
   "outputs": [
    {
     "data": {
      "text/plain": [
       "['coronavirus omicron variant',\n",
       " 'coronavirus (2019-ncov)',\n",
       " 'politics and government',\n",
       " 'vaccination and immunization',\n",
       " 'rural areas',\n",
       " 'rumors and misinformation',\n",
       " 'deaths (fatalities)',\n",
       " 'republican party',\n",
       " 'democratic party']"
      ]
     },
     "execution_count": 24,
     "metadata": {},
     "output_type": "execute_result"
    }
   ],
   "source": [
    "df_articles.keywords[0]"
   ]
  },
  {
   "cell_type": "code",
   "execution_count": 285,
   "metadata": {},
   "outputs": [
    {
     "data": {
      "text/plain": [
       "'01_10_2022'"
      ]
     },
     "execution_count": 285,
     "metadata": {},
     "output_type": "execute_result"
    }
   ],
   "source": [
    "date_sourced = pd.Timestamp(\"today\").strftime(\"%m/%d/%Y\")\n",
    "date_sourced = date_sourced.replace('/','_')\n",
    "date_sourced"
   ]
  },
  {
   "cell_type": "code",
   "execution_count": null,
   "metadata": {},
   "outputs": [],
   "source": [
    "# df_articles.to_csv('data/article_archive.csv', index=False)"
   ]
  },
  {
   "cell_type": "code",
   "execution_count": null,
   "metadata": {},
   "outputs": [],
   "source": []
  },
  {
   "cell_type": "code",
   "execution_count": null,
   "metadata": {},
   "outputs": [],
   "source": []
  }
 ],
 "metadata": {
  "kernelspec": {
   "display_name": "Python (learn-env)",
   "language": "python",
   "name": "learn-env"
  },
  "language_info": {
   "codemirror_mode": {
    "name": "ipython",
    "version": 3
   },
   "file_extension": ".py",
   "mimetype": "text/x-python",
   "name": "python",
   "nbconvert_exporter": "python",
   "pygments_lexer": "ipython3",
   "version": "3.8.5"
  }
 },
 "nbformat": 4,
 "nbformat_minor": 4
}
