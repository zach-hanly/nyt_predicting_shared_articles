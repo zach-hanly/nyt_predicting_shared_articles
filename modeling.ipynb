{
 "cells": [
  {
   "cell_type": "markdown",
   "metadata": {},
   "source": [
    "# Predicting News Article Popularity "
   ]
  },
  {
   "cell_type": "markdown",
   "metadata": {},
   "source": [
    "## Business Understading \n",
    "\n",
    "Advertising on social media has empowered new and smaller media companies to publish textual content to a broader audience, which can then further spread their content. This presents the decision to make about which content to advertise or share in order to maximize the publisher’s reach. For even the smallest publishers, this decision can be supported with simple machine learning models analyzing content metadata. "
   ]
  },
  {
   "cell_type": "markdown",
   "metadata": {},
   "source": [
    "## Data Understading \n",
    "\n",
    "In order to show how social media popularity for textual media can be modeled, article metadata was gathered from the New York Time's API website. Although one of the largest publishers of news articles, the data is of very high quality and should resemble what other companies have access to in-house. \n",
    "\n",
    "Two APIs were used. First, the __[NYT Archive API](https://developer.nytimes.com/docs/archive-product/1/overview)__,  which returns every article for a given range of months and years. Second, the __[NYT Most Popular API](https://developer.nytimes.com/docs/most-popular-product/1/overview)__, which returns the most popular articles on NYTimes.com based on emails, Facebook shares, or views on the NYT site. For this project Facebook shares was chosen and calls were made to the API once per day to gather that day's top 20 list. Articles in the archive that were listed on a top 20 list were then labeled as a popular article for a modeling target. "
   ]
  },
  {
   "cell_type": "markdown",
   "metadata": {},
   "source": [
    "#### Importing the required packages"
   ]
  },
  {
   "cell_type": "code",
   "execution_count": 1,
   "metadata": {},
   "outputs": [],
   "source": [
    "# file manipulation \n",
    "import os\n",
    "\n",
    "# data manipulation \n",
    "import re\n",
    "import datetime as dt\n",
    "import pandas as pd\n",
    "import numpy as np\n",
    "import math\n",
    "from functions import *\n",
    "\n",
    "# modeling \n",
    "from sklearn.model_selection import train_test_split, GridSearchCV\n",
    "from sklearn.feature_extraction.text import TfidfVectorizer, CountVectorizer\n",
    "from sklearn.dummy import DummyClassifier\n",
    "from sklearn.ensemble import RandomForestClassifier\n",
    "from sklearn.linear_model import LogisticRegression\n",
    "from sklearn.pipeline import Pipeline\n",
    "from sklearn.metrics import accuracy_score\n",
    "from sklearn.metrics import plot_confusion_matrix, plot_roc_curve\n",
    "\n",
    "# sampling\n",
    "from imblearn.over_sampling import SMOTE\n",
    "\n",
    "# preprocessing text\n",
    "import nltk\n",
    "from nltk.corpus import stopwords, wordnet\n",
    "from nltk.tokenize import RegexpTokenizer\n",
    "from nltk import pos_tag\n",
    "from nltk.stem import WordNetLemmatizer \n",
    "\n",
    "\n",
    "# plotting \n",
    "import matplotlib.pyplot as plt\n",
    "import seaborn as sns\n",
    "sns.set_context('notebook')"
   ]
  },
  {
   "cell_type": "markdown",
   "metadata": {},
   "source": [
    "#### Loading the data\n",
    "The scripts to request, clean and store both the article archive data and the daily top 20 most shared on Facebook lists can be found in [request_archive.py](./request_archive.py) and [request_most_shared_articles.py](./request_most_shared_articles.py). One request for a top 20 list for the previous 30 days was made to help label some articles in the archive as popular that were published before daily collection of a top 20 list was begun. \n",
    "\n",
    "The archive data contains all articles from December and all from January up to the end of the training phase on January 15th. Any row with a Null values in the archive were dropped and the date published column was changed to the datetime data type. The metadate that was collected for modeling was the headline of the article, keywords for the article, a snippet from the article and the word count for the article. Additionaly the URI and date published was grabbed for each article. \n",
    "\n",
    "For each top 20 list the URI, date published and date the list was sourced was taken. "
   ]
  },
  {
   "cell_type": "code",
   "execution_count": 2,
   "metadata": {},
   "outputs": [],
   "source": [
    "# load archive articles from csv in data directory\n",
    "df = pd.read_csv('data/archive_train.csv')\n",
    "df.date_published = df.date_published.apply(lambda x: pd.to_datetime(x).date())\n",
    "df.dropna(inplace=True)\n",
    "\n",
    "# load seperate top 20 lists in folder in data directory into single dataframe \n",
    "df_most_shared = load_most_shared('data/most_popular_train')"
   ]
  },
  {
   "cell_type": "markdown",
   "metadata": {},
   "source": [
    "<br>\n",
    "A list was made to house the URI's, the unique index for each article, for articles appearing on a top 20 list at least once. Then a popular column was created for the archive dataframe by iterating over the list of the highly shared articles and assigning a 0 if that articles URI was not present on the list and 1 for if it was. This is the target column for a models."
   ]
  },
  {
   "cell_type": "code",
   "execution_count": 3,
   "metadata": {},
   "outputs": [],
   "source": [
    "# create list, then interate over it to make target column\n",
    "popular_list = df_most_shared.uri.values\n",
    "df['popular'] = [1 if x in popular_list else 0 for x in df['uri']]"
   ]
  },
  {
   "cell_type": "code",
   "execution_count": 4,
   "metadata": {},
   "outputs": [
    {
     "data": {
      "text/html": [
       "<div>\n",
       "<style scoped>\n",
       "    .dataframe tbody tr th:only-of-type {\n",
       "        vertical-align: middle;\n",
       "    }\n",
       "\n",
       "    .dataframe tbody tr th {\n",
       "        vertical-align: top;\n",
       "    }\n",
       "\n",
       "    .dataframe thead th {\n",
       "        text-align: right;\n",
       "    }\n",
       "</style>\n",
       "<table border=\"1\" class=\"dataframe\">\n",
       "  <thead>\n",
       "    <tr style=\"text-align: right;\">\n",
       "      <th></th>\n",
       "      <th>uri</th>\n",
       "      <th>date_published</th>\n",
       "      <th>headline</th>\n",
       "      <th>keywords</th>\n",
       "      <th>snippet</th>\n",
       "      <th>word_count</th>\n",
       "      <th>popular</th>\n",
       "    </tr>\n",
       "  </thead>\n",
       "  <tbody>\n",
       "    <tr>\n",
       "      <th>0</th>\n",
       "      <td>nyt://article/4e2abcbc-9563-56c0-bf18-c93ce4e7...</td>\n",
       "      <td>2021-12-01</td>\n",
       "      <td>let’s end the covid blame games</td>\n",
       "      <td>coronavirus omicron variantcoronavirus (2019-n...</td>\n",
       "      <td>Finger pointing is pointless, divisive and dumb.</td>\n",
       "      <td>918</td>\n",
       "      <td>0</td>\n",
       "    </tr>\n",
       "    <tr>\n",
       "      <th>1</th>\n",
       "      <td>nyt://article/f7a5e7ef-e4cd-575c-a0e1-ff4d18d5...</td>\n",
       "      <td>2021-12-01</td>\n",
       "      <td>trump’s iran policy has become a disaster for ...</td>\n",
       "      <td>irannuclear weaponsembargoes and sanctionsunit...</td>\n",
       "      <td>Withdrawing from the Iran nuclear deal was a m...</td>\n",
       "      <td>1560</td>\n",
       "      <td>0</td>\n",
       "    </tr>\n",
       "    <tr>\n",
       "      <th>2</th>\n",
       "      <td>nyt://article/778af86c-b600-5aeb-be98-0a9a1aa1...</td>\n",
       "      <td>2021-12-01</td>\n",
       "      <td>this extinct eagle may have gulped guts like a...</td>\n",
       "      <td>eagles (birds)vultures (birds)condorsendangere...</td>\n",
       "      <td>Scientists suggest the largest eagle that ever...</td>\n",
       "      <td>913</td>\n",
       "      <td>0</td>\n",
       "    </tr>\n",
       "    <tr>\n",
       "      <th>3</th>\n",
       "      <td>nyt://article/fb7763c2-0f41-5c81-9ecf-17607ba5...</td>\n",
       "      <td>2021-12-01</td>\n",
       "      <td>republican recriminations point to a rocky pat...</td>\n",
       "      <td>republican partyhouse of representativesboeber...</td>\n",
       "      <td>Simmering tensions between the far-right flank...</td>\n",
       "      <td>1172</td>\n",
       "      <td>0</td>\n",
       "    </tr>\n",
       "    <tr>\n",
       "      <th>4</th>\n",
       "      <td>nyt://article/ba0afd37-0c00-5535-8868-21130e28...</td>\n",
       "      <td>2021-12-01</td>\n",
       "      <td>a times editor who attended oxford recalls a d...</td>\n",
       "      <td>school shootings and armed attacks</td>\n",
       "      <td>Three teenage students were killed on Tuesday ...</td>\n",
       "      <td>309</td>\n",
       "      <td>0</td>\n",
       "    </tr>\n",
       "  </tbody>\n",
       "</table>\n",
       "</div>"
      ],
      "text/plain": [
       "                                                 uri date_published  \\\n",
       "0  nyt://article/4e2abcbc-9563-56c0-bf18-c93ce4e7...     2021-12-01   \n",
       "1  nyt://article/f7a5e7ef-e4cd-575c-a0e1-ff4d18d5...     2021-12-01   \n",
       "2  nyt://article/778af86c-b600-5aeb-be98-0a9a1aa1...     2021-12-01   \n",
       "3  nyt://article/fb7763c2-0f41-5c81-9ecf-17607ba5...     2021-12-01   \n",
       "4  nyt://article/ba0afd37-0c00-5535-8868-21130e28...     2021-12-01   \n",
       "\n",
       "                                            headline  \\\n",
       "0                    let’s end the covid blame games   \n",
       "1  trump’s iran policy has become a disaster for ...   \n",
       "2  this extinct eagle may have gulped guts like a...   \n",
       "3  republican recriminations point to a rocky pat...   \n",
       "4  a times editor who attended oxford recalls a d...   \n",
       "\n",
       "                                            keywords  \\\n",
       "0  coronavirus omicron variantcoronavirus (2019-n...   \n",
       "1  irannuclear weaponsembargoes and sanctionsunit...   \n",
       "2  eagles (birds)vultures (birds)condorsendangere...   \n",
       "3  republican partyhouse of representativesboeber...   \n",
       "4                 school shootings and armed attacks   \n",
       "\n",
       "                                             snippet  word_count  popular  \n",
       "0  Finger pointing is pointless, divisive and dumb.          918        0  \n",
       "1  Withdrawing from the Iran nuclear deal was a m...        1560        0  \n",
       "2  Scientists suggest the largest eagle that ever...         913        0  \n",
       "3  Simmering tensions between the far-right flank...        1172        0  \n",
       "4  Three teenage students were killed on Tuesday ...         309        0  "
      ]
     },
     "execution_count": 4,
     "metadata": {},
     "output_type": "execute_result"
    }
   ],
   "source": [
    "# view the dataframe\n",
    "df.head()"
   ]
  },
  {
   "cell_type": "markdown",
   "metadata": {},
   "source": [
    "## Exploratory Data Analysis  \n",
    "Checking `df.info()` shows that both dataframes individually have equal values with no Null values to take care of. It also shows that the datatypes are what we expect and want. "
   ]
  },
  {
   "cell_type": "code",
   "execution_count": 5,
   "metadata": {},
   "outputs": [
    {
     "name": "stdout",
     "output_type": "stream",
     "text": [
      "<class 'pandas.core.frame.DataFrame'>\n",
      "Int64Index: 5003 entries, 0 to 5568\n",
      "Data columns (total 7 columns):\n",
      " #   Column          Non-Null Count  Dtype \n",
      "---  ------          --------------  ----- \n",
      " 0   uri             5003 non-null   object\n",
      " 1   date_published  5003 non-null   object\n",
      " 2   headline        5003 non-null   object\n",
      " 3   keywords        5003 non-null   object\n",
      " 4   snippet         5003 non-null   object\n",
      " 5   word_count      5003 non-null   int64 \n",
      " 6   popular         5003 non-null   int64 \n",
      "dtypes: int64(2), object(5)\n",
      "memory usage: 312.7+ KB\n",
      "None\n",
      "\n",
      "<class 'pandas.core.frame.DataFrame'>\n",
      "Index: 120 entries, 2022-01-13 to 2022-01-10\n",
      "Data columns (total 2 columns):\n",
      " #   Column          Non-Null Count  Dtype \n",
      "---  ------          --------------  ----- \n",
      " 0   uri             120 non-null    object\n",
      " 1   date_published  120 non-null    object\n",
      "dtypes: object(2)\n",
      "memory usage: 2.8+ KB\n",
      "None\n"
     ]
    }
   ],
   "source": [
    "print(df.info())\n",
    "print()\n",
    "print(df_most_shared.info())"
   ]
  },
  {
   "cell_type": "markdown",
   "metadata": {},
   "source": [
    "##### Archive articles\n",
    "Looking at the distribution of article popularity reveals massive class imbalance. Only 2% of the articles in the archive appear on a top 20 list. This is particularly because of the articles included in the archive that were published in December and January before daily top 20 lists were started to be collected. Due to the API's constraints, only the daily top 20 list from the day the request was made are available. "
   ]
  },
  {
   "cell_type": "code",
   "execution_count": 6,
   "metadata": {},
   "outputs": [
    {
     "data": {
      "text/html": [
       "<div>\n",
       "<style scoped>\n",
       "    .dataframe tbody tr th:only-of-type {\n",
       "        vertical-align: middle;\n",
       "    }\n",
       "\n",
       "    .dataframe tbody tr th {\n",
       "        vertical-align: top;\n",
       "    }\n",
       "\n",
       "    .dataframe thead th {\n",
       "        text-align: right;\n",
       "    }\n",
       "</style>\n",
       "<table border=\"1\" class=\"dataframe\">\n",
       "  <thead>\n",
       "    <tr style=\"text-align: right;\">\n",
       "      <th></th>\n",
       "      <th>sum</th>\n",
       "      <th>percentage</th>\n",
       "    </tr>\n",
       "    <tr>\n",
       "      <th>popular</th>\n",
       "      <th></th>\n",
       "      <th></th>\n",
       "    </tr>\n",
       "  </thead>\n",
       "  <tbody>\n",
       "    <tr>\n",
       "      <th>0</th>\n",
       "      <td>4907</td>\n",
       "      <td>0.98</td>\n",
       "    </tr>\n",
       "    <tr>\n",
       "      <th>1</th>\n",
       "      <td>96</td>\n",
       "      <td>0.02</td>\n",
       "    </tr>\n",
       "  </tbody>\n",
       "</table>\n",
       "</div>"
      ],
      "text/plain": [
       "          sum  percentage\n",
       "popular                  \n",
       "0        4907        0.98\n",
       "1          96        0.02"
      ]
     },
     "execution_count": 6,
     "metadata": {},
     "output_type": "execute_result"
    },
    {
     "data": {
      "image/png": "[encoded data removed]",
      "text/plain": [
       "<Figure size 432x288 with 1 Axes>"
      ]
     },
     "metadata": {
      "needs_background": "light"
     },
     "output_type": "display_data"
    }
   ],
   "source": [
    "# function makes a dataframe to display value count sum and percentage for target variable\n",
    "# also, it plots target variable distribution\n",
    "target_distribution = summerize_value_counts(df.popular)\n",
    "target_distribution"
   ]
  },
  {
   "cell_type": "markdown",
   "metadata": {},
   "source": [
    "##### Top 20 most shared articles\n",
    "Looking at each day's top 20 list and the distribution of dates when the articles were published originally shows that the majority of the articles on each list were published in the two days before the day of the list's creation, with a smaller proportion having been published three days before or on the day of creation. \n",
    "\n",
    "functions used to load, clean and plot the date are found in [functions.py](./functions.py)."
   ]
  },
  {
   "cell_type": "code",
   "execution_count": 7,
   "metadata": {},
   "outputs": [],
   "source": [
    "# load csv's into a list of dataframes \n",
    "df_list_load = load_most_shared_eda('data/most_popular_train')\n",
    "\n",
    "# change date columns to datetime dtype and sort list by date of top 20 list in ascending order \n",
    "df_list = clean_most_shared_eda(df_list_load)"
   ]
  },
  {
   "cell_type": "code",
   "execution_count": 8,
   "metadata": {},
   "outputs": [
    {
     "data": {
      "image/png": "[encoded data removed]",
      "text/plain": [
       "<Figure size 1440x1440 with 6 Axes>"
      ]
     },
     "metadata": {
      "needs_background": "light"
     },
     "output_type": "display_data"
    }
   ],
   "source": [
    "# generate correct amount of subplots based on length of list then plot each dataframe in list\n",
    "plot_most_shared(df_list)"
   ]
  },
  {
   "cell_type": "markdown",
   "metadata": {},
   "source": [
    "## Data Preperation"
   ]
  },
  {
   "cell_type": "markdown",
   "metadata": {},
   "source": [
    "##### Train-Test Split\n",
    "Features are separated from the target and a test size of 40% is selected. This is because the final model is trained with the testing data results of the models before it. To ensure it has enough training data, a relatively high test size proportion was chosen. \n",
    "\n",
    "Also, the random state is established as 0, which will be the sate for all models going forward. "
   ]
  },
  {
   "cell_type": "code",
   "execution_count": 9,
   "metadata": {},
   "outputs": [],
   "source": [
    "# features = X, target = y\n",
    "X = df.drop('popular', axis=1)\n",
    "y = df.popular"
   ]
  },
  {
   "cell_type": "code",
   "execution_count": 10,
   "metadata": {},
   "outputs": [],
   "source": [
    "# random state of 0 is established for the data\n",
    "X_train, X_test, y_train, y_test = train_test_split(X, y, random_state=0, test_size=0.40)"
   ]
  },
  {
   "cell_type": "markdown",
   "metadata": {},
   "source": [
    "## Dummy classifier\n",
    "A baseline model is established with the data."
   ]
  },
  {
   "cell_type": "code",
   "execution_count": 11,
   "metadata": {},
   "outputs": [],
   "source": [
    "# initialize baseline model\n",
    "dummy = DummyClassifier(random_state=0, strategy='stratified') \n",
    "\n",
    "# fit with training data and predict with test set\n",
    "dummy.fit(X_train, y_train)\n",
    "y_pred = dummy.predict(X_test)"
   ]
  },
  {
   "cell_type": "code",
   "execution_count": 12,
   "metadata": {},
   "outputs": [
    {
     "name": "stdout",
     "output_type": "stream",
     "text": [
      "Accuracy Score: 0.9585414585414586\n"
     ]
    }
   ],
   "source": [
    "# baseline model accuracy \n",
    "print(\"Accuracy Score: {}\".format(accuracy_score(y_test, y_pred)))"
   ]
  },
  {
   "cell_type": "code",
   "execution_count": 13,
   "metadata": {},
   "outputs": [
    {
     "data": {
      "text/plain": [
       "50"
      ]
     },
     "execution_count": 13,
     "metadata": {},
     "output_type": "execute_result"
    }
   ],
   "source": [
    "# count how many articles are labeled popular by predicitng probabilities\n",
    "dummy_prob = dummy.predict_proba(X_test)\n",
    "dummy_predict_popular = [x[1] for x in dummy_prob if x[1] == 1]\n",
    "len(dummy_predict_popular)"
   ]
  },
  {
   "cell_type": "code",
   "execution_count": 14,
   "metadata": {},
   "outputs": [
    {
     "data": {
      "image/png": "[encoded data removed]",
      "text/plain": [
       "<Figure size 432x288 with 2 Axes>"
      ]
     },
     "metadata": {
      "needs_background": "light"
     },
     "output_type": "display_data"
    }
   ],
   "source": [
    "# plot confusion matrix to show error of the model\n",
    "# 0: 'not popular', 1: 'popular'\n",
    "plot_confusion_matrix(dummy, X_test, y_test);"
   ]
  },
  {
   "cell_type": "markdown",
   "metadata": {},
   "source": [
    "The baseline model achived a 96% accuracy rate, but this is due to the massive class imbalence towards articles that are not featured on the most shared list. The bottom right box in the confusion matrix shows that the baseline model correctly predicted  0 of the articles that were on a top 20 list. "
   ]
  },
  {
   "cell_type": "markdown",
   "metadata": {},
   "source": [
    "## Data Preprocessing "
   ]
  },
  {
   "cell_type": "markdown",
   "metadata": {},
   "source": [
    "### Headline"
   ]
  },
  {
   "cell_type": "markdown",
   "metadata": {},
   "source": [
    "##### TfidfVectorizer"
   ]
  },
  {
   "cell_type": "code",
   "execution_count": 15,
   "metadata": {},
   "outputs": [
    {
     "data": {
      "image/png": "[encoded data removed]",
      "text/plain": [
       "<Figure size 360x360 with 1 Axes>"
      ]
     },
     "metadata": {
      "needs_background": "light"
     },
     "output_type": "display_data"
    }
   ],
   "source": [
    "headline_tf, X_train_headline_tf, X_test_headline_tf = vectorize_feature(TfidfVectorizer, \n",
    "                                                                         X_train.headline, X_test.headline)\n",
    "\n",
    "headline_tok_tf, X_train_headline_tok_tf, X_test_headline_tok_tf = tokenize_vector(headline_tf, \n",
    "                                                                                    X_train.headline, \n",
    "                                                                                    X_test.headline)\n",
    "\n",
    "\n",
    "X_train_headline_tf_sm, y_train_headline_tf_sm = smote_data(X_train_headline_tok_tf, y_train, \n",
    "                                                  sampling_strategy='auto',random_state=0)\n",
    "# used later\n",
    "# vectorizor: headline_tok_tf\n",
    "# data : X_train_headline_tf_sm, y_train_headline_tf_sm, X_test_headline_tok_tf\n",
    "\n",
    "plot_top_words(headline_tok_tf, X_train_headline_tok_tf);"
   ]
  },
  {
   "cell_type": "markdown",
   "metadata": {},
   "source": [
    "##### CountVectorizer"
   ]
  },
  {
   "cell_type": "code",
   "execution_count": 16,
   "metadata": {},
   "outputs": [
    {
     "data": {
      "image/png": "[encoded data removed]",
      "text/plain": [
       "<Figure size 360x360 with 1 Axes>"
      ]
     },
     "metadata": {
      "needs_background": "light"
     },
     "output_type": "display_data"
    }
   ],
   "source": [
    "headline_cv, X_train_headline_cv, X_test_headline_cv = vectorize_feature(CountVectorizer, \n",
    "                                                                         X_train.headline, X_test.headline)\n",
    "\n",
    "headline_tok_cv, X_train_headline_tok_cv, X_test_headline_tok_cv = tokenize_vector(headline_cv, \n",
    "                                                                                    X_train.headline, \n",
    "                                                                                    X_test.headline)\n",
    "\n",
    "X_train_headline_cv_sm, y_train_headline_cv_sm = smote_data(X_train_headline_tok_cv, y_train, \n",
    "                                                  sampling_strategy='auto',random_state=0)\n",
    "# used later\n",
    "# vectorizor: headline_tok_cv\n",
    "# data: X_train_headline_cv_sm, y_train_headline_cv_sm, X_test_headline_tok_cv\n",
    "\n",
    "plot_top_words(headline_tok_cv, X_train_headline_tok_cv);"
   ]
  },
  {
   "cell_type": "markdown",
   "metadata": {},
   "source": [
    "### Keywords"
   ]
  },
  {
   "cell_type": "markdown",
   "metadata": {},
   "source": [
    "##### TfidfVectorizer"
   ]
  },
  {
   "cell_type": "code",
   "execution_count": 17,
   "metadata": {},
   "outputs": [
    {
     "data": {
      "image/png": "[encoded data removed]",
      "text/plain": [
       "<Figure size 360x360 with 1 Axes>"
      ]
     },
     "metadata": {
      "needs_background": "light"
     },
     "output_type": "display_data"
    }
   ],
   "source": [
    "keywords_tf, X_train_keywords_tf, X_test_keywords_tf = vectorize_feature(TfidfVectorizer, \n",
    "                                                                         X_train.keywords, X_test.keywords)\n",
    "\n",
    "keywords_tok_tf, X_train_keywords_tok_tf, X_test_keywords_tok_tf = tokenize_vector(keywords_tf, \n",
    "                                                                                    X_train.keywords, \n",
    "                                                                                    X_test.keywords)\n",
    "\n",
    "X_train_keywords_tf_sm, y_train_keywords_tf_sm = smote_data(X_train_keywords_tok_tf, y_train, \n",
    "                                                  sampling_strategy='auto',random_state=0)\n",
    "# used later\n",
    "# vectorizor: keywords_tok_tf\n",
    "# data: X_train_keywords_tf_sm, y_train_keywords_tf_sm, X_test_keywords_tok_tf\n",
    "\n",
    "plot_top_words(keywords_tok_tf, X_train_keywords_tok_tf);"
   ]
  },
  {
   "cell_type": "markdown",
   "metadata": {},
   "source": [
    "##### CountVectorizer"
   ]
  },
  {
   "cell_type": "code",
   "execution_count": 18,
   "metadata": {},
   "outputs": [
    {
     "data": {
      "image/png": "[encoded data removed]",
      "text/plain": [
       "<Figure size 360x360 with 1 Axes>"
      ]
     },
     "metadata": {
      "needs_background": "light"
     },
     "output_type": "display_data"
    }
   ],
   "source": [
    "keywords_cv, X_train_keywords_cv, X_test_keywords_cv = vectorize_feature(CountVectorizer, \n",
    "                                                                         X_train.keywords, X_test.keywords)\n",
    "\n",
    "keywords_tok_cv, X_train_keywords_tok_cv, X_test_keywords_tok_cv = tokenize_vector(keywords_cv, \n",
    "                                                                                    X_train.keywords, \n",
    "                                                                                    X_test.keywords)\n",
    "\n",
    "X_train_keywords_cv_sm, y_train_keywords_cv_sm = smote_data(X_train_keywords_tok_cv, y_train, \n",
    "                                                  sampling_strategy='auto',random_state=0)\n",
    "# used later\n",
    "# vectorizor: keywords_tok_cv\n",
    "# data: X_train_keywords_cv_sm, y_train_keywords_cv_sm, X_test_keywords_tok_cv\n",
    "\n",
    "plot_top_words(keywords_tok_cv, X_train_keywords_tok_cv);"
   ]
  },
  {
   "cell_type": "markdown",
   "metadata": {},
   "source": [
    "### Snippet"
   ]
  },
  {
   "cell_type": "markdown",
   "metadata": {},
   "source": [
    "##### TfidfVectorizer"
   ]
  },
  {
   "cell_type": "code",
   "execution_count": 19,
   "metadata": {},
   "outputs": [
    {
     "data": {
      "image/png": "[encoded data removed]",
      "text/plain": [
       "<Figure size 360x360 with 1 Axes>"
      ]
     },
     "metadata": {
      "needs_background": "light"
     },
     "output_type": "display_data"
    }
   ],
   "source": [
    "snippet_tf, X_train_snippet_tf, X_test_snippet_tf = vectorize_feature(TfidfVectorizer, \n",
    "                                                                         X_train.snippet, X_test.snippet)\n",
    "\n",
    "snippet_tok_tf, X_train_snippet_tok_tf, X_test_snippet_tok_tf = tokenize_vector(snippet_tf, \n",
    "                                                                                    X_train.snippet, \n",
    "                                                                                    X_test.snippet)\n",
    "\n",
    "X_train_snippet_tf_sm, y_train_snippet_tf_sm = smote_data(X_train_snippet_tok_tf, y_train, \n",
    "                                                  sampling_strategy='auto',random_state=0)\n",
    "# used later\n",
    "# vectorizor: snippet_tok_tf\n",
    "# data: X_train_snippet_tf_sm, y_train_snippet_tf_sm, X_test_snippet_tok_tf\n",
    "\n",
    "plot_top_words(snippet_tok_tf, X_train_snippet_tok_tf);"
   ]
  },
  {
   "cell_type": "markdown",
   "metadata": {},
   "source": [
    "##### CountVectorizer"
   ]
  },
  {
   "cell_type": "code",
   "execution_count": 20,
   "metadata": {},
   "outputs": [
    {
     "data": {
      "image/png": "[encoded data removed]",
      "text/plain": [
       "<Figure size 360x360 with 1 Axes>"
      ]
     },
     "metadata": {
      "needs_background": "light"
     },
     "output_type": "display_data"
    }
   ],
   "source": [
    "snippet_cv, X_train_snippet_cv, X_test_snippet_cv = vectorize_feature(CountVectorizer, \n",
    "                                                                         X_train.snippet, X_test.snippet)\n",
    "\n",
    "snippet_tok_cv, X_train_snippet_tok_cv, X_test_snippet_tok_cv = tokenize_vector(snippet_cv, \n",
    "                                                                                 X_train.snippet, \n",
    "                                                                                 X_test.snippet)\n",
    "\n",
    "X_train_snippet_cv_sm, y_train_snippet_cv_sm = smote_data(X_train_snippet_tok_cv, y_train, \n",
    "                                                          sampling_strategy='auto', random_state=0)\n",
    "# used later\n",
    "# vectorizor: snippet_tok_cv\n",
    "# data: X_train_snippet_cv_sm, y_train_snippet_cv_sm, X_test_snippet_tok_cv\n",
    "\n",
    "plot_top_words(snippet_tok_cv, X_train_snippet_tok_cv);"
   ]
  },
  {
   "cell_type": "markdown",
   "metadata": {},
   "source": [
    "### Word Count"
   ]
  },
  {
   "cell_type": "code",
   "execution_count": 21,
   "metadata": {},
   "outputs": [],
   "source": [
    "X_train_word_count_sm, y_train_word_count_sm = smote_data(X_train.word_count.values.reshape(-1, 1), \n",
    "                                                          y_train, sampling_strategy='auto',\n",
    "                                                          random_state=0)"
   ]
  },
  {
   "cell_type": "markdown",
   "metadata": {},
   "source": [
    "## Model Training - Text"
   ]
  },
  {
   "cell_type": "code",
   "execution_count": 22,
   "metadata": {},
   "outputs": [],
   "source": [
    "# function to run a random forrest \n",
    "# returns the model and list of proabilities \n",
    "def random_forrest_proba(X_train, y_train, X_test, y_test):\n",
    "    \n",
    "    # initiate random forrest and search grid for number of trees in forrest\n",
    "    forrest = RandomForestClassifier(random_state=0)\n",
    "    grid = {'n_estimators': [50,75,100]}\n",
    "    \n",
    "    # create grid search and fit model with training data\n",
    "    gs = GridSearchCV(estimator=forrest, param_grid=grid, cv=5, scoring='accuracy')\n",
    "    gs.fit(X_train, y_train)\n",
    "    \n",
    "    # store predicted probabilities that article is a popular article in a list \n",
    "    class_probability = gs.predict_proba(X_test)\n",
    "    target_probability = [x[1] for x in class_probability]\n",
    "    \n",
    "    # print model accuracy \n",
    "    score = gs.score(X_test, y_test)\n",
    "    print(f'mean accuracy: {score}')\n",
    "    \n",
    "    # plot an ROC curve \n",
    "    fig, ax = plt.subplots()\n",
    "    plt.title('ROC Curve')\n",
    "    plot_roc_curve(gs, X_train, y_train, name='Train', ax=ax)\n",
    "    plot_roc_curve(gs, X_test, y_test, name='Test', ax=ax)\n",
    "    \n",
    "    # plot confusion matrix\n",
    "    plot_confusion_matrix(gs, X_test, y_test)\n",
    "    \n",
    "    return gs, target_probability"
   ]
  },
  {
   "cell_type": "code",
   "execution_count": 23,
   "metadata": {},
   "outputs": [],
   "source": [
    "# function to run a random forrest \n",
    "# returns the model and a list of class labels \n",
    "def random_forrest_class(X_train, y_train, X_test, y_test):\n",
    "    \n",
    "    # initiate random forrest and search grid for number of trees in forrest\n",
    "    forrest = RandomForestClassifier(random_state=0)\n",
    "    grid = {'n_estimators': [50,75,100]}\n",
    "    \n",
    "    # create grid search and fit model with training data\n",
    "    gs = GridSearchCV(estimator=forrest, param_grid=grid, cv=5, scoring='accuracy')\n",
    "    gs.fit(X_train, y_train)\n",
    "    \n",
    "    # store predicted class labels in list \n",
    "    class_prediction = gs.predict(X_test)\n",
    "    \n",
    "    # print model accuracy\n",
    "    score = gs.score(X_test, y_test)\n",
    "    print(f'mean accuracy: {score}')\n",
    "    \n",
    "    # plot an ROC curve\n",
    "    fig, ax = plt.subplots()\n",
    "    plt.title('ROC Curve')\n",
    "    plot_roc_curve(gs, X_train, y_train, name='Train', ax=ax)\n",
    "    plot_roc_curve(gs, X_test, y_test, name='Test', ax=ax)\n",
    "    \n",
    "    # plot confusion matrix\n",
    "    plot_confusion_matrix(gs, X_test, y_test)\n",
    "    \n",
    "    return gs, class_prediction"
   ]
  },
  {
   "cell_type": "markdown",
   "metadata": {},
   "source": [
    "### Headline"
   ]
  },
  {
   "cell_type": "markdown",
   "metadata": {},
   "source": [
    "##### Predict Probability after TfidfVectorizer"
   ]
  },
  {
   "cell_type": "code",
   "execution_count": 24,
   "metadata": {},
   "outputs": [
    {
     "name": "stdout",
     "output_type": "stream",
     "text": [
      "mean accuracy: 0.983016983016983\n",
      "number of probabilities: 2002\n",
      "\n"
     ]
    },
    {
     "data": {
      "image/png": "[encoded data removed]",
      "text/plain": [
       "<Figure size 432x288 with 1 Axes>"
      ]
     },
     "metadata": {
      "needs_background": "light"
     },
     "output_type": "display_data"
    },
    {
     "data": {
      "image/png": "[encoded data removed]",
      "text/plain": [
       "<Figure size 432x288 with 2 Axes>"
      ]
     },
     "metadata": {
      "needs_background": "light"
     },
     "output_type": "display_data"
    }
   ],
   "source": [
    "headline_proba_rf, headline_proba = random_forrest_proba(X_train_headline_tf_sm, y_train_headline_tf_sm, \n",
    "                                                         X_test_headline_tok_tf, y_test)\n",
    "print(f'number of probabilities: {len(headline_proba)}')\n",
    "print()"
   ]
  },
  {
   "cell_type": "markdown",
   "metadata": {},
   "source": [
    "##### Predict Class after CountVectorizer"
   ]
  },
  {
   "cell_type": "code",
   "execution_count": 25,
   "metadata": {},
   "outputs": [
    {
     "name": "stdout",
     "output_type": "stream",
     "text": [
      "mean accuracy: 0.7362637362637363\n",
      "number of class predictions: 2002\n",
      "\n"
     ]
    },
    {
     "data": {
      "image/png": "[encoded data removed]",
      "text/plain": [
       "<Figure size 432x288 with 1 Axes>"
      ]
     },
     "metadata": {
      "needs_background": "light"
     },
     "output_type": "display_data"
    },
    {
     "data": {
      "image/png": "[encoded data removed]",
      "text/plain": [
       "<Figure size 432x288 with 2 Axes>"
      ]
     },
     "metadata": {
      "needs_background": "light"
     },
     "output_type": "display_data"
    }
   ],
   "source": [
    "headline_class_rf, headline_class = random_forrest_class(X_train_headline_cv_sm, y_train_headline_cv_sm, \n",
    "                                                         X_test_headline_tok_cv, y_test)\n",
    "print(f'number of class predictions: {len(headline_class)}')\n",
    "print()"
   ]
  },
  {
   "cell_type": "markdown",
   "metadata": {},
   "source": [
    "### Keywords"
   ]
  },
  {
   "cell_type": "markdown",
   "metadata": {},
   "source": [
    "##### Predict Probability after TfidfVectorizer"
   ]
  },
  {
   "cell_type": "code",
   "execution_count": 26,
   "metadata": {},
   "outputs": [
    {
     "name": "stdout",
     "output_type": "stream",
     "text": [
      "mean accuracy: 0.9835164835164835\n",
      "number of probabilities: 2002\n",
      "\n"
     ]
    },
    {
     "data": {
      "image/png": "[encoded data removed]",
      "text/plain": [
       "<Figure size 432x288 with 1 Axes>"
      ]
     },
     "metadata": {
      "needs_background": "light"
     },
     "output_type": "display_data"
    },
    {
     "data": {
      "image/png": "[encoded data removed]",
      "text/plain": [
       "<Figure size 432x288 with 2 Axes>"
      ]
     },
     "metadata": {
      "needs_background": "light"
     },
     "output_type": "display_data"
    }
   ],
   "source": [
    "keywords_proba_rf, keywords_proba = random_forrest_proba(X_train_keywords_tf_sm, y_train_keywords_tf_sm, \n",
    "                                                         X_test_keywords_tok_tf, y_test)\n",
    "print(f'number of probabilities: {len(keywords_proba)}')\n",
    "print()"
   ]
  },
  {
   "cell_type": "markdown",
   "metadata": {},
   "source": [
    "##### Predict Class after CountVectorizer"
   ]
  },
  {
   "cell_type": "code",
   "execution_count": 27,
   "metadata": {},
   "outputs": [
    {
     "name": "stdout",
     "output_type": "stream",
     "text": [
      "mean accuracy: 0.7772227772227772\n",
      "number of class predictions: 2002\n",
      "\n"
     ]
    },
    {
     "data": {
      "image/png": "[encoded data removed]",
      "text/plain": [
       "<Figure size 432x288 with 1 Axes>"
      ]
     },
     "metadata": {
      "needs_background": "light"
     },
     "output_type": "display_data"
    },
    {
     "data": {
      "image/png": "[encoded data removed]",
      "text/plain": [
       "<Figure size 432x288 with 2 Axes>"
      ]
     },
     "metadata": {
      "needs_background": "light"
     },
     "output_type": "display_data"
    }
   ],
   "source": [
    "keywords_class_rf, keywords_class = random_forrest_class(X_train_keywords_cv_sm, y_train_keywords_cv_sm, \n",
    "                                                         X_test_keywords_tok_cv, y_test)\n",
    "print(f'number of class predictions: {len(keywords_class)}')\n",
    "print()"
   ]
  },
  {
   "cell_type": "markdown",
   "metadata": {},
   "source": [
    "### Snippet "
   ]
  },
  {
   "cell_type": "markdown",
   "metadata": {},
   "source": [
    "##### Predict Probability after TfidfVectorizer"
   ]
  },
  {
   "cell_type": "code",
   "execution_count": 28,
   "metadata": {},
   "outputs": [
    {
     "name": "stdout",
     "output_type": "stream",
     "text": [
      "mean accuracy: 0.9835164835164835\n",
      "number of probabilities: 2002\n",
      "\n"
     ]
    },
    {
     "data": {
      "image/png": "[encoded data removed]",
      "text/plain": [
       "<Figure size 432x288 with 1 Axes>"
      ]
     },
     "metadata": {
      "needs_background": "light"
     },
     "output_type": "display_data"
    },
    {
     "data": {
      "image/png": "[encoded data removed]",
      "text/plain": [
       "<Figure size 432x288 with 2 Axes>"
      ]
     },
     "metadata": {
      "needs_background": "light"
     },
     "output_type": "display_data"
    }
   ],
   "source": [
    "snippet_proba_rf, snippet_proba = random_forrest_proba(X_train_snippet_tf_sm, y_train_snippet_tf_sm, \n",
    "                                                       X_test_snippet_tok_tf, y_test)\n",
    "print(f'number of probabilities: {len(snippet_proba)}')\n",
    "print()"
   ]
  },
  {
   "cell_type": "markdown",
   "metadata": {},
   "source": [
    "##### Predict Class after CountVectorizer"
   ]
  },
  {
   "cell_type": "code",
   "execution_count": 29,
   "metadata": {},
   "outputs": [
    {
     "name": "stdout",
     "output_type": "stream",
     "text": [
      "mean accuracy: 0.8246753246753247\n",
      "number of class predictions: 2002\n",
      "\n"
     ]
    },
    {
     "data": {
      "image/png": "[encoded data removed]",
      "text/plain": [
       "<Figure size 432x288 with 1 Axes>"
      ]
     },
     "metadata": {
      "needs_background": "light"
     },
     "output_type": "display_data"
    },
    {
     "data": {
      "image/png": "[encoded data removed]",
      "text/plain": [
       "<Figure size 432x288 with 2 Axes>"
      ]
     },
     "metadata": {
      "needs_background": "light"
     },
     "output_type": "display_data"
    }
   ],
   "source": [
    "snippet_class_rf, snippet_class = random_forrest_class(X_train_snippet_cv_sm, y_train_snippet_cv_sm, \n",
    "                                                       X_test_snippet_tok_cv, y_test)\n",
    "print(f'number of class predictions: {len(snippet_class)}')\n",
    "print()"
   ]
  },
  {
   "cell_type": "markdown",
   "metadata": {},
   "source": [
    "## Model Training - Numeric"
   ]
  },
  {
   "cell_type": "markdown",
   "metadata": {},
   "source": [
    "### Word Count"
   ]
  },
  {
   "cell_type": "code",
   "execution_count": 30,
   "metadata": {},
   "outputs": [],
   "source": [
    "# function to run a logistic regression \n",
    "# returns the model, a list of proabilities, and a list of class labels \n",
    "def log_regression_word_count(X_train, y_train, X_test, y_test):\n",
    "    \n",
    "    # initiate logsitic regression and fit with training data \n",
    "    clf = LogisticRegression(random_state=0)\n",
    "    clf.fit(X_train, y_train)\n",
    "    \n",
    "    # store predicted class labels in list \n",
    "    class_prediction = clf.predict(X_test.values.reshape(-1, 1))\n",
    "    \n",
    "    # store predicted probabilities that article is a popular article in a list\n",
    "    probabilities = clf.predict_proba(X_test.values.reshape(-1, 1))\n",
    "    probabilities = [x[1] for x in probabilities]\n",
    "    \n",
    "    # print model accuracy\n",
    "    score = clf.score(X_test.values.reshape(-1, 1), y_test)\n",
    "    print(f'mean accuracy: {score}')\n",
    "    \n",
    "    # plot an ROC curve\n",
    "    fig, ax = plt.subplots()\n",
    "    plt.title('ROC Curve')\n",
    "    plot_roc_curve(clf, X_train, y_train, name='Train', ax=ax)\n",
    "    plot_roc_curve(clf, X_test.values.reshape(-1, 1), y_test, name='Test', ax=ax);\n",
    "    \n",
    "    # plot confusion matrix\n",
    "    plot_confusion_matrix(clf, X_test.values.reshape(-1, 1), y_test)\n",
    "    \n",
    "    return clf, probabilities, class_prediction"
   ]
  },
  {
   "cell_type": "code",
   "execution_count": 31,
   "metadata": {},
   "outputs": [
    {
     "name": "stdout",
     "output_type": "stream",
     "text": [
      "mean accuracy: 0.07592407592407592\n",
      "number of probabilities: 2002\n",
      "number of class predictions: 2002\n",
      "\n"
     ]
    },
    {
     "data": {
      "image/png": "[encoded data removed]",
      "text/plain": [
       "<Figure size 432x288 with 1 Axes>"
      ]
     },
     "metadata": {
      "needs_background": "light"
     },
     "output_type": "display_data"
    },
    {
     "data": {
      "image/png": "[encoded data removed]",
      "text/plain": [
       "<Figure size 432x288 with 2 Axes>"
      ]
     },
     "metadata": {
      "needs_background": "light"
     },
     "output_type": "display_data"
    }
   ],
   "source": [
    "word_count_log_reg, word_count_proba, word_count_class = log_regression_word_count(X_train_word_count_sm, \n",
    "                                                                                    y_train_word_count_sm, \n",
    "                                                                                    X_test.word_count, y_test)\n",
    "print(f'number of probabilities: {len(word_count_proba)}')\n",
    "print(f'number of class predictions: {len(word_count_class)}')\n",
    "print()"
   ]
  },
  {
   "cell_type": "markdown",
   "metadata": {},
   "source": [
    "## Cumulative Model "
   ]
  },
  {
   "cell_type": "markdown",
   "metadata": {},
   "source": [
    "### Cleaning "
   ]
  },
  {
   "cell_type": "markdown",
   "metadata": {},
   "source": [
    "##### Proability Data"
   ]
  },
  {
   "cell_type": "code",
   "execution_count": 32,
   "metadata": {},
   "outputs": [],
   "source": [
    "df_predict_proba = pd.DataFrame({'headline_prob': headline_proba, \n",
    "                           'keywords_prob': keywords_proba, \n",
    "                           'snippet_prob': snippet_proba,\n",
    "                           'word_count_prob': word_count_proba})"
   ]
  },
  {
   "cell_type": "code",
   "execution_count": 33,
   "metadata": {},
   "outputs": [
    {
     "data": {
      "text/html": [
       "<div>\n",
       "<style scoped>\n",
       "    .dataframe tbody tr th:only-of-type {\n",
       "        vertical-align: middle;\n",
       "    }\n",
       "\n",
       "    .dataframe tbody tr th {\n",
       "        vertical-align: top;\n",
       "    }\n",
       "\n",
       "    .dataframe thead th {\n",
       "        text-align: right;\n",
       "    }\n",
       "</style>\n",
       "<table border=\"1\" class=\"dataframe\">\n",
       "  <thead>\n",
       "    <tr style=\"text-align: right;\">\n",
       "      <th></th>\n",
       "      <th>headline_prob</th>\n",
       "      <th>keywords_prob</th>\n",
       "      <th>snippet_prob</th>\n",
       "      <th>word_count_prob</th>\n",
       "    </tr>\n",
       "  </thead>\n",
       "  <tbody>\n",
       "    <tr>\n",
       "      <th>0</th>\n",
       "      <td>0.026667</td>\n",
       "      <td>0.000000</td>\n",
       "      <td>0.0</td>\n",
       "      <td>0.516758</td>\n",
       "    </tr>\n",
       "    <tr>\n",
       "      <th>1</th>\n",
       "      <td>0.066667</td>\n",
       "      <td>0.026667</td>\n",
       "      <td>0.0</td>\n",
       "      <td>0.521509</td>\n",
       "    </tr>\n",
       "    <tr>\n",
       "      <th>2</th>\n",
       "      <td>0.000000</td>\n",
       "      <td>0.000000</td>\n",
       "      <td>0.0</td>\n",
       "      <td>0.502625</td>\n",
       "    </tr>\n",
       "    <tr>\n",
       "      <th>3</th>\n",
       "      <td>0.000000</td>\n",
       "      <td>0.000000</td>\n",
       "      <td>0.0</td>\n",
       "      <td>0.522709</td>\n",
       "    </tr>\n",
       "    <tr>\n",
       "      <th>4</th>\n",
       "      <td>0.066667</td>\n",
       "      <td>0.000000</td>\n",
       "      <td>0.0</td>\n",
       "      <td>0.519785</td>\n",
       "    </tr>\n",
       "  </tbody>\n",
       "</table>\n",
       "</div>"
      ],
      "text/plain": [
       "   headline_prob  keywords_prob  snippet_prob  word_count_prob\n",
       "0       0.026667       0.000000           0.0         0.516758\n",
       "1       0.066667       0.026667           0.0         0.521509\n",
       "2       0.000000       0.000000           0.0         0.502625\n",
       "3       0.000000       0.000000           0.0         0.522709\n",
       "4       0.066667       0.000000           0.0         0.519785"
      ]
     },
     "execution_count": 33,
     "metadata": {},
     "output_type": "execute_result"
    }
   ],
   "source": [
    "df_predict_proba.head()"
   ]
  },
  {
   "cell_type": "code",
   "execution_count": 34,
   "metadata": {},
   "outputs": [
    {
     "name": "stdout",
     "output_type": "stream",
     "text": [
      "<class 'pandas.core.frame.DataFrame'>\n",
      "RangeIndex: 2002 entries, 0 to 2001\n",
      "Data columns (total 4 columns):\n",
      " #   Column           Non-Null Count  Dtype  \n",
      "---  ------           --------------  -----  \n",
      " 0   headline_prob    2002 non-null   float64\n",
      " 1   keywords_prob    2002 non-null   float64\n",
      " 2   snippet_prob     2002 non-null   float64\n",
      " 3   word_count_prob  2002 non-null   float64\n",
      "dtypes: float64(4)\n",
      "memory usage: 62.7 KB\n"
     ]
    }
   ],
   "source": [
    "df_predict_proba.info()"
   ]
  },
  {
   "cell_type": "markdown",
   "metadata": {},
   "source": [
    "<br>\n",
    "\n",
    "##### Class Labeled Data "
   ]
  },
  {
   "cell_type": "code",
   "execution_count": 35,
   "metadata": {},
   "outputs": [],
   "source": [
    "df_predict_class = pd.DataFrame({'headline_prob': headline_class, \n",
    "                           'keywords_prob': keywords_class, \n",
    "                           'snippet_prob': snippet_class,\n",
    "                           'word_count_class': word_count_class})"
   ]
  },
  {
   "cell_type": "code",
   "execution_count": 36,
   "metadata": {},
   "outputs": [
    {
     "data": {
      "text/html": [
       "<div>\n",
       "<style scoped>\n",
       "    .dataframe tbody tr th:only-of-type {\n",
       "        vertical-align: middle;\n",
       "    }\n",
       "\n",
       "    .dataframe tbody tr th {\n",
       "        vertical-align: top;\n",
       "    }\n",
       "\n",
       "    .dataframe thead th {\n",
       "        text-align: right;\n",
       "    }\n",
       "</style>\n",
       "<table border=\"1\" class=\"dataframe\">\n",
       "  <thead>\n",
       "    <tr style=\"text-align: right;\">\n",
       "      <th></th>\n",
       "      <th>headline_prob</th>\n",
       "      <th>keywords_prob</th>\n",
       "      <th>snippet_prob</th>\n",
       "      <th>word_count_class</th>\n",
       "    </tr>\n",
       "  </thead>\n",
       "  <tbody>\n",
       "    <tr>\n",
       "      <th>0</th>\n",
       "      <td>0</td>\n",
       "      <td>0</td>\n",
       "      <td>0</td>\n",
       "      <td>1</td>\n",
       "    </tr>\n",
       "    <tr>\n",
       "      <th>1</th>\n",
       "      <td>0</td>\n",
       "      <td>0</td>\n",
       "      <td>0</td>\n",
       "      <td>1</td>\n",
       "    </tr>\n",
       "    <tr>\n",
       "      <th>2</th>\n",
       "      <td>0</td>\n",
       "      <td>0</td>\n",
       "      <td>0</td>\n",
       "      <td>1</td>\n",
       "    </tr>\n",
       "    <tr>\n",
       "      <th>3</th>\n",
       "      <td>1</td>\n",
       "      <td>0</td>\n",
       "      <td>0</td>\n",
       "      <td>1</td>\n",
       "    </tr>\n",
       "    <tr>\n",
       "      <th>4</th>\n",
       "      <td>1</td>\n",
       "      <td>0</td>\n",
       "      <td>1</td>\n",
       "      <td>1</td>\n",
       "    </tr>\n",
       "  </tbody>\n",
       "</table>\n",
       "</div>"
      ],
      "text/plain": [
       "   headline_prob  keywords_prob  snippet_prob  word_count_class\n",
       "0              0              0             0                 1\n",
       "1              0              0             0                 1\n",
       "2              0              0             0                 1\n",
       "3              1              0             0                 1\n",
       "4              1              0             1                 1"
      ]
     },
     "execution_count": 36,
     "metadata": {},
     "output_type": "execute_result"
    }
   ],
   "source": [
    "df_predict_class.head()"
   ]
  },
  {
   "cell_type": "code",
   "execution_count": 37,
   "metadata": {},
   "outputs": [
    {
     "name": "stdout",
     "output_type": "stream",
     "text": [
      "<class 'pandas.core.frame.DataFrame'>\n",
      "RangeIndex: 2002 entries, 0 to 2001\n",
      "Data columns (total 4 columns):\n",
      " #   Column            Non-Null Count  Dtype\n",
      "---  ------            --------------  -----\n",
      " 0   headline_prob     2002 non-null   int64\n",
      " 1   keywords_prob     2002 non-null   int64\n",
      " 2   snippet_prob      2002 non-null   int64\n",
      " 3   word_count_class  2002 non-null   int64\n",
      "dtypes: int64(4)\n",
      "memory usage: 62.7 KB\n"
     ]
    }
   ],
   "source": [
    "df_predict_class.info()"
   ]
  },
  {
   "cell_type": "markdown",
   "metadata": {},
   "source": [
    "<br>\n",
    "\n",
    "### Training model"
   ]
  },
  {
   "cell_type": "code",
   "execution_count": 38,
   "metadata": {},
   "outputs": [
    {
     "data": {
      "text/html": [
       "<div>\n",
       "<style scoped>\n",
       "    .dataframe tbody tr th:only-of-type {\n",
       "        vertical-align: middle;\n",
       "    }\n",
       "\n",
       "    .dataframe tbody tr th {\n",
       "        vertical-align: top;\n",
       "    }\n",
       "\n",
       "    .dataframe thead th {\n",
       "        text-align: right;\n",
       "    }\n",
       "</style>\n",
       "<table border=\"1\" class=\"dataframe\">\n",
       "  <thead>\n",
       "    <tr style=\"text-align: right;\">\n",
       "      <th></th>\n",
       "      <th>sum</th>\n",
       "      <th>percentage</th>\n",
       "    </tr>\n",
       "    <tr>\n",
       "      <th>popular</th>\n",
       "      <th></th>\n",
       "      <th></th>\n",
       "    </tr>\n",
       "  </thead>\n",
       "  <tbody>\n",
       "    <tr>\n",
       "      <th>0</th>\n",
       "      <td>1969</td>\n",
       "      <td>0.98</td>\n",
       "    </tr>\n",
       "    <tr>\n",
       "      <th>1</th>\n",
       "      <td>33</td>\n",
       "      <td>0.02</td>\n",
       "    </tr>\n",
       "  </tbody>\n",
       "</table>\n",
       "</div>"
      ],
      "text/plain": [
       "          sum  percentage\n",
       "popular                  \n",
       "0        1969        0.98\n",
       "1          33        0.02"
      ]
     },
     "execution_count": 38,
     "metadata": {},
     "output_type": "execute_result"
    },
    {
     "data": {
      "image/png": "[encoded data removed]",
      "text/plain": [
       "<Figure size 432x288 with 1 Axes>"
      ]
     },
     "metadata": {
      "needs_background": "light"
     },
     "output_type": "display_data"
    }
   ],
   "source": [
    "target_distribution_deploy = summerize_value_counts(y_test)\n",
    "target_distribution_deploy"
   ]
  },
  {
   "cell_type": "markdown",
   "metadata": {},
   "source": [
    "\n",
    "\n",
    "##### Predicting with Probabilities "
   ]
  },
  {
   "cell_type": "code",
   "execution_count": 39,
   "metadata": {},
   "outputs": [],
   "source": [
    "clf_proba = LogisticRegression()"
   ]
  },
  {
   "cell_type": "code",
   "execution_count": 40,
   "metadata": {},
   "outputs": [
    {
     "data": {
      "text/plain": [
       "LogisticRegression()"
      ]
     },
     "execution_count": 40,
     "metadata": {},
     "output_type": "execute_result"
    }
   ],
   "source": [
    "clf_proba.fit(df_predict_proba, y_test)"
   ]
  },
  {
   "cell_type": "markdown",
   "metadata": {},
   "source": [
    "<br>\n",
    "\n",
    "##### Predicitng with class labels"
   ]
  },
  {
   "cell_type": "code",
   "execution_count": 41,
   "metadata": {},
   "outputs": [],
   "source": [
    "clf_class = LogisticRegression()"
   ]
  },
  {
   "cell_type": "code",
   "execution_count": 42,
   "metadata": {},
   "outputs": [
    {
     "data": {
      "text/plain": [
       "LogisticRegression()"
      ]
     },
     "execution_count": 42,
     "metadata": {},
     "output_type": "execute_result"
    }
   ],
   "source": [
    "clf_class.fit(df_predict_class, y_test)"
   ]
  },
  {
   "cell_type": "markdown",
   "metadata": {},
   "source": [
    "## Model Deployment"
   ]
  },
  {
   "cell_type": "code",
   "execution_count": 45,
   "metadata": {},
   "outputs": [],
   "source": [
    "# df_archive_deploy = pd.read_csv('data/archive_deploy.csv')\n",
    "# df_archive_deploy.date_published = df_archive_deploy.date_published.apply(lambda x: pd.to_datetime(x).date())\n",
    "\n",
    "# df_most_shared_deploy = load_most_shared('data/most_popular_deploy')"
   ]
  },
  {
   "cell_type": "code",
   "execution_count": 51,
   "metadata": {},
   "outputs": [],
   "source": [
    "prediction_day = 'string_date'"
   ]
  },
  {
   "cell_type": "code",
   "execution_count": 50,
   "metadata": {},
   "outputs": [],
   "source": [
    "def filter_predction_dfs(df_archive, df_shared, day_of_predict, delta=3):\n",
    "    \n",
    "    day_of_predict = pd.to_datetime(day_of_predict).date()\n",
    "    time_delta = dt.timedelta(days=delta)\n",
    "    \n",
    "    cutoff_day = day_of_predict - time_delta\n",
    "    \n",
    "    df_deploy = df_archive[(df_archive.date_published >= cutoff_day) & \n",
    "                             (df_archive.date_published <= day_of_predict)]\n",
    "    article_ids = df_deploy['uri']\n",
    "    df_feature_deploy = df_deploy[['headline','keywords','snippet','word_count']]\n",
    "    \n",
    "    \n",
    "    df_top_20 = df_shared[df_shared.date_sourced == day_of_predict]\n",
    "    \n",
    "    return article_ids, df_feature_deploy, df_top_20"
   ]
  },
  {
   "cell_type": "code",
   "execution_count": 52,
   "metadata": {},
   "outputs": [],
   "source": [
    "# deployed_article_ids, df_feature_deploy, df_top_20 = filter_predction_dfs(prediction_day, delta=3, \n",
    "#                                                                   df_archive_deploy, df_most_shared_deploy)"
   ]
  },
  {
   "cell_type": "code",
   "execution_count": 53,
   "metadata": {},
   "outputs": [],
   "source": [
    "def predict_with_probabilities():\n",
    "    \n",
    "    headline = df.headline\n",
    "    keywords = df.keywords\n",
    "    snippet = df.snippet\n",
    "    word_count = df.word_count\n",
    "    \n",
    "    headline_tf_vec.transform()\n",
    "    headline_tf_vec_tok.transform()\n",
    "    headline_proba_rf.predict_proba()\n",
    "    \n",
    "    keywords_tf_vec.transform\n",
    "    keywords_tf_vec_tok.transform\n",
    "    keywords_proba_rf.predict_proba\n",
    "    \n",
    "    snippet_tf_vec.transform\n",
    "    snippet_tf_vec_tok.transform\n",
    "    snippet_proba_rf.predict_proba\n",
    "    \n",
    "    word_count_log_reg.predict_proba\n",
    "\n",
    "    "
   ]
  },
  {
   "cell_type": "code",
   "execution_count": 54,
   "metadata": {},
   "outputs": [],
   "source": [
    "def predict_with_class_labels(df):\n",
    "    \n",
    "    headline = df.headline\n",
    "    keywords = df.keywords\n",
    "    snippet = df.snippet\n",
    "    word_count = df.word_count\n",
    "    \n",
    "    headline_cv_vec.transform\n",
    "    headline_cv_vec_tok.transform\n",
    "    headline_class_rf.predict\n",
    "    \n",
    "    keywords_cv_vec.transform\n",
    "    keywords_cv_vec_tok.transform\n",
    "    keywords_class_rf.predict\n",
    "    \n",
    "    snippet_cv_vec.transform\n",
    "    snippet_cv_vec_tok.transform\n",
    "    snippet_class_rf.predict\n",
    "    \n",
    "    word_count_log_reg.predict\n",
    "    \n",
    "    "
   ]
  },
  {
   "cell_type": "code",
   "execution_count": 55,
   "metadata": {},
   "outputs": [],
   "source": [
    "headline_proba_pipe = Pipeline([('headline_tok_tf', headline_tok_tf), \n",
    "                                ('headline_proba_rf',headline_proba_rf)])"
   ]
  },
  {
   "cell_type": "code",
   "execution_count": 56,
   "metadata": {},
   "outputs": [],
   "source": [
    "keywords_proba_pipe = Pipeline([('keywords_tok_tf', keywords_tok_tf), \n",
    "                                ('keywords_proba_rf', keywords_proba_rf)])"
   ]
  },
  {
   "cell_type": "code",
   "execution_count": 57,
   "metadata": {},
   "outputs": [],
   "source": [
    "snippet_proba_pipe = Pipeline([('snippet_tok_tf', snippet_tok_tf), \n",
    "                               ('snippet_proba_rf', snippet_proba_rf)])"
   ]
  },
  {
   "cell_type": "code",
   "execution_count": 58,
   "metadata": {},
   "outputs": [],
   "source": [
    "def proba_nlp_pipeline(features):\n",
    "    headline_probs = headline_proba_pipe.predict_proba(features.headline)\n",
    "    keywords_probs  = keywords_proba_pipe.predict_proba(features.keywords)\n",
    "    snippet_probs  = snippet_proba_pipe.predict_proba(features.snippet)\n",
    "    word_count_probs = word_count_log_reg.predict_proba(features.word_count)\n",
    "    \n",
    "    df = pd.DataFrame({'headline_probabilty': headline_probs, \n",
    "                       'keywords_probabilty': keywords_probs,\n",
    "                       'snippet_probabilty': snippet_probs,\n",
    "                       'word_count_probabilty': word_count_probs})\n",
    "    return df"
   ]
  },
  {
   "cell_type": "code",
   "execution_count": 59,
   "metadata": {},
   "outputs": [],
   "source": [
    "headline_class_pipe = Pipeline([('headline_tok_cv', headline_tok_cv), \n",
    "                                ('headline_class_rf', headline_class_rf)])"
   ]
  },
  {
   "cell_type": "code",
   "execution_count": 60,
   "metadata": {},
   "outputs": [],
   "source": [
    "keywords_class_pipe = Pipeline([('keywords_tok_cv', keywords_tok_cv), \n",
    "                                ('keywords_class_rf', keywords_class_rf)])"
   ]
  },
  {
   "cell_type": "code",
   "execution_count": 61,
   "metadata": {},
   "outputs": [],
   "source": [
    "snippet_class_pipe = Pipeline([('snippet_tok_cv', snippet_tok_cv), \n",
    "                               ('snippet_class_rf', snippet_class_rf)])"
   ]
  },
  {
   "cell_type": "code",
   "execution_count": 62,
   "metadata": {},
   "outputs": [],
   "source": [
    "def class_nlp_pipeline(features):\n",
    "    headline_probs = headline_class_pipe.predict_proba(features.headline)\n",
    "    keywords_probs  = keywords_class_pipe.predict_proba(features.keywords)\n",
    "    snippet_probs  = snippet_class_pipe.predict_proba(features.snippet)\n",
    "    word_count_probs = word_count_log_reg.predict_proba(features.word_count)\n",
    "    \n",
    "    df = pd.DataFrame({'headline_probabilty': headline_probs, \n",
    "                       'keywords_probabilty': keywords_probs, \n",
    "                       'snippet_probabilty': snippet_probs, \n",
    "                       'word_count_probabilty': word_count_probs})\n",
    "    return df"
   ]
  },
  {
   "cell_type": "code",
   "execution_count": null,
   "metadata": {},
   "outputs": [],
   "source": []
  },
  {
   "cell_type": "code",
   "execution_count": null,
   "metadata": {},
   "outputs": [],
   "source": [
    "# proba_for_pred = proba_nlp_pipeline(df_feature_deploy)"
   ]
  },
  {
   "cell_type": "code",
   "execution_count": null,
   "metadata": {},
   "outputs": [],
   "source": [
    "# class_for_pred = class_nlp_pipeline(df_feature_deploy)"
   ]
  },
  {
   "cell_type": "code",
   "execution_count": null,
   "metadata": {},
   "outputs": [],
   "source": []
  },
  {
   "cell_type": "code",
   "execution_count": null,
   "metadata": {},
   "outputs": [],
   "source": [
    "# predictions_from_proba = clf_proba.predict_proba(proba_for_pred)"
   ]
  },
  {
   "cell_type": "code",
   "execution_count": null,
   "metadata": {},
   "outputs": [],
   "source": [
    "# predictions_from_class = clf_class.predict_proba(class_for_pred)"
   ]
  },
  {
   "cell_type": "code",
   "execution_count": null,
   "metadata": {},
   "outputs": [],
   "source": []
  },
  {
   "cell_type": "code",
   "execution_count": null,
   "metadata": {},
   "outputs": [],
   "source": [
    "top_20_from_proba = pd.DataFrame([deployed_article_ids, pd.Series(predictions_from_proba, \n",
    "                                                                  index=deployed_article_ids.index, \n",
    "                                                                  name='predictions_from_proba')]).T\n",
    "\n",
    "# top_20_from_proba.sort_values(top_20_from_proba.iloc[:, -1:], ascending=False)"
   ]
  },
  {
   "cell_type": "code",
   "execution_count": null,
   "metadata": {},
   "outputs": [],
   "source": [
    "top_20_from_class = pd.DataFrame([deployed_article_ids, pd.Series(predictions_from_class, \n",
    "                                                                  index=deployed_article_ids.index, \n",
    "                                                                  name='predictions_from_class')]).T\n",
    "\n",
    "# top_20_from_class.sort_values(top_20_from_class.iloc[:, -1:], ascending=False)"
   ]
  },
  {
   "cell_type": "code",
   "execution_count": null,
   "metadata": {},
   "outputs": [],
   "source": []
  },
  {
   "cell_type": "code",
   "execution_count": null,
   "metadata": {},
   "outputs": [],
   "source": []
  },
  {
   "cell_type": "code",
   "execution_count": null,
   "metadata": {},
   "outputs": [],
   "source": []
  },
  {
   "cell_type": "code",
   "execution_count": null,
   "metadata": {},
   "outputs": [],
   "source": []
  },
  {
   "cell_type": "code",
   "execution_count": 60,
   "metadata": {},
   "outputs": [],
   "source": [
    "test_idx = pd.Index([23,46,78])"
   ]
  },
  {
   "cell_type": "code",
   "execution_count": 65,
   "metadata": {},
   "outputs": [],
   "source": [
    "col1 = pd.Series([1,2,3], index=test_idx)\n",
    "col2 = [4,5,6]"
   ]
  },
  {
   "cell_type": "code",
   "execution_count": 75,
   "metadata": {},
   "outputs": [
    {
     "data": {
      "text/plain": [
       "23    1\n",
       "46    2\n",
       "78    3\n",
       "dtype: int64"
      ]
     },
     "execution_count": 75,
     "metadata": {},
     "output_type": "execute_result"
    }
   ],
   "source": [
    "col1"
   ]
  },
  {
   "cell_type": "code",
   "execution_count": 82,
   "metadata": {},
   "outputs": [
    {
     "data": {
      "text/html": [
       "<div>\n",
       "<style scoped>\n",
       "    .dataframe tbody tr th:only-of-type {\n",
       "        vertical-align: middle;\n",
       "    }\n",
       "\n",
       "    .dataframe tbody tr th {\n",
       "        vertical-align: top;\n",
       "    }\n",
       "\n",
       "    .dataframe thead th {\n",
       "        text-align: right;\n",
       "    }\n",
       "</style>\n",
       "<table border=\"1\" class=\"dataframe\">\n",
       "  <thead>\n",
       "    <tr style=\"text-align: right;\">\n",
       "      <th></th>\n",
       "      <th>0</th>\n",
       "      <th>1</th>\n",
       "    </tr>\n",
       "  </thead>\n",
       "  <tbody>\n",
       "    <tr>\n",
       "      <th>78</th>\n",
       "      <td>3</td>\n",
       "      <td>6</td>\n",
       "    </tr>\n",
       "    <tr>\n",
       "      <th>46</th>\n",
       "      <td>2</td>\n",
       "      <td>5</td>\n",
       "    </tr>\n",
       "    <tr>\n",
       "      <th>23</th>\n",
       "      <td>1</td>\n",
       "      <td>4</td>\n",
       "    </tr>\n",
       "  </tbody>\n",
       "</table>\n",
       "</div>"
      ],
      "text/plain": [
       "    0  1\n",
       "78  3  6\n",
       "46  2  5\n",
       "23  1  4"
      ]
     },
     "execution_count": 82,
     "metadata": {},
     "output_type": "execute_result"
    }
   ],
   "source": [
    "test_df = pd.DataFrame([col1, pd.Series(col2, index=col1.index)]).T.sort_values(1, ascending=False)\n",
    "test_df"
   ]
  },
  {
   "cell_type": "code",
   "execution_count": 88,
   "metadata": {},
   "outputs": [
    {
     "data": {
      "text/html": [
       "<div>\n",
       "<style scoped>\n",
       "    .dataframe tbody tr th:only-of-type {\n",
       "        vertical-align: middle;\n",
       "    }\n",
       "\n",
       "    .dataframe tbody tr th {\n",
       "        vertical-align: top;\n",
       "    }\n",
       "\n",
       "    .dataframe thead th {\n",
       "        text-align: right;\n",
       "    }\n",
       "</style>\n",
       "<table border=\"1\" class=\"dataframe\">\n",
       "  <thead>\n",
       "    <tr style=\"text-align: right;\">\n",
       "      <th></th>\n",
       "      <th>1</th>\n",
       "    </tr>\n",
       "  </thead>\n",
       "  <tbody>\n",
       "    <tr>\n",
       "      <th>78</th>\n",
       "      <td>6</td>\n",
       "    </tr>\n",
       "    <tr>\n",
       "      <th>46</th>\n",
       "      <td>5</td>\n",
       "    </tr>\n",
       "    <tr>\n",
       "      <th>23</th>\n",
       "      <td>4</td>\n",
       "    </tr>\n",
       "  </tbody>\n",
       "</table>\n",
       "</div>"
      ],
      "text/plain": [
       "    1\n",
       "78  6\n",
       "46  5\n",
       "23  4"
      ]
     },
     "execution_count": 88,
     "metadata": {},
     "output_type": "execute_result"
    }
   ],
   "source": [
    "test_df.iloc[:, -1:]"
   ]
  },
  {
   "cell_type": "code",
   "execution_count": null,
   "metadata": {},
   "outputs": [],
   "source": []
  }
 ],
 "metadata": {
  "kernelspec": {
   "display_name": "Python (learn-env)",
   "language": "python",
   "name": "learn-env"
  },
  "language_info": {
   "codemirror_mode": {
    "name": "ipython",
    "version": 3
   },
   "file_extension": ".py",
   "mimetype": "text/x-python",
   "name": "python",
   "nbconvert_exporter": "python",
   "pygments_lexer": "ipython3",
   "version": "3.8.5"
  }
 },
 "nbformat": 4,
 "nbformat_minor": 4
}
