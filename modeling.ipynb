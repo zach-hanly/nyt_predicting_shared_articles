{
 "cells": [
  {
   "cell_type": "markdown",
   "metadata": {},
   "source": [
    "# Predicting News Article Popularity "
   ]
  },
  {
   "cell_type": "markdown",
   "metadata": {},
   "source": [
    "## Business Understanding \n",
    "\n",
    "Advertising on social media has empowered new and smaller media companies to publish textual content to a broader audience, which can then further spread their content. This presents the decision to make about which content to advertise or share in order to maximize the publisher’s reach. For even the smallest publishers, this decision can be supported with simple machine learning models analyzing content metadata. "
   ]
  },
  {
   "cell_type": "markdown",
   "metadata": {},
   "source": [
    "## Data Understanding \n",
    "\n",
    "In order to show how social media popularity for textual media can be modeled, article metadata was gathered from the New York Time's API website. Although one of the largest publishers of news articles, the data is of very high quality and should resemble what other companies have access to in-house. \n",
    "\n",
    "Two APIs were used. First, the __[NYT Archive API](https://developer.nytimes.com/docs/archive-product/1/overview)__,  which returns every article for a given range of months and years. Second, the __[NYT Most Popular API](https://developer.nytimes.com/docs/most-popular-product/1/overview)__, which returns the most popular articles on NYTimes.com based on emails, Facebook shares, or views on the NYT site. For this project Facebook shares were chosen and calls were made to the API once per day to gather that day's top 20 list. Articles in the archive that were listed on a top 20 list were then labeled as a popular article for a modeling target.  "
   ]
  },
  {
   "cell_type": "markdown",
   "metadata": {},
   "source": [
    "#### Importing the required packages"
   ]
  },
  {
   "cell_type": "code",
   "execution_count": 1,
   "metadata": {},
   "outputs": [],
   "source": [
    "# file manipulation \n",
    "import os\n",
    "\n",
    "# data manipulation \n",
    "import re\n",
    "import datetime as dt\n",
    "import pandas as pd\n",
    "import numpy as np\n",
    "import math\n",
    "from functions import *\n",
    "\n",
    "# modeling \n",
    "from sklearn.model_selection import train_test_split, GridSearchCV\n",
    "from sklearn.feature_extraction.text import TfidfVectorizer, CountVectorizer\n",
    "from sklearn.preprocessing import StandardScaler\n",
    "from sklearn.dummy import DummyClassifier\n",
    "from sklearn.ensemble import RandomForestClassifier\n",
    "from sklearn.linear_model import LogisticRegression\n",
    "from sklearn.pipeline import Pipeline\n",
    "from sklearn.metrics import accuracy_score, plot_confusion_matrix, plot_roc_curve\n",
    "\n",
    "# sampling\n",
    "from imblearn.over_sampling import SMOTE\n",
    "\n",
    "# preprocessing text\n",
    "import nltk\n",
    "from nltk.corpus import stopwords, wordnet\n",
    "from nltk.tokenize import RegexpTokenizer\n",
    "from nltk import pos_tag\n",
    "from nltk.stem import WordNetLemmatizer \n",
    "\n",
    "\n",
    "# plotting \n",
    "import matplotlib.pyplot as plt\n",
    "import seaborn as sns\n",
    "sns.set_context('notebook')"
   ]
  },
  {
   "cell_type": "markdown",
   "metadata": {},
   "source": [
    "#### Loading the data\n",
    "The scripts to request, clean and store both the article archive data and the daily top 20 most shared on Facebook lists can be found in [request_archive.py](./request_archive.py) and [request_most_shared_articles.py](./request_most_shared_articles.py). One request for a top 20 list for the previous 30 days was made to help label some articles in the archive as popular that were published before daily collection of a top 20 list was begun. \n",
    "\n",
    "The archive data contains all articles from December and all from January up to the end of the training phase on January 15th. Any rows with Null values in the archive were dropped and the date published column was changed to the datetime data type. The metadate that was collected for modeling was the headline of the article, keywords for the article, a snippet from the article and the word count for the article. Additionally the URI and date published was grabbed for each article. \n",
    "\n",
    "For each top 20 list the URI, date published and date the list was sourced was taken. "
   ]
  },
  {
   "cell_type": "code",
   "execution_count": 2,
   "metadata": {},
   "outputs": [],
   "source": [
    "# load archive articles from csv in data directory\n",
    "df = pd.read_csv('data/archive_train.csv')\n",
    "df.date_published = df.date_published.apply(lambda x: pd.to_datetime(x).date())\n",
    "df.dropna(inplace=True)\n",
    "\n",
    "# load seperate top 20 lists in folder in data directory into single dataframe \n",
    "df_most_shared = load_most_shared('data/most_popular_train')"
   ]
  },
  {
   "cell_type": "markdown",
   "metadata": {},
   "source": [
    "<br>\n",
    "A list was made to house the URI's, the unique index for each article, for articles appearing on a top 20 list at least once. Then a popular column was created for the archive dataframe by iterating over the list of the highly shared articles and assigning a 0 if that article's URI was not present on the list and 1 for if it was. This is the target column for the models."
   ]
  },
  {
   "cell_type": "code",
   "execution_count": 3,
   "metadata": {},
   "outputs": [],
   "source": [
    "# create list, then interate over it to make target column\n",
    "popular_list = df_most_shared.uri.values\n",
    "df['popular'] = [1 if x in popular_list else 0 for x in df['uri']]"
   ]
  },
  {
   "cell_type": "code",
   "execution_count": 4,
   "metadata": {},
   "outputs": [
    {
     "data": {
      "text/html": [
       "<div>\n",
       "<style scoped>\n",
       "    .dataframe tbody tr th:only-of-type {\n",
       "        vertical-align: middle;\n",
       "    }\n",
       "\n",
       "    .dataframe tbody tr th {\n",
       "        vertical-align: top;\n",
       "    }\n",
       "\n",
       "    .dataframe thead th {\n",
       "        text-align: right;\n",
       "    }\n",
       "</style>\n",
       "<table border=\"1\" class=\"dataframe\">\n",
       "  <thead>\n",
       "    <tr style=\"text-align: right;\">\n",
       "      <th></th>\n",
       "      <th>uri</th>\n",
       "      <th>date_published</th>\n",
       "      <th>headline</th>\n",
       "      <th>keywords</th>\n",
       "      <th>snippet</th>\n",
       "      <th>word_count</th>\n",
       "      <th>popular</th>\n",
       "    </tr>\n",
       "  </thead>\n",
       "  <tbody>\n",
       "    <tr>\n",
       "      <th>0</th>\n",
       "      <td>nyt://article/4e2abcbc-9563-56c0-bf18-c93ce4e7...</td>\n",
       "      <td>2021-12-01</td>\n",
       "      <td>let’s end the covid blame games</td>\n",
       "      <td>coronavirus omicron variantcoronavirus (2019-n...</td>\n",
       "      <td>Finger pointing is pointless, divisive and dumb.</td>\n",
       "      <td>918</td>\n",
       "      <td>0</td>\n",
       "    </tr>\n",
       "    <tr>\n",
       "      <th>1</th>\n",
       "      <td>nyt://article/f7a5e7ef-e4cd-575c-a0e1-ff4d18d5...</td>\n",
       "      <td>2021-12-01</td>\n",
       "      <td>trump’s iran policy has become a disaster for ...</td>\n",
       "      <td>irannuclear weaponsembargoes and sanctionsunit...</td>\n",
       "      <td>Withdrawing from the Iran nuclear deal was a m...</td>\n",
       "      <td>1560</td>\n",
       "      <td>0</td>\n",
       "    </tr>\n",
       "    <tr>\n",
       "      <th>2</th>\n",
       "      <td>nyt://article/778af86c-b600-5aeb-be98-0a9a1aa1...</td>\n",
       "      <td>2021-12-01</td>\n",
       "      <td>this extinct eagle may have gulped guts like a...</td>\n",
       "      <td>eagles (birds)vultures (birds)condorsendangere...</td>\n",
       "      <td>Scientists suggest the largest eagle that ever...</td>\n",
       "      <td>913</td>\n",
       "      <td>0</td>\n",
       "    </tr>\n",
       "    <tr>\n",
       "      <th>3</th>\n",
       "      <td>nyt://article/fb7763c2-0f41-5c81-9ecf-17607ba5...</td>\n",
       "      <td>2021-12-01</td>\n",
       "      <td>republican recriminations point to a rocky pat...</td>\n",
       "      <td>republican partyhouse of representativesboeber...</td>\n",
       "      <td>Simmering tensions between the far-right flank...</td>\n",
       "      <td>1172</td>\n",
       "      <td>0</td>\n",
       "    </tr>\n",
       "    <tr>\n",
       "      <th>4</th>\n",
       "      <td>nyt://article/ba0afd37-0c00-5535-8868-21130e28...</td>\n",
       "      <td>2021-12-01</td>\n",
       "      <td>a times editor who attended oxford recalls a d...</td>\n",
       "      <td>school shootings and armed attacks</td>\n",
       "      <td>Three teenage students were killed on Tuesday ...</td>\n",
       "      <td>309</td>\n",
       "      <td>0</td>\n",
       "    </tr>\n",
       "  </tbody>\n",
       "</table>\n",
       "</div>"
      ],
      "text/plain": [
       "                                                 uri date_published  \\\n",
       "0  nyt://article/4e2abcbc-9563-56c0-bf18-c93ce4e7...     2021-12-01   \n",
       "1  nyt://article/f7a5e7ef-e4cd-575c-a0e1-ff4d18d5...     2021-12-01   \n",
       "2  nyt://article/778af86c-b600-5aeb-be98-0a9a1aa1...     2021-12-01   \n",
       "3  nyt://article/fb7763c2-0f41-5c81-9ecf-17607ba5...     2021-12-01   \n",
       "4  nyt://article/ba0afd37-0c00-5535-8868-21130e28...     2021-12-01   \n",
       "\n",
       "                                            headline  \\\n",
       "0                    let’s end the covid blame games   \n",
       "1  trump’s iran policy has become a disaster for ...   \n",
       "2  this extinct eagle may have gulped guts like a...   \n",
       "3  republican recriminations point to a rocky pat...   \n",
       "4  a times editor who attended oxford recalls a d...   \n",
       "\n",
       "                                            keywords  \\\n",
       "0  coronavirus omicron variantcoronavirus (2019-n...   \n",
       "1  irannuclear weaponsembargoes and sanctionsunit...   \n",
       "2  eagles (birds)vultures (birds)condorsendangere...   \n",
       "3  republican partyhouse of representativesboeber...   \n",
       "4                 school shootings and armed attacks   \n",
       "\n",
       "                                             snippet  word_count  popular  \n",
       "0  Finger pointing is pointless, divisive and dumb.          918        0  \n",
       "1  Withdrawing from the Iran nuclear deal was a m...        1560        0  \n",
       "2  Scientists suggest the largest eagle that ever...         913        0  \n",
       "3  Simmering tensions between the far-right flank...        1172        0  \n",
       "4  Three teenage students were killed on Tuesday ...         309        0  "
      ]
     },
     "execution_count": 4,
     "metadata": {},
     "output_type": "execute_result"
    }
   ],
   "source": [
    "# view the dataframe\n",
    "df.head()"
   ]
  },
  {
   "cell_type": "markdown",
   "metadata": {},
   "source": [
    "## Exploratory Data Analysis  \n",
    "Checking `df.info()` shows that both DataFrame individually have equal values with no Null values to take care of. It also shows that the datatypes are what we expect and want. "
   ]
  },
  {
   "cell_type": "code",
   "execution_count": 5,
   "metadata": {},
   "outputs": [
    {
     "name": "stdout",
     "output_type": "stream",
     "text": [
      "<class 'pandas.core.frame.DataFrame'>\n",
      "Int64Index: 5149 entries, 0 to 5723\n",
      "Data columns (total 7 columns):\n",
      " #   Column          Non-Null Count  Dtype \n",
      "---  ------          --------------  ----- \n",
      " 0   uri             5149 non-null   object\n",
      " 1   date_published  5149 non-null   object\n",
      " 2   headline        5149 non-null   object\n",
      " 3   keywords        5149 non-null   object\n",
      " 4   snippet         5149 non-null   object\n",
      " 5   word_count      5149 non-null   int64 \n",
      " 6   popular         5149 non-null   int64 \n",
      "dtypes: int64(2), object(5)\n",
      "memory usage: 321.8+ KB\n",
      "None\n",
      "\n",
      "<class 'pandas.core.frame.DataFrame'>\n",
      "Index: 200 entries, 2022-01-18 to 2022-01-10\n",
      "Data columns (total 2 columns):\n",
      " #   Column          Non-Null Count  Dtype \n",
      "---  ------          --------------  ----- \n",
      " 0   uri             200 non-null    object\n",
      " 1   date_published  200 non-null    object\n",
      "dtypes: object(2)\n",
      "memory usage: 4.7+ KB\n",
      "None\n"
     ]
    }
   ],
   "source": [
    "print(df.info())\n",
    "print()\n",
    "print(df_most_shared.info())"
   ]
  },
  {
   "cell_type": "markdown",
   "metadata": {},
   "source": [
    "##### Archive articles\n",
    "Looking at the distribution of article popularity reveals massive class imbalance. Only 2% of the articles in the archive appear on a top 20 list. This is particularly because of the articles included in the archive that were published in December and January before daily top 20 lists were started to be collected. Due to the API's constraints, only the daily top 20 list from the day the request was made are available. "
   ]
  },
  {
   "cell_type": "code",
   "execution_count": 6,
   "metadata": {},
   "outputs": [
    {
     "data": {
      "text/html": [
       "<div>\n",
       "<style scoped>\n",
       "    .dataframe tbody tr th:only-of-type {\n",
       "        vertical-align: middle;\n",
       "    }\n",
       "\n",
       "    .dataframe tbody tr th {\n",
       "        vertical-align: top;\n",
       "    }\n",
       "\n",
       "    .dataframe thead th {\n",
       "        text-align: right;\n",
       "    }\n",
       "</style>\n",
       "<table border=\"1\" class=\"dataframe\">\n",
       "  <thead>\n",
       "    <tr style=\"text-align: right;\">\n",
       "      <th></th>\n",
       "      <th>sum</th>\n",
       "      <th>percentage</th>\n",
       "    </tr>\n",
       "    <tr>\n",
       "      <th>popular</th>\n",
       "      <th></th>\n",
       "      <th></th>\n",
       "    </tr>\n",
       "  </thead>\n",
       "  <tbody>\n",
       "    <tr>\n",
       "      <th>0</th>\n",
       "      <td>5023</td>\n",
       "      <td>0.98</td>\n",
       "    </tr>\n",
       "    <tr>\n",
       "      <th>1</th>\n",
       "      <td>126</td>\n",
       "      <td>0.02</td>\n",
       "    </tr>\n",
       "  </tbody>\n",
       "</table>\n",
       "</div>"
      ],
      "text/plain": [
       "          sum  percentage\n",
       "popular                  \n",
       "0        5023        0.98\n",
       "1         126        0.02"
      ]
     },
     "execution_count": 6,
     "metadata": {},
     "output_type": "execute_result"
    },
    {
     "data": {
      "image/png": "[encoded data removed]",
      "text/plain": [
       "<Figure size 432x288 with 1 Axes>"
      ]
     },
     "metadata": {
      "needs_background": "light"
     },
     "output_type": "display_data"
    }
   ],
   "source": [
    "# function makes a dataframe to display target variable value's sum and percentage\n",
    "# also, it plots the target variable's value distribution\n",
    "target_distribution = summerize_value_counts(df.popular)\n",
    "target_distribution"
   ]
  },
  {
   "cell_type": "markdown",
   "metadata": {},
   "source": [
    "##### Top 20 most shared articles\n",
    "Looking at each day's top 20 list and the distribution of dates when the articles were published originally shows that the majority of the articles on each list were published in the two days before the day of the list's creation, with a smaller proportion having been published three days before or on the day of creation.\n",
    "\n",
    "functions used to load, clean and plot the date are found in [functions.py](./functions.py)."
   ]
  },
  {
   "cell_type": "code",
   "execution_count": 7,
   "metadata": {},
   "outputs": [],
   "source": [
    "# load csv's into a list of dataframes \n",
    "df_list_load = load_most_shared_eda('data/most_popular_train')\n",
    "\n",
    "# change date columns to datetime dtype and sort list by date of top 20 list in ascending order \n",
    "df_list = clean_most_shared_eda(df_list_load)"
   ]
  },
  {
   "cell_type": "code",
   "execution_count": 8,
   "metadata": {},
   "outputs": [
    {
     "data": {
      "image/png": "[encoded data removed]",
      "text/plain": [
       "<Figure size 1440x1440 with 9 Axes>"
      ]
     },
     "metadata": {
      "needs_background": "light"
     },
     "output_type": "display_data"
    }
   ],
   "source": [
    "# generate correct amount of subplots based on length of list then plot each dataframe in list\n",
    "plot_most_shared(df_list)"
   ]
  },
  {
   "cell_type": "markdown",
   "metadata": {},
   "source": [
    "## Data Preperation"
   ]
  },
  {
   "cell_type": "markdown",
   "metadata": {},
   "source": [
    "##### Train-Test Split\n",
    "Features are separated from the target and a test size of 40% is selected. This is because the final model is trained with the testing data results of the models before it. To ensure it has enough training data, a relatively high test size proportion was chosen. \n",
    "\n",
    "Also, the random state is established as 0, which will be the state for all models going forward. "
   ]
  },
  {
   "cell_type": "code",
   "execution_count": 9,
   "metadata": {},
   "outputs": [],
   "source": [
    "# features = X, target = y\n",
    "X = df.drop('popular', axis=1)\n",
    "y = df.popular"
   ]
  },
  {
   "cell_type": "code",
   "execution_count": 10,
   "metadata": {},
   "outputs": [],
   "source": [
    "# random state of 0 is established for the data\n",
    "X_train, X_test, y_train, y_test = train_test_split(X, y, random_state=0, test_size=0.40)"
   ]
  },
  {
   "cell_type": "markdown",
   "metadata": {},
   "source": [
    "## Dummy classifier\n",
    "A baseline model is established with the data."
   ]
  },
  {
   "cell_type": "code",
   "execution_count": 11,
   "metadata": {},
   "outputs": [],
   "source": [
    "# initialize baseline model\n",
    "dummy = DummyClassifier(random_state=0, strategy='stratified') \n",
    "\n",
    "# fit with training data and predict with test set\n",
    "dummy.fit(X_train, y_train)\n",
    "y_pred = dummy.predict(X_test)"
   ]
  },
  {
   "cell_type": "code",
   "execution_count": 12,
   "metadata": {},
   "outputs": [
    {
     "name": "stdout",
     "output_type": "stream",
     "text": [
      "Accuracy Score: 0.9490291262135923\n"
     ]
    }
   ],
   "source": [
    "# baseline model accuracy \n",
    "print(\"Accuracy Score: {}\".format(accuracy_score(y_test, y_pred)))"
   ]
  },
  {
   "cell_type": "code",
   "execution_count": 13,
   "metadata": {},
   "outputs": [
    {
     "data": {
      "text/plain": [
       "65"
      ]
     },
     "execution_count": 13,
     "metadata": {},
     "output_type": "execute_result"
    }
   ],
   "source": [
    "# count how many articles are labeled popular by predicitng probabilities\n",
    "dummy_prob = dummy.predict_proba(X_test)\n",
    "dummy_predict_popular = [x[1] for x in dummy_prob if x[1] == 1]\n",
    "len(dummy_predict_popular)"
   ]
  },
  {
   "cell_type": "code",
   "execution_count": 14,
   "metadata": {},
   "outputs": [
    {
     "data": {
      "image/png": "[encoded data removed]",
      "text/plain": [
       "<Figure size 432x288 with 2 Axes>"
      ]
     },
     "metadata": {
      "needs_background": "light"
     },
     "output_type": "display_data"
    }
   ],
   "source": [
    "# plot confusion matrix to show error of the model\n",
    "# 0: 'not popular', 1: 'popular'\n",
    "plot_confusion_matrix(dummy, X_test, y_test);"
   ]
  },
  {
   "cell_type": "markdown",
   "metadata": {},
   "source": [
    "The baseline model achieved a 95% accuracy rate, but this is due to the massive class imbalance towards articles that are not featured on the most shared list. The bottom right box in the confusion matrix shows that the baseline model correctly predicted  only 1 of the articles that were on a top 20 list."
   ]
  },
  {
   "cell_type": "markdown",
   "metadata": {},
   "source": [
    "## Data Preprocessing \n",
    "\n",
    "The following section will take care of both converting the textual data into numerical data and resampling the training data to address the class imbalance. This will be done separately for each feature, separating them and transforming the text features before every feature goes into their own model that will convert their values to numeric scores. After this they will eventually be rejoined in the final model for prediction of a top 20 list. \n",
    "\n",
    "The first differentiated preprocessing method for the textual data is how to tokenize each feature, or condense each string of text into a more meaningful version. Each of the features will be differentiated this way, with one similarity being the removal of stopwords. Stopwords are words that provide very little lexical context to a string of text based on their use in sentence construction. These words, such as \"i\", \"me\", \"you\", \"isn't\", and \"wouldn't\", will be removed in both of the different tokenized streams for the training data. At this point, one version of the data, the regular vectorizer, has completed tokenization. Another version will go through the extra step of lemmatization. This process' goal is to convert words in each string to a lexical stem with the help of the word's part of speech. This can combine words whose spelling differences are a reflection of being different inflected forms of the same word, rather than words with completely different meanings. This can help to further identify underlying patterns in the data. \n",
    "\n",
    "\n",
    "The second differentiated preprocessing method for the textual data, vectorizing each of the text features into a numeric matrix, will be done in two different ways for each of the two different tokenization methods, making four different streams for each of the three columns with text. This is in order to find the best preprocessing techniques for the final deployment pipelines. To differentiate vectorization, each feature will have one version go through a TfidfVectorizer and one version through a CountVectorizer. While both vectorizers transform the column of text data into a matrix where each column becomes a unique word that appears in the entire feature's column and each row a different article with numeric values under the words that appear in that article, they differ on how that numeric value is calculated. The CountVectorizer does so by  assigning a binary value of 0 and 1 to each word, where 0 indicates that the word does not appear in the article and a 1 indicates that it does. The TfidfVectorizer, on the other hand, assigns a floating point value to each word. This value is calculated by multiplying two different frequency measures together. The first measure is the words frequency in each feature of the article, or the amount of times it occurs in that article for that feature divided by the total amount of words in that feature for that article. This is then multiplied by the second measure, the Inverse Document Frequency, or the amount of articles there are in total divided by the amount of articles that contain that word for that feature.\n",
    "\n",
    "After these preprocessing steps have occured, the class imbalance of the target variable, 'popular', is handled with SMOTE, Synthetic Minority Over-sampling Technique, resampling. This will resample the training data to include more data from the positive target class, meaning more articles that are labeled as having been featured on a top 20 most shared list will be included in order to better train the models to identify those articles. This will be done separately for each of the four distinct preprocessing methods that each of the three textual features go through. It is also the step where the fourth and final feature from the original dataset, 'word_count', is joined into this section as it is already in a numeric value that does not need any preprocessing."
   ]
  },
  {
   "cell_type": "markdown",
   "metadata": {},
   "source": [
    "### Headline"
   ]
  },
  {
   "cell_type": "markdown",
   "metadata": {},
   "source": [
    "##### TfidfVectorizer"
   ]
  },
  {
   "cell_type": "code",
   "execution_count": 15,
   "metadata": {},
   "outputs": [
    {
     "data": {
      "image/png": "[encoded data removed]",
      "text/plain": [
       "<Figure size 360x360 with 1 Axes>"
      ]
     },
     "metadata": {
      "needs_background": "light"
     },
     "output_type": "display_data"
    },
    {
     "data": {
      "image/png": "[encoded data removed]",
      "text/plain": [
       "<Figure size 360x360 with 1 Axes>"
      ]
     },
     "metadata": {
      "needs_background": "light"
     },
     "output_type": "display_data"
    }
   ],
   "source": [
    "# regular vectorizer\n",
    "headline_tf, X_train_headline_tf, X_test_headline_tf = vectorize_feature(TfidfVectorizer, \n",
    "                                                                         X_train.headline, X_test.headline)\n",
    "# smote vectorized training data\n",
    "X_train_headline_tf_sm, y_train_headline_tf_sm = smote_data(X_train_headline_tf, y_train,\n",
    "                                                            sampling_strategy='auto',random_state=0)\n",
    "\n",
    "# used later\n",
    "# vectorizor: headline_tf\n",
    "# data : X_train_headline_tf_sm, y_train_headline_tf_sm, X_test_headline_tf\n",
    "\n",
    "\n",
    "\n",
    "# tokenize and lemmatize before vectorization\n",
    "headline_tok_tf, X_train_headline_tok_tf, X_test_headline_tok_tf = tokenize_vector(TfidfVectorizer, \n",
    "                                                                                   X_train.headline, \n",
    "                                                                                   X_test.headline)\n",
    "# smote preprocessed vectorized training data\n",
    "X_train_headline_tok_tf_sm, y_train_headline_tok_tf_sm = smote_data(X_train_headline_tok_tf, y_train,\n",
    "                                                                    sampling_strategy='auto',random_state=0)\n",
    "\n",
    "# used later\n",
    "# vectorizor: headline_tok_tf\n",
    "# data : X_train_headline_tok_tf_sm, y_train_headline_tok_tf_sm, X_test_headline_tok_tf\n",
    "\n",
    "plot_top_words(headline_tf, X_train_headline_tf, 'Regular Vectorizer');\n",
    "plot_top_words(headline_tok_tf, X_train_headline_tok_tf, 'Preprocessed Vectorizer');"
   ]
  },
  {
   "cell_type": "markdown",
   "metadata": {},
   "source": [
    "##### CountVectorizer"
   ]
  },
  {
   "cell_type": "code",
   "execution_count": 16,
   "metadata": {},
   "outputs": [
    {
     "data": {
      "image/png": "[encoded data removed]",
      "text/plain": [
       "<Figure size 360x360 with 1 Axes>"
      ]
     },
     "metadata": {
      "needs_background": "light"
     },
     "output_type": "display_data"
    },
    {
     "data": {
      "image/png": "[encoded data removed]",
      "text/plain": [
       "<Figure size 360x360 with 1 Axes>"
      ]
     },
     "metadata": {
      "needs_background": "light"
     },
     "output_type": "display_data"
    }
   ],
   "source": [
    "# regular vectorizer\n",
    "headline_cv, X_train_headline_cv, X_test_headline_cv = vectorize_feature(CountVectorizer, \n",
    "                                                                         X_train.headline, X_test.headline)\n",
    "# smote vectorized training data\n",
    "X_train_headline_cv_sm, y_train_headline_cv_sm = smote_data(X_train_headline_cv, y_train, \n",
    "                                                            sampling_strategy='auto',random_state=0)\n",
    "\n",
    "# used later\n",
    "# vectorizor: headline_cv\n",
    "# data: X_train_headline_cv_sm, y_train_headline_cv_sm, X_test_headline_cv\n",
    "\n",
    "\n",
    "\n",
    "# tokenize and lemmatize before vectorization\n",
    "headline_tok_cv, X_train_headline_tok_cv, X_test_headline_tok_cv = tokenize_vector(CountVectorizer, \n",
    "                                                                                   X_train.headline, \n",
    "                                                                                   X_test.headline)\n",
    "# smote preprocessed vectorized training data\n",
    "X_train_headline_tok_cv_sm, y_train_headline_tok_cv_sm = smote_data(X_train_headline_tok_cv, y_train,\n",
    "                                                                    sampling_strategy='auto',random_state=0)\n",
    "\n",
    "# used later\n",
    "# vectorizor: headline_tok_cv\n",
    "# data: X_train_headline_tok_cv_sm, y_train_headline_tok_cv_sm, X_test_headline_tok_cv\n",
    "\n",
    "plot_top_words(headline_cv, X_train_headline_cv, 'Regular Vectorizer');\n",
    "plot_top_words(headline_tok_cv, X_train_headline_tok_cv, 'Preprocessed Vectorizer');"
   ]
  },
  {
   "cell_type": "markdown",
   "metadata": {},
   "source": [
    "### Keywords"
   ]
  },
  {
   "cell_type": "markdown",
   "metadata": {},
   "source": [
    "##### TfidfVectorizer"
   ]
  },
  {
   "cell_type": "code",
   "execution_count": 17,
   "metadata": {},
   "outputs": [
    {
     "data": {
      "image/png": "[encoded data removed]",
      "text/plain": [
       "<Figure size 360x360 with 1 Axes>"
      ]
     },
     "metadata": {
      "needs_background": "light"
     },
     "output_type": "display_data"
    },
    {
     "data": {
      "image/png": "[encoded data removed]",
      "text/plain": [
       "<Figure size 360x360 with 1 Axes>"
      ]
     },
     "metadata": {
      "needs_background": "light"
     },
     "output_type": "display_data"
    }
   ],
   "source": [
    "# regular vectorizer\n",
    "keywords_tf, X_train_keywords_tf, X_test_keywords_tf = vectorize_feature(TfidfVectorizer, \n",
    "                                                                         X_train.keywords, X_test.keywords)\n",
    "# smote vectorized training data\n",
    "X_train_keywords_tf_sm, y_train_keywords_tf_sm = smote_data(X_train_keywords_tf, y_train, \n",
    "                                                            sampling_strategy='auto',random_state=0)\n",
    "\n",
    "# used later\n",
    "# vectorizor: keywords_tf\n",
    "# data: X_train_keywords_tf_sm, y_train_keywords_tf_sm, X_test_keywords_tf\n",
    "\n",
    "\n",
    "\n",
    "# tokenize and lemmatize before vectorization\n",
    "keywords_tok_tf, X_train_keywords_tok_tf, X_test_keywords_tok_tf = tokenize_vector(TfidfVectorizer, \n",
    "                                                                                   X_train.keywords, \n",
    "                                                                                   X_test.keywords)\n",
    "# smote preprocessed vectorized training data\n",
    "X_train_keywords_tok_tf_sm, y_train_keywords_tok_tf_sm = smote_data(X_train_keywords_tok_tf, y_train, \n",
    "                                                                    sampling_strategy='auto',random_state=0)\n",
    "\n",
    "# used later\n",
    "# vectorizor: keywords_tok_tf\n",
    "# data: X_train_keywords_tok_tf_sm, y_train_keywords_tok_tf_sm, X_test_keywords_tok_tf\n",
    "\n",
    "plot_top_words(keywords_tf, X_train_keywords_tf, 'Regular Vectorizer');\n",
    "plot_top_words(keywords_tok_tf, X_train_keywords_tok_tf, 'Preprocessed Vectorizer');"
   ]
  },
  {
   "cell_type": "markdown",
   "metadata": {},
   "source": [
    "##### CountVectorizer"
   ]
  },
  {
   "cell_type": "code",
   "execution_count": 18,
   "metadata": {},
   "outputs": [
    {
     "data": {
      "image/png": "[encoded data removed]",
      "text/plain": [
       "<Figure size 360x360 with 1 Axes>"
      ]
     },
     "metadata": {
      "needs_background": "light"
     },
     "output_type": "display_data"
    },
    {
     "data": {
      "image/png": "[encoded data removed]",
      "text/plain": [
       "<Figure size 360x360 with 1 Axes>"
      ]
     },
     "metadata": {
      "needs_background": "light"
     },
     "output_type": "display_data"
    }
   ],
   "source": [
    "# regular vectorizer\n",
    "keywords_cv, X_train_keywords_cv, X_test_keywords_cv = vectorize_feature(CountVectorizer, \n",
    "                                                                         X_train.keywords, X_test.keywords)\n",
    "# smote vectorized training data\n",
    "X_train_keywords_cv_sm, y_train_keywords_cv_sm = smote_data(X_train_keywords_cv, y_train, \n",
    "                                                            sampling_strategy='auto',random_state=0)\n",
    "\n",
    "# used later\n",
    "# vectorizor: keywords_cv\n",
    "# data: X_train_keywords_cv_sm, y_train_keywords_cv_sm, X_test_keywords_cv\n",
    "\n",
    "\n",
    "\n",
    "# tokenize and lemmatize before vectorization\n",
    "keywords_tok_cv, X_train_keywords_tok_cv, X_test_keywords_tok_cv = tokenize_vector(CountVectorizer, \n",
    "                                                                                   X_train.keywords, \n",
    "                                                                                   X_test.keywords)\n",
    "# smote preprocessed vectorized training data\n",
    "X_train_keywords_tok_cv_sm, y_train_keywords_tok_cv_sm = smote_data(X_train_keywords_tok_cv, y_train, \n",
    "                                                                    sampling_strategy='auto',random_state=0)\n",
    "\n",
    "# used later\n",
    "# vectorizor: keywords_tok_cv\n",
    "# data: X_train_keywords_tok_cv_sm, y_train_keywords_tok_cv_sm, X_test_keywords_tok_cv\n",
    "\n",
    "plot_top_words(keywords_cv, X_train_keywords_cv, 'Regular Vectorizer');\n",
    "plot_top_words(keywords_tok_cv, X_train_keywords_tok_cv, 'Preprocessed Vectorizer');"
   ]
  },
  {
   "cell_type": "markdown",
   "metadata": {},
   "source": [
    "### Snippet"
   ]
  },
  {
   "cell_type": "markdown",
   "metadata": {},
   "source": [
    "##### TfidfVectorizer"
   ]
  },
  {
   "cell_type": "code",
   "execution_count": 19,
   "metadata": {},
   "outputs": [
    {
     "data": {
      "image/png": "[encoded data removed]",
      "text/plain": [
       "<Figure size 360x360 with 1 Axes>"
      ]
     },
     "metadata": {
      "needs_background": "light"
     },
     "output_type": "display_data"
    },
    {
     "data": {
      "image/png": "[encoded data removed]",
      "text/plain": [
       "<Figure size 360x360 with 1 Axes>"
      ]
     },
     "metadata": {
      "needs_background": "light"
     },
     "output_type": "display_data"
    }
   ],
   "source": [
    "# regular vectorizer\n",
    "snippet_tf, X_train_snippet_tf, X_test_snippet_tf = vectorize_feature(TfidfVectorizer, \n",
    "                                                                         X_train.snippet, X_test.snippet)\n",
    "# smote vectorized training data\n",
    "X_train_snippet_tf_sm, y_train_snippet_tf_sm = smote_data(X_train_snippet_tf, y_train, \n",
    "                                                          sampling_strategy='auto',random_state=0)\n",
    "\n",
    "# used later\n",
    "# vectorizor: snippet_tf\n",
    "# data: X_train_snippet_tf_sm, y_train_snippet_tf_sm, X_test_snippet_tf\n",
    "\n",
    "\n",
    "\n",
    "# tokenize and lemmatize before vectorization\n",
    "snippet_tok_tf, X_train_snippet_tok_tf, X_test_snippet_tok_tf = tokenize_vector(TfidfVectorizer, \n",
    "                                                                                X_train.snippet, \n",
    "                                                                                X_test.snippet)\n",
    "# smote preprocessed vectorized training data\n",
    "X_train_snippet_tok_tf_sm, y_train_snippet_tok_tf_sm = smote_data(X_train_snippet_tok_tf, y_train, \n",
    "                                                                  sampling_strategy='auto',random_state=0)\n",
    "\n",
    "# used later\n",
    "# vectorizor: snippet_tok_tf\n",
    "# data: X_train_snippet_tok_tf_sm, y_train_snippet_tok_tf_sm, X_test_snippet_tok_tf\n",
    "\n",
    "plot_top_words(snippet_tf, X_train_snippet_tf, 'Regular Vectorizer');\n",
    "plot_top_words(snippet_tok_tf, X_train_snippet_tok_tf, 'Preprocessed Vectorizer');"
   ]
  },
  {
   "cell_type": "markdown",
   "metadata": {},
   "source": [
    "##### CountVectorizer"
   ]
  },
  {
   "cell_type": "code",
   "execution_count": 20,
   "metadata": {},
   "outputs": [
    {
     "data": {
      "image/png": "[encoded data removed]",
      "text/plain": [
       "<Figure size 360x360 with 1 Axes>"
      ]
     },
     "metadata": {
      "needs_background": "light"
     },
     "output_type": "display_data"
    },
    {
     "data": {
      "image/png": "[encoded data removed]",
      "text/plain": [
       "<Figure size 360x360 with 1 Axes>"
      ]
     },
     "metadata": {
      "needs_background": "light"
     },
     "output_type": "display_data"
    }
   ],
   "source": [
    "# regular vectorizer\n",
    "snippet_cv, X_train_snippet_cv, X_test_snippet_cv = vectorize_feature(CountVectorizer,\n",
    "                                                                      X_train.snippet, X_test.snippet)\n",
    "# smote vectorized training data\n",
    "X_train_snippet_cv_sm, y_train_snippet_cv_sm = smote_data(X_train_snippet_cv, y_train, \n",
    "                                                          sampling_strategy='auto', random_state=0)\n",
    "# used later\n",
    "# vectorizor: snippet_cv\n",
    "# data: X_train_snippet_cv_sm, y_train_snippet_cv_sm, X_test_snippet_cv\n",
    "\n",
    "\n",
    "\n",
    "# tokenize and lemmatize before vectorization\n",
    "snippet_tok_cv, X_train_snippet_tok_cv, X_test_snippet_tok_cv = tokenize_vector(CountVectorizer, \n",
    "                                                                                X_train.snippet, \n",
    "                                                                                X_test.snippet)\n",
    "# smote preprocessed vectorized training data\n",
    "X_train_snippet_tok_cv_sm, y_train_snippet_tok_cv_sm = smote_data(X_train_snippet_tok_cv, y_train, \n",
    "                                                                  sampling_strategy='auto', random_state=0)\n",
    "# used later\n",
    "# vectorizor: snippet_tok_cv\n",
    "# data: X_train_snippet_tok_cv_sm, y_train_snippet_tok_cv_sm, X_test_snippet_tok_cv\n",
    "\n",
    "# plot \n",
    "plot_top_words(snippet_cv, X_train_snippet_cv, 'Regular Vectorizer');\n",
    "plot_top_words(snippet_tok_cv, X_train_snippet_tok_cv, 'Preprocessed Vectorizer');"
   ]
  },
  {
   "cell_type": "markdown",
   "metadata": {},
   "source": [
    "### Word Count"
   ]
  },
  {
   "cell_type": "code",
   "execution_count": 21,
   "metadata": {},
   "outputs": [],
   "source": [
    "# smote the word_count data\n",
    "X_train_word_count_sm, y_train_word_count_sm = smote_data(X_train.word_count.values.reshape(-1, 1), \n",
    "                                                          y_train, sampling_strategy='auto',\n",
    "                                                          random_state=0)"
   ]
  },
  {
   "cell_type": "markdown",
   "metadata": {},
   "source": [
    "## Model Training - Text"
   ]
  },
  {
   "cell_type": "code",
   "execution_count": 22,
   "metadata": {},
   "outputs": [],
   "source": [
    "# function to run a random forrest \n",
    "# returns the model and a list of proabilities \n",
    "def random_forrest_proba(X_train, y_train, X_test, y_test):\n",
    "    \n",
    "    # initiate random forrest and search grid for number of trees in forrest\n",
    "    forrest = RandomForestClassifier(random_state=0)\n",
    "    grid = {'n_estimators': [50,75,100]}\n",
    "    \n",
    "    # create grid search and fit model with training data\n",
    "    gs = GridSearchCV(estimator=forrest, param_grid=grid, cv=5, scoring='accuracy')\n",
    "    gs.fit(X_train, y_train)\n",
    "    \n",
    "    # store predicted probabilities that article is a popular article in a list \n",
    "    class_probability = gs.predict_proba(X_test)\n",
    "    target_probability = [x[1] for x in class_probability]\n",
    "    \n",
    "    # print model accuracy \n",
    "    score = gs.score(X_test, y_test)\n",
    "    print(f'mean accuracy: {score}')\n",
    "    \n",
    "    # plot an ROC curve \n",
    "    fig, ax = plt.subplots()\n",
    "    plt.title('ROC Curve')\n",
    "    plot_roc_curve(gs, X_train, y_train, name='Train', ax=ax)\n",
    "    plot_roc_curve(gs, X_test, y_test, name='Test', ax=ax)\n",
    "    \n",
    "    # plot confusion matrix\n",
    "    plot_confusion_matrix(gs, X_test, y_test)\n",
    "    \n",
    "    return gs, target_probability"
   ]
  },
  {
   "cell_type": "code",
   "execution_count": 23,
   "metadata": {},
   "outputs": [],
   "source": [
    "# function to run a random forrest \n",
    "# returns the model and a list of class labels \n",
    "def random_forrest_class(X_train, y_train, X_test, y_test):\n",
    "    \n",
    "    # initiate random forrest and search grid for number of trees in forrest\n",
    "    forrest = RandomForestClassifier(random_state=0)\n",
    "    grid = {'n_estimators': [50,75,100]}\n",
    "    \n",
    "    # create grid search and fit model with training data\n",
    "    gs = GridSearchCV(estimator=forrest, param_grid=grid, cv=5, scoring='accuracy')\n",
    "    gs.fit(X_train, y_train)\n",
    "    \n",
    "    # store predicted class labels in list \n",
    "    class_prediction = gs.predict(X_test)\n",
    "    \n",
    "    # print model accuracy\n",
    "    score = gs.score(X_test, y_test)\n",
    "    print(f'mean accuracy: {score}')\n",
    "    \n",
    "    # plot an ROC curve\n",
    "    fig, ax = plt.subplots()\n",
    "    plt.title('ROC Curve')\n",
    "    plot_roc_curve(gs, X_train, y_train, name='Train', ax=ax)\n",
    "    plot_roc_curve(gs, X_test, y_test, name='Test', ax=ax)\n",
    "    \n",
    "    # plot confusion matrix\n",
    "    plot_confusion_matrix(gs, X_test, y_test)\n",
    "    \n",
    "    return gs, class_prediction"
   ]
  },
  {
   "cell_type": "markdown",
   "metadata": {},
   "source": [
    "### Headline"
   ]
  },
  {
   "cell_type": "markdown",
   "metadata": {},
   "source": [
    "##### Predict Probability after TfidfVectorizer"
   ]
  },
  {
   "cell_type": "code",
   "execution_count": 24,
   "metadata": {},
   "outputs": [
    {
     "name": "stdout",
     "output_type": "stream",
     "text": [
      "mean accuracy: 0.9791262135922331\n",
      "number of probabilities: 2060\n",
      "\n"
     ]
    },
    {
     "data": {
      "image/png": "[encoded data removed]",
      "text/plain": [
       "<Figure size 432x288 with 1 Axes>"
      ]
     },
     "metadata": {
      "needs_background": "light"
     },
     "output_type": "display_data"
    },
    {
     "data": {
      "image/png": "[encoded data removed]",
      "text/plain": [
       "<Figure size 432x288 with 2 Axes>"
      ]
     },
     "metadata": {
      "needs_background": "light"
     },
     "output_type": "display_data"
    }
   ],
   "source": [
    "# run random forrest\n",
    "headline_proba_rf, headline_proba = random_forrest_proba(X_train_headline_tf_sm, y_train_headline_tf_sm, \n",
    "                                                         X_test_headline_tf, y_test)\n",
    "# check output length for rejoining of data\n",
    "print(f'number of probabilities: {len(headline_proba)}')\n",
    "print()"
   ]
  },
  {
   "cell_type": "markdown",
   "metadata": {},
   "source": [
    "##### Predict Probability after Preprocessed TfidfVectorizer"
   ]
  },
  {
   "cell_type": "code",
   "execution_count": 25,
   "metadata": {},
   "outputs": [
    {
     "name": "stdout",
     "output_type": "stream",
     "text": [
      "mean accuracy: 0.9786407766990292\n",
      "number of probabilities: 2060\n",
      "\n"
     ]
    },
    {
     "data": {
      "image/png": "[encoded data removed]",
      "text/plain": [
       "<Figure size 432x288 with 1 Axes>"
      ]
     },
     "metadata": {
      "needs_background": "light"
     },
     "output_type": "display_data"
    },
    {
     "data": {
      "image/png": "[encoded data removed]",
      "text/plain": [
       "<Figure size 432x288 with 2 Axes>"
      ]
     },
     "metadata": {
      "needs_background": "light"
     },
     "output_type": "display_data"
    }
   ],
   "source": [
    "# run random forrest\n",
    "headline_proba_rf_tok, headline_proba_tok = random_forrest_proba(X_train_headline_tok_tf_sm, \n",
    "                                                                 y_train_headline_tok_tf_sm,\n",
    "                                                                 X_test_headline_tok_tf, y_test)\n",
    "# check output length for rejoining of data\n",
    "print(f'number of probabilities: {len(headline_proba_tok)}')\n",
    "print()"
   ]
  },
  {
   "cell_type": "markdown",
   "metadata": {},
   "source": [
    "##### Predict Class after CountVectorizer"
   ]
  },
  {
   "cell_type": "code",
   "execution_count": 26,
   "metadata": {},
   "outputs": [
    {
     "name": "stdout",
     "output_type": "stream",
     "text": [
      "mean accuracy: 0.8111650485436893\n",
      "number of class predictions: 2060\n",
      "\n"
     ]
    },
    {
     "data": {
      "image/png": "[encoded data removed]",
      "text/plain": [
       "<Figure size 432x288 with 1 Axes>"
      ]
     },
     "metadata": {
      "needs_background": "light"
     },
     "output_type": "display_data"
    },
    {
     "data": {
      "image/png": "[encoded data removed]",
      "text/plain": [
       "<Figure size 432x288 with 2 Axes>"
      ]
     },
     "metadata": {
      "needs_background": "light"
     },
     "output_type": "display_data"
    }
   ],
   "source": [
    "# run random forrest\n",
    "headline_class_rf, headline_class = random_forrest_class(X_train_headline_cv_sm, y_train_headline_cv_sm, \n",
    "                                                         X_test_headline_cv, y_test)\n",
    "# check output length for rejoining of data\n",
    "print(f'number of class predictions: {len(headline_class)}')\n",
    "print()"
   ]
  },
  {
   "cell_type": "markdown",
   "metadata": {},
   "source": [
    "##### Predict Class after Preprocessed CountVectorizer"
   ]
  },
  {
   "cell_type": "code",
   "execution_count": 27,
   "metadata": {},
   "outputs": [
    {
     "name": "stdout",
     "output_type": "stream",
     "text": [
      "mean accuracy: 0.7252427184466019\n",
      "number of class predictions: 2060\n",
      "\n"
     ]
    },
    {
     "data": {
      "image/png": "[encoded data removed]",
      "text/plain": [
       "<Figure size 432x288 with 1 Axes>"
      ]
     },
     "metadata": {
      "needs_background": "light"
     },
     "output_type": "display_data"
    },
    {
     "data": {
      "image/png": "[encoded data removed]",
      "text/plain": [
       "<Figure size 432x288 with 2 Axes>"
      ]
     },
     "metadata": {
      "needs_background": "light"
     },
     "output_type": "display_data"
    }
   ],
   "source": [
    "# run random forrest\n",
    "headline_class_rf_tok, headline_class_tok = random_forrest_class(X_train_headline_tok_cv_sm, \n",
    "                                                                 y_train_headline_tok_cv_sm,\n",
    "                                                                 X_test_headline_tok_cv, y_test)\n",
    "# check output length for rejoining of data\n",
    "print(f'number of class predictions: {len(headline_class_tok)}')\n",
    "print()"
   ]
  },
  {
   "cell_type": "markdown",
   "metadata": {},
   "source": [
    "### Keywords"
   ]
  },
  {
   "cell_type": "markdown",
   "metadata": {},
   "source": [
    "##### Predict Probability after TfidfVectorizer"
   ]
  },
  {
   "cell_type": "code",
   "execution_count": 28,
   "metadata": {},
   "outputs": [
    {
     "name": "stdout",
     "output_type": "stream",
     "text": [
      "mean accuracy: 0.9796116504854369\n",
      "number of probabilities: 2060\n",
      "\n"
     ]
    },
    {
     "data": {
      "image/png": "[encoded data removed]",
      "text/plain": [
       "<Figure size 432x288 with 1 Axes>"
      ]
     },
     "metadata": {
      "needs_background": "light"
     },
     "output_type": "display_data"
    },
    {
     "data": {
      "image/png": "[encoded data removed]",
      "text/plain": [
       "<Figure size 432x288 with 2 Axes>"
      ]
     },
     "metadata": {
      "needs_background": "light"
     },
     "output_type": "display_data"
    }
   ],
   "source": [
    "# run random forrest\n",
    "keywords_proba_rf, keywords_proba = random_forrest_proba(X_train_keywords_tf_sm, y_train_keywords_tf_sm, \n",
    "                                                         X_test_keywords_tf, y_test)\n",
    "# check output length for rejoining of data\n",
    "print(f'number of probabilities: {len(keywords_proba)}')\n",
    "print()"
   ]
  },
  {
   "cell_type": "markdown",
   "metadata": {},
   "source": [
    "##### Predict Probability after Preprocessed TfidfVectorizer"
   ]
  },
  {
   "cell_type": "code",
   "execution_count": 29,
   "metadata": {},
   "outputs": [
    {
     "name": "stdout",
     "output_type": "stream",
     "text": [
      "mean accuracy: 0.9796116504854369\n",
      "number of probabilities: 2060\n",
      "\n"
     ]
    },
    {
     "data": {
      "image/png": "[encoded data removed]",
      "text/plain": [
       "<Figure size 432x288 with 1 Axes>"
      ]
     },
     "metadata": {
      "needs_background": "light"
     },
     "output_type": "display_data"
    },
    {
     "data": {
      "image/png": "[encoded data removed]",
      "text/plain": [
       "<Figure size 432x288 with 2 Axes>"
      ]
     },
     "metadata": {
      "needs_background": "light"
     },
     "output_type": "display_data"
    }
   ],
   "source": [
    "# run random forrest\n",
    "keywords_proba_rf_tok, keywords_proba_tok = random_forrest_proba(X_train_keywords_tok_tf_sm, \n",
    "                                                                 y_train_keywords_tok_tf_sm, \n",
    "                                                                 X_test_keywords_tok_tf, y_test)\n",
    "# check output length for rejoining of data\n",
    "print(f'number of probabilities: {len(keywords_proba_tok)}')\n",
    "print()"
   ]
  },
  {
   "cell_type": "markdown",
   "metadata": {},
   "source": [
    "##### Predict Class after CountVectorizer"
   ]
  },
  {
   "cell_type": "code",
   "execution_count": 30,
   "metadata": {},
   "outputs": [
    {
     "name": "stdout",
     "output_type": "stream",
     "text": [
      "mean accuracy: 0.820873786407767\n",
      "number of class predictions: 2060\n",
      "\n"
     ]
    },
    {
     "data": {
      "image/png": "[encoded data removed]",
      "text/plain": [
       "<Figure size 432x288 with 1 Axes>"
      ]
     },
     "metadata": {
      "needs_background": "light"
     },
     "output_type": "display_data"
    },
    {
     "data": {
      "image/png": "[encoded data removed]",
      "text/plain": [
       "<Figure size 432x288 with 2 Axes>"
      ]
     },
     "metadata": {
      "needs_background": "light"
     },
     "output_type": "display_data"
    }
   ],
   "source": [
    "# run random forrest\n",
    "keywords_class_rf, keywords_class = random_forrest_class(X_train_keywords_cv_sm, y_train_keywords_cv_sm, \n",
    "                                                         X_test_keywords_cv, y_test)\n",
    "# check output length for rejoining of data\n",
    "print(f'number of class predictions: {len(keywords_class)}')\n",
    "print()"
   ]
  },
  {
   "cell_type": "markdown",
   "metadata": {},
   "source": [
    "##### Predict Class after Preprocessed CountVectorizer"
   ]
  },
  {
   "cell_type": "code",
   "execution_count": 31,
   "metadata": {},
   "outputs": [
    {
     "name": "stdout",
     "output_type": "stream",
     "text": [
      "mean accuracy: 0.7611650485436893\n",
      "number of class predictions: 2060\n",
      "\n"
     ]
    },
    {
     "data": {
      "image/png": "[encoded data removed]",
      "text/plain": [
       "<Figure size 432x288 with 1 Axes>"
      ]
     },
     "metadata": {
      "needs_background": "light"
     },
     "output_type": "display_data"
    },
    {
     "data": {
      "image/png": "[encoded data removed]",
      "text/plain": [
       "<Figure size 432x288 with 2 Axes>"
      ]
     },
     "metadata": {
      "needs_background": "light"
     },
     "output_type": "display_data"
    }
   ],
   "source": [
    "# run random forrest\n",
    "keywords_class_rf_tok, keywords_class_tok = random_forrest_class(X_train_keywords_tok_cv_sm, \n",
    "                                                                 y_train_keywords_tok_cv_sm, \n",
    "                                                                 X_test_keywords_tok_cv, y_test)\n",
    "# check output length for rejoining of data\n",
    "print(f'number of class predictions: {len(keywords_class_tok)}')\n",
    "print()"
   ]
  },
  {
   "cell_type": "markdown",
   "metadata": {},
   "source": [
    "### Snippet "
   ]
  },
  {
   "cell_type": "markdown",
   "metadata": {},
   "source": [
    "##### Predict Probability after TfidfVectorizer"
   ]
  },
  {
   "cell_type": "code",
   "execution_count": 32,
   "metadata": {},
   "outputs": [
    {
     "name": "stdout",
     "output_type": "stream",
     "text": [
      "mean accuracy: 0.9796116504854369\n",
      "number of probabilities: 2060\n",
      "\n"
     ]
    },
    {
     "data": {
      "image/png": "[encoded data removed]",
      "text/plain": [
       "<Figure size 432x288 with 1 Axes>"
      ]
     },
     "metadata": {
      "needs_background": "light"
     },
     "output_type": "display_data"
    },
    {
     "data": {
      "image/png": "[encoded data removed]",
      "text/plain": [
       "<Figure size 432x288 with 2 Axes>"
      ]
     },
     "metadata": {
      "needs_background": "light"
     },
     "output_type": "display_data"
    }
   ],
   "source": [
    "# run random forrest\n",
    "snippet_proba_rf, snippet_proba = random_forrest_proba(X_train_snippet_tf_sm, y_train_snippet_tf_sm, \n",
    "                                                       X_test_snippet_tf, y_test)\n",
    "# check output length for rejoining of data\n",
    "print(f'number of probabilities: {len(snippet_proba)}')\n",
    "print()"
   ]
  },
  {
   "cell_type": "markdown",
   "metadata": {},
   "source": [
    "##### Predict Probability after Preprocessed TfidfVectorizer"
   ]
  },
  {
   "cell_type": "code",
   "execution_count": 33,
   "metadata": {},
   "outputs": [
    {
     "name": "stdout",
     "output_type": "stream",
     "text": [
      "mean accuracy: 0.9796116504854369\n",
      "number of probabilities: 2060\n",
      "\n"
     ]
    },
    {
     "data": {
      "image/png": "[encoded data removed]",
      "text/plain": [
       "<Figure size 432x288 with 1 Axes>"
      ]
     },
     "metadata": {
      "needs_background": "light"
     },
     "output_type": "display_data"
    },
    {
     "data": {
      "image/png": "[encoded data removed]",
      "text/plain": [
       "<Figure size 432x288 with 2 Axes>"
      ]
     },
     "metadata": {
      "needs_background": "light"
     },
     "output_type": "display_data"
    }
   ],
   "source": [
    "# run random forrest\n",
    "snippet_proba_rf_tok, snippet_proba_tok = random_forrest_proba(X_train_snippet_tok_tf_sm, \n",
    "                                                               y_train_snippet_tok_tf_sm,\n",
    "                                                               X_test_snippet_tok_tf, y_test)\n",
    "# check output length for rejoining of data\n",
    "print(f'number of probabilities: {len(snippet_proba_tok)}')\n",
    "print()"
   ]
  },
  {
   "cell_type": "markdown",
   "metadata": {},
   "source": [
    "##### Predict Class after CountVectorizer"
   ]
  },
  {
   "cell_type": "code",
   "execution_count": 34,
   "metadata": {},
   "outputs": [
    {
     "name": "stdout",
     "output_type": "stream",
     "text": [
      "mean accuracy: 0.8825242718446602\n",
      "number of class predictions: 2060\n",
      "\n"
     ]
    },
    {
     "data": {
      "image/png": "[encoded data removed]",
      "text/plain": [
       "<Figure size 432x288 with 1 Axes>"
      ]
     },
     "metadata": {
      "needs_background": "light"
     },
     "output_type": "display_data"
    },
    {
     "data": {
      "image/png": "[encoded data removed]",
      "text/plain": [
       "<Figure size 432x288 with 2 Axes>"
      ]
     },
     "metadata": {
      "needs_background": "light"
     },
     "output_type": "display_data"
    }
   ],
   "source": [
    "# run random forrest\n",
    "snippet_class_rf, snippet_class = random_forrest_class(X_train_snippet_cv_sm, y_train_snippet_cv_sm, \n",
    "                                                       X_test_snippet_cv, y_test)\n",
    "# check output length for rejoining of data\n",
    "print(f'number of class predictions: {len(snippet_class)}')\n",
    "print()"
   ]
  },
  {
   "cell_type": "markdown",
   "metadata": {},
   "source": [
    "##### Predict Class after Preprocessed CountVectorizer"
   ]
  },
  {
   "cell_type": "code",
   "execution_count": 35,
   "metadata": {},
   "outputs": [
    {
     "name": "stdout",
     "output_type": "stream",
     "text": [
      "mean accuracy: 0.8325242718446602\n",
      "number of class predictions: 2060\n",
      "\n"
     ]
    },
    {
     "data": {
      "image/png": "[encoded data removed]",
      "text/plain": [
       "<Figure size 432x288 with 1 Axes>"
      ]
     },
     "metadata": {
      "needs_background": "light"
     },
     "output_type": "display_data"
    },
    {
     "data": {
      "image/png": "[encoded data removed]",
      "text/plain": [
       "<Figure size 432x288 with 2 Axes>"
      ]
     },
     "metadata": {
      "needs_background": "light"
     },
     "output_type": "display_data"
    }
   ],
   "source": [
    "# run random forrest\n",
    "snippet_class_rf_tok, snippet_class_tok = random_forrest_class(X_train_snippet_tok_cv_sm, \n",
    "                                                               y_train_snippet_tok_cv_sm,\n",
    "                                                               X_test_snippet_tok_cv, y_test)\n",
    "# check output length for rejoining of data\n",
    "print(f'number of class predictions: {len(snippet_class_tok)}')\n",
    "print()"
   ]
  },
  {
   "cell_type": "markdown",
   "metadata": {},
   "source": [
    "## Model Training - Numeric"
   ]
  },
  {
   "cell_type": "markdown",
   "metadata": {},
   "source": [
    "### Word Count"
   ]
  },
  {
   "cell_type": "code",
   "execution_count": 36,
   "metadata": {},
   "outputs": [],
   "source": [
    "# function to run a logistic regression \n",
    "# returns the model, a list of proabilities, and a list of class labels \n",
    "def log_regression_word_count(X_train, y_train, X_test, y_test):\n",
    "    \n",
    "    # initiate logsitic regression and fit with training data \n",
    "    clf = LogisticRegression(random_state=0)\n",
    "    clf.fit(X_train, y_train)\n",
    "    \n",
    "    # store predicted class labels in list \n",
    "    class_prediction = clf.predict(X_test.values.reshape(-1, 1))\n",
    "    \n",
    "    # store predicted probabilities that article is a popular article in a list\n",
    "    probabilities = clf.predict_proba(X_test.values.reshape(-1, 1))\n",
    "    probabilities = [x[1] for x in probabilities]\n",
    "    \n",
    "    # print model accuracy\n",
    "    score = clf.score(X_test.values.reshape(-1, 1), y_test)\n",
    "    print(f'mean accuracy: {score}')\n",
    "    \n",
    "    # plot an ROC curve\n",
    "    fig, ax = plt.subplots()\n",
    "    plt.title('ROC Curve')\n",
    "    plot_roc_curve(clf, X_train, y_train, name='Train', ax=ax)\n",
    "    plot_roc_curve(clf, X_test.values.reshape(-1, 1), y_test, name='Test', ax=ax);\n",
    "    \n",
    "    # plot confusion matrix\n",
    "    plot_confusion_matrix(clf, X_test.values.reshape(-1, 1), y_test)\n",
    "    \n",
    "    return clf, probabilities, class_prediction"
   ]
  },
  {
   "cell_type": "code",
   "execution_count": 37,
   "metadata": {},
   "outputs": [
    {
     "name": "stdout",
     "output_type": "stream",
     "text": [
      "mean accuracy: 0.5490291262135922\n",
      "number of probabilities: 2060\n",
      "number of class predictions: 2060\n",
      "\n"
     ]
    },
    {
     "data": {
      "image/png": "[encoded data removed]",
      "text/plain": [
       "<Figure size 432x288 with 1 Axes>"
      ]
     },
     "metadata": {
      "needs_background": "light"
     },
     "output_type": "display_data"
    },
    {
     "data": {
      "image/png": "[encoded data removed]",
      "text/plain": [
       "<Figure size 432x288 with 2 Axes>"
      ]
     },
     "metadata": {
      "needs_background": "light"
     },
     "output_type": "display_data"
    }
   ],
   "source": [
    "# run logistic regression\n",
    "word_count_log_reg, word_count_proba, word_count_class = log_regression_word_count(X_train_word_count_sm, \n",
    "                                                                                   y_train_word_count_sm, \n",
    "                                                                                   X_test.word_count, y_test)\n",
    "# check output length for rejoining of data\n",
    "print(f'number of probabilities: {len(word_count_proba)}')\n",
    "print(f'number of class predictions: {len(word_count_class)}')\n",
    "print()"
   ]
  },
  {
   "cell_type": "markdown",
   "metadata": {},
   "source": [
    "## Cumulative Model "
   ]
  },
  {
   "cell_type": "markdown",
   "metadata": {},
   "source": [
    "### Cleaning "
   ]
  },
  {
   "cell_type": "markdown",
   "metadata": {},
   "source": [
    "##### Proability Data"
   ]
  },
  {
   "cell_type": "code",
   "execution_count": 38,
   "metadata": {},
   "outputs": [],
   "source": [
    "df_predict_proba = pd.DataFrame({'headline_prob': headline_proba, \n",
    "                                 'keywords_prob': keywords_proba, \n",
    "                                 'snippet_prob': snippet_proba_tok, \n",
    "                                 'word_count_prob': word_count_proba})"
   ]
  },
  {
   "cell_type": "code",
   "execution_count": 39,
   "metadata": {},
   "outputs": [
    {
     "data": {
      "text/html": [
       "<div>\n",
       "<style scoped>\n",
       "    .dataframe tbody tr th:only-of-type {\n",
       "        vertical-align: middle;\n",
       "    }\n",
       "\n",
       "    .dataframe tbody tr th {\n",
       "        vertical-align: top;\n",
       "    }\n",
       "\n",
       "    .dataframe thead th {\n",
       "        text-align: right;\n",
       "    }\n",
       "</style>\n",
       "<table border=\"1\" class=\"dataframe\">\n",
       "  <thead>\n",
       "    <tr style=\"text-align: right;\">\n",
       "      <th></th>\n",
       "      <th>headline_prob</th>\n",
       "      <th>keywords_prob</th>\n",
       "      <th>snippet_prob</th>\n",
       "      <th>word_count_prob</th>\n",
       "    </tr>\n",
       "  </thead>\n",
       "  <tbody>\n",
       "    <tr>\n",
       "      <th>0</th>\n",
       "      <td>0.000000</td>\n",
       "      <td>0.00</td>\n",
       "      <td>0.000000</td>\n",
       "      <td>0.520067</td>\n",
       "    </tr>\n",
       "    <tr>\n",
       "      <th>1</th>\n",
       "      <td>0.000000</td>\n",
       "      <td>0.00</td>\n",
       "      <td>0.000000</td>\n",
       "      <td>0.490251</td>\n",
       "    </tr>\n",
       "    <tr>\n",
       "      <th>2</th>\n",
       "      <td>0.146667</td>\n",
       "      <td>0.05</td>\n",
       "      <td>0.040000</td>\n",
       "      <td>0.504302</td>\n",
       "    </tr>\n",
       "    <tr>\n",
       "      <th>3</th>\n",
       "      <td>0.066667</td>\n",
       "      <td>0.02</td>\n",
       "      <td>0.146667</td>\n",
       "      <td>0.461076</td>\n",
       "    </tr>\n",
       "    <tr>\n",
       "      <th>4</th>\n",
       "      <td>0.000000</td>\n",
       "      <td>0.00</td>\n",
       "      <td>0.000000</td>\n",
       "      <td>0.493429</td>\n",
       "    </tr>\n",
       "  </tbody>\n",
       "</table>\n",
       "</div>"
      ],
      "text/plain": [
       "   headline_prob  keywords_prob  snippet_prob  word_count_prob\n",
       "0       0.000000           0.00      0.000000         0.520067\n",
       "1       0.000000           0.00      0.000000         0.490251\n",
       "2       0.146667           0.05      0.040000         0.504302\n",
       "3       0.066667           0.02      0.146667         0.461076\n",
       "4       0.000000           0.00      0.000000         0.493429"
      ]
     },
     "execution_count": 39,
     "metadata": {},
     "output_type": "execute_result"
    }
   ],
   "source": [
    "df_predict_proba.head()"
   ]
  },
  {
   "cell_type": "code",
   "execution_count": 40,
   "metadata": {},
   "outputs": [],
   "source": [
    "scaler = StandardScaler()"
   ]
  },
  {
   "cell_type": "code",
   "execution_count": 41,
   "metadata": {},
   "outputs": [],
   "source": [
    "df_predict_proba.iloc[:,:] = scaler.fit_transform(df_predict_proba.iloc[:,:].to_numpy())"
   ]
  },
  {
   "cell_type": "code",
   "execution_count": 42,
   "metadata": {},
   "outputs": [
    {
     "data": {
      "text/html": [
       "<div>\n",
       "<style scoped>\n",
       "    .dataframe tbody tr th:only-of-type {\n",
       "        vertical-align: middle;\n",
       "    }\n",
       "\n",
       "    .dataframe tbody tr th {\n",
       "        vertical-align: top;\n",
       "    }\n",
       "\n",
       "    .dataframe thead th {\n",
       "        text-align: right;\n",
       "    }\n",
       "</style>\n",
       "<table border=\"1\" class=\"dataframe\">\n",
       "  <thead>\n",
       "    <tr style=\"text-align: right;\">\n",
       "      <th></th>\n",
       "      <th>headline_prob</th>\n",
       "      <th>keywords_prob</th>\n",
       "      <th>snippet_prob</th>\n",
       "      <th>word_count_prob</th>\n",
       "    </tr>\n",
       "  </thead>\n",
       "  <tbody>\n",
       "    <tr>\n",
       "      <th>0</th>\n",
       "      <td>-0.521152</td>\n",
       "      <td>-0.576261</td>\n",
       "      <td>-0.736522</td>\n",
       "      <td>0.841658</td>\n",
       "    </tr>\n",
       "    <tr>\n",
       "      <th>1</th>\n",
       "      <td>-0.521152</td>\n",
       "      <td>-0.576261</td>\n",
       "      <td>-0.736522</td>\n",
       "      <td>-0.320010</td>\n",
       "    </tr>\n",
       "    <tr>\n",
       "      <th>2</th>\n",
       "      <td>2.321041</td>\n",
       "      <td>0.434379</td>\n",
       "      <td>0.496001</td>\n",
       "      <td>0.227440</td>\n",
       "    </tr>\n",
       "    <tr>\n",
       "      <th>3</th>\n",
       "      <td>0.770754</td>\n",
       "      <td>-0.172005</td>\n",
       "      <td>3.782729</td>\n",
       "      <td>-1.456741</td>\n",
       "    </tr>\n",
       "    <tr>\n",
       "      <th>4</th>\n",
       "      <td>-0.521152</td>\n",
       "      <td>-0.576261</td>\n",
       "      <td>-0.736522</td>\n",
       "      <td>-0.196221</td>\n",
       "    </tr>\n",
       "  </tbody>\n",
       "</table>\n",
       "</div>"
      ],
      "text/plain": [
       "   headline_prob  keywords_prob  snippet_prob  word_count_prob\n",
       "0      -0.521152      -0.576261     -0.736522         0.841658\n",
       "1      -0.521152      -0.576261     -0.736522        -0.320010\n",
       "2       2.321041       0.434379      0.496001         0.227440\n",
       "3       0.770754      -0.172005      3.782729        -1.456741\n",
       "4      -0.521152      -0.576261     -0.736522        -0.196221"
      ]
     },
     "execution_count": 42,
     "metadata": {},
     "output_type": "execute_result"
    }
   ],
   "source": [
    "df_predict_proba.head()"
   ]
  },
  {
   "cell_type": "code",
   "execution_count": 43,
   "metadata": {},
   "outputs": [
    {
     "name": "stdout",
     "output_type": "stream",
     "text": [
      "<class 'pandas.core.frame.DataFrame'>\n",
      "RangeIndex: 2060 entries, 0 to 2059\n",
      "Data columns (total 4 columns):\n",
      " #   Column           Non-Null Count  Dtype  \n",
      "---  ------           --------------  -----  \n",
      " 0   headline_prob    2060 non-null   float64\n",
      " 1   keywords_prob    2060 non-null   float64\n",
      " 2   snippet_prob     2060 non-null   float64\n",
      " 3   word_count_prob  2060 non-null   float64\n",
      "dtypes: float64(4)\n",
      "memory usage: 64.5 KB\n"
     ]
    }
   ],
   "source": [
    "df_predict_proba.info()"
   ]
  },
  {
   "cell_type": "markdown",
   "metadata": {},
   "source": [
    "<br>\n",
    "\n",
    "##### Class Labeled Data "
   ]
  },
  {
   "cell_type": "code",
   "execution_count": 44,
   "metadata": {},
   "outputs": [],
   "source": [
    "df_predict_class = pd.DataFrame({'headline_prob': headline_class, \n",
    "                                 'keywords_prob': keywords_class, \n",
    "                                 'snippet_prob': snippet_class_tok, \n",
    "                                 'word_count_class': word_count_class})"
   ]
  },
  {
   "cell_type": "code",
   "execution_count": 45,
   "metadata": {},
   "outputs": [
    {
     "data": {
      "text/html": [
       "<div>\n",
       "<style scoped>\n",
       "    .dataframe tbody tr th:only-of-type {\n",
       "        vertical-align: middle;\n",
       "    }\n",
       "\n",
       "    .dataframe tbody tr th {\n",
       "        vertical-align: top;\n",
       "    }\n",
       "\n",
       "    .dataframe thead th {\n",
       "        text-align: right;\n",
       "    }\n",
       "</style>\n",
       "<table border=\"1\" class=\"dataframe\">\n",
       "  <thead>\n",
       "    <tr style=\"text-align: right;\">\n",
       "      <th></th>\n",
       "      <th>headline_prob</th>\n",
       "      <th>keywords_prob</th>\n",
       "      <th>snippet_prob</th>\n",
       "      <th>word_count_class</th>\n",
       "    </tr>\n",
       "  </thead>\n",
       "  <tbody>\n",
       "    <tr>\n",
       "      <th>0</th>\n",
       "      <td>0</td>\n",
       "      <td>0</td>\n",
       "      <td>1</td>\n",
       "      <td>1</td>\n",
       "    </tr>\n",
       "    <tr>\n",
       "      <th>1</th>\n",
       "      <td>0</td>\n",
       "      <td>0</td>\n",
       "      <td>0</td>\n",
       "      <td>0</td>\n",
       "    </tr>\n",
       "    <tr>\n",
       "      <th>2</th>\n",
       "      <td>1</td>\n",
       "      <td>0</td>\n",
       "      <td>0</td>\n",
       "      <td>1</td>\n",
       "    </tr>\n",
       "    <tr>\n",
       "      <th>3</th>\n",
       "      <td>0</td>\n",
       "      <td>1</td>\n",
       "      <td>0</td>\n",
       "      <td>0</td>\n",
       "    </tr>\n",
       "    <tr>\n",
       "      <th>4</th>\n",
       "      <td>0</td>\n",
       "      <td>0</td>\n",
       "      <td>0</td>\n",
       "      <td>0</td>\n",
       "    </tr>\n",
       "  </tbody>\n",
       "</table>\n",
       "</div>"
      ],
      "text/plain": [
       "   headline_prob  keywords_prob  snippet_prob  word_count_class\n",
       "0              0              0             1                 1\n",
       "1              0              0             0                 0\n",
       "2              1              0             0                 1\n",
       "3              0              1             0                 0\n",
       "4              0              0             0                 0"
      ]
     },
     "execution_count": 45,
     "metadata": {},
     "output_type": "execute_result"
    }
   ],
   "source": [
    "df_predict_class.head()"
   ]
  },
  {
   "cell_type": "code",
   "execution_count": 46,
   "metadata": {},
   "outputs": [
    {
     "name": "stdout",
     "output_type": "stream",
     "text": [
      "<class 'pandas.core.frame.DataFrame'>\n",
      "RangeIndex: 2060 entries, 0 to 2059\n",
      "Data columns (total 4 columns):\n",
      " #   Column            Non-Null Count  Dtype\n",
      "---  ------            --------------  -----\n",
      " 0   headline_prob     2060 non-null   int64\n",
      " 1   keywords_prob     2060 non-null   int64\n",
      " 2   snippet_prob      2060 non-null   int64\n",
      " 3   word_count_class  2060 non-null   int64\n",
      "dtypes: int64(4)\n",
      "memory usage: 64.5 KB\n"
     ]
    }
   ],
   "source": [
    "df_predict_class.info()"
   ]
  },
  {
   "cell_type": "markdown",
   "metadata": {},
   "source": [
    "<br>\n",
    "\n",
    "### Training model"
   ]
  },
  {
   "cell_type": "code",
   "execution_count": 47,
   "metadata": {},
   "outputs": [
    {
     "data": {
      "text/html": [
       "<div>\n",
       "<style scoped>\n",
       "    .dataframe tbody tr th:only-of-type {\n",
       "        vertical-align: middle;\n",
       "    }\n",
       "\n",
       "    .dataframe tbody tr th {\n",
       "        vertical-align: top;\n",
       "    }\n",
       "\n",
       "    .dataframe thead th {\n",
       "        text-align: right;\n",
       "    }\n",
       "</style>\n",
       "<table border=\"1\" class=\"dataframe\">\n",
       "  <thead>\n",
       "    <tr style=\"text-align: right;\">\n",
       "      <th></th>\n",
       "      <th>sum</th>\n",
       "      <th>percentage</th>\n",
       "    </tr>\n",
       "    <tr>\n",
       "      <th>popular</th>\n",
       "      <th></th>\n",
       "      <th></th>\n",
       "    </tr>\n",
       "  </thead>\n",
       "  <tbody>\n",
       "    <tr>\n",
       "      <th>0</th>\n",
       "      <td>2018</td>\n",
       "      <td>0.98</td>\n",
       "    </tr>\n",
       "    <tr>\n",
       "      <th>1</th>\n",
       "      <td>42</td>\n",
       "      <td>0.02</td>\n",
       "    </tr>\n",
       "  </tbody>\n",
       "</table>\n",
       "</div>"
      ],
      "text/plain": [
       "          sum  percentage\n",
       "popular                  \n",
       "0        2018        0.98\n",
       "1          42        0.02"
      ]
     },
     "execution_count": 47,
     "metadata": {},
     "output_type": "execute_result"
    },
    {
     "data": {
      "image/png": "[encoded data removed]",
      "text/plain": [
       "<Figure size 432x288 with 1 Axes>"
      ]
     },
     "metadata": {
      "needs_background": "light"
     },
     "output_type": "display_data"
    }
   ],
   "source": [
    "target_distribution_deploy = summerize_value_counts(y_test)\n",
    "target_distribution_deploy"
   ]
  },
  {
   "cell_type": "markdown",
   "metadata": {},
   "source": [
    "\n",
    "\n",
    "##### Predicting with Probabilities "
   ]
  },
  {
   "cell_type": "code",
   "execution_count": 48,
   "metadata": {},
   "outputs": [],
   "source": [
    "clf_proba = LogisticRegression()"
   ]
  },
  {
   "cell_type": "code",
   "execution_count": 49,
   "metadata": {},
   "outputs": [
    {
     "data": {
      "text/plain": [
       "LogisticRegression()"
      ]
     },
     "execution_count": 49,
     "metadata": {},
     "output_type": "execute_result"
    }
   ],
   "source": [
    "clf_proba.fit(df_predict_proba, y_test)"
   ]
  },
  {
   "cell_type": "markdown",
   "metadata": {},
   "source": [
    "<br>\n",
    "\n",
    "##### Predicitng with class labels"
   ]
  },
  {
   "cell_type": "code",
   "execution_count": 50,
   "metadata": {},
   "outputs": [],
   "source": [
    "clf_class = LogisticRegression()"
   ]
  },
  {
   "cell_type": "code",
   "execution_count": 51,
   "metadata": {},
   "outputs": [
    {
     "data": {
      "text/plain": [
       "LogisticRegression()"
      ]
     },
     "execution_count": 51,
     "metadata": {},
     "output_type": "execute_result"
    }
   ],
   "source": [
    "clf_class.fit(df_predict_class, y_test)"
   ]
  },
  {
   "cell_type": "markdown",
   "metadata": {},
   "source": [
    "## Model Deployment"
   ]
  },
  {
   "cell_type": "code",
   "execution_count": 52,
   "metadata": {},
   "outputs": [
    {
     "data": {
      "text/plain": [
       "datetime.date(2021, 12, 1)"
      ]
     },
     "execution_count": 52,
     "metadata": {},
     "output_type": "execute_result"
    }
   ],
   "source": [
    "df.iloc[0][1]"
   ]
  },
  {
   "cell_type": "code",
   "execution_count": 53,
   "metadata": {},
   "outputs": [
    {
     "data": {
      "text/plain": [
       "datetime.date(2022, 1, 18)"
      ]
     },
     "execution_count": 53,
     "metadata": {},
     "output_type": "execute_result"
    }
   ],
   "source": [
    "pd.to_datetime('01/18/22').date()"
   ]
  },
  {
   "cell_type": "code",
   "execution_count": 188,
   "metadata": {},
   "outputs": [],
   "source": [
    "df_archive_deploy = pd.read_csv('data/archive_deploy.csv')\n",
    "df_archive_deploy.date_published = df_archive_deploy.date_published.apply(lambda x: pd.to_datetime(x).date())\n",
    "df_archive_deploy.dropna(inplace=True)\n",
    "\n",
    "df_most_shared_deploy = load_most_shared('data/most_popular_deploy')"
   ]
  },
  {
   "cell_type": "code",
   "execution_count": 189,
   "metadata": {},
   "outputs": [
    {
     "data": {
      "text/plain": [
       "datetime.date(2022, 1, 18)"
      ]
     },
     "execution_count": 189,
     "metadata": {},
     "output_type": "execute_result"
    }
   ],
   "source": [
    "prediction_day = '01/18/22'\n",
    "prediction_day = pd.to_datetime(prediction_day).date()\n",
    "prediction_day"
   ]
  },
  {
   "cell_type": "code",
   "execution_count": 221,
   "metadata": {},
   "outputs": [],
   "source": [
    "def filter_predction_dfs(df_archive, df_shared, day_of_predict, delta=3):\n",
    "    \n",
    "#     day_of_predict = pd.to_datetime(day_of_predict).date()\n",
    "    time_delta = dt.timedelta(days=delta)\n",
    "    cutoff_day = day_of_predict - time_delta\n",
    "    \n",
    "    df_deploy = df_archive[(df_archive.date_published >= cutoff_day) & \n",
    "                             (df_archive.date_published <= day_of_predict)]\n",
    "    \n",
    "    article_ids = df_deploy['uri']\n",
    "    date_published = df_deploy['date_published']\n",
    "    df_feature_deploy = df_deploy[['headline','keywords','snippet','word_count']]\n",
    "    \n",
    "    df_top_20 = df_shared[df_shared.index == day_of_predict]\n",
    "    \n",
    "    return article_ids, date_published, df_feature_deploy, df_top_20"
   ]
  },
  {
   "cell_type": "code",
   "execution_count": 222,
   "metadata": {},
   "outputs": [],
   "source": [
    "deployed_article_ids, date_published, df_feature_deploy, df_top_20 = filter_predction_dfs(df_archive_deploy, \n",
    "                                                                          df_most_shared_deploy, \n",
    "                                                                          prediction_day, delta=3)"
   ]
  },
  {
   "cell_type": "code",
   "execution_count": 223,
   "metadata": {},
   "outputs": [
    {
     "data": {
      "text/plain": [
       "2    2022-01-16\n",
       "5    2022-01-16\n",
       "6    2022-01-16\n",
       "7    2022-01-16\n",
       "8    2022-01-16\n",
       "Name: date_published, dtype: object"
      ]
     },
     "execution_count": 223,
     "metadata": {},
     "output_type": "execute_result"
    }
   ],
   "source": [
    "date_published.head()"
   ]
  },
  {
   "cell_type": "code",
   "execution_count": 224,
   "metadata": {},
   "outputs": [
    {
     "data": {
      "text/plain": [
       "2      nyt://article/f00468d9-8c85-5141-a5a4-8b592f6a...\n",
       "5      nyt://article/45bfef70-a4e6-5211-b9f4-95c9acfc...\n",
       "6      nyt://article/09084cca-4f23-5fb1-8d82-5c01e336...\n",
       "7      nyt://article/ad52d330-1f21-51a4-98d0-b2b355d0...\n",
       "8      nyt://article/0b4e771d-ff07-5c67-98f5-4b1c0a7a...\n",
       "                             ...                        \n",
       "196    nyt://article/50ea7f23-2811-5d80-a872-748ea973...\n",
       "197    nyt://article/23ad6087-6b87-5148-b167-1caa40f6...\n",
       "198    nyt://interactive/b5bb2160-b42e-511b-832f-0ca1...\n",
       "199    nyt://article/375569b6-c59b-53a4-8bd7-ceb3f90a...\n",
       "201    nyt://article/d0bdb21b-ea5d-516a-9022-c6444040...\n",
       "Name: uri, Length: 181, dtype: object"
      ]
     },
     "execution_count": 224,
     "metadata": {},
     "output_type": "execute_result"
    }
   ],
   "source": [
    "deployed_article_ids"
   ]
  },
  {
   "cell_type": "code",
   "execution_count": 225,
   "metadata": {},
   "outputs": [
    {
     "data": {
      "text/plain": [
       "Int64Index([  2,   5,   6,   7,   8,   9,  10,  11,  12,  13,\n",
       "            ...\n",
       "            191, 192, 193, 194, 195, 196, 197, 198, 199, 201],\n",
       "           dtype='int64', length=181)"
      ]
     },
     "execution_count": 225,
     "metadata": {},
     "output_type": "execute_result"
    }
   ],
   "source": [
    "df_feature_deploy.index"
   ]
  },
  {
   "cell_type": "code",
   "execution_count": 196,
   "metadata": {},
   "outputs": [],
   "source": [
    "def predict_with_probabilities():\n",
    "    \n",
    "    headline = df.headline\n",
    "    keywords = df.keywords\n",
    "    snippet = df.snippet\n",
    "    word_count = df.word_count\n",
    "    \n",
    "    headline_tf_vec.transform()\n",
    "    headline_tf_vec_tok.transform()\n",
    "    headline_proba_rf.predict_proba()\n",
    "    \n",
    "    keywords_tf_vec.transform\n",
    "    keywords_tf_vec_tok.transform\n",
    "    keywords_proba_rf.predict_proba\n",
    "    \n",
    "    snippet_tf_vec.transform\n",
    "    snippet_tf_vec_tok.transform\n",
    "    snippet_proba_rf.predict_proba\n",
    "    \n",
    "    word_count_log_reg.predict_proba\n",
    "\n",
    "    "
   ]
  },
  {
   "cell_type": "code",
   "execution_count": 197,
   "metadata": {},
   "outputs": [],
   "source": [
    "def predict_with_class_labels(df):\n",
    "    \n",
    "    headline = df.headline\n",
    "    keywords = df.keywords\n",
    "    snippet = df.snippet\n",
    "    word_count = df.word_count\n",
    "    \n",
    "    headline_cv_vec.transform\n",
    "    headline_cv_vec_tok.transform\n",
    "    headline_class_rf.predict\n",
    "    \n",
    "    keywords_cv_vec.transform\n",
    "    keywords_cv_vec_tok.transform\n",
    "    keywords_class_rf.predict\n",
    "    \n",
    "    snippet_cv_vec.transform\n",
    "    snippet_cv_vec_tok.transform\n",
    "    snippet_class_rf.predict\n",
    "    \n",
    "    word_count_log_reg.predict\n",
    "    \n",
    "    "
   ]
  },
  {
   "cell_type": "code",
   "execution_count": null,
   "metadata": {},
   "outputs": [],
   "source": []
  },
  {
   "cell_type": "code",
   "execution_count": 198,
   "metadata": {},
   "outputs": [],
   "source": [
    "headline_proba_pipe = Pipeline([('headline_tf', headline_tf), \n",
    "                                ('headline_proba_rf',headline_proba_rf)])"
   ]
  },
  {
   "cell_type": "code",
   "execution_count": 199,
   "metadata": {},
   "outputs": [],
   "source": [
    "keywords_proba_pipe = Pipeline([('keywords_tf', keywords_tf), \n",
    "                                ('keywords_proba_rf', keywords_proba_rf)])"
   ]
  },
  {
   "cell_type": "code",
   "execution_count": 200,
   "metadata": {},
   "outputs": [],
   "source": [
    "snippet_proba_pipe = Pipeline([('snippet_tok_tf', snippet_tok_tf), \n",
    "                               ('snippet_proba_rf_tok', snippet_proba_rf_tok)])"
   ]
  },
  {
   "cell_type": "code",
   "execution_count": 201,
   "metadata": {},
   "outputs": [
    {
     "data": {
      "text/html": [
       "<div>\n",
       "<style scoped>\n",
       "    .dataframe tbody tr th:only-of-type {\n",
       "        vertical-align: middle;\n",
       "    }\n",
       "\n",
       "    .dataframe tbody tr th {\n",
       "        vertical-align: top;\n",
       "    }\n",
       "\n",
       "    .dataframe thead th {\n",
       "        text-align: right;\n",
       "    }\n",
       "</style>\n",
       "<table border=\"1\" class=\"dataframe\">\n",
       "  <thead>\n",
       "    <tr style=\"text-align: right;\">\n",
       "      <th></th>\n",
       "      <th>A</th>\n",
       "      <th>B</th>\n",
       "      <th>C</th>\n",
       "      <th>D</th>\n",
       "    </tr>\n",
       "  </thead>\n",
       "  <tbody>\n",
       "    <tr>\n",
       "      <th>w5IosdioMQ</th>\n",
       "      <td>-0.537598</td>\n",
       "      <td>0.995056</td>\n",
       "      <td>-0.479306</td>\n",
       "      <td>-0.491943</td>\n",
       "    </tr>\n",
       "    <tr>\n",
       "      <th>9n0JyvPBDV</th>\n",
       "      <td>-1.003493</td>\n",
       "      <td>-0.574224</td>\n",
       "      <td>-0.633321</td>\n",
       "      <td>0.295350</td>\n",
       "    </tr>\n",
       "    <tr>\n",
       "      <th>zbOuAK0mje</th>\n",
       "      <td>-0.004554</td>\n",
       "      <td>0.893331</td>\n",
       "      <td>-0.097134</td>\n",
       "      <td>0.078517</td>\n",
       "    </tr>\n",
       "    <tr>\n",
       "      <th>u5JbJVsAXJ</th>\n",
       "      <td>0.941879</td>\n",
       "      <td>-0.750897</td>\n",
       "      <td>-0.128442</td>\n",
       "      <td>1.205269</td>\n",
       "    </tr>\n",
       "    <tr>\n",
       "      <th>IqmdbNJ3PZ</th>\n",
       "      <td>-0.075671</td>\n",
       "      <td>1.056658</td>\n",
       "      <td>-0.692200</td>\n",
       "      <td>-0.327003</td>\n",
       "    </tr>\n",
       "  </tbody>\n",
       "</table>\n",
       "</div>"
      ],
      "text/plain": [
       "                   A         B         C         D\n",
       "w5IosdioMQ -0.537598  0.995056 -0.479306 -0.491943\n",
       "9n0JyvPBDV -1.003493 -0.574224 -0.633321  0.295350\n",
       "zbOuAK0mje -0.004554  0.893331 -0.097134  0.078517\n",
       "u5JbJVsAXJ  0.941879 -0.750897 -0.128442  1.205269\n",
       "IqmdbNJ3PZ -0.075671  1.056658 -0.692200 -0.327003"
      ]
     },
     "execution_count": 201,
     "metadata": {},
     "output_type": "execute_result"
    }
   ],
   "source": [
    "from pandas import util\n",
    "df_test= util.testing.makeDataFrame()\n",
    "df_test.head()"
   ]
  },
  {
   "cell_type": "code",
   "execution_count": 202,
   "metadata": {},
   "outputs": [
    {
     "data": {
      "text/html": [
       "<div>\n",
       "<style scoped>\n",
       "    .dataframe tbody tr th:only-of-type {\n",
       "        vertical-align: middle;\n",
       "    }\n",
       "\n",
       "    .dataframe tbody tr th {\n",
       "        vertical-align: top;\n",
       "    }\n",
       "\n",
       "    .dataframe thead th {\n",
       "        text-align: right;\n",
       "    }\n",
       "</style>\n",
       "<table border=\"1\" class=\"dataframe\">\n",
       "  <thead>\n",
       "    <tr style=\"text-align: right;\">\n",
       "      <th></th>\n",
       "      <th>B</th>\n",
       "      <th>C</th>\n",
       "      <th>D</th>\n",
       "    </tr>\n",
       "  </thead>\n",
       "  <tbody>\n",
       "    <tr>\n",
       "      <th>w5IosdioMQ</th>\n",
       "      <td>0.995056</td>\n",
       "      <td>-0.479306</td>\n",
       "      <td>-0.491943</td>\n",
       "    </tr>\n",
       "    <tr>\n",
       "      <th>9n0JyvPBDV</th>\n",
       "      <td>-0.574224</td>\n",
       "      <td>-0.633321</td>\n",
       "      <td>0.295350</td>\n",
       "    </tr>\n",
       "    <tr>\n",
       "      <th>zbOuAK0mje</th>\n",
       "      <td>0.893331</td>\n",
       "      <td>-0.097134</td>\n",
       "      <td>0.078517</td>\n",
       "    </tr>\n",
       "    <tr>\n",
       "      <th>u5JbJVsAXJ</th>\n",
       "      <td>-0.750897</td>\n",
       "      <td>-0.128442</td>\n",
       "      <td>1.205269</td>\n",
       "    </tr>\n",
       "    <tr>\n",
       "      <th>IqmdbNJ3PZ</th>\n",
       "      <td>1.056658</td>\n",
       "      <td>-0.692200</td>\n",
       "      <td>-0.327003</td>\n",
       "    </tr>\n",
       "    <tr>\n",
       "      <th>J0CgnL6wrc</th>\n",
       "      <td>0.826545</td>\n",
       "      <td>-1.256158</td>\n",
       "      <td>-2.242327</td>\n",
       "    </tr>\n",
       "    <tr>\n",
       "      <th>dd583mS9CH</th>\n",
       "      <td>1.254716</td>\n",
       "      <td>-0.390097</td>\n",
       "      <td>0.430318</td>\n",
       "    </tr>\n",
       "    <tr>\n",
       "      <th>mrq6XaJ6UH</th>\n",
       "      <td>-0.545994</td>\n",
       "      <td>-0.234244</td>\n",
       "      <td>-0.757228</td>\n",
       "    </tr>\n",
       "    <tr>\n",
       "      <th>2u4eh68OJ7</th>\n",
       "      <td>0.929549</td>\n",
       "      <td>0.833165</td>\n",
       "      <td>-1.348514</td>\n",
       "    </tr>\n",
       "    <tr>\n",
       "      <th>ih3Gf2NuQQ</th>\n",
       "      <td>-0.794340</td>\n",
       "      <td>0.913861</td>\n",
       "      <td>1.177475</td>\n",
       "    </tr>\n",
       "    <tr>\n",
       "      <th>F1S1RefzOi</th>\n",
       "      <td>0.523222</td>\n",
       "      <td>1.486610</td>\n",
       "      <td>-1.872792</td>\n",
       "    </tr>\n",
       "    <tr>\n",
       "      <th>gLV02AM6RC</th>\n",
       "      <td>1.619960</td>\n",
       "      <td>-0.089105</td>\n",
       "      <td>0.849286</td>\n",
       "    </tr>\n",
       "    <tr>\n",
       "      <th>2qin99cB1H</th>\n",
       "      <td>-0.508018</td>\n",
       "      <td>0.098058</td>\n",
       "      <td>-1.328424</td>\n",
       "    </tr>\n",
       "    <tr>\n",
       "      <th>4wRONCH2qR</th>\n",
       "      <td>-1.081412</td>\n",
       "      <td>-0.052712</td>\n",
       "      <td>0.550586</td>\n",
       "    </tr>\n",
       "    <tr>\n",
       "      <th>E7FAsMvkd5</th>\n",
       "      <td>1.936873</td>\n",
       "      <td>-0.066496</td>\n",
       "      <td>0.239961</td>\n",
       "    </tr>\n",
       "    <tr>\n",
       "      <th>4UGCmHSQ1v</th>\n",
       "      <td>1.044899</td>\n",
       "      <td>-0.650679</td>\n",
       "      <td>0.940578</td>\n",
       "    </tr>\n",
       "    <tr>\n",
       "      <th>RCLaZB3qFZ</th>\n",
       "      <td>0.285201</td>\n",
       "      <td>-1.453665</td>\n",
       "      <td>0.864974</td>\n",
       "    </tr>\n",
       "    <tr>\n",
       "      <th>DR9wlZROsR</th>\n",
       "      <td>1.474496</td>\n",
       "      <td>-1.569359</td>\n",
       "      <td>0.958202</td>\n",
       "    </tr>\n",
       "    <tr>\n",
       "      <th>wwzSmgaZrz</th>\n",
       "      <td>1.079043</td>\n",
       "      <td>-0.713766</td>\n",
       "      <td>0.521966</td>\n",
       "    </tr>\n",
       "    <tr>\n",
       "      <th>aZ17nyReVR</th>\n",
       "      <td>0.081995</td>\n",
       "      <td>0.816978</td>\n",
       "      <td>-0.560849</td>\n",
       "    </tr>\n",
       "    <tr>\n",
       "      <th>qjMhkhiwSG</th>\n",
       "      <td>-0.931340</td>\n",
       "      <td>1.163206</td>\n",
       "      <td>0.215935</td>\n",
       "    </tr>\n",
       "    <tr>\n",
       "      <th>frPF4DJ15a</th>\n",
       "      <td>-0.077322</td>\n",
       "      <td>-1.547338</td>\n",
       "      <td>2.935921</td>\n",
       "    </tr>\n",
       "    <tr>\n",
       "      <th>pPTy7ThhMP</th>\n",
       "      <td>-0.591588</td>\n",
       "      <td>-1.822067</td>\n",
       "      <td>1.414391</td>\n",
       "    </tr>\n",
       "    <tr>\n",
       "      <th>Cw58lGaBAy</th>\n",
       "      <td>-0.417895</td>\n",
       "      <td>1.528319</td>\n",
       "      <td>-1.719380</td>\n",
       "    </tr>\n",
       "    <tr>\n",
       "      <th>pYY4BIu68G</th>\n",
       "      <td>0.171723</td>\n",
       "      <td>-1.124825</td>\n",
       "      <td>0.779228</td>\n",
       "    </tr>\n",
       "    <tr>\n",
       "      <th>euemnON8lw</th>\n",
       "      <td>-1.246285</td>\n",
       "      <td>-0.424919</td>\n",
       "      <td>0.851181</td>\n",
       "    </tr>\n",
       "    <tr>\n",
       "      <th>38x5n3MzZ2</th>\n",
       "      <td>1.314724</td>\n",
       "      <td>-0.662063</td>\n",
       "      <td>0.594614</td>\n",
       "    </tr>\n",
       "    <tr>\n",
       "      <th>P6740tFqyB</th>\n",
       "      <td>1.064909</td>\n",
       "      <td>-0.730347</td>\n",
       "      <td>0.568280</td>\n",
       "    </tr>\n",
       "    <tr>\n",
       "      <th>lsrI3St7Oy</th>\n",
       "      <td>1.131244</td>\n",
       "      <td>-1.105883</td>\n",
       "      <td>0.487227</td>\n",
       "    </tr>\n",
       "    <tr>\n",
       "      <th>urXf3KTyEq</th>\n",
       "      <td>-0.541648</td>\n",
       "      <td>2.136676</td>\n",
       "      <td>-1.405859</td>\n",
       "    </tr>\n",
       "  </tbody>\n",
       "</table>\n",
       "</div>"
      ],
      "text/plain": [
       "                   B         C         D\n",
       "w5IosdioMQ  0.995056 -0.479306 -0.491943\n",
       "9n0JyvPBDV -0.574224 -0.633321  0.295350\n",
       "zbOuAK0mje  0.893331 -0.097134  0.078517\n",
       "u5JbJVsAXJ -0.750897 -0.128442  1.205269\n",
       "IqmdbNJ3PZ  1.056658 -0.692200 -0.327003\n",
       "J0CgnL6wrc  0.826545 -1.256158 -2.242327\n",
       "dd583mS9CH  1.254716 -0.390097  0.430318\n",
       "mrq6XaJ6UH -0.545994 -0.234244 -0.757228\n",
       "2u4eh68OJ7  0.929549  0.833165 -1.348514\n",
       "ih3Gf2NuQQ -0.794340  0.913861  1.177475\n",
       "F1S1RefzOi  0.523222  1.486610 -1.872792\n",
       "gLV02AM6RC  1.619960 -0.089105  0.849286\n",
       "2qin99cB1H -0.508018  0.098058 -1.328424\n",
       "4wRONCH2qR -1.081412 -0.052712  0.550586\n",
       "E7FAsMvkd5  1.936873 -0.066496  0.239961\n",
       "4UGCmHSQ1v  1.044899 -0.650679  0.940578\n",
       "RCLaZB3qFZ  0.285201 -1.453665  0.864974\n",
       "DR9wlZROsR  1.474496 -1.569359  0.958202\n",
       "wwzSmgaZrz  1.079043 -0.713766  0.521966\n",
       "aZ17nyReVR  0.081995  0.816978 -0.560849\n",
       "qjMhkhiwSG -0.931340  1.163206  0.215935\n",
       "frPF4DJ15a -0.077322 -1.547338  2.935921\n",
       "pPTy7ThhMP -0.591588 -1.822067  1.414391\n",
       "Cw58lGaBAy -0.417895  1.528319 -1.719380\n",
       "pYY4BIu68G  0.171723 -1.124825  0.779228\n",
       "euemnON8lw -1.246285 -0.424919  0.851181\n",
       "38x5n3MzZ2  1.314724 -0.662063  0.594614\n",
       "P6740tFqyB  1.064909 -0.730347  0.568280\n",
       "lsrI3St7Oy  1.131244 -1.105883  0.487227\n",
       "urXf3KTyEq -0.541648  2.136676 -1.405859"
      ]
     },
     "execution_count": 202,
     "metadata": {},
     "output_type": "execute_result"
    }
   ],
   "source": [
    "df_test = df_test.iloc[:, 1:]\n",
    "df_test"
   ]
  },
  {
   "cell_type": "code",
   "execution_count": null,
   "metadata": {},
   "outputs": [],
   "source": []
  },
  {
   "cell_type": "code",
   "execution_count": 203,
   "metadata": {},
   "outputs": [],
   "source": [
    "def proba_nlp_pipeline(features, index):\n",
    "    \n",
    "    headline_probs = headline_proba_pipe.predict_proba(features.headline)\n",
    "    headline_probs = [x[1] for x in headline_probs]\n",
    "    \n",
    "    keywords_probs = keywords_proba_pipe.predict_proba(features.keywords)\n",
    "    keywords_probs = [x[1] for x in keywords_probs]\n",
    "    \n",
    "    snippet_probs  = snippet_proba_pipe.predict_proba(features.snippet)\n",
    "    snippet_probs = [x[1] for x in snippet_probs]\n",
    "    \n",
    "    word_count_probs = word_count_log_reg.predict_proba(features.word_count.values.reshape(-1, 1))\n",
    "    word_count_probs = [x[1] for x in word_count_probs]\n",
    "    \n",
    "    df = pd.DataFrame({'headline_probabilty': headline_probs, \n",
    "                       'keywords_probabilty': keywords_probs,\n",
    "                       'snippet_probabilty': snippet_probs,\n",
    "                       'word_count_probabilty': word_count_probs}, \n",
    "                      index=index)\n",
    "    \n",
    "    scaler = StandardScaler()\n",
    "    df.iloc[:, :] = scaler.fit_transform(df.iloc[:, :].to_numpy())\n",
    "    \n",
    "    return df"
   ]
  },
  {
   "cell_type": "code",
   "execution_count": 204,
   "metadata": {},
   "outputs": [],
   "source": [
    "# test_df = pd.DataFrame(tree_details.values(), index=tree_details.keys(), columns=['Information'])"
   ]
  },
  {
   "cell_type": "code",
   "execution_count": 205,
   "metadata": {},
   "outputs": [],
   "source": [
    "# headline tfidf winners: headline_tf, headline_proba_rf, headline_proba\n",
    "# headline cv winners: headline_cv, headline_class_rf, headline_class"
   ]
  },
  {
   "cell_type": "code",
   "execution_count": 206,
   "metadata": {},
   "outputs": [],
   "source": [
    "# keywords tfidf winners: keywords_tf, keywords_proba_rf, keywords_proba\n",
    "# keywords cv winners: keywords_cv, keywords_class_rf, keywords_class"
   ]
  },
  {
   "cell_type": "code",
   "execution_count": 207,
   "metadata": {},
   "outputs": [],
   "source": [
    "# snippet tfidf winners: snippet_tok_tf, snippet_proba_rf_tok, snippet_proba_tok\n",
    "# snippet cv winners: snippet_tok_cv, snippet_class_rf_tok, snippet_class_tok"
   ]
  },
  {
   "cell_type": "code",
   "execution_count": 208,
   "metadata": {},
   "outputs": [],
   "source": [
    "headline_class_pipe = Pipeline([('headline_cv', headline_cv), \n",
    "                                ('headline_class_rf', headline_class_rf)])"
   ]
  },
  {
   "cell_type": "code",
   "execution_count": 209,
   "metadata": {},
   "outputs": [],
   "source": [
    "keywords_class_pipe = Pipeline([('keywords_cv', keywords_cv), \n",
    "                                ('keywords_class_rf', keywords_class_rf)])"
   ]
  },
  {
   "cell_type": "code",
   "execution_count": 210,
   "metadata": {},
   "outputs": [],
   "source": [
    "snippet_class_pipe = Pipeline([('snippet_tok_cv', snippet_tok_cv), \n",
    "                               ('snippet_class_rf_tok', snippet_class_rf_tok)])"
   ]
  },
  {
   "cell_type": "code",
   "execution_count": 211,
   "metadata": {},
   "outputs": [],
   "source": [
    "def class_nlp_pipeline(features, index):\n",
    "    \n",
    "    headline_probs = headline_class_pipe.predict(features.headline)\n",
    "    keywords_probs = keywords_class_pipe.predict(features.keywords)\n",
    "    snippet_probs  = snippet_class_pipe.predict(features.snippet)\n",
    "    word_count_probs = word_count_log_reg.predict(features.word_count.values.reshape(-1, 1))\n",
    "    \n",
    "    df = pd.DataFrame({'headline_probabilty': headline_probs, \n",
    "                       'keywords_probabilty': keywords_probs, \n",
    "                       'snippet_probabilty': snippet_probs, \n",
    "                       'word_count_probabilty': word_count_probs}, \n",
    "                      index=index)\n",
    "    return df"
   ]
  },
  {
   "cell_type": "code",
   "execution_count": null,
   "metadata": {},
   "outputs": [],
   "source": []
  },
  {
   "cell_type": "code",
   "execution_count": 212,
   "metadata": {},
   "outputs": [],
   "source": [
    "proba_for_pred = proba_nlp_pipeline(df_feature_deploy, df_feature_deploy.index)"
   ]
  },
  {
   "cell_type": "code",
   "execution_count": 213,
   "metadata": {},
   "outputs": [
    {
     "data": {
      "text/html": [
       "<div>\n",
       "<style scoped>\n",
       "    .dataframe tbody tr th:only-of-type {\n",
       "        vertical-align: middle;\n",
       "    }\n",
       "\n",
       "    .dataframe tbody tr th {\n",
       "        vertical-align: top;\n",
       "    }\n",
       "\n",
       "    .dataframe thead th {\n",
       "        text-align: right;\n",
       "    }\n",
       "</style>\n",
       "<table border=\"1\" class=\"dataframe\">\n",
       "  <thead>\n",
       "    <tr style=\"text-align: right;\">\n",
       "      <th></th>\n",
       "      <th>headline_probabilty</th>\n",
       "      <th>keywords_probabilty</th>\n",
       "      <th>snippet_probabilty</th>\n",
       "      <th>word_count_probabilty</th>\n",
       "    </tr>\n",
       "  </thead>\n",
       "  <tbody>\n",
       "    <tr>\n",
       "      <th>2</th>\n",
       "      <td>0.988617</td>\n",
       "      <td>-0.610227</td>\n",
       "      <td>0.417334</td>\n",
       "      <td>-0.377069</td>\n",
       "    </tr>\n",
       "    <tr>\n",
       "      <th>5</th>\n",
       "      <td>-0.557966</td>\n",
       "      <td>-0.155696</td>\n",
       "      <td>1.486261</td>\n",
       "      <td>-0.063211</td>\n",
       "    </tr>\n",
       "    <tr>\n",
       "      <th>6</th>\n",
       "      <td>0.215325</td>\n",
       "      <td>-0.610227</td>\n",
       "      <td>0.061025</td>\n",
       "      <td>0.038048</td>\n",
       "    </tr>\n",
       "    <tr>\n",
       "      <th>7</th>\n",
       "      <td>-0.248649</td>\n",
       "      <td>1.056387</td>\n",
       "      <td>-0.295284</td>\n",
       "      <td>-0.406168</td>\n",
       "    </tr>\n",
       "    <tr>\n",
       "      <th>8</th>\n",
       "      <td>-0.557966</td>\n",
       "      <td>-0.610227</td>\n",
       "      <td>-0.651592</td>\n",
       "      <td>-1.129927</td>\n",
       "    </tr>\n",
       "  </tbody>\n",
       "</table>\n",
       "</div>"
      ],
      "text/plain": [
       "   headline_probabilty  keywords_probabilty  snippet_probabilty  \\\n",
       "2             0.988617            -0.610227            0.417334   \n",
       "5            -0.557966            -0.155696            1.486261   \n",
       "6             0.215325            -0.610227            0.061025   \n",
       "7            -0.248649             1.056387           -0.295284   \n",
       "8            -0.557966            -0.610227           -0.651592   \n",
       "\n",
       "   word_count_probabilty  \n",
       "2              -0.377069  \n",
       "5              -0.063211  \n",
       "6               0.038048  \n",
       "7              -0.406168  \n",
       "8              -1.129927  "
      ]
     },
     "execution_count": 213,
     "metadata": {},
     "output_type": "execute_result"
    }
   ],
   "source": [
    "proba_for_pred.head()"
   ]
  },
  {
   "cell_type": "code",
   "execution_count": 214,
   "metadata": {},
   "outputs": [],
   "source": [
    "class_for_pred = class_nlp_pipeline(df_feature_deploy, df_feature_deploy.index)"
   ]
  },
  {
   "cell_type": "code",
   "execution_count": 215,
   "metadata": {},
   "outputs": [
    {
     "data": {
      "text/html": [
       "<div>\n",
       "<style scoped>\n",
       "    .dataframe tbody tr th:only-of-type {\n",
       "        vertical-align: middle;\n",
       "    }\n",
       "\n",
       "    .dataframe tbody tr th {\n",
       "        vertical-align: top;\n",
       "    }\n",
       "\n",
       "    .dataframe thead th {\n",
       "        text-align: right;\n",
       "    }\n",
       "</style>\n",
       "<table border=\"1\" class=\"dataframe\">\n",
       "  <thead>\n",
       "    <tr style=\"text-align: right;\">\n",
       "      <th></th>\n",
       "      <th>headline_probabilty</th>\n",
       "      <th>keywords_probabilty</th>\n",
       "      <th>snippet_probabilty</th>\n",
       "      <th>word_count_probabilty</th>\n",
       "    </tr>\n",
       "  </thead>\n",
       "  <tbody>\n",
       "    <tr>\n",
       "      <th>2</th>\n",
       "      <td>1</td>\n",
       "      <td>0</td>\n",
       "      <td>0</td>\n",
       "      <td>0</td>\n",
       "    </tr>\n",
       "    <tr>\n",
       "      <th>5</th>\n",
       "      <td>1</td>\n",
       "      <td>0</td>\n",
       "      <td>0</td>\n",
       "      <td>0</td>\n",
       "    </tr>\n",
       "    <tr>\n",
       "      <th>6</th>\n",
       "      <td>1</td>\n",
       "      <td>0</td>\n",
       "      <td>0</td>\n",
       "      <td>1</td>\n",
       "    </tr>\n",
       "    <tr>\n",
       "      <th>7</th>\n",
       "      <td>0</td>\n",
       "      <td>0</td>\n",
       "      <td>0</td>\n",
       "      <td>0</td>\n",
       "    </tr>\n",
       "    <tr>\n",
       "      <th>8</th>\n",
       "      <td>0</td>\n",
       "      <td>0</td>\n",
       "      <td>0</td>\n",
       "      <td>0</td>\n",
       "    </tr>\n",
       "  </tbody>\n",
       "</table>\n",
       "</div>"
      ],
      "text/plain": [
       "   headline_probabilty  keywords_probabilty  snippet_probabilty  \\\n",
       "2                    1                    0                   0   \n",
       "5                    1                    0                   0   \n",
       "6                    1                    0                   0   \n",
       "7                    0                    0                   0   \n",
       "8                    0                    0                   0   \n",
       "\n",
       "   word_count_probabilty  \n",
       "2                      0  \n",
       "5                      0  \n",
       "6                      1  \n",
       "7                      0  \n",
       "8                      0  "
      ]
     },
     "execution_count": 215,
     "metadata": {},
     "output_type": "execute_result"
    }
   ],
   "source": [
    "class_for_pred.head()"
   ]
  },
  {
   "cell_type": "code",
   "execution_count": null,
   "metadata": {},
   "outputs": [],
   "source": []
  },
  {
   "cell_type": "code",
   "execution_count": null,
   "metadata": {},
   "outputs": [],
   "source": []
  },
  {
   "cell_type": "code",
   "execution_count": null,
   "metadata": {},
   "outputs": [],
   "source": []
  },
  {
   "cell_type": "code",
   "execution_count": 216,
   "metadata": {},
   "outputs": [
    {
     "data": {
      "text/plain": [
       "2      0.015006\n",
       "5      0.014442\n",
       "6      0.015278\n",
       "7      0.021541\n",
       "8      0.010455\n",
       "         ...   \n",
       "196    0.019997\n",
       "197    0.028360\n",
       "198    0.010887\n",
       "199    0.013962\n",
       "201    0.017282\n",
       "Name: predictions_from_proba, Length: 181, dtype: float64"
      ]
     },
     "execution_count": 216,
     "metadata": {},
     "output_type": "execute_result"
    }
   ],
   "source": [
    "predictions_from_proba = clf_proba.predict_proba(proba_for_pred)\n",
    "predictions_from_proba = [x[1] for x in predictions_from_proba]\n",
    "predictions_from_proba = pd.Series(predictions_from_proba, index=deployed_article_ids.index, \n",
    "                                   name='predictions_from_proba')\n",
    "predictions_from_proba"
   ]
  },
  {
   "cell_type": "code",
   "execution_count": 217,
   "metadata": {},
   "outputs": [
    {
     "data": {
      "text/plain": [
       "2      0.018266\n",
       "5      0.018266\n",
       "6      0.030487\n",
       "7      0.012217\n",
       "8      0.012217\n",
       "         ...   \n",
       "196    0.020475\n",
       "197    0.023417\n",
       "198    0.018266\n",
       "199    0.018266\n",
       "201    0.023417\n",
       "Name: predictions_from_class, Length: 181, dtype: float64"
      ]
     },
     "execution_count": 217,
     "metadata": {},
     "output_type": "execute_result"
    }
   ],
   "source": [
    "predictions_from_class = clf_class.predict_proba(class_for_pred)\n",
    "predictions_from_class = [x[1] for x in predictions_from_class]\n",
    "predictions_from_class = pd.Series(predictions_from_class, index=deployed_article_ids.index,\n",
    "                                   name='predictions_from_class')\n",
    "predictions_from_class"
   ]
  },
  {
   "cell_type": "code",
   "execution_count": null,
   "metadata": {},
   "outputs": [],
   "source": []
  },
  {
   "cell_type": "code",
   "execution_count": 226,
   "metadata": {},
   "outputs": [
    {
     "data": {
      "text/html": [
       "<div>\n",
       "<style scoped>\n",
       "    .dataframe tbody tr th:only-of-type {\n",
       "        vertical-align: middle;\n",
       "    }\n",
       "\n",
       "    .dataframe tbody tr th {\n",
       "        vertical-align: top;\n",
       "    }\n",
       "\n",
       "    .dataframe thead th {\n",
       "        text-align: right;\n",
       "    }\n",
       "</style>\n",
       "<table border=\"1\" class=\"dataframe\">\n",
       "  <thead>\n",
       "    <tr style=\"text-align: right;\">\n",
       "      <th></th>\n",
       "      <th>uri</th>\n",
       "      <th>date_published</th>\n",
       "      <th>predictions_from_proba</th>\n",
       "    </tr>\n",
       "  </thead>\n",
       "  <tbody>\n",
       "    <tr>\n",
       "      <th>13</th>\n",
       "      <td>nyt://article/d7fafe18-cecb-5ca7-91da-ac86e943...</td>\n",
       "      <td>2022-01-16</td>\n",
       "      <td>0.223316</td>\n",
       "    </tr>\n",
       "    <tr>\n",
       "      <th>71</th>\n",
       "      <td>nyt://article/0e723422-6b71-5929-8487-2d0a7e49...</td>\n",
       "      <td>2022-01-17</td>\n",
       "      <td>0.150811</td>\n",
       "    </tr>\n",
       "    <tr>\n",
       "      <th>9</th>\n",
       "      <td>nyt://article/73e801a9-d932-5899-96ec-11d092bb...</td>\n",
       "      <td>2022-01-16</td>\n",
       "      <td>0.12738</td>\n",
       "    </tr>\n",
       "    <tr>\n",
       "      <th>97</th>\n",
       "      <td>nyt://article/e28a1219-771c-5233-8cec-51674bff...</td>\n",
       "      <td>2022-01-17</td>\n",
       "      <td>0.0763397</td>\n",
       "    </tr>\n",
       "    <tr>\n",
       "      <th>94</th>\n",
       "      <td>nyt://article/5faff9f1-f812-5900-95d2-b7eb4ec3...</td>\n",
       "      <td>2022-01-17</td>\n",
       "      <td>0.0617947</td>\n",
       "    </tr>\n",
       "    <tr>\n",
       "      <th>66</th>\n",
       "      <td>nyt://article/0b018061-56cb-5893-b627-bd8672f8...</td>\n",
       "      <td>2022-01-16</td>\n",
       "      <td>0.0586781</td>\n",
       "    </tr>\n",
       "    <tr>\n",
       "      <th>68</th>\n",
       "      <td>nyt://article/fa264535-6958-54b0-8ad5-1f1cf625...</td>\n",
       "      <td>2022-01-17</td>\n",
       "      <td>0.0553491</td>\n",
       "    </tr>\n",
       "    <tr>\n",
       "      <th>55</th>\n",
       "      <td>nyt://article/505ace74-61e5-5377-af29-7e2a25dc...</td>\n",
       "      <td>2022-01-16</td>\n",
       "      <td>0.051074</td>\n",
       "    </tr>\n",
       "    <tr>\n",
       "      <th>116</th>\n",
       "      <td>nyt://article/6da25df5-8c75-5cec-8746-1a2f402d...</td>\n",
       "      <td>2022-01-17</td>\n",
       "      <td>0.0415633</td>\n",
       "    </tr>\n",
       "    <tr>\n",
       "      <th>57</th>\n",
       "      <td>nyt://article/0f048161-03a7-57e4-bc29-9c818a72...</td>\n",
       "      <td>2022-01-16</td>\n",
       "      <td>0.0404923</td>\n",
       "    </tr>\n",
       "    <tr>\n",
       "      <th>151</th>\n",
       "      <td>nyt://article/0b2b3a49-a2bc-58bf-89e8-e3cdc9f3...</td>\n",
       "      <td>2022-01-18</td>\n",
       "      <td>0.0365366</td>\n",
       "    </tr>\n",
       "    <tr>\n",
       "      <th>131</th>\n",
       "      <td>nyt://article/4b660502-8679-5afc-afb4-c50a88ed...</td>\n",
       "      <td>2022-01-17</td>\n",
       "      <td>0.0360226</td>\n",
       "    </tr>\n",
       "    <tr>\n",
       "      <th>83</th>\n",
       "      <td>nyt://article/b7f649ea-964a-566a-89f5-9d0cbf38...</td>\n",
       "      <td>2022-01-17</td>\n",
       "      <td>0.0347717</td>\n",
       "    </tr>\n",
       "    <tr>\n",
       "      <th>54</th>\n",
       "      <td>nyt://article/f60c2c42-854b-595d-a23a-50b6eb1d...</td>\n",
       "      <td>2022-01-16</td>\n",
       "      <td>0.0342576</td>\n",
       "    </tr>\n",
       "    <tr>\n",
       "      <th>32</th>\n",
       "      <td>nyt://article/b24f375a-8d8c-56e5-8929-4a094ab5...</td>\n",
       "      <td>2022-01-16</td>\n",
       "      <td>0.0329454</td>\n",
       "    </tr>\n",
       "    <tr>\n",
       "      <th>22</th>\n",
       "      <td>nyt://article/f733e3f7-4925-5411-b1bd-36741401...</td>\n",
       "      <td>2022-01-16</td>\n",
       "      <td>0.0326367</td>\n",
       "    </tr>\n",
       "    <tr>\n",
       "      <th>43</th>\n",
       "      <td>nyt://article/5a554ca1-399e-54a4-806e-efa7c3d2...</td>\n",
       "      <td>2022-01-16</td>\n",
       "      <td>0.0312874</td>\n",
       "    </tr>\n",
       "    <tr>\n",
       "      <th>50</th>\n",
       "      <td>nyt://article/3b9a2eab-1784-57b9-94a2-992658d3...</td>\n",
       "      <td>2022-01-16</td>\n",
       "      <td>0.0301566</td>\n",
       "    </tr>\n",
       "    <tr>\n",
       "      <th>28</th>\n",
       "      <td>nyt://article/2e2fc4e8-a1dd-553a-a182-cd4730bb...</td>\n",
       "      <td>2022-01-16</td>\n",
       "      <td>0.0295023</td>\n",
       "    </tr>\n",
       "    <tr>\n",
       "      <th>10</th>\n",
       "      <td>nyt://article/de14a612-62c2-5de2-883d-6e58ca64...</td>\n",
       "      <td>2022-01-16</td>\n",
       "      <td>0.0287187</td>\n",
       "    </tr>\n",
       "  </tbody>\n",
       "</table>\n",
       "</div>"
      ],
      "text/plain": [
       "                                                   uri date_published  \\\n",
       "13   nyt://article/d7fafe18-cecb-5ca7-91da-ac86e943...     2022-01-16   \n",
       "71   nyt://article/0e723422-6b71-5929-8487-2d0a7e49...     2022-01-17   \n",
       "9    nyt://article/73e801a9-d932-5899-96ec-11d092bb...     2022-01-16   \n",
       "97   nyt://article/e28a1219-771c-5233-8cec-51674bff...     2022-01-17   \n",
       "94   nyt://article/5faff9f1-f812-5900-95d2-b7eb4ec3...     2022-01-17   \n",
       "66   nyt://article/0b018061-56cb-5893-b627-bd8672f8...     2022-01-16   \n",
       "68   nyt://article/fa264535-6958-54b0-8ad5-1f1cf625...     2022-01-17   \n",
       "55   nyt://article/505ace74-61e5-5377-af29-7e2a25dc...     2022-01-16   \n",
       "116  nyt://article/6da25df5-8c75-5cec-8746-1a2f402d...     2022-01-17   \n",
       "57   nyt://article/0f048161-03a7-57e4-bc29-9c818a72...     2022-01-16   \n",
       "151  nyt://article/0b2b3a49-a2bc-58bf-89e8-e3cdc9f3...     2022-01-18   \n",
       "131  nyt://article/4b660502-8679-5afc-afb4-c50a88ed...     2022-01-17   \n",
       "83   nyt://article/b7f649ea-964a-566a-89f5-9d0cbf38...     2022-01-17   \n",
       "54   nyt://article/f60c2c42-854b-595d-a23a-50b6eb1d...     2022-01-16   \n",
       "32   nyt://article/b24f375a-8d8c-56e5-8929-4a094ab5...     2022-01-16   \n",
       "22   nyt://article/f733e3f7-4925-5411-b1bd-36741401...     2022-01-16   \n",
       "43   nyt://article/5a554ca1-399e-54a4-806e-efa7c3d2...     2022-01-16   \n",
       "50   nyt://article/3b9a2eab-1784-57b9-94a2-992658d3...     2022-01-16   \n",
       "28   nyt://article/2e2fc4e8-a1dd-553a-a182-cd4730bb...     2022-01-16   \n",
       "10   nyt://article/de14a612-62c2-5de2-883d-6e58ca64...     2022-01-16   \n",
       "\n",
       "    predictions_from_proba  \n",
       "13                0.223316  \n",
       "71                0.150811  \n",
       "9                  0.12738  \n",
       "97               0.0763397  \n",
       "94               0.0617947  \n",
       "66               0.0586781  \n",
       "68               0.0553491  \n",
       "55                0.051074  \n",
       "116              0.0415633  \n",
       "57               0.0404923  \n",
       "151              0.0365366  \n",
       "131              0.0360226  \n",
       "83               0.0347717  \n",
       "54               0.0342576  \n",
       "32               0.0329454  \n",
       "22               0.0326367  \n",
       "43               0.0312874  \n",
       "50               0.0301566  \n",
       "28               0.0295023  \n",
       "10               0.0287187  "
      ]
     },
     "execution_count": 226,
     "metadata": {},
     "output_type": "execute_result"
    }
   ],
   "source": [
    "top_20_from_proba = pd.DataFrame([deployed_article_ids, date_published, predictions_from_proba]).T\n",
    "\n",
    "top_20_from_proba.sort_values('predictions_from_proba', ascending=False, inplace=True) \n",
    "top_20_from_proba = top_20_from_proba[:20]\n",
    "top_20_from_proba"
   ]
  },
  {
   "cell_type": "code",
   "execution_count": 227,
   "metadata": {},
   "outputs": [
    {
     "data": {
      "text/html": [
       "<div>\n",
       "<style scoped>\n",
       "    .dataframe tbody tr th:only-of-type {\n",
       "        vertical-align: middle;\n",
       "    }\n",
       "\n",
       "    .dataframe tbody tr th {\n",
       "        vertical-align: top;\n",
       "    }\n",
       "\n",
       "    .dataframe thead th {\n",
       "        text-align: right;\n",
       "    }\n",
       "</style>\n",
       "<table border=\"1\" class=\"dataframe\">\n",
       "  <thead>\n",
       "    <tr style=\"text-align: right;\">\n",
       "      <th></th>\n",
       "      <th>uri</th>\n",
       "      <th>date_published</th>\n",
       "      <th>predictions_from_class</th>\n",
       "    </tr>\n",
       "  </thead>\n",
       "  <tbody>\n",
       "    <tr>\n",
       "      <th>66</th>\n",
       "      <td>nyt://article/0b018061-56cb-5893-b627-bd8672f8...</td>\n",
       "      <td>2022-01-16</td>\n",
       "      <td>0.0698198</td>\n",
       "    </tr>\n",
       "    <tr>\n",
       "      <th>76</th>\n",
       "      <td>nyt://article/ba0054b2-662a-5407-9ffe-67395de7...</td>\n",
       "      <td>2022-01-17</td>\n",
       "      <td>0.0698198</td>\n",
       "    </tr>\n",
       "    <tr>\n",
       "      <th>185</th>\n",
       "      <td>nyt://article/fefd2ada-1e95-5285-9cb9-f6f1bc25...</td>\n",
       "      <td>2022-01-18</td>\n",
       "      <td>0.0541368</td>\n",
       "    </tr>\n",
       "    <tr>\n",
       "      <th>87</th>\n",
       "      <td>nyt://article/545bdf52-0513-59a3-bbfc-7a08a7b6...</td>\n",
       "      <td>2022-01-17</td>\n",
       "      <td>0.047523</td>\n",
       "    </tr>\n",
       "    <tr>\n",
       "      <th>188</th>\n",
       "      <td>nyt://article/0ad13616-3863-555a-bc31-e92c54e5...</td>\n",
       "      <td>2022-01-18</td>\n",
       "      <td>0.047523</td>\n",
       "    </tr>\n",
       "    <tr>\n",
       "      <th>34</th>\n",
       "      <td>nyt://article/298ee593-7489-5162-b365-9cda4f19...</td>\n",
       "      <td>2022-01-16</td>\n",
       "      <td>0.047523</td>\n",
       "    </tr>\n",
       "    <tr>\n",
       "      <th>117</th>\n",
       "      <td>nyt://article/27af93c5-c92f-5298-8c6d-7735843e...</td>\n",
       "      <td>2022-01-17</td>\n",
       "      <td>0.047523</td>\n",
       "    </tr>\n",
       "    <tr>\n",
       "      <th>86</th>\n",
       "      <td>nyt://article/077ec038-e39b-55be-ac40-26881147...</td>\n",
       "      <td>2022-01-17</td>\n",
       "      <td>0.047523</td>\n",
       "    </tr>\n",
       "    <tr>\n",
       "      <th>68</th>\n",
       "      <td>nyt://article/fa264535-6958-54b0-8ad5-1f1cf625...</td>\n",
       "      <td>2022-01-17</td>\n",
       "      <td>0.047523</td>\n",
       "    </tr>\n",
       "    <tr>\n",
       "      <th>130</th>\n",
       "      <td>nyt://article/29177d24-632b-533d-bee0-5a4bcf69...</td>\n",
       "      <td>2022-01-17</td>\n",
       "      <td>0.047523</td>\n",
       "    </tr>\n",
       "    <tr>\n",
       "      <th>72</th>\n",
       "      <td>nyt://article/f81238c5-d68e-54d9-a6ee-4f0ccb05...</td>\n",
       "      <td>2022-01-17</td>\n",
       "      <td>0.047523</td>\n",
       "    </tr>\n",
       "    <tr>\n",
       "      <th>93</th>\n",
       "      <td>nyt://article/fa9851c1-6eaf-5526-8a9f-c75da143...</td>\n",
       "      <td>2022-01-17</td>\n",
       "      <td>0.047523</td>\n",
       "    </tr>\n",
       "    <tr>\n",
       "      <th>81</th>\n",
       "      <td>nyt://article/43027cd3-0360-5c4a-8342-229ac76a...</td>\n",
       "      <td>2022-01-17</td>\n",
       "      <td>0.047523</td>\n",
       "    </tr>\n",
       "    <tr>\n",
       "      <th>151</th>\n",
       "      <td>nyt://article/0b2b3a49-a2bc-58bf-89e8-e3cdc9f3...</td>\n",
       "      <td>2022-01-18</td>\n",
       "      <td>0.047523</td>\n",
       "    </tr>\n",
       "    <tr>\n",
       "      <th>180</th>\n",
       "      <td>nyt://article/e0b87caf-162b-5c2d-adaf-3f37dd2b...</td>\n",
       "      <td>2022-01-18</td>\n",
       "      <td>0.0425233</td>\n",
       "    </tr>\n",
       "    <tr>\n",
       "      <th>71</th>\n",
       "      <td>nyt://article/0e723422-6b71-5929-8487-2d0a7e49...</td>\n",
       "      <td>2022-01-17</td>\n",
       "      <td>0.0425233</td>\n",
       "    </tr>\n",
       "    <tr>\n",
       "      <th>50</th>\n",
       "      <td>nyt://article/3b9a2eab-1784-57b9-94a2-992658d3...</td>\n",
       "      <td>2022-01-16</td>\n",
       "      <td>0.0425233</td>\n",
       "    </tr>\n",
       "    <tr>\n",
       "      <th>19</th>\n",
       "      <td>nyt://article/58fc3d92-1a3c-5365-8077-c512e581...</td>\n",
       "      <td>2022-01-16</td>\n",
       "      <td>0.0425233</td>\n",
       "    </tr>\n",
       "    <tr>\n",
       "      <th>143</th>\n",
       "      <td>nyt://article/dddfa813-98d5-5c51-9e64-727e101f...</td>\n",
       "      <td>2022-01-17</td>\n",
       "      <td>0.036651</td>\n",
       "    </tr>\n",
       "    <tr>\n",
       "      <th>57</th>\n",
       "      <td>nyt://article/0f048161-03a7-57e4-bc29-9c818a72...</td>\n",
       "      <td>2022-01-16</td>\n",
       "      <td>0.036651</td>\n",
       "    </tr>\n",
       "  </tbody>\n",
       "</table>\n",
       "</div>"
      ],
      "text/plain": [
       "                                                   uri date_published  \\\n",
       "66   nyt://article/0b018061-56cb-5893-b627-bd8672f8...     2022-01-16   \n",
       "76   nyt://article/ba0054b2-662a-5407-9ffe-67395de7...     2022-01-17   \n",
       "185  nyt://article/fefd2ada-1e95-5285-9cb9-f6f1bc25...     2022-01-18   \n",
       "87   nyt://article/545bdf52-0513-59a3-bbfc-7a08a7b6...     2022-01-17   \n",
       "188  nyt://article/0ad13616-3863-555a-bc31-e92c54e5...     2022-01-18   \n",
       "34   nyt://article/298ee593-7489-5162-b365-9cda4f19...     2022-01-16   \n",
       "117  nyt://article/27af93c5-c92f-5298-8c6d-7735843e...     2022-01-17   \n",
       "86   nyt://article/077ec038-e39b-55be-ac40-26881147...     2022-01-17   \n",
       "68   nyt://article/fa264535-6958-54b0-8ad5-1f1cf625...     2022-01-17   \n",
       "130  nyt://article/29177d24-632b-533d-bee0-5a4bcf69...     2022-01-17   \n",
       "72   nyt://article/f81238c5-d68e-54d9-a6ee-4f0ccb05...     2022-01-17   \n",
       "93   nyt://article/fa9851c1-6eaf-5526-8a9f-c75da143...     2022-01-17   \n",
       "81   nyt://article/43027cd3-0360-5c4a-8342-229ac76a...     2022-01-17   \n",
       "151  nyt://article/0b2b3a49-a2bc-58bf-89e8-e3cdc9f3...     2022-01-18   \n",
       "180  nyt://article/e0b87caf-162b-5c2d-adaf-3f37dd2b...     2022-01-18   \n",
       "71   nyt://article/0e723422-6b71-5929-8487-2d0a7e49...     2022-01-17   \n",
       "50   nyt://article/3b9a2eab-1784-57b9-94a2-992658d3...     2022-01-16   \n",
       "19   nyt://article/58fc3d92-1a3c-5365-8077-c512e581...     2022-01-16   \n",
       "143  nyt://article/dddfa813-98d5-5c51-9e64-727e101f...     2022-01-17   \n",
       "57   nyt://article/0f048161-03a7-57e4-bc29-9c818a72...     2022-01-16   \n",
       "\n",
       "    predictions_from_class  \n",
       "66               0.0698198  \n",
       "76               0.0698198  \n",
       "185              0.0541368  \n",
       "87                0.047523  \n",
       "188               0.047523  \n",
       "34                0.047523  \n",
       "117               0.047523  \n",
       "86                0.047523  \n",
       "68                0.047523  \n",
       "130               0.047523  \n",
       "72                0.047523  \n",
       "93                0.047523  \n",
       "81                0.047523  \n",
       "151               0.047523  \n",
       "180              0.0425233  \n",
       "71               0.0425233  \n",
       "50               0.0425233  \n",
       "19               0.0425233  \n",
       "143               0.036651  \n",
       "57                0.036651  "
      ]
     },
     "execution_count": 227,
     "metadata": {},
     "output_type": "execute_result"
    }
   ],
   "source": [
    "top_20_from_class = pd.DataFrame([deployed_article_ids, date_published, predictions_from_class]).T\n",
    "\n",
    "top_20_from_class.sort_values('predictions_from_class', ascending=False, inplace=True)\n",
    "top_20_from_class = top_20_from_class[:20]\n",
    "top_20_from_class"
   ]
  },
  {
   "cell_type": "code",
   "execution_count": null,
   "metadata": {},
   "outputs": [],
   "source": []
  },
  {
   "cell_type": "code",
   "execution_count": null,
   "metadata": {},
   "outputs": [],
   "source": []
  },
  {
   "cell_type": "code",
   "execution_count": null,
   "metadata": {},
   "outputs": [],
   "source": [
    "def save_predictions(prediction_day, proba_top_20, class_top_20):\n",
    "    \n",
    "    proba_top_20.to_csv(f'data/predctions/proba_top_20_{prediction_day}.csv')\n",
    "    class_top_20.to_csv(f'data/predctions/proba_top_20_{prediction_day}.csv')"
   ]
  },
  {
   "cell_type": "code",
   "execution_count": null,
   "metadata": {},
   "outputs": [],
   "source": []
  },
  {
   "cell_type": "code",
   "execution_count": null,
   "metadata": {},
   "outputs": [],
   "source": [
    "def test_predictions(prediction_day):\n",
    "    \n",
    "    \n",
    "    \n",
    "    "
   ]
  },
  {
   "cell_type": "code",
   "execution_count": null,
   "metadata": {},
   "outputs": [],
   "source": []
  },
  {
   "cell_type": "code",
   "execution_count": null,
   "metadata": {},
   "outputs": [],
   "source": []
  },
  {
   "cell_type": "code",
   "execution_count": null,
   "metadata": {},
   "outputs": [],
   "source": []
  },
  {
   "cell_type": "code",
   "execution_count": null,
   "metadata": {},
   "outputs": [],
   "source": []
  },
  {
   "cell_type": "code",
   "execution_count": null,
   "metadata": {},
   "outputs": [],
   "source": [
    "test_idx = pd.Index([23,46,78])"
   ]
  },
  {
   "cell_type": "code",
   "execution_count": null,
   "metadata": {},
   "outputs": [],
   "source": [
    "col1 = pd.Series([1,2,3], index=test_idx)\n",
    "col2 = [4,5,6]"
   ]
  },
  {
   "cell_type": "code",
   "execution_count": null,
   "metadata": {},
   "outputs": [],
   "source": [
    "col1"
   ]
  },
  {
   "cell_type": "code",
   "execution_count": null,
   "metadata": {},
   "outputs": [],
   "source": [
    "test_df = pd.DataFrame([col1, pd.Series(col2, index=col1.index)]).T.sort_values(1, ascending=False)\n",
    "test_df"
   ]
  },
  {
   "cell_type": "code",
   "execution_count": null,
   "metadata": {},
   "outputs": [],
   "source": [
    "test_df.iloc[:, -1:]"
   ]
  },
  {
   "cell_type": "code",
   "execution_count": null,
   "metadata": {},
   "outputs": [],
   "source": []
  }
 ],
 "metadata": {
  "kernelspec": {
   "display_name": "Python (learn-env)",
   "language": "python",
   "name": "learn-env"
  },
  "language_info": {
   "codemirror_mode": {
    "name": "ipython",
    "version": 3
   },
   "file_extension": ".py",
   "mimetype": "text/x-python",
   "name": "python",
   "nbconvert_exporter": "python",
   "pygments_lexer": "ipython3",
   "version": "3.8.5"
  }
 },
 "nbformat": 4,
 "nbformat_minor": 4
}
