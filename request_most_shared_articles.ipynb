{
 "cells": [
  {
   "cell_type": "markdown",
   "metadata": {},
   "source": [
    "# Grabbing Most Shared Articles For Day Of "
   ]
  },
  {
   "cell_type": "code",
   "execution_count": 123,
   "metadata": {},
   "outputs": [],
   "source": [
    " # import needed libraries   \n",
    "import requests \n",
    "import json\n",
    "import pandas as pd"
   ]
  },
  {
   "cell_type": "code",
   "execution_count": 124,
   "metadata": {},
   "outputs": [],
   "source": [
    "#function to access private API key\n",
    "def get_api_key(path):\n",
    "    with open(path) as f:\n",
    "        return json.load(f)"
   ]
  },
  {
   "cell_type": "code",
   "execution_count": 125,
   "metadata": {},
   "outputs": [],
   "source": [
    "# function to get a list of most shared articles for provided time period (in days)\n",
    "def get_most_shared_articles(search_period):\n",
    "    most_shared_articles = []\n",
    "    period = str(search_period)\n",
    "    \n",
    "    # get API key from private folder in director out of repo\n",
    "    api_key = get_api_key(\"../.nyt_api.json\")['api_key']\n",
    "    url = f'https://api.nytimes.com/svc/mostpopular/v2/shared/{period}/facebook.json?api-key={api_key}'\n",
    "    response = requests.get(url)\n",
    "    response_json = response.json()\n",
    "    most_shared_articles = response_json['results']\n",
    "    \n",
    "    return most_shared_articles"
   ]
  },
  {
   "cell_type": "code",
   "execution_count": 126,
   "metadata": {},
   "outputs": [],
   "source": [
    "# function to extract only needed information and make strings lowercase \n",
    "def cleaned_shared_articles(most_shared_articles):\n",
    "    cleaned_articles = []\n",
    "    \n",
    "    # loop through every article and append to empty list \n",
    "    for article in most_shared_articles:\n",
    "        date = pd.Timestamp(\"today\").strftime(\"%m/%d/%Y\")\n",
    "        idx = pd.to_datetime(date)\n",
    "        uri = article['uri']\n",
    "        date_published = pd.to_datetime(article['published_date'])\n",
    "        cleaned_articles.append([idx, uri, date_published])\n",
    "        \n",
    "    return cleaned_articles"
   ]
  },
  {
   "cell_type": "code",
   "execution_count": 133,
   "metadata": {},
   "outputs": [],
   "source": [
    "# access current day to label data with the day it was accessed \n",
    "date_sourced = pd.Timestamp(\"today\").strftime(\"%m/%d/%Y\")\n",
    "date_sourced = date_sourced.replace('/','_')"
   ]
  },
  {
   "cell_type": "code",
   "execution_count": 127,
   "metadata": {},
   "outputs": [],
   "source": [
    "# uncomment to initalize some data from the past 30 days\n",
    "# most_shared_before = get_most_shared_articles(30)"
   ]
  },
  {
   "cell_type": "code",
   "execution_count": 128,
   "metadata": {},
   "outputs": [],
   "source": [
    "# cleaned_most_shared_before = cleaned_shared_articles(most_shared_before)"
   ]
  },
  {
   "cell_type": "code",
   "execution_count": 129,
   "metadata": {},
   "outputs": [],
   "source": [
    "# df_shared_before = pd.DataFrame(cleaned_most_shared_before)"
   ]
  },
  {
   "cell_type": "code",
   "execution_count": 130,
   "metadata": {},
   "outputs": [],
   "source": [
    "# df_shared_before.columns = ['date_sourced', 'uri', 'date_published']"
   ]
  },
  {
   "cell_type": "code",
   "execution_count": 131,
   "metadata": {},
   "outputs": [
    {
     "data": {
      "text/html": [
       "<div>\n",
       "<style scoped>\n",
       "    .dataframe tbody tr th:only-of-type {\n",
       "        vertical-align: middle;\n",
       "    }\n",
       "\n",
       "    .dataframe tbody tr th {\n",
       "        vertical-align: top;\n",
       "    }\n",
       "\n",
       "    .dataframe thead th {\n",
       "        text-align: right;\n",
       "    }\n",
       "</style>\n",
       "<table border=\"1\" class=\"dataframe\">\n",
       "  <thead>\n",
       "    <tr style=\"text-align: right;\">\n",
       "      <th></th>\n",
       "      <th>date_sourced</th>\n",
       "      <th>uri</th>\n",
       "      <th>date_published</th>\n",
       "    </tr>\n",
       "  </thead>\n",
       "  <tbody>\n",
       "    <tr>\n",
       "      <th>0</th>\n",
       "      <td>2022-01-10</td>\n",
       "      <td>nyt://article/6f45b821-a697-523e-829e-66556e55...</td>\n",
       "      <td>2021-12-21</td>\n",
       "    </tr>\n",
       "    <tr>\n",
       "      <th>1</th>\n",
       "      <td>2022-01-10</td>\n",
       "      <td>nyt://article/b7811354-a328-59f5-86db-8f5f7005...</td>\n",
       "      <td>2021-12-16</td>\n",
       "    </tr>\n",
       "    <tr>\n",
       "      <th>2</th>\n",
       "      <td>2022-01-10</td>\n",
       "      <td>nyt://article/3f80bf2b-9d3d-56f7-be54-cdb8ccfc...</td>\n",
       "      <td>2021-12-10</td>\n",
       "    </tr>\n",
       "    <tr>\n",
       "      <th>3</th>\n",
       "      <td>2022-01-10</td>\n",
       "      <td>nyt://article/4ce8e0c2-bdc1-5814-bcc6-35466240...</td>\n",
       "      <td>2021-11-30</td>\n",
       "    </tr>\n",
       "    <tr>\n",
       "      <th>4</th>\n",
       "      <td>2022-01-10</td>\n",
       "      <td>nyt://article/a978d157-36fa-51be-be2e-377b2091...</td>\n",
       "      <td>2021-12-22</td>\n",
       "    </tr>\n",
       "  </tbody>\n",
       "</table>\n",
       "</div>"
      ],
      "text/plain": [
       "  date_sourced                                                uri  \\\n",
       "0   2022-01-10  nyt://article/6f45b821-a697-523e-829e-66556e55...   \n",
       "1   2022-01-10  nyt://article/b7811354-a328-59f5-86db-8f5f7005...   \n",
       "2   2022-01-10  nyt://article/3f80bf2b-9d3d-56f7-be54-cdb8ccfc...   \n",
       "3   2022-01-10  nyt://article/4ce8e0c2-bdc1-5814-bcc6-35466240...   \n",
       "4   2022-01-10  nyt://article/a978d157-36fa-51be-be2e-377b2091...   \n",
       "\n",
       "  date_published  \n",
       "0     2021-12-21  \n",
       "1     2021-12-16  \n",
       "2     2021-12-10  \n",
       "3     2021-11-30  \n",
       "4     2021-12-22  "
      ]
     },
     "execution_count": 131,
     "metadata": {},
     "output_type": "execute_result"
    }
   ],
   "source": [
    "# df_shared_before.head()"
   ]
  },
  {
   "cell_type": "code",
   "execution_count": 132,
   "metadata": {},
   "outputs": [
    {
     "data": {
      "text/plain": [
       "(20, 3)"
      ]
     },
     "execution_count": 132,
     "metadata": {},
     "output_type": "execute_result"
    }
   ],
   "source": [
    "# df_shared_before.shape"
   ]
  },
  {
   "cell_type": "code",
   "execution_count": 134,
   "metadata": {},
   "outputs": [],
   "source": [
    "# df_shared_before.to_csv(f'data/most_popular/most_shared_before{date_sourced}.csv', index=False)"
   ]
  },
  {
   "cell_type": "code",
   "execution_count": 135,
   "metadata": {},
   "outputs": [],
   "source": [
    "# make API call with function to get most shared articles from previous day \n",
    "most_shared_articles = get_most_shared_articles(1)"
   ]
  },
  {
   "cell_type": "code",
   "execution_count": 136,
   "metadata": {},
   "outputs": [],
   "source": [
    "# pass list of articles through cleaning function \n",
    "cleaned_most_shared = cleaned_shared_articles(most_shared_articles)"
   ]
  },
  {
   "cell_type": "code",
   "execution_count": 137,
   "metadata": {},
   "outputs": [],
   "source": [
    "# put articles in dataframe\n",
    "df_shared = pd.DataFrame(cleaned_most_shared)"
   ]
  },
  {
   "cell_type": "code",
   "execution_count": 138,
   "metadata": {},
   "outputs": [],
   "source": [
    "# rename columns to strings \n",
    "df_shared.columns = ['date_sourced', 'uri', 'date_published']"
   ]
  },
  {
   "cell_type": "code",
   "execution_count": 139,
   "metadata": {},
   "outputs": [
    {
     "data": {
      "text/html": [
       "<div>\n",
       "<style scoped>\n",
       "    .dataframe tbody tr th:only-of-type {\n",
       "        vertical-align: middle;\n",
       "    }\n",
       "\n",
       "    .dataframe tbody tr th {\n",
       "        vertical-align: top;\n",
       "    }\n",
       "\n",
       "    .dataframe thead th {\n",
       "        text-align: right;\n",
       "    }\n",
       "</style>\n",
       "<table border=\"1\" class=\"dataframe\">\n",
       "  <thead>\n",
       "    <tr style=\"text-align: right;\">\n",
       "      <th></th>\n",
       "      <th>date_sourced</th>\n",
       "      <th>uri</th>\n",
       "      <th>date_published</th>\n",
       "    </tr>\n",
       "  </thead>\n",
       "  <tbody>\n",
       "    <tr>\n",
       "      <th>0</th>\n",
       "      <td>2022-01-10</td>\n",
       "      <td>nyt://article/642b4860-875d-51c6-be7b-1a2d253b...</td>\n",
       "      <td>2022-01-09</td>\n",
       "    </tr>\n",
       "    <tr>\n",
       "      <th>1</th>\n",
       "      <td>2022-01-10</td>\n",
       "      <td>nyt://article/ba267421-f4dd-5ae6-84fc-304bbf52...</td>\n",
       "      <td>2022-01-09</td>\n",
       "    </tr>\n",
       "    <tr>\n",
       "      <th>2</th>\n",
       "      <td>2022-01-10</td>\n",
       "      <td>nyt://article/01fc5474-6904-5aca-8e4f-d1c5b57b...</td>\n",
       "      <td>2022-01-09</td>\n",
       "    </tr>\n",
       "    <tr>\n",
       "      <th>3</th>\n",
       "      <td>2022-01-10</td>\n",
       "      <td>nyt://article/c8a2d343-a7a4-55ba-ad65-e5dd5310...</td>\n",
       "      <td>2022-01-09</td>\n",
       "    </tr>\n",
       "    <tr>\n",
       "      <th>4</th>\n",
       "      <td>2022-01-10</td>\n",
       "      <td>nyt://article/960bacd2-8e63-5abc-9fbc-d124e34b...</td>\n",
       "      <td>2022-01-09</td>\n",
       "    </tr>\n",
       "  </tbody>\n",
       "</table>\n",
       "</div>"
      ],
      "text/plain": [
       "  date_sourced                                                uri  \\\n",
       "0   2022-01-10  nyt://article/642b4860-875d-51c6-be7b-1a2d253b...   \n",
       "1   2022-01-10  nyt://article/ba267421-f4dd-5ae6-84fc-304bbf52...   \n",
       "2   2022-01-10  nyt://article/01fc5474-6904-5aca-8e4f-d1c5b57b...   \n",
       "3   2022-01-10  nyt://article/c8a2d343-a7a4-55ba-ad65-e5dd5310...   \n",
       "4   2022-01-10  nyt://article/960bacd2-8e63-5abc-9fbc-d124e34b...   \n",
       "\n",
       "  date_published  \n",
       "0     2022-01-09  \n",
       "1     2022-01-09  \n",
       "2     2022-01-09  \n",
       "3     2022-01-09  \n",
       "4     2022-01-09  "
      ]
     },
     "execution_count": 139,
     "metadata": {},
     "output_type": "execute_result"
    }
   ],
   "source": [
    "df_shared.head()"
   ]
  },
  {
   "cell_type": "code",
   "execution_count": 140,
   "metadata": {},
   "outputs": [
    {
     "data": {
      "text/plain": [
       "(20, 3)"
      ]
     },
     "execution_count": 140,
     "metadata": {},
     "output_type": "execute_result"
    }
   ],
   "source": [
    "df_shared.shape"
   ]
  },
  {
   "cell_type": "code",
   "execution_count": 141,
   "metadata": {},
   "outputs": [],
   "source": [
    "# df_shared.to_csv(f'data/most_popular/most_shared_{date_sourced}.csv', index=False) "
   ]
  },
  {
   "cell_type": "code",
   "execution_count": null,
   "metadata": {},
   "outputs": [],
   "source": [
    "\"\"\" uncoment and unindent next line to divert top 20 lists for deployment into a different folder.\n",
    "    comment line above to prevent delpoyment data from leaking into training folder.\n",
    "\"\"\"\n",
    "    # df_shared.to_csv(f'data/most_popular_deploy/most_shared_{date_sourced}.csv', index=False)"
   ]
  }
 ],
 "metadata": {
  "kernelspec": {
   "display_name": "Python (learn-env)",
   "language": "python",
   "name": "learn-env"
  },
  "language_info": {
   "codemirror_mode": {
    "name": "ipython",
    "version": 3
   },
   "file_extension": ".py",
   "mimetype": "text/x-python",
   "name": "python",
   "nbconvert_exporter": "python",
   "pygments_lexer": "ipython3",
   "version": "3.8.5"
  }
 },
 "nbformat": 4,
 "nbformat_minor": 4
}
