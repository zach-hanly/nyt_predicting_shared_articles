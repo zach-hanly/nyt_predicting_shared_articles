{
 "cells": [
  {
   "cell_type": "markdown",
   "metadata": {},
   "source": [
    "# Predicting News Article Popularity "
   ]
  },
  {
   "cell_type": "markdown",
   "metadata": {},
   "source": [
    "## Business Understanding \n",
    "\n",
    "Advertising on social media has empowered new and smaller media companies to publish textual content to a broader audience, which can then further spread their content. This presents the decision to make about which content to advertise or share in order to maximize the publisher’s reach. For even the smallest publishers, this decision can be supported with simple machine learning models analyzing content metadata. "
   ]
  },
  {
   "cell_type": "markdown",
   "metadata": {},
   "source": [
    "## Data Understanding \n",
    "\n",
    "In order to show how social media popularity for textual media can be modeled, article metadata was gathered from the New York Time's API website. Although one of the largest publishers of news articles, the data is of very high quality and should resemble what other companies have access to in-house. \n",
    "\n",
    "Two APIs were used. First, the __[NYT Archive API](https://developer.nytimes.com/docs/archive-product/1/overview)__,  which returns every article for a given range of months and years. Second, the __[NYT Most Popular API](https://developer.nytimes.com/docs/most-popular-product/1/overview)__, which returns the most popular articles on NYTimes.com based on emails, Facebook shares, or views on the NYT site. For this project Facebook shares were chosen and calls were made to the API once per day to gather that day's top 20 list. Articles in the archive that were listed on a top 20 list were then labeled as a popular article for a modeling target.  "
   ]
  },
  {
   "cell_type": "markdown",
   "metadata": {},
   "source": [
    "#### Importing the required packages"
   ]
  },
  {
   "cell_type": "code",
   "execution_count": 1,
   "metadata": {},
   "outputs": [],
   "source": [
    "# file manipulation \n",
    "import os\n",
    "\n",
    "# data manipulation \n",
    "import re\n",
    "import datetime as dt\n",
    "import pandas as pd\n",
    "import numpy as np\n",
    "import math\n",
    "from functions import *\n",
    "\n",
    "# modeling \n",
    "from sklearn.model_selection import train_test_split, GridSearchCV\n",
    "from sklearn.feature_extraction.text import TfidfVectorizer, CountVectorizer\n",
    "from sklearn.preprocessing import StandardScaler\n",
    "from sklearn.dummy import DummyClassifier\n",
    "from sklearn.ensemble import RandomForestClassifier\n",
    "from sklearn.linear_model import LogisticRegression\n",
    "from sklearn.pipeline import Pipeline\n",
    "from sklearn.metrics import accuracy_score, plot_confusion_matrix, plot_roc_curve\n",
    "\n",
    "# sampling\n",
    "from imblearn.over_sampling import SMOTE\n",
    "\n",
    "# preprocessing text\n",
    "import nltk\n",
    "from nltk.corpus import stopwords, wordnet\n",
    "from nltk.tokenize import RegexpTokenizer\n",
    "from nltk import pos_tag\n",
    "from nltk.stem import WordNetLemmatizer \n",
    "\n",
    "\n",
    "# plotting \n",
    "import matplotlib.pyplot as plt\n",
    "import seaborn as sns\n",
    "sns.set_context('notebook')"
   ]
  },
  {
   "cell_type": "markdown",
   "metadata": {},
   "source": [
    "#### Loading the data\n",
    "The scripts to request, clean and store both the article archive data and the daily top 20 most shared on Facebook lists can be found in [request_archive.py](./request_archive.py) and [request_most_shared_articles.py](./request_most_shared_articles.py). One request for a top 20 list for the previous 30 days was made to help label some articles in the archive as popular that were published before daily collection of a top 20 list was begun. \n",
    "\n",
    "The archive data contains all articles from December and all from January up to the end of the training phase on January 15th. Any rows with Null values in the archive were dropped and the date published column was changed to the datetime data type. The metadate that was collected for modeling was the headline of the article, keywords for the article, a snippet from the article and the word count for the article. Additionally the URI and date published was grabbed for each article. \n",
    "\n",
    "For each top 20 list the URI, date published and date the list was sourced was taken. "
   ]
  },
  {
   "cell_type": "code",
   "execution_count": 103,
   "metadata": {},
   "outputs": [],
   "source": [
    "# load archive articles from csv in data directory\n",
    "df = pd.read_csv('data/exp_archive.csv')\n",
    "df.date_published = df.date_published.apply(lambda x: pd.to_datetime(x).date())\n",
    "cutoff_date = pd.to_datetime('2022-01-07').date()\n",
    "last_training_day = pd.to_datetime('2022/01/15').date()\n",
    "df = df[(df.date_published >= cutoff_date)&(df.date_published <= last_training_day)]\n",
    "df.dropna(inplace=True)\n",
    "\n",
    "# load seperate top 20 lists in folder in data directory into single dataframe \n",
    "df_most_shared = load_most_shared('data/most_popular_train')"
   ]
  },
  {
   "cell_type": "markdown",
   "metadata": {},
   "source": [
    "<br>\n",
    "A list was made to house the URI's, the unique index for each article, for articles appearing on a top 20 list at least once. Then a popular column was created for the archive dataframe by iterating over the list of the highly shared articles and assigning a 0 if that article's URI was not present on the list and 1 for if it was. This is the target column for the models."
   ]
  },
  {
   "cell_type": "code",
   "execution_count": 104,
   "metadata": {},
   "outputs": [],
   "source": [
    "# create list, then interate over it to make target column\n",
    "popular_list = df_most_shared.uri.values\n",
    "df['popular'] = [1 if x in popular_list else 0 for x in df.uri.values]"
   ]
  },
  {
   "cell_type": "code",
   "execution_count": 105,
   "metadata": {},
   "outputs": [
    {
     "data": {
      "text/html": [
       "<div>\n",
       "<style scoped>\n",
       "    .dataframe tbody tr th:only-of-type {\n",
       "        vertical-align: middle;\n",
       "    }\n",
       "\n",
       "    .dataframe tbody tr th {\n",
       "        vertical-align: top;\n",
       "    }\n",
       "\n",
       "    .dataframe thead th {\n",
       "        text-align: right;\n",
       "    }\n",
       "</style>\n",
       "<table border=\"1\" class=\"dataframe\">\n",
       "  <thead>\n",
       "    <tr style=\"text-align: right;\">\n",
       "      <th></th>\n",
       "      <th>uri</th>\n",
       "      <th>date_published</th>\n",
       "      <th>headline</th>\n",
       "      <th>keywords</th>\n",
       "      <th>paragraph</th>\n",
       "      <th>word_count</th>\n",
       "      <th>popular</th>\n",
       "    </tr>\n",
       "  </thead>\n",
       "  <tbody>\n",
       "    <tr>\n",
       "      <th>4588</th>\n",
       "      <td>nyt://article/9a39725e-999c-5ca0-bd57-530b3864...</td>\n",
       "      <td>2022-01-07</td>\n",
       "      <td>jamie raskin’s year of tragedy and trump</td>\n",
       "      <td>united states politics and governmentstorming ...</td>\n",
       "      <td>hi. welcome to on politics, your guide to the ...</td>\n",
       "      <td>1516</td>\n",
       "      <td>0</td>\n",
       "    </tr>\n",
       "    <tr>\n",
       "      <th>4589</th>\n",
       "      <td>nyt://article/23b1e58f-74d9-5959-b63b-551d56a6...</td>\n",
       "      <td>2022-01-07</td>\n",
       "      <td>the economic case for goldilocks</td>\n",
       "      <td>inflation (economics)labor and jobscoronavirus...</td>\n",
       "      <td>for the u.s. economy, 2021 was both the best o...</td>\n",
       "      <td>887</td>\n",
       "      <td>0</td>\n",
       "    </tr>\n",
       "    <tr>\n",
       "      <th>4590</th>\n",
       "      <td>nyt://article/c60e5ca3-b3ab-56dd-ae03-e64d09a3...</td>\n",
       "      <td>2022-01-07</td>\n",
       "      <td>why democrats are so bad at defending democracy</td>\n",
       "      <td>voting rights, registration and requirementsab...</td>\n",
       "      <td>when it comes to elections, the republican par...</td>\n",
       "      <td>956</td>\n",
       "      <td>0</td>\n",
       "    </tr>\n",
       "    <tr>\n",
       "      <th>4591</th>\n",
       "      <td>nyt://article/64fe533c-78bf-5e8a-8cc3-718e22f5...</td>\n",
       "      <td>2022-01-07</td>\n",
       "      <td>ignoring trump didn’t work. biden goes after ‘...</td>\n",
       "      <td>storming of the us capitol (jan, 2021)biden, j...</td>\n",
       "      <td>washington — for most of his first year in off...</td>\n",
       "      <td>1411</td>\n",
       "      <td>0</td>\n",
       "    </tr>\n",
       "    <tr>\n",
       "      <th>4592</th>\n",
       "      <td>nyt://article/3262ab56-5372-55d5-87a5-f072bf2a...</td>\n",
       "      <td>2022-01-07</td>\n",
       "      <td>former biden advisers urge a pandemic strategy...</td>\n",
       "      <td>coronavirus (2019-ncov)biden, joseph r jrunite...</td>\n",
       "      <td>washington — on the day president biden was in...</td>\n",
       "      <td>1425</td>\n",
       "      <td>0</td>\n",
       "    </tr>\n",
       "  </tbody>\n",
       "</table>\n",
       "</div>"
      ],
      "text/plain": [
       "                                                    uri date_published  \\\n",
       "4588  nyt://article/9a39725e-999c-5ca0-bd57-530b3864...     2022-01-07   \n",
       "4589  nyt://article/23b1e58f-74d9-5959-b63b-551d56a6...     2022-01-07   \n",
       "4590  nyt://article/c60e5ca3-b3ab-56dd-ae03-e64d09a3...     2022-01-07   \n",
       "4591  nyt://article/64fe533c-78bf-5e8a-8cc3-718e22f5...     2022-01-07   \n",
       "4592  nyt://article/3262ab56-5372-55d5-87a5-f072bf2a...     2022-01-07   \n",
       "\n",
       "                                               headline  \\\n",
       "4588           jamie raskin’s year of tragedy and trump   \n",
       "4589                   the economic case for goldilocks   \n",
       "4590    why democrats are so bad at defending democracy   \n",
       "4591  ignoring trump didn’t work. biden goes after ‘...   \n",
       "4592  former biden advisers urge a pandemic strategy...   \n",
       "\n",
       "                                               keywords  \\\n",
       "4588  united states politics and governmentstorming ...   \n",
       "4589  inflation (economics)labor and jobscoronavirus...   \n",
       "4590  voting rights, registration and requirementsab...   \n",
       "4591  storming of the us capitol (jan, 2021)biden, j...   \n",
       "4592  coronavirus (2019-ncov)biden, joseph r jrunite...   \n",
       "\n",
       "                                              paragraph  word_count  popular  \n",
       "4588  hi. welcome to on politics, your guide to the ...        1516        0  \n",
       "4589  for the u.s. economy, 2021 was both the best o...         887        0  \n",
       "4590  when it comes to elections, the republican par...         956        0  \n",
       "4591  washington — for most of his first year in off...        1411        0  \n",
       "4592  washington — on the day president biden was in...        1425        0  "
      ]
     },
     "execution_count": 105,
     "metadata": {},
     "output_type": "execute_result"
    }
   ],
   "source": [
    "# view the dataframe\n",
    "df.head()"
   ]
  },
  {
   "cell_type": "markdown",
   "metadata": {},
   "source": [
    "## Exploratory Data Analysis  \n",
    "Checking `df.info()` shows that both DataFrame individually have equal values with no Null values to take care of. It also shows that the datatypes are what we expect and want. "
   ]
  },
  {
   "cell_type": "code",
   "execution_count": 106,
   "metadata": {},
   "outputs": [
    {
     "name": "stdout",
     "output_type": "stream",
     "text": [
      "<class 'pandas.core.frame.DataFrame'>\n",
      "Int64Index: 1047 entries, 4588 to 5726\n",
      "Data columns (total 7 columns):\n",
      " #   Column          Non-Null Count  Dtype \n",
      "---  ------          --------------  ----- \n",
      " 0   uri             1047 non-null   object\n",
      " 1   date_published  1047 non-null   object\n",
      " 2   headline        1047 non-null   object\n",
      " 3   keywords        1047 non-null   object\n",
      " 4   paragraph       1047 non-null   object\n",
      " 5   word_count      1047 non-null   int64 \n",
      " 6   popular         1047 non-null   int64 \n",
      "dtypes: int64(2), object(5)\n",
      "memory usage: 65.4+ KB\n",
      "None\n",
      "\n",
      "<class 'pandas.core.frame.DataFrame'>\n",
      "Index: 200 entries, 2022-01-18 to 2022-01-10\n",
      "Data columns (total 2 columns):\n",
      " #   Column          Non-Null Count  Dtype \n",
      "---  ------          --------------  ----- \n",
      " 0   uri             200 non-null    object\n",
      " 1   date_published  200 non-null    object\n",
      "dtypes: object(2)\n",
      "memory usage: 4.7+ KB\n",
      "None\n"
     ]
    }
   ],
   "source": [
    "print(df.info())\n",
    "print()\n",
    "print(df_most_shared.info())"
   ]
  },
  {
   "cell_type": "markdown",
   "metadata": {},
   "source": [
    "##### Archive articles\n",
    "Looking at the distribution of article popularity reveals massive class imbalance. Only 2% of the articles in the archive appear on a top 20 list. This is particularly because of the articles included in the archive that were published in December and January before daily top 20 lists were started to be collected. Due to the API's constraints, only the daily top 20 list from the day the request was made are available. "
   ]
  },
  {
   "cell_type": "code",
   "execution_count": 107,
   "metadata": {},
   "outputs": [
    {
     "data": {
      "text/html": [
       "<div>\n",
       "<style scoped>\n",
       "    .dataframe tbody tr th:only-of-type {\n",
       "        vertical-align: middle;\n",
       "    }\n",
       "\n",
       "    .dataframe tbody tr th {\n",
       "        vertical-align: top;\n",
       "    }\n",
       "\n",
       "    .dataframe thead th {\n",
       "        text-align: right;\n",
       "    }\n",
       "</style>\n",
       "<table border=\"1\" class=\"dataframe\">\n",
       "  <thead>\n",
       "    <tr style=\"text-align: right;\">\n",
       "      <th></th>\n",
       "      <th>sum</th>\n",
       "      <th>percentage</th>\n",
       "    </tr>\n",
       "    <tr>\n",
       "      <th>popular</th>\n",
       "      <th></th>\n",
       "      <th></th>\n",
       "    </tr>\n",
       "  </thead>\n",
       "  <tbody>\n",
       "    <tr>\n",
       "      <th>0</th>\n",
       "      <td>938</td>\n",
       "      <td>0.9</td>\n",
       "    </tr>\n",
       "    <tr>\n",
       "      <th>1</th>\n",
       "      <td>109</td>\n",
       "      <td>0.1</td>\n",
       "    </tr>\n",
       "  </tbody>\n",
       "</table>\n",
       "</div>"
      ],
      "text/plain": [
       "         sum  percentage\n",
       "popular                 \n",
       "0        938         0.9\n",
       "1        109         0.1"
      ]
     },
     "execution_count": 107,
     "metadata": {},
     "output_type": "execute_result"
    },
    {
     "data": {
      "image/png": "[encoded data removed]",
      "text/plain": [
       "<Figure size 432x288 with 1 Axes>"
      ]
     },
     "metadata": {
      "needs_background": "light"
     },
     "output_type": "display_data"
    }
   ],
   "source": [
    "# function makes a dataframe to display target variable value's sum and percentage\n",
    "# also, it plots the target variable's value distribution\n",
    "target_distribution = summerize_value_counts(df.popular)\n",
    "target_distribution"
   ]
  },
  {
   "cell_type": "markdown",
   "metadata": {},
   "source": [
    "##### Top 20 most shared articles\n",
    "Looking at each day's top 20 list and the distribution of dates when the articles were published originally shows that the majority of the articles on each list were published in the two days before the day of the list's creation, with a smaller proportion having been published three days before or on the day of creation.\n",
    "\n",
    "functions used to load, clean and plot the date are found in [functions.py](./functions.py)."
   ]
  },
  {
   "cell_type": "code",
   "execution_count": 108,
   "metadata": {},
   "outputs": [],
   "source": [
    "# load csv's into a list of dataframes \n",
    "df_list_load = load_most_shared_eda('data/most_popular_train')\n",
    "\n",
    "# change date columns to datetime dtype and sort list by date of top 20 list in ascending order \n",
    "df_list = clean_most_shared_eda(df_list_load)"
   ]
  },
  {
   "cell_type": "code",
   "execution_count": 109,
   "metadata": {},
   "outputs": [
    {
     "data": {
      "image/png": "[encoded data removed]",
      "text/plain": [
       "<Figure size 1440x1440 with 9 Axes>"
      ]
     },
     "metadata": {
      "needs_background": "light"
     },
     "output_type": "display_data"
    }
   ],
   "source": [
    "# generate correct amount of subplots based on length of list then plot each dataframe in list\n",
    "plot_most_shared(df_list)"
   ]
  },
  {
   "cell_type": "code",
   "execution_count": 110,
   "metadata": {},
   "outputs": [
    {
     "data": {
      "text/html": [
       "<div>\n",
       "<style scoped>\n",
       "    .dataframe tbody tr th:only-of-type {\n",
       "        vertical-align: middle;\n",
       "    }\n",
       "\n",
       "    .dataframe tbody tr th {\n",
       "        vertical-align: top;\n",
       "    }\n",
       "\n",
       "    .dataframe thead th {\n",
       "        text-align: right;\n",
       "    }\n",
       "</style>\n",
       "<table border=\"1\" class=\"dataframe\">\n",
       "  <thead>\n",
       "    <tr style=\"text-align: right;\">\n",
       "      <th></th>\n",
       "      <th>percentage</th>\n",
       "    </tr>\n",
       "  </thead>\n",
       "  <tbody>\n",
       "    <tr>\n",
       "      <th>0 days</th>\n",
       "      <td>3%</td>\n",
       "    </tr>\n",
       "    <tr>\n",
       "      <th>1 days</th>\n",
       "      <td>44%</td>\n",
       "    </tr>\n",
       "    <tr>\n",
       "      <th>2 days</th>\n",
       "      <td>45%</td>\n",
       "    </tr>\n",
       "    <tr>\n",
       "      <th>3 days</th>\n",
       "      <td>6%</td>\n",
       "    </tr>\n",
       "    <tr>\n",
       "      <th>4 days</th>\n",
       "      <td>2%</td>\n",
       "    </tr>\n",
       "    <tr>\n",
       "      <th>5 days</th>\n",
       "      <td>1%</td>\n",
       "    </tr>\n",
       "  </tbody>\n",
       "</table>\n",
       "</div>"
      ],
      "text/plain": [
       "       percentage\n",
       "0 days         3%\n",
       "1 days        44%\n",
       "2 days        45%\n",
       "3 days         6%\n",
       "4 days         2%\n",
       "5 days         1%"
      ]
     },
     "execution_count": 110,
     "metadata": {},
     "output_type": "execute_result"
    },
    {
     "data": {
      "image/png": "[encoded data removed]",
      "text/plain": [
       "<Figure size 432x288 with 1 Axes>"
      ]
     },
     "metadata": {
      "needs_background": "light"
     },
     "output_type": "display_data"
    }
   ],
   "source": [
    "time_delta, top_20_df = top_20_delta_perc(df_list)\n",
    "top_20_df"
   ]
  },
  {
   "cell_type": "markdown",
   "metadata": {},
   "source": [
    "## Data Preperation"
   ]
  },
  {
   "cell_type": "markdown",
   "metadata": {},
   "source": [
    "##### Train-Test Split\n",
    "Features are separated from the target and a test size of 40% is selected. This is because the final model is trained with the testing data results of the models before it. To ensure it has enough training data, a relatively high test size proportion was chosen. \n",
    "\n",
    "Also, the random state is established as 0, which will be the state for all models going forward. "
   ]
  },
  {
   "cell_type": "code",
   "execution_count": 111,
   "metadata": {},
   "outputs": [],
   "source": [
    "# features = X, target = y\n",
    "X = df.drop('popular', axis=1)\n",
    "y = df.popular"
   ]
  },
  {
   "cell_type": "code",
   "execution_count": 112,
   "metadata": {},
   "outputs": [],
   "source": [
    "# random state of 0 is established for the data\n",
    "X_train, X_test, y_train, y_test = train_test_split(X, y, random_state=0, test_size=0.40)"
   ]
  },
  {
   "cell_type": "markdown",
   "metadata": {},
   "source": [
    "## Dummy classifier\n",
    "A baseline model is established with the data."
   ]
  },
  {
   "cell_type": "code",
   "execution_count": 113,
   "metadata": {},
   "outputs": [],
   "source": [
    "# initialize baseline model\n",
    "dummy = DummyClassifier(random_state=0, strategy='stratified') \n",
    "\n",
    "# fit with training data and predict with test set\n",
    "dummy.fit(X_train, y_train)\n",
    "y_pred = dummy.predict(X_test)"
   ]
  },
  {
   "cell_type": "code",
   "execution_count": 114,
   "metadata": {},
   "outputs": [
    {
     "name": "stdout",
     "output_type": "stream",
     "text": [
      "Accuracy Score: 0.8114558472553699\n"
     ]
    }
   ],
   "source": [
    "# baseline model accuracy \n",
    "print(\"Accuracy Score: {}\".format(accuracy_score(y_test, y_pred)))"
   ]
  },
  {
   "cell_type": "code",
   "execution_count": 115,
   "metadata": {},
   "outputs": [
    {
     "data": {
      "text/plain": [
       "43"
      ]
     },
     "execution_count": 115,
     "metadata": {},
     "output_type": "execute_result"
    }
   ],
   "source": [
    "# count how many articles are labeled popular by predicitng probabilities\n",
    "dummy_prob = dummy.predict_proba(X_test)\n",
    "dummy_predict_popular = [x[1] for x in dummy_prob if x[1] == 1]\n",
    "len(dummy_predict_popular)"
   ]
  },
  {
   "cell_type": "code",
   "execution_count": 116,
   "metadata": {},
   "outputs": [
    {
     "data": {
      "image/png": "[encoded data removed]",
      "text/plain": [
       "<Figure size 432x288 with 2 Axes>"
      ]
     },
     "metadata": {
      "needs_background": "light"
     },
     "output_type": "display_data"
    }
   ],
   "source": [
    "# plot confusion matrix to show error of the model\n",
    "# 0: 'not popular', 1: 'popular'\n",
    "plot_confusion_matrix(dummy, X_test, y_test);"
   ]
  },
  {
   "cell_type": "markdown",
   "metadata": {},
   "source": [
    "The baseline model achieved a 95% accuracy rate, but this is due to the massive class imbalance towards articles that are not featured on the most shared list. The bottom right box in the confusion matrix shows that the baseline model correctly predicted  only 1 of the articles that were on a top 20 list."
   ]
  },
  {
   "cell_type": "markdown",
   "metadata": {},
   "source": [
    "## Data Preprocessing \n",
    "\n",
    "The following section will take care of both converting the textual data into numerical data and resampling the training data to address the class imbalance. This will be done separately for each feature, separating them and transforming the text features before every feature goes into their own model that will convert their values to numeric scores. After this they will eventually be rejoined in the final model for prediction of a top 20 list. \n",
    "\n",
    "The first differentiated preprocessing method for the textual data is how to tokenize each feature, or condense each string of text into a more meaningful version. Each of the features will be differentiated this way, with one similarity being the removal of stopwords. Stopwords are words that provide very little lexical context to a string of text based on their use in sentence construction. These words, such as \"i\", \"me\", \"you\", \"isn't\", and \"wouldn't\", will be removed in both of the different tokenized streams for the training data. At this point, one version of the data, the regular vectorizer, has completed tokenization. Another version will go through the extra step of lemmatization. This process' goal is to convert words in each string to a lexical stem with the help of the word's part of speech. This can combine words whose spelling differences are a reflection of being different inflected forms of the same word, rather than words with completely different meanings. This can help to further identify underlying patterns in the data. \n",
    "\n",
    "\n",
    "The second differentiated preprocessing method for the textual data, vectorizing each of the text features into a numeric matrix, will be done in two different ways for each of the two different tokenization methods, making four different streams for each of the three columns with text. This is in order to find the best preprocessing techniques for the final deployment pipelines. To differentiate vectorization, each feature will have one version go through a TfidfVectorizer and one version through a CountVectorizer. While both vectorizers transform the column of text data into a matrix where each column becomes a unique word that appears in the entire feature's column and each row a different article with numeric values under the words that appear in that article, they differ on how that numeric value is calculated. The CountVectorizer does so by  assigning a binary value of 0 and 1 to each word, where 0 indicates that the word does not appear in the article and a 1 indicates that it does. The TfidfVectorizer, on the other hand, assigns a floating point value to each word. This value is calculated by multiplying two different frequency measures together. The first measure is the words frequency in each feature of the article, or the amount of times it occurs in that article for that feature divided by the total amount of words in that feature for that article. This is then multiplied by the second measure, the Inverse Document Frequency, or the amount of articles there are in total divided by the amount of articles that contain that word for that feature.\n",
    "\n",
    "After these preprocessing steps have occured, the class imbalance of the target variable, 'popular', is handled with SMOTE, Synthetic Minority Over-sampling Technique, resampling. This will resample the training data to include more data from the positive target class, meaning more articles that are labeled as having been featured on a top 20 most shared list will be included in order to better train the models to identify those articles. This will be done separately for each of the four distinct preprocessing methods that each of the three textual features go through. It is also the step where the fourth and final feature from the original dataset, 'word_count', is joined into this section as it is already in a numeric value that does not need any preprocessing."
   ]
  },
  {
   "cell_type": "markdown",
   "metadata": {},
   "source": [
    "### Headline"
   ]
  },
  {
   "cell_type": "markdown",
   "metadata": {},
   "source": [
    "##### TfidfVectorizer"
   ]
  },
  {
   "cell_type": "code",
   "execution_count": 117,
   "metadata": {},
   "outputs": [
    {
     "data": {
      "image/png": "[encoded data removed]",
      "text/plain": [
       "<Figure size 360x360 with 1 Axes>"
      ]
     },
     "metadata": {
      "needs_background": "light"
     },
     "output_type": "display_data"
    },
    {
     "data": {
      "image/png": "[encoded data removed]",
      "text/plain": [
       "<Figure size 360x360 with 1 Axes>"
      ]
     },
     "metadata": {
      "needs_background": "light"
     },
     "output_type": "display_data"
    }
   ],
   "source": [
    "# regular vectorizer\n",
    "headline_tf, X_train_headline_tf, X_test_headline_tf = vectorize_feature(TfidfVectorizer, \n",
    "                                                                         X_train.headline, X_test.headline)\n",
    "# smote vectorized training data\n",
    "X_train_headline_tf_sm, y_train_headline_tf_sm = smote_data(X_train_headline_tf, y_train,\n",
    "                                                            sampling_strategy='auto',random_state=0)\n",
    "\n",
    "# used later\n",
    "# vectorizor: headline_tf\n",
    "# data : X_train_headline_tf_sm, y_train_headline_tf_sm, X_test_headline_tf\n",
    "\n",
    "\n",
    "\n",
    "# tokenize and lemmatize before vectorization\n",
    "headline_tok_tf, X_train_headline_tok_tf, X_test_headline_tok_tf = tokenize_vector(TfidfVectorizer, \n",
    "                                                                                   X_train.headline, \n",
    "                                                                                   X_test.headline)\n",
    "# smote preprocessed vectorized training data\n",
    "X_train_headline_tok_tf_sm, y_train_headline_tok_tf_sm = smote_data(X_train_headline_tok_tf, y_train,\n",
    "                                                                    sampling_strategy='auto',random_state=0)\n",
    "\n",
    "# used later\n",
    "# vectorizor: headline_tok_tf\n",
    "# data : X_train_headline_tok_tf_sm, y_train_headline_tok_tf_sm, X_test_headline_tok_tf\n",
    "\n",
    "plot_top_words(headline_tf, X_train_headline_tf, 'Regular Vectorizer');\n",
    "plot_top_words(headline_tok_tf, X_train_headline_tok_tf, 'Preprocessed Vectorizer');"
   ]
  },
  {
   "cell_type": "markdown",
   "metadata": {},
   "source": [
    "##### CountVectorizer"
   ]
  },
  {
   "cell_type": "code",
   "execution_count": 118,
   "metadata": {},
   "outputs": [
    {
     "data": {
      "image/png": "[encoded data removed]",
      "text/plain": [
       "<Figure size 360x360 with 1 Axes>"
      ]
     },
     "metadata": {
      "needs_background": "light"
     },
     "output_type": "display_data"
    },
    {
     "data": {
      "image/png": "[encoded data removed]",
      "text/plain": [
       "<Figure size 360x360 with 1 Axes>"
      ]
     },
     "metadata": {
      "needs_background": "light"
     },
     "output_type": "display_data"
    }
   ],
   "source": [
    "# regular vectorizer\n",
    "headline_cv, X_train_headline_cv, X_test_headline_cv = vectorize_feature(CountVectorizer, \n",
    "                                                                         X_train.headline, X_test.headline)\n",
    "# smote vectorized training data\n",
    "X_train_headline_cv_sm, y_train_headline_cv_sm = smote_data(X_train_headline_cv, y_train, \n",
    "                                                            sampling_strategy='auto',random_state=0)\n",
    "\n",
    "# used later\n",
    "# vectorizor: headline_cv\n",
    "# data: X_train_headline_cv_sm, y_train_headline_cv_sm, X_test_headline_cv\n",
    "\n",
    "\n",
    "\n",
    "# tokenize and lemmatize before vectorization\n",
    "headline_tok_cv, X_train_headline_tok_cv, X_test_headline_tok_cv = tokenize_vector(CountVectorizer, \n",
    "                                                                                   X_train.headline, \n",
    "                                                                                   X_test.headline)\n",
    "# smote preprocessed vectorized training data\n",
    "X_train_headline_tok_cv_sm, y_train_headline_tok_cv_sm = smote_data(X_train_headline_tok_cv, y_train,\n",
    "                                                                    sampling_strategy='auto',random_state=0)\n",
    "\n",
    "# used later\n",
    "# vectorizor: headline_tok_cv\n",
    "# data: X_train_headline_tok_cv_sm, y_train_headline_tok_cv_sm, X_test_headline_tok_cv\n",
    "\n",
    "plot_top_words(headline_cv, X_train_headline_cv, 'Regular Vectorizer');\n",
    "plot_top_words(headline_tok_cv, X_train_headline_tok_cv, 'Preprocessed Vectorizer');"
   ]
  },
  {
   "cell_type": "markdown",
   "metadata": {},
   "source": [
    "### Keywords"
   ]
  },
  {
   "cell_type": "markdown",
   "metadata": {},
   "source": [
    "##### TfidfVectorizer"
   ]
  },
  {
   "cell_type": "code",
   "execution_count": 119,
   "metadata": {},
   "outputs": [
    {
     "data": {
      "image/png": "[encoded data removed]",
      "text/plain": [
       "<Figure size 360x360 with 1 Axes>"
      ]
     },
     "metadata": {
      "needs_background": "light"
     },
     "output_type": "display_data"
    },
    {
     "data": {
      "image/png": "[encoded data removed]",
      "text/plain": [
       "<Figure size 360x360 with 1 Axes>"
      ]
     },
     "metadata": {
      "needs_background": "light"
     },
     "output_type": "display_data"
    }
   ],
   "source": [
    "# regular vectorizer\n",
    "keywords_tf, X_train_keywords_tf, X_test_keywords_tf = vectorize_feature(TfidfVectorizer, \n",
    "                                                                         X_train.keywords, X_test.keywords)\n",
    "# smote vectorized training data\n",
    "X_train_keywords_tf_sm, y_train_keywords_tf_sm = smote_data(X_train_keywords_tf, y_train, \n",
    "                                                            sampling_strategy='auto',random_state=0)\n",
    "\n",
    "# used later\n",
    "# vectorizor: keywords_tf\n",
    "# data: X_train_keywords_tf_sm, y_train_keywords_tf_sm, X_test_keywords_tf\n",
    "\n",
    "\n",
    "\n",
    "# tokenize and lemmatize before vectorization\n",
    "keywords_tok_tf, X_train_keywords_tok_tf, X_test_keywords_tok_tf = tokenize_vector(TfidfVectorizer, \n",
    "                                                                                   X_train.keywords, \n",
    "                                                                                   X_test.keywords)\n",
    "# smote preprocessed vectorized training data\n",
    "X_train_keywords_tok_tf_sm, y_train_keywords_tok_tf_sm = smote_data(X_train_keywords_tok_tf, y_train, \n",
    "                                                                    sampling_strategy='auto',random_state=0)\n",
    "\n",
    "# used later\n",
    "# vectorizor: keywords_tok_tf\n",
    "# data: X_train_keywords_tok_tf_sm, y_train_keywords_tok_tf_sm, X_test_keywords_tok_tf\n",
    "\n",
    "plot_top_words(keywords_tf, X_train_keywords_tf, 'Regular Vectorizer');\n",
    "plot_top_words(keywords_tok_tf, X_train_keywords_tok_tf, 'Preprocessed Vectorizer');"
   ]
  },
  {
   "cell_type": "markdown",
   "metadata": {},
   "source": [
    "##### CountVectorizer"
   ]
  },
  {
   "cell_type": "code",
   "execution_count": 120,
   "metadata": {},
   "outputs": [
    {
     "data": {
      "image/png": "[encoded data removed]",
      "text/plain": [
       "<Figure size 360x360 with 1 Axes>"
      ]
     },
     "metadata": {
      "needs_background": "light"
     },
     "output_type": "display_data"
    },
    {
     "data": {
      "image/png": "[encoded data removed]",
      "text/plain": [
       "<Figure size 360x360 with 1 Axes>"
      ]
     },
     "metadata": {
      "needs_background": "light"
     },
     "output_type": "display_data"
    }
   ],
   "source": [
    "# regular vectorizer\n",
    "keywords_cv, X_train_keywords_cv, X_test_keywords_cv = vectorize_feature(CountVectorizer, \n",
    "                                                                         X_train.keywords, X_test.keywords)\n",
    "# smote vectorized training data\n",
    "X_train_keywords_cv_sm, y_train_keywords_cv_sm = smote_data(X_train_keywords_cv, y_train, \n",
    "                                                            sampling_strategy='auto',random_state=0)\n",
    "\n",
    "# used later\n",
    "# vectorizor: keywords_cv\n",
    "# data: X_train_keywords_cv_sm, y_train_keywords_cv_sm, X_test_keywords_cv\n",
    "\n",
    "\n",
    "\n",
    "# tokenize and lemmatize before vectorization\n",
    "keywords_tok_cv, X_train_keywords_tok_cv, X_test_keywords_tok_cv = tokenize_vector(CountVectorizer, \n",
    "                                                                                   X_train.keywords, \n",
    "                                                                                   X_test.keywords)\n",
    "# smote preprocessed vectorized training data\n",
    "X_train_keywords_tok_cv_sm, y_train_keywords_tok_cv_sm = smote_data(X_train_keywords_tok_cv, y_train, \n",
    "                                                                    sampling_strategy='auto',random_state=0)\n",
    "\n",
    "# used later\n",
    "# vectorizor: keywords_tok_cv\n",
    "# data: X_train_keywords_tok_cv_sm, y_train_keywords_tok_cv_sm, X_test_keywords_tok_cv\n",
    "\n",
    "plot_top_words(keywords_cv, X_train_keywords_cv, 'Regular Vectorizer');\n",
    "plot_top_words(keywords_tok_cv, X_train_keywords_tok_cv, 'Preprocessed Vectorizer');"
   ]
  },
  {
   "cell_type": "markdown",
   "metadata": {},
   "source": [
    "### Lead Paragraph"
   ]
  },
  {
   "cell_type": "markdown",
   "metadata": {},
   "source": [
    "##### TfidfVectorizer"
   ]
  },
  {
   "cell_type": "code",
   "execution_count": 121,
   "metadata": {},
   "outputs": [
    {
     "data": {
      "image/png": "[encoded data removed]",
      "text/plain": [
       "<Figure size 360x360 with 1 Axes>"
      ]
     },
     "metadata": {
      "needs_background": "light"
     },
     "output_type": "display_data"
    },
    {
     "data": {
      "image/png": "[encoded data removed]",
      "text/plain": [
       "<Figure size 360x360 with 1 Axes>"
      ]
     },
     "metadata": {
      "needs_background": "light"
     },
     "output_type": "display_data"
    }
   ],
   "source": [
    "# regular vectorizer\n",
    "paragraph_tf, X_train_paragraph_tf, X_test_paragraph_tf = vectorize_feature(TfidfVectorizer, \n",
    "                                                                         X_train.paragraph, X_test.paragraph)\n",
    "# smote vectorized training data\n",
    "X_train_paragraph_tf_sm, y_train_paragraph_tf_sm = smote_data(X_train_paragraph_tf, y_train, \n",
    "                                                          sampling_strategy='auto',random_state=0)\n",
    "\n",
    "# used later\n",
    "# vectorizor: snippet_tf\n",
    "# data: X_train_snippet_tf_sm, y_train_snippet_tf_sm, X_test_snippet_tf\n",
    "\n",
    "\n",
    "\n",
    "# tokenize and lemmatize before vectorization\n",
    "paragraph_tok_tf, X_train_paragraph_tok_tf, X_test_paragraph_tok_tf = tokenize_vector(TfidfVectorizer, \n",
    "                                                                                X_train.paragraph, \n",
    "                                                                                X_test.paragraph)\n",
    "# smote preprocessed vectorized training data\n",
    "X_train_paragraph_tok_tf_sm, y_train_paragraph_tok_tf_sm = smote_data(X_train_paragraph_tok_tf, y_train, \n",
    "                                                                  sampling_strategy='auto',random_state=0)\n",
    "\n",
    "# used later\n",
    "# vectorizor: snippet_tok_tf\n",
    "# data: X_train_snippet_tok_tf_sm, y_train_snippet_tok_tf_sm, X_test_snippet_tok_tf\n",
    "\n",
    "plot_top_words(paragraph_tf, X_train_paragraph_tf, 'Regular Vectorizer');\n",
    "plot_top_words(paragraph_tok_tf, X_train_paragraph_tok_tf, 'Preprocessed Vectorizer');"
   ]
  },
  {
   "cell_type": "markdown",
   "metadata": {},
   "source": [
    "##### CountVectorizer"
   ]
  },
  {
   "cell_type": "code",
   "execution_count": 122,
   "metadata": {},
   "outputs": [
    {
     "data": {
      "image/png": "[encoded data removed]",
      "text/plain": [
       "<Figure size 360x360 with 1 Axes>"
      ]
     },
     "metadata": {
      "needs_background": "light"
     },
     "output_type": "display_data"
    },
    {
     "data": {
      "image/png": "[encoded data removed]",
      "text/plain": [
       "<Figure size 360x360 with 1 Axes>"
      ]
     },
     "metadata": {
      "needs_background": "light"
     },
     "output_type": "display_data"
    }
   ],
   "source": [
    "# regular vectorizer\n",
    "paragraph_cv, X_train_paragraph_cv, X_test_paragraph_cv = vectorize_feature(CountVectorizer,\n",
    "                                                                      X_train.paragraph, X_test.paragraph)\n",
    "# smote vectorized training data\n",
    "X_train_paragraph_cv_sm, y_train_paragraph_cv_sm = smote_data(X_train_paragraph_cv, y_train, \n",
    "                                                          sampling_strategy='auto', random_state=0)\n",
    "# used later\n",
    "# vectorizor: snippet_cv\n",
    "# data: X_train_snippet_cv_sm, y_train_snippet_cv_sm, X_test_snippet_cv\n",
    "\n",
    "\n",
    "\n",
    "# tokenize and lemmatize before vectorization\n",
    "paragraph_tok_cv, X_train_paragraph_tok_cv, X_test_paragraph_tok_cv = tokenize_vector(CountVectorizer, \n",
    "                                                                                X_train.paragraph, \n",
    "                                                                                X_test.paragraph)\n",
    "# smote preprocessed vectorized training data\n",
    "X_train_paragraph_tok_cv_sm, y_train_paragraph_tok_cv_sm = smote_data(X_train_paragraph_tok_cv, y_train, \n",
    "                                                                  sampling_strategy='auto', random_state=0)\n",
    "# used later\n",
    "# vectorizor: snippet_tok_cv\n",
    "# data: X_train_snippet_tok_cv_sm, y_train_snippet_tok_cv_sm, X_test_snippet_tok_cv\n",
    "\n",
    "# plot \n",
    "plot_top_words(paragraph_cv, X_train_paragraph_cv, 'Regular Vectorizer');\n",
    "plot_top_words(paragraph_tok_cv, X_train_paragraph_tok_cv, 'Preprocessed Vectorizer');"
   ]
  },
  {
   "cell_type": "markdown",
   "metadata": {},
   "source": [
    "### Word Count"
   ]
  },
  {
   "cell_type": "code",
   "execution_count": 123,
   "metadata": {},
   "outputs": [],
   "source": [
    "# smote the word_count data\n",
    "X_train_word_count_sm, y_train_word_count_sm = smote_data(X_train.word_count.values.reshape(-1, 1), \n",
    "                                                          y_train, sampling_strategy='auto',\n",
    "                                                          random_state=0)"
   ]
  },
  {
   "cell_type": "markdown",
   "metadata": {},
   "source": [
    "## Model Training - Text"
   ]
  },
  {
   "cell_type": "code",
   "execution_count": 124,
   "metadata": {},
   "outputs": [],
   "source": [
    "# function to run a random forrest \n",
    "# returns the model and a list of proabilities \n",
    "def random_forrest_proba(X_train, y_train, X_test, y_test):\n",
    "    \n",
    "    # initiate random forrest and search grid for number of trees in forrest\n",
    "    forrest = RandomForestClassifier(random_state=0)\n",
    "    grid = {'n_estimators': [50,75,100]}\n",
    "    \n",
    "    # create grid search and fit model with training data\n",
    "    gs = GridSearchCV(estimator=forrest, param_grid=grid, cv=5, scoring='accuracy')\n",
    "    gs.fit(X_train, y_train)\n",
    "    \n",
    "    # store predicted probabilities that article is a popular article in a list \n",
    "    class_probability = gs.predict_proba(X_test)\n",
    "    target_probability = [x[1] for x in class_probability]\n",
    "    \n",
    "    # print model accuracy \n",
    "    score = gs.score(X_test, y_test)\n",
    "    print(f'mean accuracy: {score}')\n",
    "    \n",
    "    # print correlation\n",
    "    print(f'correlation: {round(np.corrcoef(target_probability, y_test)[0][1], 2)}')\n",
    "    \n",
    "    # plot an ROC curve \n",
    "    fig, ax = plt.subplots()\n",
    "    plt.title('ROC Curve')\n",
    "    plot_roc_curve(gs, X_train, y_train, name='Train', ax=ax)\n",
    "    plot_roc_curve(gs, X_test, y_test, name='Test', ax=ax)\n",
    "    \n",
    "    # plot confusion matrix\n",
    "    plot_confusion_matrix(gs, X_test, y_test)\n",
    "    \n",
    "    return gs, target_probability"
   ]
  },
  {
   "cell_type": "code",
   "execution_count": 125,
   "metadata": {},
   "outputs": [],
   "source": [
    "# function to run a random forrest \n",
    "# returns the model and a list of class labels \n",
    "def random_forrest_class(X_train, y_train, X_test, y_test):\n",
    "    \n",
    "    # initiate random forrest and search grid for number of trees in forrest\n",
    "    forrest = RandomForestClassifier(random_state=0)\n",
    "    grid = {'n_estimators': [50,75,100]}\n",
    "    \n",
    "    # create grid search and fit model with training data\n",
    "    gs = GridSearchCV(estimator=forrest, param_grid=grid, cv=5, scoring='accuracy')\n",
    "    gs.fit(X_train, y_train)\n",
    "    \n",
    "    # store predicted class labels in list \n",
    "    class_prediction = gs.predict(X_test)\n",
    "    \n",
    "    # print model accuracy\n",
    "    score = gs.score(X_test, y_test)\n",
    "    print(f'mean accuracy: {score}')\n",
    "    \n",
    "    # print correlation\n",
    "    print(f'correlation: {round(np.corrcoef(class_prediction, y_test)[0][1], 2)}')   \n",
    "    \n",
    "    # plot an ROC curve\n",
    "    fig, ax = plt.subplots()\n",
    "    plt.title('ROC Curve')\n",
    "    plot_roc_curve(gs, X_train, y_train, name='Train', ax=ax)\n",
    "    plot_roc_curve(gs, X_test, y_test, name='Test', ax=ax)\n",
    "    \n",
    "    # plot confusion matrix\n",
    "    plot_confusion_matrix(gs, X_test, y_test)\n",
    "    \n",
    "    return gs, class_prediction"
   ]
  },
  {
   "cell_type": "markdown",
   "metadata": {},
   "source": [
    "### Headline"
   ]
  },
  {
   "cell_type": "markdown",
   "metadata": {},
   "source": [
    "##### Predict Probability after TfidfVectorizer"
   ]
  },
  {
   "cell_type": "code",
   "execution_count": 126,
   "metadata": {},
   "outputs": [
    {
     "name": "stdout",
     "output_type": "stream",
     "text": [
      "mean accuracy: 0.8854415274463007\n",
      "correlation: 0.04\n",
      "number of probabilities: 419\n",
      "\n"
     ]
    },
    {
     "data": {
      "image/png": "[encoded data removed]",
      "text/plain": [
       "<Figure size 432x288 with 1 Axes>"
      ]
     },
     "metadata": {
      "needs_background": "light"
     },
     "output_type": "display_data"
    },
    {
     "data": {
      "image/png": "[encoded data removed]",
      "text/plain": [
       "<Figure size 432x288 with 2 Axes>"
      ]
     },
     "metadata": {
      "needs_background": "light"
     },
     "output_type": "display_data"
    }
   ],
   "source": [
    "# run random forrest\n",
    "headline_proba_rf, headline_proba = random_forrest_proba(X_train_headline_tf_sm, y_train_headline_tf_sm, \n",
    "                                                         X_test_headline_tf, y_test)\n",
    "# check output length for rejoining of data\n",
    "print(f'number of probabilities: {len(headline_proba)}')\n",
    "print()"
   ]
  },
  {
   "cell_type": "markdown",
   "metadata": {},
   "source": [
    "##### Predict Probability after Preprocessed TfidfVectorizer"
   ]
  },
  {
   "cell_type": "code",
   "execution_count": 127,
   "metadata": {},
   "outputs": [
    {
     "name": "stdout",
     "output_type": "stream",
     "text": [
      "mean accuracy: 0.8854415274463007\n",
      "correlation: 0.06\n",
      "number of probabilities: 419\n",
      "\n"
     ]
    },
    {
     "data": {
      "image/png": "[encoded data removed]",
      "text/plain": [
       "<Figure size 432x288 with 1 Axes>"
      ]
     },
     "metadata": {
      "needs_background": "light"
     },
     "output_type": "display_data"
    },
    {
     "data": {
      "image/png": "[encoded data removed]",
      "text/plain": [
       "<Figure size 432x288 with 2 Axes>"
      ]
     },
     "metadata": {
      "needs_background": "light"
     },
     "output_type": "display_data"
    }
   ],
   "source": [
    "# run random forrest\n",
    "headline_proba_rf_tok, headline_proba_tok = random_forrest_proba(X_train_headline_tok_tf_sm, \n",
    "                                                                 y_train_headline_tok_tf_sm,\n",
    "                                                                 X_test_headline_tok_tf, y_test)\n",
    "# check output length for rejoining of data\n",
    "print(f'number of probabilities: {len(headline_proba_tok)}')\n",
    "print()"
   ]
  },
  {
   "cell_type": "markdown",
   "metadata": {},
   "source": [
    "##### Predict Class after CountVectorizer"
   ]
  },
  {
   "cell_type": "code",
   "execution_count": 128,
   "metadata": {},
   "outputs": [
    {
     "name": "stdout",
     "output_type": "stream",
     "text": [
      "mean accuracy: 0.5011933174224343\n",
      "correlation: 0.0\n",
      "number of class predictions: 419\n",
      "\n"
     ]
    },
    {
     "data": {
      "image/png": "[encoded data removed]",
      "text/plain": [
       "<Figure size 432x288 with 1 Axes>"
      ]
     },
     "metadata": {
      "needs_background": "light"
     },
     "output_type": "display_data"
    },
    {
     "data": {
      "image/png": "[encoded data removed]",
      "text/plain": [
       "<Figure size 432x288 with 2 Axes>"
      ]
     },
     "metadata": {
      "needs_background": "light"
     },
     "output_type": "display_data"
    }
   ],
   "source": [
    "# run random forrest\n",
    "headline_class_rf, headline_class = random_forrest_class(X_train_headline_cv_sm, y_train_headline_cv_sm, \n",
    "                                                         X_test_headline_cv, y_test)\n",
    "# check output length for rejoining of data\n",
    "print(f'number of class predictions: {len(headline_class)}')\n",
    "print()"
   ]
  },
  {
   "cell_type": "markdown",
   "metadata": {},
   "source": [
    "##### Predict Class after Preprocessed CountVectorizer"
   ]
  },
  {
   "cell_type": "code",
   "execution_count": 129,
   "metadata": {},
   "outputs": [
    {
     "name": "stdout",
     "output_type": "stream",
     "text": [
      "mean accuracy: 0.4677804295942721\n",
      "correlation: 0.07\n",
      "number of class predictions: 419\n",
      "\n"
     ]
    },
    {
     "data": {
      "image/png": "[encoded data removed]",
      "text/plain": [
       "<Figure size 432x288 with 1 Axes>"
      ]
     },
     "metadata": {
      "needs_background": "light"
     },
     "output_type": "display_data"
    },
    {
     "data": {
      "image/png": "[encoded data removed]",
      "text/plain": [
       "<Figure size 432x288 with 2 Axes>"
      ]
     },
     "metadata": {
      "needs_background": "light"
     },
     "output_type": "display_data"
    }
   ],
   "source": [
    "# run random forrest\n",
    "headline_class_rf_tok, headline_class_tok = random_forrest_class(X_train_headline_tok_cv_sm, \n",
    "                                                                 y_train_headline_tok_cv_sm,\n",
    "                                                                 X_test_headline_tok_cv, y_test)\n",
    "# check output length for rejoining of data\n",
    "print(f'number of class predictions: {len(headline_class_tok)}')\n",
    "print()"
   ]
  },
  {
   "cell_type": "markdown",
   "metadata": {},
   "source": [
    "### Keywords"
   ]
  },
  {
   "cell_type": "markdown",
   "metadata": {},
   "source": [
    "##### Predict Probability after TfidfVectorizer"
   ]
  },
  {
   "cell_type": "code",
   "execution_count": 130,
   "metadata": {},
   "outputs": [
    {
     "name": "stdout",
     "output_type": "stream",
     "text": [
      "mean accuracy: 0.8806682577565632\n",
      "correlation: 0.12\n",
      "number of probabilities: 419\n",
      "\n"
     ]
    },
    {
     "data": {
      "image/png": "[encoded data removed]",
      "text/plain": [
       "<Figure size 432x288 with 1 Axes>"
      ]
     },
     "metadata": {
      "needs_background": "light"
     },
     "output_type": "display_data"
    },
    {
     "data": {
      "image/png": "[encoded data removed]",
      "text/plain": [
       "<Figure size 432x288 with 2 Axes>"
      ]
     },
     "metadata": {
      "needs_background": "light"
     },
     "output_type": "display_data"
    }
   ],
   "source": [
    "# run random forrest\n",
    "keywords_proba_rf, keywords_proba = random_forrest_proba(X_train_keywords_tf_sm, y_train_keywords_tf_sm, \n",
    "                                                         X_test_keywords_tf, y_test)\n",
    "# check output length for rejoining of data\n",
    "print(f'number of probabilities: {len(keywords_proba)}')\n",
    "print()"
   ]
  },
  {
   "cell_type": "markdown",
   "metadata": {},
   "source": [
    "##### Predict Probability after Preprocessed TfidfVectorizer"
   ]
  },
  {
   "cell_type": "code",
   "execution_count": 131,
   "metadata": {},
   "outputs": [
    {
     "name": "stdout",
     "output_type": "stream",
     "text": [
      "mean accuracy: 0.883054892601432\n",
      "correlation: 0.12\n",
      "number of probabilities: 419\n",
      "\n"
     ]
    },
    {
     "data": {
      "image/png": "[encoded data removed]",
      "text/plain": [
       "<Figure size 432x288 with 1 Axes>"
      ]
     },
     "metadata": {
      "needs_background": "light"
     },
     "output_type": "display_data"
    },
    {
     "data": {
      "image/png": "[encoded data removed]",
      "text/plain": [
       "<Figure size 432x288 with 2 Axes>"
      ]
     },
     "metadata": {
      "needs_background": "light"
     },
     "output_type": "display_data"
    }
   ],
   "source": [
    "# run random forrest\n",
    "keywords_proba_rf_tok, keywords_proba_tok = random_forrest_proba(X_train_keywords_tok_tf_sm, \n",
    "                                                                 y_train_keywords_tok_tf_sm, \n",
    "                                                                 X_test_keywords_tok_tf, y_test)\n",
    "# check output length for rejoining of data\n",
    "print(f'number of probabilities: {len(keywords_proba_tok)}')\n",
    "print()"
   ]
  },
  {
   "cell_type": "markdown",
   "metadata": {},
   "source": [
    "##### Predict Class after CountVectorizer"
   ]
  },
  {
   "cell_type": "code",
   "execution_count": 132,
   "metadata": {},
   "outputs": [
    {
     "name": "stdout",
     "output_type": "stream",
     "text": [
      "mean accuracy: 0.5847255369928401\n",
      "correlation: 0.0\n",
      "number of class predictions: 419\n",
      "\n"
     ]
    },
    {
     "data": {
      "image/png": "[encoded data removed]",
      "text/plain": [
       "<Figure size 432x288 with 1 Axes>"
      ]
     },
     "metadata": {
      "needs_background": "light"
     },
     "output_type": "display_data"
    },
    {
     "data": {
      "image/png": "[encoded data removed]",
      "text/plain": [
       "<Figure size 432x288 with 2 Axes>"
      ]
     },
     "metadata": {
      "needs_background": "light"
     },
     "output_type": "display_data"
    }
   ],
   "source": [
    "# run random forrest\n",
    "keywords_class_rf, keywords_class = random_forrest_class(X_train_keywords_cv_sm, y_train_keywords_cv_sm, \n",
    "                                                         X_test_keywords_cv, y_test)\n",
    "# check output length for rejoining of data\n",
    "print(f'number of class predictions: {len(keywords_class)}')\n",
    "print()"
   ]
  },
  {
   "cell_type": "markdown",
   "metadata": {},
   "source": [
    "##### Predict Class after Preprocessed CountVectorizer"
   ]
  },
  {
   "cell_type": "code",
   "execution_count": 133,
   "metadata": {},
   "outputs": [
    {
     "name": "stdout",
     "output_type": "stream",
     "text": [
      "mean accuracy: 0.5059665871121718\n",
      "correlation: -0.07\n",
      "number of class predictions: 419\n",
      "\n"
     ]
    },
    {
     "data": {
      "image/png": "[encoded data removed]",
      "text/plain": [
       "<Figure size 432x288 with 1 Axes>"
      ]
     },
     "metadata": {
      "needs_background": "light"
     },
     "output_type": "display_data"
    },
    {
     "data": {
      "image/png": "[encoded data removed]",
      "text/plain": [
       "<Figure size 432x288 with 2 Axes>"
      ]
     },
     "metadata": {
      "needs_background": "light"
     },
     "output_type": "display_data"
    }
   ],
   "source": [
    "# run random forrest\n",
    "keywords_class_rf_tok, keywords_class_tok = random_forrest_class(X_train_keywords_tok_cv_sm, \n",
    "                                                                 y_train_keywords_tok_cv_sm, \n",
    "                                                                 X_test_keywords_tok_cv, y_test)\n",
    "# check output length for rejoining of data\n",
    "print(f'number of class predictions: {len(keywords_class_tok)}')\n",
    "print()"
   ]
  },
  {
   "cell_type": "markdown",
   "metadata": {},
   "source": [
    "### Lead Paragraph "
   ]
  },
  {
   "cell_type": "markdown",
   "metadata": {},
   "source": [
    "##### Predict Probability after TfidfVectorizer"
   ]
  },
  {
   "cell_type": "code",
   "execution_count": 134,
   "metadata": {},
   "outputs": [
    {
     "name": "stdout",
     "output_type": "stream",
     "text": [
      "mean accuracy: 0.883054892601432\n",
      "correlation: 0.08\n",
      "number of probabilities: 419\n",
      "\n"
     ]
    },
    {
     "data": {
      "image/png": "[encoded data removed]",
      "text/plain": [
       "<Figure size 432x288 with 1 Axes>"
      ]
     },
     "metadata": {
      "needs_background": "light"
     },
     "output_type": "display_data"
    },
    {
     "data": {
      "image/png": "[encoded data removed]",
      "text/plain": [
       "<Figure size 432x288 with 2 Axes>"
      ]
     },
     "metadata": {
      "needs_background": "light"
     },
     "output_type": "display_data"
    }
   ],
   "source": [
    "# run random forrest\n",
    "para_paragraph_rf, paragraph_proba = random_forrest_proba(X_train_paragraph_tf_sm, y_train_paragraph_tf_sm, \n",
    "                                                       X_test_paragraph_tf, y_test)\n",
    "# check output length for rejoining of data\n",
    "print(f'number of probabilities: {len(paragraph_proba)}')\n",
    "print()"
   ]
  },
  {
   "cell_type": "markdown",
   "metadata": {},
   "source": [
    "##### Predict Probability after Preprocessed TfidfVectorizer"
   ]
  },
  {
   "cell_type": "code",
   "execution_count": 135,
   "metadata": {},
   "outputs": [
    {
     "name": "stdout",
     "output_type": "stream",
     "text": [
      "mean accuracy: 0.8854415274463007\n",
      "correlation: 0.09\n",
      "number of probabilities: 419\n",
      "\n"
     ]
    },
    {
     "data": {
      "image/png": "[encoded data removed]",
      "text/plain": [
       "<Figure size 432x288 with 1 Axes>"
      ]
     },
     "metadata": {
      "needs_background": "light"
     },
     "output_type": "display_data"
    },
    {
     "data": {
      "image/png": "[encoded data removed]",
      "text/plain": [
       "<Figure size 432x288 with 2 Axes>"
      ]
     },
     "metadata": {
      "needs_background": "light"
     },
     "output_type": "display_data"
    }
   ],
   "source": [
    "# run random forrest\n",
    "paragraph_proba_rf_tok, paragraph_proba_tok = random_forrest_proba(X_train_paragraph_tok_tf_sm, \n",
    "                                                               y_train_paragraph_tok_tf_sm,\n",
    "                                                               X_test_paragraph_tok_tf, y_test)\n",
    "# check output length for rejoining of data\n",
    "print(f'number of probabilities: {len(paragraph_proba_tok)}')\n",
    "print()"
   ]
  },
  {
   "cell_type": "markdown",
   "metadata": {},
   "source": [
    "##### Predict Class after CountVectorizer"
   ]
  },
  {
   "cell_type": "code",
   "execution_count": 136,
   "metadata": {},
   "outputs": [
    {
     "name": "stdout",
     "output_type": "stream",
     "text": [
      "mean accuracy: 0.7183770883054893\n",
      "correlation: -0.1\n",
      "number of class predictions: 419\n",
      "\n"
     ]
    },
    {
     "data": {
      "image/png": "[encoded data removed]",
      "text/plain": [
       "<Figure size 432x288 with 1 Axes>"
      ]
     },
     "metadata": {
      "needs_background": "light"
     },
     "output_type": "display_data"
    },
    {
     "data": {
      "image/png": "[encoded data removed]",
      "text/plain": [
       "<Figure size 432x288 with 2 Axes>"
      ]
     },
     "metadata": {
      "needs_background": "light"
     },
     "output_type": "display_data"
    }
   ],
   "source": [
    "# run random forrest\n",
    "paragraph_class_rf, paragraph_class = random_forrest_class(X_train_paragraph_cv_sm, y_train_paragraph_cv_sm, \n",
    "                                                       X_test_paragraph_cv, y_test)\n",
    "# check output length for rejoining of data\n",
    "print(f'number of class predictions: {len(paragraph_class)}')\n",
    "print()"
   ]
  },
  {
   "cell_type": "markdown",
   "metadata": {},
   "source": [
    "##### Predict Class after Preprocessed CountVectorizer"
   ]
  },
  {
   "cell_type": "code",
   "execution_count": 137,
   "metadata": {},
   "outputs": [
    {
     "name": "stdout",
     "output_type": "stream",
     "text": [
      "mean accuracy: 0.6754176610978521\n",
      "correlation: -0.05\n",
      "number of class predictions: 419\n",
      "\n"
     ]
    },
    {
     "data": {
      "image/png": "[encoded data removed]",
      "text/plain": [
       "<Figure size 432x288 with 1 Axes>"
      ]
     },
     "metadata": {
      "needs_background": "light"
     },
     "output_type": "display_data"
    },
    {
     "data": {
      "image/png": "[encoded data removed]",
      "text/plain": [
       "<Figure size 432x288 with 2 Axes>"
      ]
     },
     "metadata": {
      "needs_background": "light"
     },
     "output_type": "display_data"
    }
   ],
   "source": [
    "# run random forrest\n",
    "paragraph_class_rf_tok, paragraph_class_tok = random_forrest_class(X_train_paragraph_tok_cv_sm, \n",
    "                                                               y_train_paragraph_tok_cv_sm,\n",
    "                                                               X_test_paragraph_tok_cv, y_test)\n",
    "# check output length for rejoining of data\n",
    "print(f'number of class predictions: {len(paragraph_class_tok)}')\n",
    "print()"
   ]
  },
  {
   "cell_type": "markdown",
   "metadata": {},
   "source": [
    "## Model Training - Numeric"
   ]
  },
  {
   "cell_type": "markdown",
   "metadata": {},
   "source": [
    "### Word Count"
   ]
  },
  {
   "cell_type": "code",
   "execution_count": 138,
   "metadata": {},
   "outputs": [],
   "source": [
    "# function to run a logistic regression \n",
    "# returns the model, a list of proabilities, and a list of class labels \n",
    "def log_regression_word_count(X_train, y_train, X_test, y_test):\n",
    "    \n",
    "    # initiate logsitic regression and fit with training data \n",
    "    clf = LogisticRegression(random_state=0)\n",
    "    clf.fit(X_train, y_train)\n",
    "    \n",
    "    # store predicted class labels in list \n",
    "    class_prediction = clf.predict(X_test.values.reshape(-1, 1))\n",
    "    \n",
    "    # store predicted probabilities that article is a popular article in a list\n",
    "    probabilities = clf.predict_proba(X_test.values.reshape(-1, 1))\n",
    "    probabilities = [x[1] for x in probabilities]\n",
    "    \n",
    "    # print model accuracy\n",
    "    score = clf.score(X_test.values.reshape(-1, 1), y_test)\n",
    "    print(f'mean accuracy: {score}')\n",
    "    \n",
    "    # print correlations\n",
    "    print(f'proba correlation: {round(np.corrcoef(probabilities, y_test)[0][1], 2)}') \n",
    "    print(f'class correlation: {round(np.corrcoef(class_prediction, y_test)[0][1], 2)}') \n",
    "    \n",
    "    # plot an ROC curve\n",
    "    fig, ax = plt.subplots()\n",
    "    plt.title('ROC Curve')\n",
    "    plot_roc_curve(clf, X_train, y_train, name='Train', ax=ax)\n",
    "    plot_roc_curve(clf, X_test.values.reshape(-1, 1), y_test, name='Test', ax=ax);\n",
    "    \n",
    "    # plot confusion matrix\n",
    "    plot_confusion_matrix(clf, X_test.values.reshape(-1, 1), y_test)\n",
    "    \n",
    "    return clf, probabilities, class_prediction"
   ]
  },
  {
   "cell_type": "code",
   "execution_count": 139,
   "metadata": {},
   "outputs": [
    {
     "name": "stdout",
     "output_type": "stream",
     "text": [
      "mean accuracy: 0.5704057279236276\n",
      "proba correlation: 0.06\n",
      "class correlation: 0.09\n",
      "number of probabilities: 419\n",
      "number of class predictions: 419\n",
      "\n"
     ]
    },
    {
     "data": {
      "image/png": "[encoded data removed]",
      "text/plain": [
       "<Figure size 432x288 with 1 Axes>"
      ]
     },
     "metadata": {
      "needs_background": "light"
     },
     "output_type": "display_data"
    },
    {
     "data": {
      "image/png": "[encoded data removed]",
      "text/plain": [
       "<Figure size 432x288 with 2 Axes>"
      ]
     },
     "metadata": {
      "needs_background": "light"
     },
     "output_type": "display_data"
    }
   ],
   "source": [
    "# run logistic regression\n",
    "word_count_log_reg, word_count_proba, word_count_class = log_regression_word_count(X_train_word_count_sm, \n",
    "                                                                                   y_train_word_count_sm, \n",
    "                                                                                   X_test.word_count, y_test)\n",
    "# check output length for rejoining of data\n",
    "print(f'number of probabilities: {len(word_count_proba)}')\n",
    "print(f'number of class predictions: {len(word_count_class)}')\n",
    "print()"
   ]
  },
  {
   "cell_type": "code",
   "execution_count": 140,
   "metadata": {},
   "outputs": [
    {
     "data": {
      "text/plain": [
       "array([[1.        , 0.06141886],\n",
       "       [0.06141886, 1.        ]])"
      ]
     },
     "execution_count": 140,
     "metadata": {},
     "output_type": "execute_result"
    }
   ],
   "source": [
    "import numpy as np\n",
    "np.corrcoef(word_count_proba, y_test)"
   ]
  },
  {
   "cell_type": "code",
   "execution_count": 141,
   "metadata": {},
   "outputs": [
    {
     "data": {
      "text/plain": [
       "array([[1.       , 0.0858512],\n",
       "       [0.0858512, 1.       ]])"
      ]
     },
     "execution_count": 141,
     "metadata": {},
     "output_type": "execute_result"
    }
   ],
   "source": [
    "np.corrcoef(word_count_class, y_test)"
   ]
  },
  {
   "cell_type": "markdown",
   "metadata": {},
   "source": [
    "## Cumulative Model "
   ]
  },
  {
   "cell_type": "markdown",
   "metadata": {},
   "source": [
    "### Cleaning "
   ]
  },
  {
   "cell_type": "markdown",
   "metadata": {},
   "source": [
    "##### Proability Data"
   ]
  },
  {
   "cell_type": "code",
   "execution_count": 142,
   "metadata": {},
   "outputs": [],
   "source": [
    "df_predict_proba = pd.DataFrame({'headline_prob': headline_proba, \n",
    "                                 'keywords_prob': keywords_proba, \n",
    "                                 'paragraph': paragraph_proba_tok, \n",
    "                                 'word_count_proba': word_count_proba})"
   ]
  },
  {
   "cell_type": "code",
   "execution_count": 143,
   "metadata": {},
   "outputs": [
    {
     "data": {
      "text/html": [
       "<div>\n",
       "<style scoped>\n",
       "    .dataframe tbody tr th:only-of-type {\n",
       "        vertical-align: middle;\n",
       "    }\n",
       "\n",
       "    .dataframe tbody tr th {\n",
       "        vertical-align: top;\n",
       "    }\n",
       "\n",
       "    .dataframe thead th {\n",
       "        text-align: right;\n",
       "    }\n",
       "</style>\n",
       "<table border=\"1\" class=\"dataframe\">\n",
       "  <thead>\n",
       "    <tr style=\"text-align: right;\">\n",
       "      <th></th>\n",
       "      <th>headline_prob</th>\n",
       "      <th>keywords_prob</th>\n",
       "      <th>paragraph</th>\n",
       "      <th>word_count_proba</th>\n",
       "    </tr>\n",
       "  </thead>\n",
       "  <tbody>\n",
       "    <tr>\n",
       "      <th>0</th>\n",
       "      <td>0.01</td>\n",
       "      <td>0.186667</td>\n",
       "      <td>0.306667</td>\n",
       "      <td>0.620459</td>\n",
       "    </tr>\n",
       "    <tr>\n",
       "      <th>1</th>\n",
       "      <td>0.00</td>\n",
       "      <td>0.026667</td>\n",
       "      <td>0.000000</td>\n",
       "      <td>0.370011</td>\n",
       "    </tr>\n",
       "    <tr>\n",
       "      <th>2</th>\n",
       "      <td>0.03</td>\n",
       "      <td>0.106667</td>\n",
       "      <td>0.160000</td>\n",
       "      <td>0.565573</td>\n",
       "    </tr>\n",
       "    <tr>\n",
       "      <th>3</th>\n",
       "      <td>0.00</td>\n",
       "      <td>0.000000</td>\n",
       "      <td>0.000000</td>\n",
       "      <td>0.349240</td>\n",
       "    </tr>\n",
       "    <tr>\n",
       "      <th>4</th>\n",
       "      <td>0.22</td>\n",
       "      <td>0.106667</td>\n",
       "      <td>0.053333</td>\n",
       "      <td>0.678615</td>\n",
       "    </tr>\n",
       "  </tbody>\n",
       "</table>\n",
       "</div>"
      ],
      "text/plain": [
       "   headline_prob  keywords_prob  paragraph  word_count_proba\n",
       "0           0.01       0.186667   0.306667          0.620459\n",
       "1           0.00       0.026667   0.000000          0.370011\n",
       "2           0.03       0.106667   0.160000          0.565573\n",
       "3           0.00       0.000000   0.000000          0.349240\n",
       "4           0.22       0.106667   0.053333          0.678615"
      ]
     },
     "execution_count": 143,
     "metadata": {},
     "output_type": "execute_result"
    }
   ],
   "source": [
    "df_predict_proba.head()"
   ]
  },
  {
   "cell_type": "code",
   "execution_count": 144,
   "metadata": {},
   "outputs": [],
   "source": [
    "scaler = StandardScaler()"
   ]
  },
  {
   "cell_type": "code",
   "execution_count": 145,
   "metadata": {},
   "outputs": [],
   "source": [
    "df_predict_proba.iloc[:,:] = scaler.fit_transform(df_predict_proba.iloc[:,:].to_numpy())"
   ]
  },
  {
   "cell_type": "code",
   "execution_count": 146,
   "metadata": {},
   "outputs": [
    {
     "data": {
      "text/html": [
       "<div>\n",
       "<style scoped>\n",
       "    .dataframe tbody tr th:only-of-type {\n",
       "        vertical-align: middle;\n",
       "    }\n",
       "\n",
       "    .dataframe tbody tr th {\n",
       "        vertical-align: top;\n",
       "    }\n",
       "\n",
       "    .dataframe thead th {\n",
       "        text-align: right;\n",
       "    }\n",
       "</style>\n",
       "<table border=\"1\" class=\"dataframe\">\n",
       "  <thead>\n",
       "    <tr style=\"text-align: right;\">\n",
       "      <th></th>\n",
       "      <th>headline_prob</th>\n",
       "      <th>keywords_prob</th>\n",
       "      <th>paragraph</th>\n",
       "      <th>word_count_proba</th>\n",
       "    </tr>\n",
       "  </thead>\n",
       "  <tbody>\n",
       "    <tr>\n",
       "      <th>0</th>\n",
       "      <td>-0.556719</td>\n",
       "      <td>0.898505</td>\n",
       "      <td>2.674906</td>\n",
       "      <td>1.507219</td>\n",
       "    </tr>\n",
       "    <tr>\n",
       "      <th>1</th>\n",
       "      <td>-0.669407</td>\n",
       "      <td>-0.576416</td>\n",
       "      <td>-1.123450</td>\n",
       "      <td>-1.464031</td>\n",
       "    </tr>\n",
       "    <tr>\n",
       "      <th>2</th>\n",
       "      <td>-0.331342</td>\n",
       "      <td>0.161045</td>\n",
       "      <td>0.858301</td>\n",
       "      <td>0.856064</td>\n",
       "    </tr>\n",
       "    <tr>\n",
       "      <th>3</th>\n",
       "      <td>-0.669407</td>\n",
       "      <td>-0.822237</td>\n",
       "      <td>-1.123450</td>\n",
       "      <td>-1.710462</td>\n",
       "    </tr>\n",
       "    <tr>\n",
       "      <th>4</th>\n",
       "      <td>1.809740</td>\n",
       "      <td>0.161045</td>\n",
       "      <td>-0.462867</td>\n",
       "      <td>2.197165</td>\n",
       "    </tr>\n",
       "  </tbody>\n",
       "</table>\n",
       "</div>"
      ],
      "text/plain": [
       "   headline_prob  keywords_prob  paragraph  word_count_proba\n",
       "0      -0.556719       0.898505   2.674906          1.507219\n",
       "1      -0.669407      -0.576416  -1.123450         -1.464031\n",
       "2      -0.331342       0.161045   0.858301          0.856064\n",
       "3      -0.669407      -0.822237  -1.123450         -1.710462\n",
       "4       1.809740       0.161045  -0.462867          2.197165"
      ]
     },
     "execution_count": 146,
     "metadata": {},
     "output_type": "execute_result"
    }
   ],
   "source": [
    "df_predict_proba.head()"
   ]
  },
  {
   "cell_type": "code",
   "execution_count": 147,
   "metadata": {},
   "outputs": [
    {
     "name": "stdout",
     "output_type": "stream",
     "text": [
      "<class 'pandas.core.frame.DataFrame'>\n",
      "RangeIndex: 419 entries, 0 to 418\n",
      "Data columns (total 4 columns):\n",
      " #   Column            Non-Null Count  Dtype  \n",
      "---  ------            --------------  -----  \n",
      " 0   headline_prob     419 non-null    float64\n",
      " 1   keywords_prob     419 non-null    float64\n",
      " 2   paragraph         419 non-null    float64\n",
      " 3   word_count_proba  419 non-null    float64\n",
      "dtypes: float64(4)\n",
      "memory usage: 13.2 KB\n"
     ]
    }
   ],
   "source": [
    "df_predict_proba.info()"
   ]
  },
  {
   "cell_type": "markdown",
   "metadata": {},
   "source": [
    "<br>\n",
    "\n",
    "##### Class Labeled Data "
   ]
  },
  {
   "cell_type": "code",
   "execution_count": 148,
   "metadata": {},
   "outputs": [],
   "source": [
    "df_predict_class = pd.DataFrame({'headline_prob': headline_class, \n",
    "                                 'keywords_prob': keywords_class, \n",
    "                                 'paragraph_class': paragraph_class_tok, \n",
    "                                 'word_count_class': word_count_class})"
   ]
  },
  {
   "cell_type": "code",
   "execution_count": 149,
   "metadata": {},
   "outputs": [
    {
     "data": {
      "text/html": [
       "<div>\n",
       "<style scoped>\n",
       "    .dataframe tbody tr th:only-of-type {\n",
       "        vertical-align: middle;\n",
       "    }\n",
       "\n",
       "    .dataframe tbody tr th {\n",
       "        vertical-align: top;\n",
       "    }\n",
       "\n",
       "    .dataframe thead th {\n",
       "        text-align: right;\n",
       "    }\n",
       "</style>\n",
       "<table border=\"1\" class=\"dataframe\">\n",
       "  <thead>\n",
       "    <tr style=\"text-align: right;\">\n",
       "      <th></th>\n",
       "      <th>headline_prob</th>\n",
       "      <th>keywords_prob</th>\n",
       "      <th>paragraph_class</th>\n",
       "      <th>word_count_class</th>\n",
       "    </tr>\n",
       "  </thead>\n",
       "  <tbody>\n",
       "    <tr>\n",
       "      <th>0</th>\n",
       "      <td>0</td>\n",
       "      <td>0</td>\n",
       "      <td>0</td>\n",
       "      <td>1</td>\n",
       "    </tr>\n",
       "    <tr>\n",
       "      <th>1</th>\n",
       "      <td>0</td>\n",
       "      <td>0</td>\n",
       "      <td>0</td>\n",
       "      <td>0</td>\n",
       "    </tr>\n",
       "    <tr>\n",
       "      <th>2</th>\n",
       "      <td>0</td>\n",
       "      <td>0</td>\n",
       "      <td>0</td>\n",
       "      <td>1</td>\n",
       "    </tr>\n",
       "    <tr>\n",
       "      <th>3</th>\n",
       "      <td>0</td>\n",
       "      <td>0</td>\n",
       "      <td>0</td>\n",
       "      <td>0</td>\n",
       "    </tr>\n",
       "    <tr>\n",
       "      <th>4</th>\n",
       "      <td>1</td>\n",
       "      <td>0</td>\n",
       "      <td>1</td>\n",
       "      <td>1</td>\n",
       "    </tr>\n",
       "  </tbody>\n",
       "</table>\n",
       "</div>"
      ],
      "text/plain": [
       "   headline_prob  keywords_prob  paragraph_class  word_count_class\n",
       "0              0              0                0                 1\n",
       "1              0              0                0                 0\n",
       "2              0              0                0                 1\n",
       "3              0              0                0                 0\n",
       "4              1              0                1                 1"
      ]
     },
     "execution_count": 149,
     "metadata": {},
     "output_type": "execute_result"
    }
   ],
   "source": [
    "df_predict_class.head()"
   ]
  },
  {
   "cell_type": "code",
   "execution_count": 150,
   "metadata": {},
   "outputs": [
    {
     "name": "stdout",
     "output_type": "stream",
     "text": [
      "<class 'pandas.core.frame.DataFrame'>\n",
      "RangeIndex: 419 entries, 0 to 418\n",
      "Data columns (total 4 columns):\n",
      " #   Column            Non-Null Count  Dtype\n",
      "---  ------            --------------  -----\n",
      " 0   headline_prob     419 non-null    int64\n",
      " 1   keywords_prob     419 non-null    int64\n",
      " 2   paragraph_class   419 non-null    int64\n",
      " 3   word_count_class  419 non-null    int64\n",
      "dtypes: int64(4)\n",
      "memory usage: 13.2 KB\n"
     ]
    }
   ],
   "source": [
    "df_predict_class.info()"
   ]
  },
  {
   "cell_type": "markdown",
   "metadata": {},
   "source": [
    "<br>\n",
    "\n",
    "### Training model"
   ]
  },
  {
   "cell_type": "code",
   "execution_count": 151,
   "metadata": {},
   "outputs": [
    {
     "data": {
      "text/html": [
       "<div>\n",
       "<style scoped>\n",
       "    .dataframe tbody tr th:only-of-type {\n",
       "        vertical-align: middle;\n",
       "    }\n",
       "\n",
       "    .dataframe tbody tr th {\n",
       "        vertical-align: top;\n",
       "    }\n",
       "\n",
       "    .dataframe thead th {\n",
       "        text-align: right;\n",
       "    }\n",
       "</style>\n",
       "<table border=\"1\" class=\"dataframe\">\n",
       "  <thead>\n",
       "    <tr style=\"text-align: right;\">\n",
       "      <th></th>\n",
       "      <th>sum</th>\n",
       "      <th>percentage</th>\n",
       "    </tr>\n",
       "    <tr>\n",
       "      <th>popular</th>\n",
       "      <th></th>\n",
       "      <th></th>\n",
       "    </tr>\n",
       "  </thead>\n",
       "  <tbody>\n",
       "    <tr>\n",
       "      <th>0</th>\n",
       "      <td>371</td>\n",
       "      <td>0.89</td>\n",
       "    </tr>\n",
       "    <tr>\n",
       "      <th>1</th>\n",
       "      <td>48</td>\n",
       "      <td>0.11</td>\n",
       "    </tr>\n",
       "  </tbody>\n",
       "</table>\n",
       "</div>"
      ],
      "text/plain": [
       "         sum  percentage\n",
       "popular                 \n",
       "0        371        0.89\n",
       "1         48        0.11"
      ]
     },
     "execution_count": 151,
     "metadata": {},
     "output_type": "execute_result"
    },
    {
     "data": {
      "image/png": "[encoded data removed]",
      "text/plain": [
       "<Figure size 432x288 with 1 Axes>"
      ]
     },
     "metadata": {
      "needs_background": "light"
     },
     "output_type": "display_data"
    }
   ],
   "source": [
    "target_distribution_deploy = summerize_value_counts(y_test)\n",
    "target_distribution_deploy"
   ]
  },
  {
   "cell_type": "markdown",
   "metadata": {},
   "source": [
    "\n",
    "\n",
    "##### Predicting with Probabilities "
   ]
  },
  {
   "cell_type": "code",
   "execution_count": 152,
   "metadata": {},
   "outputs": [],
   "source": [
    "clf_proba = LogisticRegression()"
   ]
  },
  {
   "cell_type": "code",
   "execution_count": 153,
   "metadata": {},
   "outputs": [
    {
     "data": {
      "text/plain": [
       "LogisticRegression()"
      ]
     },
     "execution_count": 153,
     "metadata": {},
     "output_type": "execute_result"
    }
   ],
   "source": [
    "clf_proba.fit(df_predict_proba, y_test)"
   ]
  },
  {
   "cell_type": "markdown",
   "metadata": {},
   "source": [
    "<br>\n",
    "\n",
    "##### Predicitng with class labels"
   ]
  },
  {
   "cell_type": "code",
   "execution_count": 154,
   "metadata": {},
   "outputs": [],
   "source": [
    "clf_class = LogisticRegression()"
   ]
  },
  {
   "cell_type": "code",
   "execution_count": 155,
   "metadata": {},
   "outputs": [
    {
     "data": {
      "text/plain": [
       "LogisticRegression()"
      ]
     },
     "execution_count": 155,
     "metadata": {},
     "output_type": "execute_result"
    }
   ],
   "source": [
    "clf_class.fit(df_predict_class, y_test)"
   ]
  },
  {
   "cell_type": "markdown",
   "metadata": {},
   "source": [
    "## Model Deployment"
   ]
  },
  {
   "cell_type": "code",
   "execution_count": 60,
   "metadata": {},
   "outputs": [
    {
     "data": {
      "text/plain": [
       "datetime.date(2022, 1, 18)"
      ]
     },
     "execution_count": 60,
     "metadata": {},
     "output_type": "execute_result"
    }
   ],
   "source": [
    "pd.to_datetime('01/18/22').date()"
   ]
  },
  {
   "cell_type": "code",
   "execution_count": 158,
   "metadata": {},
   "outputs": [],
   "source": [
    "df_archive_deploy = pd.read_csv('data/exp_archive.csv')\n",
    "df_archive_deploy.date_published = df_archive_deploy.date_published.apply(lambda x: pd.to_datetime(x).date())\n",
    "df_archive_deploy = df_archive_deploy[df_archive_deploy.date_published > last_training_day]\n",
    "df_archive_deploy.dropna(inplace=True)\n",
    "\n",
    "df_most_shared_deploy = load_most_shared('data/most_popular_deploy')"
   ]
  },
  {
   "cell_type": "code",
   "execution_count": 159,
   "metadata": {},
   "outputs": [
    {
     "data": {
      "text/plain": [
       "datetime.date(2022, 1, 18)"
      ]
     },
     "execution_count": 159,
     "metadata": {},
     "output_type": "execute_result"
    }
   ],
   "source": [
    "prediction_day = '01/18/22'\n",
    "prediction_day = pd.to_datetime(prediction_day).date()\n",
    "prediction_day"
   ]
  },
  {
   "cell_type": "code",
   "execution_count": 160,
   "metadata": {},
   "outputs": [],
   "source": [
    "# delta_dict = time_delta.to_dict()\n",
    "# delta_dict"
   ]
  },
  {
   "cell_type": "code",
   "execution_count": 163,
   "metadata": {},
   "outputs": [],
   "source": [
    "def filter_predction_dfs(df_archive, df_shared, day_of_predict, delta=3):\n",
    "    \n",
    "    time_delta = dt.timedelta(days=delta)\n",
    "    cutoff_day = day_of_predict - time_delta\n",
    "    \n",
    "    df_deploy = df_archive[(df_archive.date_published >= cutoff_day) & \n",
    "                             (df_archive.date_published <= day_of_predict)]\n",
    "    \n",
    "    article_ids = df_deploy['uri']\n",
    "    date_published = df_deploy['date_published']\n",
    "#     delta_correction = [delta_dict[abs(x - prediction_day)] for x in test.date_published]\n",
    "    df_feature_deploy = df_deploy[['headline','keywords','paragraph','word_count']]\n",
    "    \n",
    "    df_top_20 = df_shared[df_shared.index == day_of_predict]\n",
    "    \n",
    "    return article_ids, date_published, df_feature_deploy, df_top_20"
   ]
  },
  {
   "cell_type": "code",
   "execution_count": 164,
   "metadata": {},
   "outputs": [],
   "source": [
    "deployed_article_ids, date_published, df_feature_deploy, df_top_20 = filter_predction_dfs(df_archive_deploy, \n",
    "                                                                          df_most_shared_deploy, \n",
    "                                                                          prediction_day, delta=3)"
   ]
  },
  {
   "cell_type": "code",
   "execution_count": 165,
   "metadata": {},
   "outputs": [
    {
     "data": {
      "text/plain": [
       "5728    nyt://article/788eb893-2dca-567a-9ba8-91e7897a...\n",
       "5729    nyt://article/f00468d9-8c85-5141-a5a4-8b592f6a...\n",
       "5732    nyt://article/45bfef70-a4e6-5211-b9f4-95c9acfc...\n",
       "5733    nyt://article/09084cca-4f23-5fb1-8d82-5c01e336...\n",
       "5734    nyt://article/ad52d330-1f21-51a4-98d0-b2b355d0...\n",
       "                              ...                        \n",
       "5989    nyt://article/a5ef1354-9877-54ee-a04a-31727951...\n",
       "5990    nyt://article/186371ca-e156-5840-8759-23eb4c38...\n",
       "5991    nyt://article/40a9076f-69be-5055-9803-b89a62ae...\n",
       "5992    nyt://article/b896350c-9630-5744-83e7-f04f30c6...\n",
       "5993    nyt://article/b50f3c32-fe27-5e5d-a513-769ea30d...\n",
       "Name: uri, Length: 246, dtype: object"
      ]
     },
     "execution_count": 165,
     "metadata": {},
     "output_type": "execute_result"
    }
   ],
   "source": [
    "deployed_article_ids"
   ]
  },
  {
   "cell_type": "code",
   "execution_count": 170,
   "metadata": {},
   "outputs": [
    {
     "data": {
      "text/plain": [
       "2022-01-18    109\n",
       "2022-01-17     72\n",
       "2022-01-16     65\n",
       "Name: date_published, dtype: int64"
      ]
     },
     "execution_count": 170,
     "metadata": {},
     "output_type": "execute_result"
    }
   ],
   "source": [
    "date_published.value_counts()"
   ]
  },
  {
   "cell_type": "code",
   "execution_count": 171,
   "metadata": {},
   "outputs": [
    {
     "data": {
      "text/plain": [
       "(246, 4)"
      ]
     },
     "execution_count": 171,
     "metadata": {},
     "output_type": "execute_result"
    }
   ],
   "source": [
    "df_feature_deploy.shape"
   ]
  },
  {
   "cell_type": "code",
   "execution_count": 172,
   "metadata": {},
   "outputs": [
    {
     "data": {
      "text/plain": [
       "'2022-01-18'"
      ]
     },
     "execution_count": 172,
     "metadata": {},
     "output_type": "execute_result"
    }
   ],
   "source": [
    "str(df_top_20.index[0])"
   ]
  },
  {
   "cell_type": "code",
   "execution_count": 173,
   "metadata": {},
   "outputs": [],
   "source": [
    "def predict_with_probabilities():\n",
    "    \n",
    "    headline = df.headline\n",
    "    keywords = df.keywords\n",
    "    snippet = df.snippet\n",
    "    word_count = df.word_count\n",
    "    \n",
    "    headline_tf_vec.transform()\n",
    "    headline_tf_vec_tok.transform()\n",
    "    headline_proba_rf.predict_proba()\n",
    "    \n",
    "    keywords_tf_vec.transform\n",
    "    keywords_tf_vec_tok.transform\n",
    "    keywords_proba_rf.predict_proba\n",
    "    \n",
    "    snippet_tf_vec.transform\n",
    "    snippet_tf_vec_tok.transform\n",
    "    snippet_proba_rf.predict_proba\n",
    "    \n",
    "    word_count_log_reg.predict_proba\n",
    "\n",
    "    "
   ]
  },
  {
   "cell_type": "code",
   "execution_count": 174,
   "metadata": {},
   "outputs": [],
   "source": [
    "def predict_with_class_labels(df):\n",
    "    \n",
    "    headline = df.headline\n",
    "    keywords = df.keywords\n",
    "    snippet = df.snippet\n",
    "    word_count = df.word_count\n",
    "    \n",
    "    headline_cv_vec.transform\n",
    "    headline_cv_vec_tok.transform\n",
    "    headline_class_rf.predict\n",
    "    \n",
    "    keywords_cv_vec.transform\n",
    "    keywords_cv_vec_tok.transform\n",
    "    keywords_class_rf.predict\n",
    "    \n",
    "    snippet_cv_vec.transform\n",
    "    snippet_cv_vec_tok.transform\n",
    "    snippet_class_rf.predict\n",
    "    \n",
    "    word_count_log_reg.predict\n",
    "    \n",
    "    "
   ]
  },
  {
   "cell_type": "code",
   "execution_count": 175,
   "metadata": {},
   "outputs": [],
   "source": [
    "# paragraph_tok_tf, paragraph_proba_rf_tok\n",
    "# paragraph_tok_cv, paragraph_class_rf_tok"
   ]
  },
  {
   "cell_type": "code",
   "execution_count": 176,
   "metadata": {},
   "outputs": [],
   "source": [
    "headline_proba_pipe = Pipeline([('headline_tf', headline_tf), \n",
    "                                ('headline_proba_rf', headline_proba_rf)])"
   ]
  },
  {
   "cell_type": "code",
   "execution_count": 177,
   "metadata": {},
   "outputs": [],
   "source": [
    "keywords_proba_pipe = Pipeline([('keywords_tf', keywords_tf), \n",
    "                                ('keywords_proba_rf', keywords_proba_rf)])"
   ]
  },
  {
   "cell_type": "code",
   "execution_count": 178,
   "metadata": {},
   "outputs": [],
   "source": [
    "paragraph_proba_pipe = Pipeline([('paragraph_tok_tf', paragraph_tok_tf), \n",
    "                               ('paragraph_proba_rf_tok', paragraph_proba_rf_tok)])"
   ]
  },
  {
   "cell_type": "code",
   "execution_count": 179,
   "metadata": {},
   "outputs": [],
   "source": [
    "def proba_nlp_pipeline(features, index):\n",
    "    \n",
    "    headline_probs = headline_proba_pipe.predict_proba(features.headline)\n",
    "    headline_probs = [x[1] for x in headline_probs]\n",
    "    \n",
    "    keywords_probs = keywords_proba_pipe.predict_proba(features.keywords)\n",
    "    keywords_probs = [x[1] for x in keywords_probs]\n",
    "    \n",
    "    paragraph_probs  = paragraph_proba_pipe.predict_proba(features.paragraph)\n",
    "    paragraph_probs = [x[1] for x in paragraph_probs]\n",
    "    \n",
    "    word_count_probs = word_count_log_reg.predict_proba(features.word_count.values.reshape(-1, 1))\n",
    "    word_count_probs = [x[1] for x in word_count_probs]\n",
    "    \n",
    "    df = pd.DataFrame({'headline_probabilty': headline_probs, \n",
    "                       'keywords_probabilty': keywords_probs,\n",
    "                       'paragraph_probabilty': paragraph_probs, \n",
    "                       'word_count_probabilty': word_count_probs}, index=index)\n",
    "        \n",
    "    scaler = StandardScaler()\n",
    "    df.iloc[:, :] = scaler.fit_transform(df.iloc[:, :].to_numpy())\n",
    "    \n",
    "    return df"
   ]
  },
  {
   "cell_type": "code",
   "execution_count": 180,
   "metadata": {},
   "outputs": [],
   "source": [
    "# test_df = pd.DataFrame(tree_details.values(), index=tree_details.keys(), columns=['Information'])"
   ]
  },
  {
   "cell_type": "code",
   "execution_count": 181,
   "metadata": {},
   "outputs": [],
   "source": [
    "# headline tfidf winners: headline_tf, headline_proba_rf, headline_proba\n",
    "# headline cv winners: headline_cv, headline_class_rf, headline_class"
   ]
  },
  {
   "cell_type": "code",
   "execution_count": 182,
   "metadata": {},
   "outputs": [],
   "source": [
    "# keywords tfidf winners: keywords_tf, keywords_proba_rf, keywords_proba\n",
    "# keywords cv winners: keywords_cv, keywords_class_rf, keywords_class"
   ]
  },
  {
   "cell_type": "code",
   "execution_count": 183,
   "metadata": {},
   "outputs": [],
   "source": [
    "# snippet tfidf winners: snippet_tok_tf, snippet_proba_rf_tok, snippet_proba_tok\n",
    "# snippet cv winners: snippet_tok_cv, snippet_class_rf_tok, snippet_class_tok"
   ]
  },
  {
   "cell_type": "code",
   "execution_count": 184,
   "metadata": {},
   "outputs": [],
   "source": [
    "headline_class_pipe = Pipeline([('headline_cv', headline_cv), \n",
    "                                ('headline_class_rf', headline_class_rf)])"
   ]
  },
  {
   "cell_type": "code",
   "execution_count": 185,
   "metadata": {},
   "outputs": [],
   "source": [
    "keywords_class_pipe = Pipeline([('keywords_cv', keywords_cv), \n",
    "                                ('keywords_class_rf', keywords_class_rf)])"
   ]
  },
  {
   "cell_type": "code",
   "execution_count": 186,
   "metadata": {},
   "outputs": [],
   "source": [
    "paragraph_class_pipe = Pipeline([('paragraph_tok_cv', paragraph_tok_cv), \n",
    "                               ('paragraph_class_rf_tok', paragraph_class_rf_tok)])"
   ]
  },
  {
   "cell_type": "code",
   "execution_count": 187,
   "metadata": {},
   "outputs": [],
   "source": [
    "def class_nlp_pipeline(features, index):\n",
    "    \n",
    "    headline_probs = headline_class_pipe.predict(features.headline)\n",
    "    keywords_probs = keywords_class_pipe.predict(features.keywords)\n",
    "    paragraph_probs  = paragraph_class_pipe.predict(features.paragraph)\n",
    "    word_count_probs = word_count_log_reg.predict(features.word_count.values.reshape(-1, 1))\n",
    "    \n",
    "    df = pd.DataFrame({'headline_probabilty': headline_probs, \n",
    "                       'keywords_probabilty': keywords_probs, \n",
    "                       'paragraph_probabilty': paragraph_probs, \n",
    "                       'word_count_probabilty': word_count_probs},  index=index)\n",
    "        \n",
    "    return df"
   ]
  },
  {
   "cell_type": "code",
   "execution_count": 188,
   "metadata": {},
   "outputs": [],
   "source": [
    "proba_for_pred = proba_nlp_pipeline(df_feature_deploy, df_feature_deploy.index)"
   ]
  },
  {
   "cell_type": "code",
   "execution_count": 189,
   "metadata": {},
   "outputs": [
    {
     "data": {
      "text/html": [
       "<div>\n",
       "<style scoped>\n",
       "    .dataframe tbody tr th:only-of-type {\n",
       "        vertical-align: middle;\n",
       "    }\n",
       "\n",
       "    .dataframe tbody tr th {\n",
       "        vertical-align: top;\n",
       "    }\n",
       "\n",
       "    .dataframe thead th {\n",
       "        text-align: right;\n",
       "    }\n",
       "</style>\n",
       "<table border=\"1\" class=\"dataframe\">\n",
       "  <thead>\n",
       "    <tr style=\"text-align: right;\">\n",
       "      <th></th>\n",
       "      <th>headline_probabilty</th>\n",
       "      <th>keywords_probabilty</th>\n",
       "      <th>paragraph_probabilty</th>\n",
       "      <th>word_count_probabilty</th>\n",
       "    </tr>\n",
       "  </thead>\n",
       "  <tbody>\n",
       "    <tr>\n",
       "      <th>5728</th>\n",
       "      <td>1.590711</td>\n",
       "      <td>0.692504</td>\n",
       "      <td>-0.642388</td>\n",
       "      <td>-1.091732</td>\n",
       "    </tr>\n",
       "    <tr>\n",
       "      <th>5729</th>\n",
       "      <td>-0.642474</td>\n",
       "      <td>-0.709079</td>\n",
       "      <td>0.077487</td>\n",
       "      <td>-0.396572</td>\n",
       "    </tr>\n",
       "    <tr>\n",
       "      <th>5732</th>\n",
       "      <td>0.778644</td>\n",
       "      <td>-0.326829</td>\n",
       "      <td>-0.102482</td>\n",
       "      <td>0.021119</td>\n",
       "    </tr>\n",
       "    <tr>\n",
       "      <th>5733</th>\n",
       "      <td>-0.236440</td>\n",
       "      <td>0.819921</td>\n",
       "      <td>1.877173</td>\n",
       "      <td>0.156137</td>\n",
       "    </tr>\n",
       "    <tr>\n",
       "      <th>5734</th>\n",
       "      <td>1.692219</td>\n",
       "      <td>1.074754</td>\n",
       "      <td>0.437424</td>\n",
       "      <td>-0.435128</td>\n",
       "    </tr>\n",
       "  </tbody>\n",
       "</table>\n",
       "</div>"
      ],
      "text/plain": [
       "      headline_probabilty  keywords_probabilty  paragraph_probabilty  \\\n",
       "5728             1.590711             0.692504             -0.642388   \n",
       "5729            -0.642474            -0.709079              0.077487   \n",
       "5732             0.778644            -0.326829             -0.102482   \n",
       "5733            -0.236440             0.819921              1.877173   \n",
       "5734             1.692219             1.074754              0.437424   \n",
       "\n",
       "      word_count_probabilty  \n",
       "5728              -1.091732  \n",
       "5729              -0.396572  \n",
       "5732               0.021119  \n",
       "5733               0.156137  \n",
       "5734              -0.435128  "
      ]
     },
     "execution_count": 189,
     "metadata": {},
     "output_type": "execute_result"
    }
   ],
   "source": [
    "proba_for_pred.head()"
   ]
  },
  {
   "cell_type": "code",
   "execution_count": 190,
   "metadata": {},
   "outputs": [
    {
     "data": {
      "text/plain": [
       "5728    0.105234\n",
       "5729    0.088595\n",
       "5732    0.103550\n",
       "5733    0.165034\n",
       "5734    0.142592\n",
       "          ...   \n",
       "5989    0.066935\n",
       "5990    0.072671\n",
       "5991    0.080162\n",
       "5992    0.071505\n",
       "5993    0.064530\n",
       "Name: predictions_from_proba, Length: 246, dtype: float64"
      ]
     },
     "execution_count": 190,
     "metadata": {},
     "output_type": "execute_result"
    }
   ],
   "source": [
    "predictions_from_proba = clf_proba.predict_proba(proba_for_pred)\n",
    "predictions_from_proba = [x[1] for x in predictions_from_proba]\n",
    "predictions_from_proba = pd.Series(predictions_from_proba, index=deployed_article_ids.index, \n",
    "                                   name='predictions_from_proba')\n",
    "predictions_from_proba"
   ]
  },
  {
   "cell_type": "code",
   "execution_count": 191,
   "metadata": {},
   "outputs": [],
   "source": [
    "class_for_pred = class_nlp_pipeline(df_feature_deploy, df_feature_deploy.index)"
   ]
  },
  {
   "cell_type": "code",
   "execution_count": 192,
   "metadata": {},
   "outputs": [
    {
     "data": {
      "text/html": [
       "<div>\n",
       "<style scoped>\n",
       "    .dataframe tbody tr th:only-of-type {\n",
       "        vertical-align: middle;\n",
       "    }\n",
       "\n",
       "    .dataframe tbody tr th {\n",
       "        vertical-align: top;\n",
       "    }\n",
       "\n",
       "    .dataframe thead th {\n",
       "        text-align: right;\n",
       "    }\n",
       "</style>\n",
       "<table border=\"1\" class=\"dataframe\">\n",
       "  <thead>\n",
       "    <tr style=\"text-align: right;\">\n",
       "      <th></th>\n",
       "      <th>headline_probabilty</th>\n",
       "      <th>keywords_probabilty</th>\n",
       "      <th>paragraph_probabilty</th>\n",
       "      <th>word_count_probabilty</th>\n",
       "    </tr>\n",
       "  </thead>\n",
       "  <tbody>\n",
       "    <tr>\n",
       "      <th>5728</th>\n",
       "      <td>0</td>\n",
       "      <td>0</td>\n",
       "      <td>0</td>\n",
       "      <td>0</td>\n",
       "    </tr>\n",
       "    <tr>\n",
       "      <th>5729</th>\n",
       "      <td>1</td>\n",
       "      <td>0</td>\n",
       "      <td>0</td>\n",
       "      <td>0</td>\n",
       "    </tr>\n",
       "    <tr>\n",
       "      <th>5732</th>\n",
       "      <td>1</td>\n",
       "      <td>0</td>\n",
       "      <td>0</td>\n",
       "      <td>0</td>\n",
       "    </tr>\n",
       "    <tr>\n",
       "      <th>5733</th>\n",
       "      <td>1</td>\n",
       "      <td>1</td>\n",
       "      <td>1</td>\n",
       "      <td>1</td>\n",
       "    </tr>\n",
       "    <tr>\n",
       "      <th>5734</th>\n",
       "      <td>1</td>\n",
       "      <td>0</td>\n",
       "      <td>0</td>\n",
       "      <td>0</td>\n",
       "    </tr>\n",
       "  </tbody>\n",
       "</table>\n",
       "</div>"
      ],
      "text/plain": [
       "      headline_probabilty  keywords_probabilty  paragraph_probabilty  \\\n",
       "5728                    0                    0                     0   \n",
       "5729                    1                    0                     0   \n",
       "5732                    1                    0                     0   \n",
       "5733                    1                    1                     1   \n",
       "5734                    1                    0                     0   \n",
       "\n",
       "      word_count_probabilty  \n",
       "5728                      0  \n",
       "5729                      0  \n",
       "5732                      0  \n",
       "5733                      1  \n",
       "5734                      0  "
      ]
     },
     "execution_count": 192,
     "metadata": {},
     "output_type": "execute_result"
    }
   ],
   "source": [
    "class_for_pred.head()"
   ]
  },
  {
   "cell_type": "code",
   "execution_count": 193,
   "metadata": {},
   "outputs": [
    {
     "data": {
      "text/plain": [
       "5728    0.096497\n",
       "5729    0.099575\n",
       "5732    0.099575\n",
       "5733    0.115611\n",
       "5734    0.099575\n",
       "          ...   \n",
       "5989    0.103246\n",
       "5990    0.099575\n",
       "5991    0.103246\n",
       "5992    0.103246\n",
       "5993    0.071364\n",
       "Name: predictions_from_class, Length: 246, dtype: float64"
      ]
     },
     "execution_count": 193,
     "metadata": {},
     "output_type": "execute_result"
    }
   ],
   "source": [
    "predictions_from_class = clf_class.predict_proba(class_for_pred)\n",
    "predictions_from_class = [x[1] for x in predictions_from_class]\n",
    "predictions_from_class = pd.Series(predictions_from_class, index=deployed_article_ids.index,\n",
    "                                   name='predictions_from_class')\n",
    "predictions_from_class"
   ]
  },
  {
   "cell_type": "code",
   "execution_count": 194,
   "metadata": {},
   "outputs": [
    {
     "data": {
      "text/html": [
       "<div>\n",
       "<style scoped>\n",
       "    .dataframe tbody tr th:only-of-type {\n",
       "        vertical-align: middle;\n",
       "    }\n",
       "\n",
       "    .dataframe tbody tr th {\n",
       "        vertical-align: top;\n",
       "    }\n",
       "\n",
       "    .dataframe thead th {\n",
       "        text-align: right;\n",
       "    }\n",
       "</style>\n",
       "<table border=\"1\" class=\"dataframe\">\n",
       "  <thead>\n",
       "    <tr style=\"text-align: right;\">\n",
       "      <th></th>\n",
       "      <th>uri</th>\n",
       "      <th>date_published</th>\n",
       "      <th>predictions_from_proba</th>\n",
       "    </tr>\n",
       "  </thead>\n",
       "  <tbody>\n",
       "    <tr>\n",
       "      <th>5799</th>\n",
       "      <td>nyt://article/0e723422-6b71-5929-8487-2d0a7e49...</td>\n",
       "      <td>2022-01-17</td>\n",
       "      <td>0.384185</td>\n",
       "    </tr>\n",
       "    <tr>\n",
       "      <th>5796</th>\n",
       "      <td>nyt://article/fa264535-6958-54b0-8ad5-1f1cf625...</td>\n",
       "      <td>2022-01-17</td>\n",
       "      <td>0.373427</td>\n",
       "    </tr>\n",
       "    <tr>\n",
       "      <th>5825</th>\n",
       "      <td>nyt://article/e28a1219-771c-5233-8cec-51674bff...</td>\n",
       "      <td>2022-01-17</td>\n",
       "      <td>0.36459</td>\n",
       "    </tr>\n",
       "    <tr>\n",
       "      <th>5736</th>\n",
       "      <td>nyt://article/73e801a9-d932-5899-96ec-11d092bb...</td>\n",
       "      <td>2022-01-16</td>\n",
       "      <td>0.275429</td>\n",
       "    </tr>\n",
       "    <tr>\n",
       "      <th>5920</th>\n",
       "      <td>nyt://article/a135cf06-2332-5434-a9b1-5e919e60...</td>\n",
       "      <td>2022-01-18</td>\n",
       "      <td>0.258359</td>\n",
       "    </tr>\n",
       "    <tr>\n",
       "      <th>5910</th>\n",
       "      <td>nyt://article/325d8e75-4d50-5277-856f-980a5b9d...</td>\n",
       "      <td>2022-01-18</td>\n",
       "      <td>0.242273</td>\n",
       "    </tr>\n",
       "    <tr>\n",
       "      <th>5740</th>\n",
       "      <td>nyt://article/d7fafe18-cecb-5ca7-91da-ac86e943...</td>\n",
       "      <td>2022-01-16</td>\n",
       "      <td>0.219757</td>\n",
       "    </tr>\n",
       "    <tr>\n",
       "      <th>5738</th>\n",
       "      <td>nyt://article/4bfd4759-50e5-5817-b6ec-4b453e57...</td>\n",
       "      <td>2022-01-16</td>\n",
       "      <td>0.217824</td>\n",
       "    </tr>\n",
       "    <tr>\n",
       "      <th>5782</th>\n",
       "      <td>nyt://article/f60c2c42-854b-595d-a23a-50b6eb1d...</td>\n",
       "      <td>2022-01-16</td>\n",
       "      <td>0.216332</td>\n",
       "    </tr>\n",
       "    <tr>\n",
       "      <th>5811</th>\n",
       "      <td>nyt://article/b7f649ea-964a-566a-89f5-9d0cbf38...</td>\n",
       "      <td>2022-01-17</td>\n",
       "      <td>0.209391</td>\n",
       "    </tr>\n",
       "    <tr>\n",
       "      <th>5776</th>\n",
       "      <td>nyt://article/ecd621c3-f762-5df7-9bfb-a373fa71...</td>\n",
       "      <td>2022-01-16</td>\n",
       "      <td>0.20249</td>\n",
       "    </tr>\n",
       "    <tr>\n",
       "      <th>5857</th>\n",
       "      <td>nyt://article/96a0640a-78f6-556a-985b-5ca2881c...</td>\n",
       "      <td>2022-01-17</td>\n",
       "      <td>0.199277</td>\n",
       "    </tr>\n",
       "    <tr>\n",
       "      <th>5829</th>\n",
       "      <td>nyt://article/44bd060a-4fe5-56b6-86fc-05398b7e...</td>\n",
       "      <td>2022-01-17</td>\n",
       "      <td>0.196099</td>\n",
       "    </tr>\n",
       "    <tr>\n",
       "      <th>5843</th>\n",
       "      <td>nyt://article/7462286c-fefb-58f9-a893-f848add0...</td>\n",
       "      <td>2022-01-17</td>\n",
       "      <td>0.188484</td>\n",
       "    </tr>\n",
       "    <tr>\n",
       "      <th>5908</th>\n",
       "      <td>nyt://article/bc667358-0f97-5b5d-a469-ed42e813...</td>\n",
       "      <td>2022-01-18</td>\n",
       "      <td>0.181356</td>\n",
       "    </tr>\n",
       "    <tr>\n",
       "      <th>5771</th>\n",
       "      <td>nyt://article/5a554ca1-399e-54a4-806e-efa7c3d2...</td>\n",
       "      <td>2022-01-16</td>\n",
       "      <td>0.179547</td>\n",
       "    </tr>\n",
       "    <tr>\n",
       "      <th>5949</th>\n",
       "      <td>nyt://article/fab17565-662c-5db7-9793-b19a8294...</td>\n",
       "      <td>2022-01-18</td>\n",
       "      <td>0.175348</td>\n",
       "    </tr>\n",
       "    <tr>\n",
       "      <th>5737</th>\n",
       "      <td>nyt://article/de14a612-62c2-5de2-883d-6e58ca64...</td>\n",
       "      <td>2022-01-16</td>\n",
       "      <td>0.170371</td>\n",
       "    </tr>\n",
       "    <tr>\n",
       "      <th>5973</th>\n",
       "      <td>nyt://article/f3f5459b-49ff-5396-85aa-6e3fe3d2...</td>\n",
       "      <td>2022-01-18</td>\n",
       "      <td>0.170357</td>\n",
       "    </tr>\n",
       "    <tr>\n",
       "      <th>5966</th>\n",
       "      <td>nyt://article/1205b876-61e9-5f31-921a-1625c4da...</td>\n",
       "      <td>2022-01-18</td>\n",
       "      <td>0.169017</td>\n",
       "    </tr>\n",
       "  </tbody>\n",
       "</table>\n",
       "</div>"
      ],
      "text/plain": [
       "                                                    uri date_published  \\\n",
       "5799  nyt://article/0e723422-6b71-5929-8487-2d0a7e49...     2022-01-17   \n",
       "5796  nyt://article/fa264535-6958-54b0-8ad5-1f1cf625...     2022-01-17   \n",
       "5825  nyt://article/e28a1219-771c-5233-8cec-51674bff...     2022-01-17   \n",
       "5736  nyt://article/73e801a9-d932-5899-96ec-11d092bb...     2022-01-16   \n",
       "5920  nyt://article/a135cf06-2332-5434-a9b1-5e919e60...     2022-01-18   \n",
       "5910  nyt://article/325d8e75-4d50-5277-856f-980a5b9d...     2022-01-18   \n",
       "5740  nyt://article/d7fafe18-cecb-5ca7-91da-ac86e943...     2022-01-16   \n",
       "5738  nyt://article/4bfd4759-50e5-5817-b6ec-4b453e57...     2022-01-16   \n",
       "5782  nyt://article/f60c2c42-854b-595d-a23a-50b6eb1d...     2022-01-16   \n",
       "5811  nyt://article/b7f649ea-964a-566a-89f5-9d0cbf38...     2022-01-17   \n",
       "5776  nyt://article/ecd621c3-f762-5df7-9bfb-a373fa71...     2022-01-16   \n",
       "5857  nyt://article/96a0640a-78f6-556a-985b-5ca2881c...     2022-01-17   \n",
       "5829  nyt://article/44bd060a-4fe5-56b6-86fc-05398b7e...     2022-01-17   \n",
       "5843  nyt://article/7462286c-fefb-58f9-a893-f848add0...     2022-01-17   \n",
       "5908  nyt://article/bc667358-0f97-5b5d-a469-ed42e813...     2022-01-18   \n",
       "5771  nyt://article/5a554ca1-399e-54a4-806e-efa7c3d2...     2022-01-16   \n",
       "5949  nyt://article/fab17565-662c-5db7-9793-b19a8294...     2022-01-18   \n",
       "5737  nyt://article/de14a612-62c2-5de2-883d-6e58ca64...     2022-01-16   \n",
       "5973  nyt://article/f3f5459b-49ff-5396-85aa-6e3fe3d2...     2022-01-18   \n",
       "5966  nyt://article/1205b876-61e9-5f31-921a-1625c4da...     2022-01-18   \n",
       "\n",
       "     predictions_from_proba  \n",
       "5799               0.384185  \n",
       "5796               0.373427  \n",
       "5825                0.36459  \n",
       "5736               0.275429  \n",
       "5920               0.258359  \n",
       "5910               0.242273  \n",
       "5740               0.219757  \n",
       "5738               0.217824  \n",
       "5782               0.216332  \n",
       "5811               0.209391  \n",
       "5776                0.20249  \n",
       "5857               0.199277  \n",
       "5829               0.196099  \n",
       "5843               0.188484  \n",
       "5908               0.181356  \n",
       "5771               0.179547  \n",
       "5949               0.175348  \n",
       "5737               0.170371  \n",
       "5973               0.170357  \n",
       "5966               0.169017  "
      ]
     },
     "execution_count": 194,
     "metadata": {},
     "output_type": "execute_result"
    }
   ],
   "source": [
    "top_20_from_proba = pd.DataFrame([deployed_article_ids, date_published, predictions_from_proba]).T\n",
    "\n",
    "top_20_from_proba.sort_values('predictions_from_proba', ascending=False, inplace=True) \n",
    "top_20_from_proba = top_20_from_proba[:20]\n",
    "top_20_from_proba"
   ]
  },
  {
   "cell_type": "code",
   "execution_count": 195,
   "metadata": {},
   "outputs": [
    {
     "data": {
      "text/html": [
       "<div>\n",
       "<style scoped>\n",
       "    .dataframe tbody tr th:only-of-type {\n",
       "        vertical-align: middle;\n",
       "    }\n",
       "\n",
       "    .dataframe tbody tr th {\n",
       "        vertical-align: top;\n",
       "    }\n",
       "\n",
       "    .dataframe thead th {\n",
       "        text-align: right;\n",
       "    }\n",
       "</style>\n",
       "<table border=\"1\" class=\"dataframe\">\n",
       "  <thead>\n",
       "    <tr style=\"text-align: right;\">\n",
       "      <th></th>\n",
       "      <th>uri</th>\n",
       "      <th>date_published</th>\n",
       "      <th>predictions_from_class</th>\n",
       "    </tr>\n",
       "  </thead>\n",
       "  <tbody>\n",
       "    <tr>\n",
       "      <th>5953</th>\n",
       "      <td>nyt://article/55838c4b-787d-5390-989b-ad0dbf3a...</td>\n",
       "      <td>2022-01-18</td>\n",
       "      <td>0.158332</td>\n",
       "    </tr>\n",
       "    <tr>\n",
       "      <th>5830</th>\n",
       "      <td>nyt://article/d6d3e534-d405-5953-bc19-a7484021...</td>\n",
       "      <td>2022-01-17</td>\n",
       "      <td>0.158332</td>\n",
       "    </tr>\n",
       "    <tr>\n",
       "      <th>5867</th>\n",
       "      <td>nyt://article/6143d114-a477-5d34-bd65-6f3f9d93...</td>\n",
       "      <td>2022-01-17</td>\n",
       "      <td>0.158332</td>\n",
       "    </tr>\n",
       "    <tr>\n",
       "      <th>5768</th>\n",
       "      <td>nyt://article/8f6337a3-1067-567d-bfc0-7a58d131...</td>\n",
       "      <td>2022-01-16</td>\n",
       "      <td>0.158332</td>\n",
       "    </tr>\n",
       "    <tr>\n",
       "      <th>5755</th>\n",
       "      <td>nyt://article/2e2fc4e8-a1dd-553a-a182-cd4730bb...</td>\n",
       "      <td>2022-01-16</td>\n",
       "      <td>0.158332</td>\n",
       "    </tr>\n",
       "    <tr>\n",
       "      <th>5949</th>\n",
       "      <td>nyt://article/fab17565-662c-5db7-9793-b19a8294...</td>\n",
       "      <td>2022-01-18</td>\n",
       "      <td>0.158332</td>\n",
       "    </tr>\n",
       "    <tr>\n",
       "      <th>5857</th>\n",
       "      <td>nyt://article/96a0640a-78f6-556a-985b-5ca2881c...</td>\n",
       "      <td>2022-01-17</td>\n",
       "      <td>0.158332</td>\n",
       "    </tr>\n",
       "    <tr>\n",
       "      <th>5896</th>\n",
       "      <td>nyt://article/95a8de39-99e5-53d9-acbf-5053b155...</td>\n",
       "      <td>2022-01-18</td>\n",
       "      <td>0.158332</td>\n",
       "    </tr>\n",
       "    <tr>\n",
       "      <th>5906</th>\n",
       "      <td>nyt://article/348f0e5c-6e4e-51a7-9c22-c7ca8fca...</td>\n",
       "      <td>2022-01-18</td>\n",
       "      <td>0.158332</td>\n",
       "    </tr>\n",
       "    <tr>\n",
       "      <th>5846</th>\n",
       "      <td>nyt://article/9bdda95b-afd7-5bfe-a5d9-f51acde6...</td>\n",
       "      <td>2022-01-17</td>\n",
       "      <td>0.158332</td>\n",
       "    </tr>\n",
       "    <tr>\n",
       "      <th>5908</th>\n",
       "      <td>nyt://article/bc667358-0f97-5b5d-a469-ed42e813...</td>\n",
       "      <td>2022-01-18</td>\n",
       "      <td>0.158332</td>\n",
       "    </tr>\n",
       "    <tr>\n",
       "      <th>5762</th>\n",
       "      <td>nyt://article/298ee593-7489-5162-b365-9cda4f19...</td>\n",
       "      <td>2022-01-16</td>\n",
       "      <td>0.158332</td>\n",
       "    </tr>\n",
       "    <tr>\n",
       "      <th>5845</th>\n",
       "      <td>nyt://article/27af93c5-c92f-5298-8c6d-7735843e...</td>\n",
       "      <td>2022-01-17</td>\n",
       "      <td>0.158332</td>\n",
       "    </tr>\n",
       "    <tr>\n",
       "      <th>5910</th>\n",
       "      <td>nyt://article/325d8e75-4d50-5277-856f-980a5b9d...</td>\n",
       "      <td>2022-01-18</td>\n",
       "      <td>0.158332</td>\n",
       "    </tr>\n",
       "    <tr>\n",
       "      <th>5917</th>\n",
       "      <td>nyt://article/6d144143-9399-52d2-9e43-f8ca7633...</td>\n",
       "      <td>2022-01-18</td>\n",
       "      <td>0.158332</td>\n",
       "    </tr>\n",
       "    <tr>\n",
       "      <th>5737</th>\n",
       "      <td>nyt://article/de14a612-62c2-5de2-883d-6e58ca64...</td>\n",
       "      <td>2022-01-16</td>\n",
       "      <td>0.158332</td>\n",
       "    </tr>\n",
       "    <tr>\n",
       "      <th>5796</th>\n",
       "      <td>nyt://article/fa264535-6958-54b0-8ad5-1f1cf625...</td>\n",
       "      <td>2022-01-17</td>\n",
       "      <td>0.158332</td>\n",
       "    </tr>\n",
       "    <tr>\n",
       "      <th>5814</th>\n",
       "      <td>nyt://article/077ec038-e39b-55be-ac40-26881147...</td>\n",
       "      <td>2022-01-17</td>\n",
       "      <td>0.158332</td>\n",
       "    </tr>\n",
       "    <tr>\n",
       "      <th>5822</th>\n",
       "      <td>nyt://article/5faff9f1-f812-5900-95d2-b7eb4ec3...</td>\n",
       "      <td>2022-01-17</td>\n",
       "      <td>0.158332</td>\n",
       "    </tr>\n",
       "    <tr>\n",
       "      <th>5736</th>\n",
       "      <td>nyt://article/73e801a9-d932-5899-96ec-11d092bb...</td>\n",
       "      <td>2022-01-16</td>\n",
       "      <td>0.158332</td>\n",
       "    </tr>\n",
       "  </tbody>\n",
       "</table>\n",
       "</div>"
      ],
      "text/plain": [
       "                                                    uri date_published  \\\n",
       "5953  nyt://article/55838c4b-787d-5390-989b-ad0dbf3a...     2022-01-18   \n",
       "5830  nyt://article/d6d3e534-d405-5953-bc19-a7484021...     2022-01-17   \n",
       "5867  nyt://article/6143d114-a477-5d34-bd65-6f3f9d93...     2022-01-17   \n",
       "5768  nyt://article/8f6337a3-1067-567d-bfc0-7a58d131...     2022-01-16   \n",
       "5755  nyt://article/2e2fc4e8-a1dd-553a-a182-cd4730bb...     2022-01-16   \n",
       "5949  nyt://article/fab17565-662c-5db7-9793-b19a8294...     2022-01-18   \n",
       "5857  nyt://article/96a0640a-78f6-556a-985b-5ca2881c...     2022-01-17   \n",
       "5896  nyt://article/95a8de39-99e5-53d9-acbf-5053b155...     2022-01-18   \n",
       "5906  nyt://article/348f0e5c-6e4e-51a7-9c22-c7ca8fca...     2022-01-18   \n",
       "5846  nyt://article/9bdda95b-afd7-5bfe-a5d9-f51acde6...     2022-01-17   \n",
       "5908  nyt://article/bc667358-0f97-5b5d-a469-ed42e813...     2022-01-18   \n",
       "5762  nyt://article/298ee593-7489-5162-b365-9cda4f19...     2022-01-16   \n",
       "5845  nyt://article/27af93c5-c92f-5298-8c6d-7735843e...     2022-01-17   \n",
       "5910  nyt://article/325d8e75-4d50-5277-856f-980a5b9d...     2022-01-18   \n",
       "5917  nyt://article/6d144143-9399-52d2-9e43-f8ca7633...     2022-01-18   \n",
       "5737  nyt://article/de14a612-62c2-5de2-883d-6e58ca64...     2022-01-16   \n",
       "5796  nyt://article/fa264535-6958-54b0-8ad5-1f1cf625...     2022-01-17   \n",
       "5814  nyt://article/077ec038-e39b-55be-ac40-26881147...     2022-01-17   \n",
       "5822  nyt://article/5faff9f1-f812-5900-95d2-b7eb4ec3...     2022-01-17   \n",
       "5736  nyt://article/73e801a9-d932-5899-96ec-11d092bb...     2022-01-16   \n",
       "\n",
       "     predictions_from_class  \n",
       "5953               0.158332  \n",
       "5830               0.158332  \n",
       "5867               0.158332  \n",
       "5768               0.158332  \n",
       "5755               0.158332  \n",
       "5949               0.158332  \n",
       "5857               0.158332  \n",
       "5896               0.158332  \n",
       "5906               0.158332  \n",
       "5846               0.158332  \n",
       "5908               0.158332  \n",
       "5762               0.158332  \n",
       "5845               0.158332  \n",
       "5910               0.158332  \n",
       "5917               0.158332  \n",
       "5737               0.158332  \n",
       "5796               0.158332  \n",
       "5814               0.158332  \n",
       "5822               0.158332  \n",
       "5736               0.158332  "
      ]
     },
     "execution_count": 195,
     "metadata": {},
     "output_type": "execute_result"
    }
   ],
   "source": [
    "top_20_from_class = pd.DataFrame([deployed_article_ids, date_published, predictions_from_class]).T\n",
    "\n",
    "\n",
    "top_20_from_class.sort_values('predictions_from_class', ascending=False, inplace=True)\n",
    "top_20_from_class = top_20_from_class[:20]\n",
    "top_20_from_class"
   ]
  },
  {
   "cell_type": "code",
   "execution_count": 291,
   "metadata": {},
   "outputs": [
    {
     "data": {
      "text/plain": [
       "array(['nyt://article/d7fafe18-cecb-5ca7-91da-ac86e94380f4',\n",
       "       'nyt://article/0e723422-6b71-5929-8487-2d0a7e493c9c',\n",
       "       'nyt://article/73e801a9-d932-5899-96ec-11d092bbb45e',\n",
       "       'nyt://article/e28a1219-771c-5233-8cec-51674bffaf0a',\n",
       "       'nyt://article/5faff9f1-f812-5900-95d2-b7eb4ec30c67',\n",
       "       'nyt://article/0b018061-56cb-5893-b627-bd8672f82aa1',\n",
       "       'nyt://article/fa264535-6958-54b0-8ad5-1f1cf625b8fb',\n",
       "       'nyt://article/505ace74-61e5-5377-af29-7e2a25dc1de4',\n",
       "       'nyt://article/6da25df5-8c75-5cec-8746-1a2f402d51cc',\n",
       "       'nyt://article/0f048161-03a7-57e4-bc29-9c818a72ae28',\n",
       "       'nyt://article/0b2b3a49-a2bc-58bf-89e8-e3cdc9f30a24',\n",
       "       'nyt://article/4b660502-8679-5afc-afb4-c50a88ed1ff8',\n",
       "       'nyt://article/b7f649ea-964a-566a-89f5-9d0cbf38ba79',\n",
       "       'nyt://article/f60c2c42-854b-595d-a23a-50b6eb1dc3a1',\n",
       "       'nyt://article/b24f375a-8d8c-56e5-8929-4a094ab5c15b',\n",
       "       'nyt://article/f733e3f7-4925-5411-b1bd-3674140155ff',\n",
       "       'nyt://article/5a554ca1-399e-54a4-806e-efa7c3d2db0f',\n",
       "       'nyt://article/3b9a2eab-1784-57b9-94a2-992658d3fd99',\n",
       "       'nyt://article/2e2fc4e8-a1dd-553a-a182-cd4730bb0d9e',\n",
       "       'nyt://article/de14a612-62c2-5de2-883d-6e58ca64374f'], dtype=object)"
      ]
     },
     "execution_count": 291,
     "metadata": {},
     "output_type": "execute_result"
    }
   ],
   "source": [
    "pred_ids = top_20_from_proba.uri.values\n",
    "pred_ids"
   ]
  },
  {
   "cell_type": "code",
   "execution_count": 292,
   "metadata": {},
   "outputs": [
    {
     "data": {
      "text/plain": [
       "array(['nyt://article/f0eae40a-c7c9-584f-a85d-d68544f5d496',\n",
       "       'nyt://article/a8cd2b1d-beab-5c35-a403-6395feaa1db2',\n",
       "       'nyt://article/aeff9a74-2a9b-58f3-b7ad-27aec0bb5ff4',\n",
       "       'nyt://article/3e9f24a2-4313-57d0-bff3-e900f9309062',\n",
       "       'nyt://article/32042f84-b000-5027-aadf-8d55047b4b44',\n",
       "       'nyt://article/47ae1e8e-64e9-5d46-96df-5edfb972edab',\n",
       "       'nyt://article/f60c2c42-854b-595d-a23a-50b6eb1dc3a1',\n",
       "       'nyt://article/e28a1219-771c-5233-8cec-51674bffaf0a',\n",
       "       'nyt://article/b7f649ea-964a-566a-89f5-9d0cbf38ba79',\n",
       "       'nyt://article/c70f7f14-bf99-53c5-b0b9-b1207890a12e',\n",
       "       'nyt://article/f81238c5-d68e-54d9-a6ee-4f0ccb05bc9c',\n",
       "       'nyt://article/44bd060a-4fe5-56b6-86fc-05398b7e36f5',\n",
       "       'nyt://article/f804a2dd-fbd8-57ae-af9a-3a4e25c07fbd',\n",
       "       'nyt://article/f733e3f7-4925-5411-b1bd-3674140155ff',\n",
       "       'nyt://article/2f8c0257-078c-54a6-9207-4a11a60fb8b7',\n",
       "       'nyt://article/55f6b605-3986-58e8-8105-72070a0e060c',\n",
       "       'nyt://article/47b6a5e5-59f7-5e9a-8d40-b00e2882fa71',\n",
       "       'nyt://article/4d849488-0a33-5bdb-a36b-2d2b68a520de',\n",
       "       'nyt://article/5c7dc11a-28fa-5dc2-8c8f-4d31c7572937',\n",
       "       'nyt://article/e77de6bb-dd36-5230-a04f-e1a06cd173fc'], dtype=object)"
      ]
     },
     "execution_count": 292,
     "metadata": {},
     "output_type": "execute_result"
    }
   ],
   "source": [
    "act_ids = df_top_20.uri.values\n",
    "act_ids"
   ]
  },
  {
   "cell_type": "code",
   "execution_count": 293,
   "metadata": {},
   "outputs": [
    {
     "name": "stdout",
     "output_type": "stream",
     "text": [
      "4\n"
     ]
    },
    {
     "data": {
      "text/plain": [
       "20"
      ]
     },
     "execution_count": 293,
     "metadata": {},
     "output_type": "execute_result"
    }
   ],
   "source": [
    "proba_tf_pipe = [1 if x in df_top_20.uri.values else 0 for x in top_20_from_proba.uri.values]\n",
    "print(sum(proba_tf_pipe))\n",
    "len(proba_tf_pipe)"
   ]
  },
  {
   "cell_type": "code",
   "execution_count": 294,
   "metadata": {},
   "outputs": [
    {
     "name": "stdout",
     "output_type": "stream",
     "text": [
      "1\n"
     ]
    },
    {
     "data": {
      "text/plain": [
       "20"
      ]
     },
     "execution_count": 294,
     "metadata": {},
     "output_type": "execute_result"
    }
   ],
   "source": [
    "class_cv_pipe = [1 if x in df_top_20.uri.values else 0 for x in top_20_from_class.uri.values]\n",
    "print(sum(class_cv_pipe))\n",
    "len(class_cv_pipe)"
   ]
  },
  {
   "cell_type": "code",
   "execution_count": 196,
   "metadata": {},
   "outputs": [],
   "source": [
    "def score_top20_pred(top_20_from_proba, top_20_from_class, df_top_20):\n",
    "    \n",
    "    date = df_top_20.index[0]\n",
    "    \n",
    "    proba_tf_pipe = [1 if x in df_top_20.uri.values else 0 for x in top_20_from_proba.uri.values]\n",
    "    proba_tf_pipe = sum(proba_tf_pipe)/len(proba_tf_pipe)\n",
    "    class_cv_pipe = [1 if x in df_top_20.uri.values else 0 for x in top_20_from_class.uri.values]\n",
    "    class_cv_pipe = sum(class_cv_pipe)/len(class_cv_pipe)\n",
    "    \n",
    "    pred_series = pd.Series({'proba_tf_pipe': proba_tf_pipe, 'class_cv_pipe': class_cv_pipe}, name=str(date))\n",
    "    \n",
    "    return pred_series"
   ]
  },
  {
   "cell_type": "code",
   "execution_count": 197,
   "metadata": {},
   "outputs": [
    {
     "data": {
      "text/plain": [
       "proba_tf_pipe    0.2\n",
       "class_cv_pipe    0.0\n",
       "Name: 2022-01-18, dtype: float64"
      ]
     },
     "execution_count": 197,
     "metadata": {},
     "output_type": "execute_result"
    }
   ],
   "source": [
    "score_top20_pred(top_20_from_proba, top_20_from_class, df_top_20)"
   ]
  },
  {
   "cell_type": "code",
   "execution_count": 198,
   "metadata": {},
   "outputs": [
    {
     "data": {
      "text/html": [
       "<div>\n",
       "<style scoped>\n",
       "    .dataframe tbody tr th:only-of-type {\n",
       "        vertical-align: middle;\n",
       "    }\n",
       "\n",
       "    .dataframe tbody tr th {\n",
       "        vertical-align: top;\n",
       "    }\n",
       "\n",
       "    .dataframe thead th {\n",
       "        text-align: right;\n",
       "    }\n",
       "</style>\n",
       "<table border=\"1\" class=\"dataframe\">\n",
       "  <thead>\n",
       "    <tr style=\"text-align: right;\">\n",
       "      <th></th>\n",
       "      <th>proba_tf_pipe</th>\n",
       "      <th>class_cv_pipe</th>\n",
       "    </tr>\n",
       "  </thead>\n",
       "  <tbody>\n",
       "    <tr>\n",
       "      <th>2022-01-18</th>\n",
       "      <td>0.2</td>\n",
       "      <td>0.0</td>\n",
       "    </tr>\n",
       "  </tbody>\n",
       "</table>\n",
       "</div>"
      ],
      "text/plain": [
       "            proba_tf_pipe  class_cv_pipe\n",
       "2022-01-18            0.2            0.0"
      ]
     },
     "execution_count": 198,
     "metadata": {},
     "output_type": "execute_result"
    }
   ],
   "source": [
    "prediction_df = pd.DataFrame(score_top20_pred(top_20_from_proba, top_20_from_class, df_top_20)).T\n",
    "prediction_df"
   ]
  },
  {
   "cell_type": "code",
   "execution_count": 199,
   "metadata": {},
   "outputs": [],
   "source": [
    "prediction_df.to_csv('data/predictions.csv', index=False)"
   ]
  },
  {
   "cell_type": "code",
   "execution_count": 200,
   "metadata": {},
   "outputs": [],
   "source": [
    "pred_plot_df = pd.read_csv('data/predictions.csv')"
   ]
  },
  {
   "cell_type": "code",
   "execution_count": 201,
   "metadata": {},
   "outputs": [
    {
     "data": {
      "image/png": "[encoded data removed]",
      "text/plain": [
       "<Figure size 432x288 with 1 Axes>"
      ]
     },
     "metadata": {
      "needs_background": "light"
     },
     "output_type": "display_data"
    }
   ],
   "source": [
    "pred_plot_df.plot(kind='bar');"
   ]
  },
  {
   "cell_type": "code",
   "execution_count": null,
   "metadata": {},
   "outputs": [],
   "source": []
  }
 ],
 "metadata": {
  "kernelspec": {
   "display_name": "Python (learn-env)",
   "language": "python",
   "name": "learn-env"
  },
  "language_info": {
   "codemirror_mode": {
    "name": "ipython",
    "version": 3
   },
   "file_extension": ".py",
   "mimetype": "text/x-python",
   "name": "python",
   "nbconvert_exporter": "python",
   "pygments_lexer": "ipython3",
   "version": "3.8.5"
  }
 },
 "nbformat": 4,
 "nbformat_minor": 4
}
