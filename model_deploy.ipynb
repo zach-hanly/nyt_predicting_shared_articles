{
 "cells": [
  {
   "cell_type": "markdown",
   "metadata": {},
   "source": [
    "# Predicting New York Times Daily Top 20 Most Shared Articles on Facebook"
   ]
  },
  {
   "cell_type": "code",
   "execution_count": 89,
   "metadata": {},
   "outputs": [],
   "source": [
    "# file manipulation \n",
    "import os\n",
    "\n",
    "# data manipulation \n",
    "import re\n",
    "import datetime as dt\n",
    "import pandas as pd\n",
    "import numpy as np\n",
    "import math\n",
    "from functions import *\n",
    "\n",
    "# modeling \n",
    "from sklearn.model_selection import train_test_split, GridSearchCV\n",
    "from sklearn.feature_extraction.text import TfidfVectorizer, CountVectorizer\n",
    "from sklearn.preprocessing import StandardScaler\n",
    "from sklearn.dummy import DummyClassifier\n",
    "from sklearn.ensemble import RandomForestClassifier\n",
    "from sklearn.linear_model import LogisticRegression\n",
    "from sklearn.pipeline import Pipeline\n",
    "from sklearn.metrics import accuracy_score, plot_confusion_matrix, plot_roc_curve\n",
    "\n",
    "# sampling\n",
    "from imblearn.over_sampling import SMOTE\n",
    "\n",
    "# preprocessing text\n",
    "import nltk\n",
    "from nltk.corpus import stopwords, wordnet\n",
    "from nltk.tokenize import RegexpTokenizer\n",
    "from nltk import pos_tag\n",
    "from nltk.stem import WordNetLemmatizer \n",
    "\n",
    "\n",
    "# plotting \n",
    "import matplotlib.pyplot as plt\n",
    "import seaborn as sns\n",
    "sns.set_context('notebook')"
   ]
  },
  {
   "cell_type": "markdown",
   "metadata": {},
   "source": [
    "#### Loading the data\n",
    "The scripts to request, clean and store both the article archive data and the daily top 20 most shared on Facebook lists can be found in [request_archive.py](./request_archive.py) and [request_most_shared_articles.py](./request_most_shared_articles.py). One request for a top 20 list for the previous 30 days was made to help label some articles in the archive as popular that were published before daily collection of a top 20 list was begun. \n",
    "\n",
    "The archive data contains all articles from December and all from January up to the end of the training phase on January 15th. Any rows with Null values in the archive were dropped and the date published column was changed to the datetime data type. The metadate that was collected for modeling was the headline of the article, keywords for the article, a snippet from the article and the word count for the article. Additionally the URI and date published was grabbed for each article. \n",
    "\n",
    "For each top 20 list the URI, date published and date the list was sourced was taken. "
   ]
  },
  {
   "cell_type": "code",
   "execution_count": 90,
   "metadata": {},
   "outputs": [],
   "source": [
    "# load archive articles from csv in data directory\n",
    "df = pd.read_csv('data/archive_train.csv')\n",
    "df.date_published = df.date_published.apply(lambda x: pd.to_datetime(x).date())\n",
    "df.dropna(inplace=True)\n",
    "\n",
    "# load seperate top 20 lists in folder in data directory into single dataframe \n",
    "df_most_shared = load_most_shared('data/most_popular_train')"
   ]
  },
  {
   "cell_type": "markdown",
   "metadata": {},
   "source": [
    "<br>\n",
    "A list was made to house the URI's, the unique index for each article, for articles appearing on a top 20 list at least once. Then a popular column was created for the archive dataframe by iterating over the list of the highly shared articles and assigning a 0 if that article's URI was not present on the list and 1 for if it was. This is the target column for the models."
   ]
  },
  {
   "cell_type": "code",
   "execution_count": 91,
   "metadata": {},
   "outputs": [],
   "source": [
    "# create list, then interate over it to make target column\n",
    "popular_list = df_most_shared.uri.values\n",
    "df['popular'] = [1 if x in popular_list else 0 for x in df.uri.values]"
   ]
  },
  {
   "cell_type": "code",
   "execution_count": 92,
   "metadata": {},
   "outputs": [
    {
     "data": {
      "text/html": [
       "<div>\n",
       "<style scoped>\n",
       "    .dataframe tbody tr th:only-of-type {\n",
       "        vertical-align: middle;\n",
       "    }\n",
       "\n",
       "    .dataframe tbody tr th {\n",
       "        vertical-align: top;\n",
       "    }\n",
       "\n",
       "    .dataframe thead th {\n",
       "        text-align: right;\n",
       "    }\n",
       "</style>\n",
       "<table border=\"1\" class=\"dataframe\">\n",
       "  <thead>\n",
       "    <tr style=\"text-align: right;\">\n",
       "      <th></th>\n",
       "      <th>uri</th>\n",
       "      <th>date_published</th>\n",
       "      <th>headline</th>\n",
       "      <th>keywords</th>\n",
       "      <th>snippet</th>\n",
       "      <th>paragraph</th>\n",
       "      <th>word_count</th>\n",
       "      <th>popular</th>\n",
       "    </tr>\n",
       "  </thead>\n",
       "  <tbody>\n",
       "    <tr>\n",
       "      <th>0</th>\n",
       "      <td>nyt://article/4e2abcbc-9563-56c0-bf18-c93ce4e7...</td>\n",
       "      <td>2021-12-01</td>\n",
       "      <td>let’s end the covid blame games</td>\n",
       "      <td>coronavirus omicron variantcoronavirus (2019-n...</td>\n",
       "      <td>Finger pointing is pointless, divisive and dumb.</td>\n",
       "      <td>over the summer, as covid cases started rising...</td>\n",
       "      <td>918</td>\n",
       "      <td>0</td>\n",
       "    </tr>\n",
       "    <tr>\n",
       "      <th>1</th>\n",
       "      <td>nyt://article/f7a5e7ef-e4cd-575c-a0e1-ff4d18d5...</td>\n",
       "      <td>2021-12-01</td>\n",
       "      <td>trump’s iran policy has become a disaster for ...</td>\n",
       "      <td>irannuclear weaponsembargoes and sanctionsunit...</td>\n",
       "      <td>Withdrawing from the Iran nuclear deal was a m...</td>\n",
       "      <td>the judges have voted and the results are in: ...</td>\n",
       "      <td>1560</td>\n",
       "      <td>0</td>\n",
       "    </tr>\n",
       "    <tr>\n",
       "      <th>2</th>\n",
       "      <td>nyt://article/778af86c-b600-5aeb-be98-0a9a1aa1...</td>\n",
       "      <td>2021-12-01</td>\n",
       "      <td>this extinct eagle may have gulped guts like a...</td>\n",
       "      <td>eagles (birds)vultures (birds)condorsendangere...</td>\n",
       "      <td>Scientists suggest the largest eagle that ever...</td>\n",
       "      <td>at craigmore station in canterbury, new zealan...</td>\n",
       "      <td>913</td>\n",
       "      <td>0</td>\n",
       "    </tr>\n",
       "    <tr>\n",
       "      <th>3</th>\n",
       "      <td>nyt://article/fb7763c2-0f41-5c81-9ecf-17607ba5...</td>\n",
       "      <td>2021-12-01</td>\n",
       "      <td>republican recriminations point to a rocky pat...</td>\n",
       "      <td>republican partyhouse of representativesboeber...</td>\n",
       "      <td>Simmering tensions between the far-right flank...</td>\n",
       "      <td>washington — hostilities between the republica...</td>\n",
       "      <td>1172</td>\n",
       "      <td>0</td>\n",
       "    </tr>\n",
       "    <tr>\n",
       "      <th>4</th>\n",
       "      <td>nyt://article/ba0afd37-0c00-5535-8868-21130e28...</td>\n",
       "      <td>2021-12-01</td>\n",
       "      <td>a times editor who attended oxford recalls a d...</td>\n",
       "      <td>school shootings and armed attacks</td>\n",
       "      <td>Three teenage students were killed on Tuesday ...</td>\n",
       "      <td>the last time i was inside the walls of oxford...</td>\n",
       "      <td>309</td>\n",
       "      <td>0</td>\n",
       "    </tr>\n",
       "  </tbody>\n",
       "</table>\n",
       "</div>"
      ],
      "text/plain": [
       "                                                 uri date_published  \\\n",
       "0  nyt://article/4e2abcbc-9563-56c0-bf18-c93ce4e7...     2021-12-01   \n",
       "1  nyt://article/f7a5e7ef-e4cd-575c-a0e1-ff4d18d5...     2021-12-01   \n",
       "2  nyt://article/778af86c-b600-5aeb-be98-0a9a1aa1...     2021-12-01   \n",
       "3  nyt://article/fb7763c2-0f41-5c81-9ecf-17607ba5...     2021-12-01   \n",
       "4  nyt://article/ba0afd37-0c00-5535-8868-21130e28...     2021-12-01   \n",
       "\n",
       "                                            headline  \\\n",
       "0                    let’s end the covid blame games   \n",
       "1  trump’s iran policy has become a disaster for ...   \n",
       "2  this extinct eagle may have gulped guts like a...   \n",
       "3  republican recriminations point to a rocky pat...   \n",
       "4  a times editor who attended oxford recalls a d...   \n",
       "\n",
       "                                            keywords  \\\n",
       "0  coronavirus omicron variantcoronavirus (2019-n...   \n",
       "1  irannuclear weaponsembargoes and sanctionsunit...   \n",
       "2  eagles (birds)vultures (birds)condorsendangere...   \n",
       "3  republican partyhouse of representativesboeber...   \n",
       "4                 school shootings and armed attacks   \n",
       "\n",
       "                                             snippet  \\\n",
       "0  Finger pointing is pointless, divisive and dumb.    \n",
       "1  Withdrawing from the Iran nuclear deal was a m...   \n",
       "2  Scientists suggest the largest eagle that ever...   \n",
       "3  Simmering tensions between the far-right flank...   \n",
       "4  Three teenage students were killed on Tuesday ...   \n",
       "\n",
       "                                           paragraph  word_count  popular  \n",
       "0  over the summer, as covid cases started rising...         918        0  \n",
       "1  the judges have voted and the results are in: ...        1560        0  \n",
       "2  at craigmore station in canterbury, new zealan...         913        0  \n",
       "3  washington — hostilities between the republica...        1172        0  \n",
       "4  the last time i was inside the walls of oxford...         309        0  "
      ]
     },
     "execution_count": 92,
     "metadata": {},
     "output_type": "execute_result"
    }
   ],
   "source": [
    "# view the dataframe\n",
    "df.head()"
   ]
  },
  {
   "cell_type": "markdown",
   "metadata": {},
   "source": [
    "## Exploratory Data Analysis  \n",
    "Checking `df.info()` shows that both DataFrame individually have equal values with no Null values to take care of. It also shows that the datatypes are what we expect and want. "
   ]
  },
  {
   "cell_type": "code",
   "execution_count": 93,
   "metadata": {},
   "outputs": [
    {
     "name": "stdout",
     "output_type": "stream",
     "text": [
      "<class 'pandas.core.frame.DataFrame'>\n",
      "Int64Index: 5198 entries, 0 to 5795\n",
      "Data columns (total 8 columns):\n",
      " #   Column          Non-Null Count  Dtype \n",
      "---  ------          --------------  ----- \n",
      " 0   uri             5198 non-null   object\n",
      " 1   date_published  5198 non-null   object\n",
      " 2   headline        5198 non-null   object\n",
      " 3   keywords        5198 non-null   object\n",
      " 4   snippet         5198 non-null   object\n",
      " 5   paragraph       5198 non-null   object\n",
      " 6   word_count      5198 non-null   int64 \n",
      " 7   popular         5198 non-null   int64 \n",
      "dtypes: int64(2), object(6)\n",
      "memory usage: 365.5+ KB\n",
      "None\n",
      "\n",
      "<class 'pandas.core.frame.DataFrame'>\n",
      "Index: 200 entries, 2022-01-18 to 2022-01-10\n",
      "Data columns (total 2 columns):\n",
      " #   Column          Non-Null Count  Dtype \n",
      "---  ------          --------------  ----- \n",
      " 0   uri             200 non-null    object\n",
      " 1   date_published  200 non-null    object\n",
      "dtypes: object(2)\n",
      "memory usage: 4.7+ KB\n",
      "None\n"
     ]
    }
   ],
   "source": [
    "print(df.info())\n",
    "print()\n",
    "print(df_most_shared.info())"
   ]
  },
  {
   "cell_type": "markdown",
   "metadata": {},
   "source": [
    "##### Archive articles\n",
    "Looking at the distribution of article popularity reveals massive class imbalance. Only 2% of the articles in the archive appear on a top 20 list. This is particularly because of the articles included in the archive that were published in December and January before daily top 20 lists were started to be collected. Due to the API's constraints, only the daily top 20 list from the day the request was made are available. "
   ]
  },
  {
   "cell_type": "code",
   "execution_count": 94,
   "metadata": {},
   "outputs": [
    {
     "data": {
      "text/html": [
       "<div>\n",
       "<style scoped>\n",
       "    .dataframe tbody tr th:only-of-type {\n",
       "        vertical-align: middle;\n",
       "    }\n",
       "\n",
       "    .dataframe tbody tr th {\n",
       "        vertical-align: top;\n",
       "    }\n",
       "\n",
       "    .dataframe thead th {\n",
       "        text-align: right;\n",
       "    }\n",
       "</style>\n",
       "<table border=\"1\" class=\"dataframe\">\n",
       "  <thead>\n",
       "    <tr style=\"text-align: right;\">\n",
       "      <th></th>\n",
       "      <th>sum</th>\n",
       "      <th>percentage</th>\n",
       "    </tr>\n",
       "    <tr>\n",
       "      <th>popular</th>\n",
       "      <th></th>\n",
       "      <th></th>\n",
       "    </tr>\n",
       "  </thead>\n",
       "  <tbody>\n",
       "    <tr>\n",
       "      <th>0</th>\n",
       "      <td>5061</td>\n",
       "      <td>0.97</td>\n",
       "    </tr>\n",
       "    <tr>\n",
       "      <th>1</th>\n",
       "      <td>137</td>\n",
       "      <td>0.03</td>\n",
       "    </tr>\n",
       "  </tbody>\n",
       "</table>\n",
       "</div>"
      ],
      "text/plain": [
       "          sum  percentage\n",
       "popular                  \n",
       "0        5061        0.97\n",
       "1         137        0.03"
      ]
     },
     "execution_count": 94,
     "metadata": {},
     "output_type": "execute_result"
    },
    {
     "data": {
      "image/png": "[encoded data removed]",
      "text/plain": [
       "<Figure size 432x288 with 1 Axes>"
      ]
     },
     "metadata": {
      "needs_background": "light"
     },
     "output_type": "display_data"
    }
   ],
   "source": [
    "# function makes a dataframe to display target variable value's sum and percentage\n",
    "# also, it plots the target variable's value distribution\n",
    "target_distribution = summerize_value_counts(df.popular)\n",
    "target_distribution"
   ]
  },
  {
   "cell_type": "markdown",
   "metadata": {},
   "source": [
    "##### Top 20 most shared articles\n",
    "Looking at each day's top 20 list and the distribution of dates when the articles were published originally shows that the majority of the articles on each list were published in the two days before the day of the list's creation, with a smaller proportion having been published three days before or on the day of creation.\n",
    "\n",
    "functions used to load, clean and plot the date are found in [functions.py](./functions.py)."
   ]
  },
  {
   "cell_type": "code",
   "execution_count": 95,
   "metadata": {},
   "outputs": [],
   "source": [
    "# load csv's into a list of dataframes \n",
    "df_list_load = load_most_shared_eda('data/most_popular_train')\n",
    "\n",
    "# change date columns to datetime dtype and sort list by date of top 20 list in ascending order \n",
    "df_list = clean_most_shared_eda(df_list_load)"
   ]
  },
  {
   "cell_type": "code",
   "execution_count": 96,
   "metadata": {},
   "outputs": [
    {
     "data": {
      "image/png": "[encoded data removed]",
      "text/plain": [
       "<Figure size 1440x1440 with 9 Axes>"
      ]
     },
     "metadata": {
      "needs_background": "light"
     },
     "output_type": "display_data"
    }
   ],
   "source": [
    "# generate correct amount of subplots based on length of list then plot each dataframe in list\n",
    "plot_most_shared(df_list)"
   ]
  },
  {
   "cell_type": "code",
   "execution_count": 97,
   "metadata": {},
   "outputs": [
    {
     "data": {
      "text/html": [
       "<div>\n",
       "<style scoped>\n",
       "    .dataframe tbody tr th:only-of-type {\n",
       "        vertical-align: middle;\n",
       "    }\n",
       "\n",
       "    .dataframe tbody tr th {\n",
       "        vertical-align: top;\n",
       "    }\n",
       "\n",
       "    .dataframe thead th {\n",
       "        text-align: right;\n",
       "    }\n",
       "</style>\n",
       "<table border=\"1\" class=\"dataframe\">\n",
       "  <thead>\n",
       "    <tr style=\"text-align: right;\">\n",
       "      <th></th>\n",
       "      <th>percentage</th>\n",
       "    </tr>\n",
       "  </thead>\n",
       "  <tbody>\n",
       "    <tr>\n",
       "      <th>0 days</th>\n",
       "      <td>3%</td>\n",
       "    </tr>\n",
       "    <tr>\n",
       "      <th>1 days</th>\n",
       "      <td>44%</td>\n",
       "    </tr>\n",
       "    <tr>\n",
       "      <th>2 days</th>\n",
       "      <td>45%</td>\n",
       "    </tr>\n",
       "    <tr>\n",
       "      <th>3 days</th>\n",
       "      <td>6%</td>\n",
       "    </tr>\n",
       "    <tr>\n",
       "      <th>4 days</th>\n",
       "      <td>2%</td>\n",
       "    </tr>\n",
       "    <tr>\n",
       "      <th>5 days</th>\n",
       "      <td>1%</td>\n",
       "    </tr>\n",
       "  </tbody>\n",
       "</table>\n",
       "</div>"
      ],
      "text/plain": [
       "       percentage\n",
       "0 days         3%\n",
       "1 days        44%\n",
       "2 days        45%\n",
       "3 days         6%\n",
       "4 days         2%\n",
       "5 days         1%"
      ]
     },
     "execution_count": 97,
     "metadata": {},
     "output_type": "execute_result"
    },
    {
     "data": {
      "image/png": "[encoded data removed]",
      "text/plain": [
       "<Figure size 432x288 with 1 Axes>"
      ]
     },
     "metadata": {
      "needs_background": "light"
     },
     "output_type": "display_data"
    }
   ],
   "source": [
    "time_delta, top_20_df = top_20_delta_perc(df_list)\n",
    "top_20_df"
   ]
  },
  {
   "cell_type": "markdown",
   "metadata": {},
   "source": [
    "## Data Preperation"
   ]
  },
  {
   "cell_type": "markdown",
   "metadata": {},
   "source": [
    "##### Train-Test Split\n",
    "Features are separated from the target and a test size of 40% is selected. This is because the final model is trained with the testing data results of the models before it. To ensure it has enough training data, a relatively high test size proportion was chosen. \n",
    "\n",
    "Also, the random state is established as 0, which will be the state for all models going forward. "
   ]
  },
  {
   "cell_type": "code",
   "execution_count": 98,
   "metadata": {},
   "outputs": [],
   "source": [
    "# headline tfidf winners: headline_tf, headline_proba_rf, headline_proba\n",
    "# headline cv winners: headline_cv, headline_class_rf, headline_class"
   ]
  },
  {
   "cell_type": "code",
   "execution_count": 99,
   "metadata": {},
   "outputs": [],
   "source": [
    "# keywords tfidf winners: keywords_tf, keywords_proba_rf, keywords_proba\n",
    "# keywords cv winners: keywords_cv, keywords_class_rf, keywords_class"
   ]
  },
  {
   "cell_type": "code",
   "execution_count": 100,
   "metadata": {},
   "outputs": [],
   "source": [
    "# snippet tfidf winners: snippet_tok_tf, snippet_proba_rf_tok, snippet_proba_tok\n",
    "# snippet cv winners: snippet_tok_cv, snippet_class_rf_tok, snippet_class_tok"
   ]
  },
  {
   "cell_type": "code",
   "execution_count": null,
   "metadata": {},
   "outputs": [],
   "source": []
  },
  {
   "cell_type": "code",
   "execution_count": 101,
   "metadata": {},
   "outputs": [],
   "source": [
    "# features = X, target = y\n",
    "X = df.drop('popular', axis=1)\n",
    "y = df.popular"
   ]
  },
  {
   "cell_type": "code",
   "execution_count": 102,
   "metadata": {},
   "outputs": [],
   "source": [
    "sw = stopwords.words('english')"
   ]
  },
  {
   "cell_type": "code",
   "execution_count": 103,
   "metadata": {},
   "outputs": [],
   "source": [
    "\n",
    "headline_tf = TfidfVectorizer(stop_words=sw)\n",
    "keywords_tf = TfidfVectorizer(stop_words=sw)\n",
    "\n",
    "\n",
    "headline_tf_vec = headline_tf.fit_transform(X.headline)\n",
    "keywords_tf_vec = keywords_tf.fit_transform(X.keywords)"
   ]
  },
  {
   "cell_type": "code",
   "execution_count": 104,
   "metadata": {},
   "outputs": [],
   "source": [
    "\n",
    "headline_cv = CountVectorizer(stop_words=sw)\n",
    "keywords_cv = CountVectorizer(stop_words=sw)\n",
    "\n",
    "\n",
    "headline_cv_vec = headline_cv.fit_transform(X.headline)\n",
    "keywords_cv_vec = keywords_cv.fit_transform(X.keywords)"
   ]
  },
  {
   "cell_type": "code",
   "execution_count": null,
   "metadata": {},
   "outputs": [],
   "source": []
  },
  {
   "cell_type": "code",
   "execution_count": 105,
   "metadata": {},
   "outputs": [],
   "source": [
    "# param headline: a single headline\n",
    "# return: a headline string with words which have been lemmatized, parsed for \n",
    "# stopwords and stripped of punctuation and numbers.\n",
    "def text_prep(text, sw):\n",
    "    \n",
    "    sw = stopwords.words('english')\n",
    "    regex_token = RegexpTokenizer(r\"([a-zA-Z]+(?:’[a-z]+)?)\")\n",
    "    text = regex_token.tokenize(text)\n",
    "    text = [word for word in text]\n",
    "    text = [word for word in text if word not in sw]\n",
    "    text = pos_tag(text)\n",
    "    text = [(word[0], get_wordnet_pos(word[1])) for word in text]\n",
    "    lemmatizer = WordNetLemmatizer() \n",
    "    text = [lemmatizer.lemmatize(word[0], word[1]) for word in text]\n",
    "    return ' '.join(text)\n"
   ]
  },
  {
   "cell_type": "code",
   "execution_count": 106,
   "metadata": {},
   "outputs": [],
   "source": [
    "def lemmatize_vector(vectorizer, X):\n",
    "    \n",
    "    sw = stopwords.words('english')\n",
    "    vectorizer = vectorizer(stop_words=sw)\n",
    "    \n",
    "    X_lem = [text_prep(text, sw) for text in X]\n",
    "    X_vec_lem = vectorizer.fit_transform(X_lem)\n",
    "    \n",
    "    return vectorizer, X_vec_lem"
   ]
  },
  {
   "cell_type": "code",
   "execution_count": 107,
   "metadata": {},
   "outputs": [],
   "source": [
    "snippet_tf_lem, snippet_tf_lem_vec =  lemmatize_vector(TfidfVectorizer, X.snippet)\n",
    "\n",
    "paragraph_tf_lem, paragraph_tf_lem_vec =  lemmatize_vector(TfidfVectorizer, X.paragraph)"
   ]
  },
  {
   "cell_type": "code",
   "execution_count": 108,
   "metadata": {},
   "outputs": [],
   "source": [
    "snippet_cv_lem, snippet_cv_lem_vec =  lemmatize_vector(CountVectorizer, X.snippet)\n",
    "\n",
    "paragraph_cv_lem, paragraph_cv_lem_vec =  lemmatize_vector(CountVectorizer, X.paragraph)"
   ]
  },
  {
   "cell_type": "code",
   "execution_count": null,
   "metadata": {},
   "outputs": [],
   "source": []
  },
  {
   "cell_type": "code",
   "execution_count": null,
   "metadata": {},
   "outputs": [],
   "source": []
  },
  {
   "cell_type": "markdown",
   "metadata": {},
   "source": [
    "## Model Training - Text Features"
   ]
  },
  {
   "cell_type": "markdown",
   "metadata": {},
   "source": [
    "### Healdine"
   ]
  },
  {
   "cell_type": "markdown",
   "metadata": {},
   "source": [
    "##### TfidfVectorizer"
   ]
  },
  {
   "cell_type": "code",
   "execution_count": 109,
   "metadata": {},
   "outputs": [
    {
     "data": {
      "text/plain": [
       "RandomForestClassifier(n_estimators=75, random_state=0)"
      ]
     },
     "execution_count": 109,
     "metadata": {},
     "output_type": "execute_result"
    }
   ],
   "source": [
    "# train random forrest\n",
    "headline_rf_tf = RandomForestClassifier(n_estimators=75, random_state=0)\n",
    "headline_rf_tf.fit(headline_tf_vec, y)"
   ]
  },
  {
   "cell_type": "markdown",
   "metadata": {},
   "source": [
    "##### CountVectoizer"
   ]
  },
  {
   "cell_type": "code",
   "execution_count": 110,
   "metadata": {},
   "outputs": [
    {
     "data": {
      "text/plain": [
       "RandomForestClassifier(n_estimators=75, random_state=0)"
      ]
     },
     "execution_count": 110,
     "metadata": {},
     "output_type": "execute_result"
    }
   ],
   "source": [
    "# train random forrest\n",
    "headline_rf_cv = RandomForestClassifier(n_estimators=75, random_state=0)\n",
    "headline_rf_cv.fit(headline_cv_vec, y)"
   ]
  },
  {
   "cell_type": "markdown",
   "metadata": {},
   "source": [
    "### Keywords"
   ]
  },
  {
   "cell_type": "markdown",
   "metadata": {},
   "source": [
    "##### Predict Probability after TfidfVectorizer"
   ]
  },
  {
   "cell_type": "code",
   "execution_count": 111,
   "metadata": {},
   "outputs": [
    {
     "data": {
      "text/plain": [
       "RandomForestClassifier(random_state=0)"
      ]
     },
     "execution_count": 111,
     "metadata": {},
     "output_type": "execute_result"
    }
   ],
   "source": [
    "# train random forrest\n",
    "keywords_rf_tf = RandomForestClassifier(random_state=0)\n",
    "keywords_rf_tf.fit(keywords_tf_vec, y)"
   ]
  },
  {
   "cell_type": "markdown",
   "metadata": {},
   "source": [
    "##### Predict Class after CountVectorizer"
   ]
  },
  {
   "cell_type": "code",
   "execution_count": 112,
   "metadata": {},
   "outputs": [
    {
     "data": {
      "text/plain": [
       "RandomForestClassifier(random_state=0)"
      ]
     },
     "execution_count": 112,
     "metadata": {},
     "output_type": "execute_result"
    }
   ],
   "source": [
    "# train random forrest\n",
    "keywords_rf_cv = RandomForestClassifier(random_state=0)\n",
    "keywords_rf_cv.fit(keywords_cv_vec, y)"
   ]
  },
  {
   "cell_type": "code",
   "execution_count": null,
   "metadata": {},
   "outputs": [],
   "source": []
  },
  {
   "cell_type": "code",
   "execution_count": null,
   "metadata": {},
   "outputs": [],
   "source": []
  },
  {
   "cell_type": "markdown",
   "metadata": {},
   "source": [
    "### Snippet "
   ]
  },
  {
   "cell_type": "code",
   "execution_count": 113,
   "metadata": {},
   "outputs": [
    {
     "data": {
      "text/plain": [
       "RandomForestClassifier(random_state=0)"
      ]
     },
     "execution_count": 113,
     "metadata": {},
     "output_type": "execute_result"
    }
   ],
   "source": [
    "# train random forrest\n",
    "snippet_rf_tf = RandomForestClassifier(random_state=0)\n",
    "snippet_rf_tf.fit(snippet_tf_lem_vec, y)"
   ]
  },
  {
   "cell_type": "code",
   "execution_count": 114,
   "metadata": {},
   "outputs": [
    {
     "data": {
      "text/plain": [
       "RandomForestClassifier(random_state=0)"
      ]
     },
     "execution_count": 114,
     "metadata": {},
     "output_type": "execute_result"
    }
   ],
   "source": [
    "# train random forrest\n",
    "snippet_rf_cv = RandomForestClassifier(random_state=0)\n",
    "snippet_rf_cv.fit(snippet_cv_lem_vec, y)"
   ]
  },
  {
   "cell_type": "code",
   "execution_count": null,
   "metadata": {},
   "outputs": [],
   "source": []
  },
  {
   "cell_type": "markdown",
   "metadata": {},
   "source": [
    "### Paragraph"
   ]
  },
  {
   "cell_type": "code",
   "execution_count": 115,
   "metadata": {},
   "outputs": [
    {
     "data": {
      "text/plain": [
       "RandomForestClassifier(random_state=0)"
      ]
     },
     "execution_count": 115,
     "metadata": {},
     "output_type": "execute_result"
    }
   ],
   "source": [
    "# train random forrest\n",
    "paragraph_rf_tf = RandomForestClassifier(random_state=0)\n",
    "paragraph_rf_tf.fit(paragraph_tf_lem_vec, y)"
   ]
  },
  {
   "cell_type": "code",
   "execution_count": 116,
   "metadata": {},
   "outputs": [
    {
     "data": {
      "text/plain": [
       "RandomForestClassifier(random_state=0)"
      ]
     },
     "execution_count": 116,
     "metadata": {},
     "output_type": "execute_result"
    }
   ],
   "source": [
    "# train random forrest\n",
    "paragraph_rf_cv = RandomForestClassifier(random_state=0)\n",
    "paragraph_rf_cv.fit(paragraph_cv_lem_vec, y)"
   ]
  },
  {
   "cell_type": "code",
   "execution_count": null,
   "metadata": {},
   "outputs": [],
   "source": []
  },
  {
   "cell_type": "markdown",
   "metadata": {},
   "source": [
    "### Word Count"
   ]
  },
  {
   "cell_type": "code",
   "execution_count": 166,
   "metadata": {},
   "outputs": [
    {
     "data": {
      "text/plain": [
       "LogisticRegression(random_state=0)"
      ]
     },
     "execution_count": 166,
     "metadata": {},
     "output_type": "execute_result"
    }
   ],
   "source": [
    "wc_clf = LogisticRegression(random_state=0)\n",
    "wc_clf.fit(X.word_count.values.reshape(-1, 1), y)"
   ]
  },
  {
   "cell_type": "markdown",
   "metadata": {},
   "source": [
    "## Cumulative Model "
   ]
  },
  {
   "cell_type": "markdown",
   "metadata": {},
   "source": [
    "### Cleaning "
   ]
  },
  {
   "cell_type": "markdown",
   "metadata": {},
   "source": [
    "##### Proability Data"
   ]
  },
  {
   "cell_type": "code",
   "execution_count": 141,
   "metadata": {},
   "outputs": [],
   "source": [
    "df_predict_proba = pd.DataFrame({'headline_prob': headline_proba, \n",
    "                                 'keywords_prob': keywords_proba, \n",
    "                                 'snippet_prob': snippet_proba_tok, \n",
    "                                 'word_count_prob': word_count_proba})"
   ]
  },
  {
   "cell_type": "code",
   "execution_count": 142,
   "metadata": {},
   "outputs": [
    {
     "data": {
      "text/html": [
       "<div>\n",
       "<style scoped>\n",
       "    .dataframe tbody tr th:only-of-type {\n",
       "        vertical-align: middle;\n",
       "    }\n",
       "\n",
       "    .dataframe tbody tr th {\n",
       "        vertical-align: top;\n",
       "    }\n",
       "\n",
       "    .dataframe thead th {\n",
       "        text-align: right;\n",
       "    }\n",
       "</style>\n",
       "<table border=\"1\" class=\"dataframe\">\n",
       "  <thead>\n",
       "    <tr style=\"text-align: right;\">\n",
       "      <th></th>\n",
       "      <th>headline_prob</th>\n",
       "      <th>keywords_prob</th>\n",
       "      <th>snippet_prob</th>\n",
       "      <th>word_count_prob</th>\n",
       "    </tr>\n",
       "  </thead>\n",
       "  <tbody>\n",
       "    <tr>\n",
       "      <th>0</th>\n",
       "      <td>0.000000</td>\n",
       "      <td>0.00</td>\n",
       "      <td>0.00</td>\n",
       "      <td>0.503994</td>\n",
       "    </tr>\n",
       "    <tr>\n",
       "      <th>1</th>\n",
       "      <td>0.040000</td>\n",
       "      <td>0.04</td>\n",
       "      <td>0.04</td>\n",
       "      <td>0.518280</td>\n",
       "    </tr>\n",
       "    <tr>\n",
       "      <th>2</th>\n",
       "      <td>0.093333</td>\n",
       "      <td>0.13</td>\n",
       "      <td>0.00</td>\n",
       "      <td>0.508021</td>\n",
       "    </tr>\n",
       "    <tr>\n",
       "      <th>3</th>\n",
       "      <td>0.000000</td>\n",
       "      <td>0.02</td>\n",
       "      <td>0.02</td>\n",
       "      <td>0.469248</td>\n",
       "    </tr>\n",
       "    <tr>\n",
       "      <th>4</th>\n",
       "      <td>0.013333</td>\n",
       "      <td>0.12</td>\n",
       "      <td>0.02</td>\n",
       "      <td>0.508811</td>\n",
       "    </tr>\n",
       "  </tbody>\n",
       "</table>\n",
       "</div>"
      ],
      "text/plain": [
       "   headline_prob  keywords_prob  snippet_prob  word_count_prob\n",
       "0       0.000000           0.00          0.00         0.503994\n",
       "1       0.040000           0.04          0.04         0.518280\n",
       "2       0.093333           0.13          0.00         0.508021\n",
       "3       0.000000           0.02          0.02         0.469248\n",
       "4       0.013333           0.12          0.02         0.508811"
      ]
     },
     "execution_count": 142,
     "metadata": {},
     "output_type": "execute_result"
    }
   ],
   "source": [
    "df_predict_proba.head()"
   ]
  },
  {
   "cell_type": "code",
   "execution_count": 143,
   "metadata": {},
   "outputs": [],
   "source": [
    "scaler = StandardScaler()"
   ]
  },
  {
   "cell_type": "code",
   "execution_count": 144,
   "metadata": {},
   "outputs": [],
   "source": [
    "df_predict_proba.iloc[:,:] = scaler.fit_transform(df_predict_proba.iloc[:,:].to_numpy())"
   ]
  },
  {
   "cell_type": "code",
   "execution_count": 145,
   "metadata": {},
   "outputs": [
    {
     "data": {
      "text/html": [
       "<div>\n",
       "<style scoped>\n",
       "    .dataframe tbody tr th:only-of-type {\n",
       "        vertical-align: middle;\n",
       "    }\n",
       "\n",
       "    .dataframe tbody tr th {\n",
       "        vertical-align: top;\n",
       "    }\n",
       "\n",
       "    .dataframe thead th {\n",
       "        text-align: right;\n",
       "    }\n",
       "</style>\n",
       "<table border=\"1\" class=\"dataframe\">\n",
       "  <thead>\n",
       "    <tr style=\"text-align: right;\">\n",
       "      <th></th>\n",
       "      <th>headline_prob</th>\n",
       "      <th>keywords_prob</th>\n",
       "      <th>snippet_prob</th>\n",
       "      <th>word_count_prob</th>\n",
       "    </tr>\n",
       "  </thead>\n",
       "  <tbody>\n",
       "    <tr>\n",
       "      <th>0</th>\n",
       "      <td>-0.499462</td>\n",
       "      <td>-0.568664</td>\n",
       "      <td>-0.648480</td>\n",
       "      <td>0.188469</td>\n",
       "    </tr>\n",
       "    <tr>\n",
       "      <th>1</th>\n",
       "      <td>0.307332</td>\n",
       "      <td>0.238133</td>\n",
       "      <td>0.365473</td>\n",
       "      <td>0.710926</td>\n",
       "    </tr>\n",
       "    <tr>\n",
       "      <th>2</th>\n",
       "      <td>1.383058</td>\n",
       "      <td>2.053428</td>\n",
       "      <td>-0.648480</td>\n",
       "      <td>0.335742</td>\n",
       "    </tr>\n",
       "    <tr>\n",
       "      <th>3</th>\n",
       "      <td>-0.499462</td>\n",
       "      <td>-0.165265</td>\n",
       "      <td>-0.141504</td>\n",
       "      <td>-1.082329</td>\n",
       "    </tr>\n",
       "    <tr>\n",
       "      <th>4</th>\n",
       "      <td>-0.230530</td>\n",
       "      <td>1.851728</td>\n",
       "      <td>-0.141504</td>\n",
       "      <td>0.364615</td>\n",
       "    </tr>\n",
       "  </tbody>\n",
       "</table>\n",
       "</div>"
      ],
      "text/plain": [
       "   headline_prob  keywords_prob  snippet_prob  word_count_prob\n",
       "0      -0.499462      -0.568664     -0.648480         0.188469\n",
       "1       0.307332       0.238133      0.365473         0.710926\n",
       "2       1.383058       2.053428     -0.648480         0.335742\n",
       "3      -0.499462      -0.165265     -0.141504        -1.082329\n",
       "4      -0.230530       1.851728     -0.141504         0.364615"
      ]
     },
     "execution_count": 145,
     "metadata": {},
     "output_type": "execute_result"
    }
   ],
   "source": [
    "df_predict_proba.head()"
   ]
  },
  {
   "cell_type": "code",
   "execution_count": 146,
   "metadata": {},
   "outputs": [
    {
     "name": "stdout",
     "output_type": "stream",
     "text": [
      "<class 'pandas.core.frame.DataFrame'>\n",
      "RangeIndex: 2164 entries, 0 to 2163\n",
      "Data columns (total 4 columns):\n",
      " #   Column           Non-Null Count  Dtype  \n",
      "---  ------           --------------  -----  \n",
      " 0   headline_prob    2164 non-null   float64\n",
      " 1   keywords_prob    2164 non-null   float64\n",
      " 2   snippet_prob     2164 non-null   float64\n",
      " 3   word_count_prob  2164 non-null   float64\n",
      "dtypes: float64(4)\n",
      "memory usage: 67.8 KB\n"
     ]
    }
   ],
   "source": [
    "df_predict_proba.info()"
   ]
  },
  {
   "cell_type": "markdown",
   "metadata": {},
   "source": [
    "<br>\n",
    "\n",
    "##### Class Labeled Data "
   ]
  },
  {
   "cell_type": "code",
   "execution_count": 147,
   "metadata": {},
   "outputs": [],
   "source": [
    "df_predict_class = pd.DataFrame({'headline_prob': headline_class, \n",
    "                                 'keywords_prob': keywords_class, \n",
    "                                 'snippet_prob': snippet_class_tok, \n",
    "                                 'word_count_class': word_count_class})"
   ]
  },
  {
   "cell_type": "code",
   "execution_count": 148,
   "metadata": {},
   "outputs": [
    {
     "data": {
      "text/html": [
       "<div>\n",
       "<style scoped>\n",
       "    .dataframe tbody tr th:only-of-type {\n",
       "        vertical-align: middle;\n",
       "    }\n",
       "\n",
       "    .dataframe tbody tr th {\n",
       "        vertical-align: top;\n",
       "    }\n",
       "\n",
       "    .dataframe thead th {\n",
       "        text-align: right;\n",
       "    }\n",
       "</style>\n",
       "<table border=\"1\" class=\"dataframe\">\n",
       "  <thead>\n",
       "    <tr style=\"text-align: right;\">\n",
       "      <th></th>\n",
       "      <th>headline_prob</th>\n",
       "      <th>keywords_prob</th>\n",
       "      <th>snippet_prob</th>\n",
       "      <th>word_count_class</th>\n",
       "    </tr>\n",
       "  </thead>\n",
       "  <tbody>\n",
       "    <tr>\n",
       "      <th>0</th>\n",
       "      <td>1</td>\n",
       "      <td>0</td>\n",
       "      <td>0</td>\n",
       "      <td>1</td>\n",
       "    </tr>\n",
       "    <tr>\n",
       "      <th>1</th>\n",
       "      <td>0</td>\n",
       "      <td>0</td>\n",
       "      <td>0</td>\n",
       "      <td>1</td>\n",
       "    </tr>\n",
       "    <tr>\n",
       "      <th>2</th>\n",
       "      <td>1</td>\n",
       "      <td>0</td>\n",
       "      <td>0</td>\n",
       "      <td>1</td>\n",
       "    </tr>\n",
       "    <tr>\n",
       "      <th>3</th>\n",
       "      <td>1</td>\n",
       "      <td>0</td>\n",
       "      <td>1</td>\n",
       "      <td>0</td>\n",
       "    </tr>\n",
       "    <tr>\n",
       "      <th>4</th>\n",
       "      <td>0</td>\n",
       "      <td>0</td>\n",
       "      <td>0</td>\n",
       "      <td>1</td>\n",
       "    </tr>\n",
       "  </tbody>\n",
       "</table>\n",
       "</div>"
      ],
      "text/plain": [
       "   headline_prob  keywords_prob  snippet_prob  word_count_class\n",
       "0              1              0             0                 1\n",
       "1              0              0             0                 1\n",
       "2              1              0             0                 1\n",
       "3              1              0             1                 0\n",
       "4              0              0             0                 1"
      ]
     },
     "execution_count": 148,
     "metadata": {},
     "output_type": "execute_result"
    }
   ],
   "source": [
    "df_predict_class.head()"
   ]
  },
  {
   "cell_type": "code",
   "execution_count": 149,
   "metadata": {},
   "outputs": [
    {
     "name": "stdout",
     "output_type": "stream",
     "text": [
      "<class 'pandas.core.frame.DataFrame'>\n",
      "RangeIndex: 2164 entries, 0 to 2163\n",
      "Data columns (total 4 columns):\n",
      " #   Column            Non-Null Count  Dtype\n",
      "---  ------            --------------  -----\n",
      " 0   headline_prob     2164 non-null   int64\n",
      " 1   keywords_prob     2164 non-null   int64\n",
      " 2   snippet_prob      2164 non-null   int64\n",
      " 3   word_count_class  2164 non-null   int64\n",
      "dtypes: int64(4)\n",
      "memory usage: 67.8 KB\n"
     ]
    }
   ],
   "source": [
    "df_predict_class.info()"
   ]
  },
  {
   "cell_type": "markdown",
   "metadata": {},
   "source": [
    "<br>\n",
    "\n",
    "### Training model"
   ]
  },
  {
   "cell_type": "code",
   "execution_count": 150,
   "metadata": {},
   "outputs": [
    {
     "data": {
      "text/html": [
       "<div>\n",
       "<style scoped>\n",
       "    .dataframe tbody tr th:only-of-type {\n",
       "        vertical-align: middle;\n",
       "    }\n",
       "\n",
       "    .dataframe tbody tr th {\n",
       "        vertical-align: top;\n",
       "    }\n",
       "\n",
       "    .dataframe thead th {\n",
       "        text-align: right;\n",
       "    }\n",
       "</style>\n",
       "<table border=\"1\" class=\"dataframe\">\n",
       "  <thead>\n",
       "    <tr style=\"text-align: right;\">\n",
       "      <th></th>\n",
       "      <th>sum</th>\n",
       "      <th>percentage</th>\n",
       "    </tr>\n",
       "    <tr>\n",
       "      <th>popular</th>\n",
       "      <th></th>\n",
       "      <th></th>\n",
       "    </tr>\n",
       "  </thead>\n",
       "  <tbody>\n",
       "    <tr>\n",
       "      <th>0</th>\n",
       "      <td>2102</td>\n",
       "      <td>0.97</td>\n",
       "    </tr>\n",
       "    <tr>\n",
       "      <th>1</th>\n",
       "      <td>62</td>\n",
       "      <td>0.03</td>\n",
       "    </tr>\n",
       "  </tbody>\n",
       "</table>\n",
       "</div>"
      ],
      "text/plain": [
       "          sum  percentage\n",
       "popular                  \n",
       "0        2102        0.97\n",
       "1          62        0.03"
      ]
     },
     "execution_count": 150,
     "metadata": {},
     "output_type": "execute_result"
    },
    {
     "data": {
      "image/png": "[encoded data removed]",
      "text/plain": [
       "<Figure size 432x288 with 1 Axes>"
      ]
     },
     "metadata": {
      "needs_background": "light"
     },
     "output_type": "display_data"
    }
   ],
   "source": [
    "target_distribution_deploy = summerize_value_counts(y_test)\n",
    "target_distribution_deploy"
   ]
  },
  {
   "cell_type": "markdown",
   "metadata": {},
   "source": [
    "\n",
    "\n",
    "##### Predicting with Probabilities "
   ]
  },
  {
   "cell_type": "code",
   "execution_count": 151,
   "metadata": {},
   "outputs": [],
   "source": [
    "clf_proba = LogisticRegression()"
   ]
  },
  {
   "cell_type": "code",
   "execution_count": 152,
   "metadata": {},
   "outputs": [
    {
     "data": {
      "text/plain": [
       "LogisticRegression()"
      ]
     },
     "execution_count": 152,
     "metadata": {},
     "output_type": "execute_result"
    }
   ],
   "source": [
    "clf_proba.fit(df_predict_proba, y_test)"
   ]
  },
  {
   "cell_type": "markdown",
   "metadata": {},
   "source": [
    "<br>\n",
    "\n",
    "##### Predicitng with class labels"
   ]
  },
  {
   "cell_type": "code",
   "execution_count": 153,
   "metadata": {},
   "outputs": [],
   "source": [
    "clf_class = LogisticRegression()"
   ]
  },
  {
   "cell_type": "code",
   "execution_count": 154,
   "metadata": {},
   "outputs": [
    {
     "data": {
      "text/plain": [
       "LogisticRegression()"
      ]
     },
     "execution_count": 154,
     "metadata": {},
     "output_type": "execute_result"
    }
   ],
   "source": [
    "clf_class.fit(df_predict_class, y_test)"
   ]
  },
  {
   "cell_type": "markdown",
   "metadata": {},
   "source": [
    "## Model Deployment"
   ]
  },
  {
   "cell_type": "code",
   "execution_count": 167,
   "metadata": {},
   "outputs": [],
   "source": [
    "df_archive_deploy = pd.read_csv('data/archive_deploy.csv')\n",
    "df_archive_deploy.date_published = df_archive_deploy.date_published.apply(lambda x: pd.to_datetime(x).date())\n",
    "df_archive_deploy.dropna(inplace=True)\n",
    "\n",
    "df_most_shared_deploy = load_most_shared('data/most_popular_deploy')"
   ]
  },
  {
   "cell_type": "code",
   "execution_count": 168,
   "metadata": {},
   "outputs": [
    {
     "data": {
      "text/plain": [
       "datetime.date(2022, 1, 19)"
      ]
     },
     "execution_count": 168,
     "metadata": {},
     "output_type": "execute_result"
    }
   ],
   "source": [
    "prediction_day = '01/19/22'\n",
    "prediction_day = pd.to_datetime(prediction_day).date()\n",
    "prediction_day"
   ]
  },
  {
   "cell_type": "code",
   "execution_count": 169,
   "metadata": {},
   "outputs": [
    {
     "data": {
      "text/plain": [
       "{Timedelta('0 days 00:00:00'): 0.0278,\n",
       " Timedelta('1 days 00:00:00'): 0.4444,\n",
       " Timedelta('2 days 00:00:00'): 0.45,\n",
       " Timedelta('3 days 00:00:00'): 0.0556,\n",
       " Timedelta('4 days 00:00:00'): 0.0167,\n",
       " Timedelta('5 days 00:00:00'): 0.0056}"
      ]
     },
     "execution_count": 169,
     "metadata": {},
     "output_type": "execute_result"
    }
   ],
   "source": [
    "delta_dict = time_delta.to_dict()\n",
    "delta_dict"
   ]
  },
  {
   "cell_type": "code",
   "execution_count": 170,
   "metadata": {},
   "outputs": [],
   "source": [
    "def filter_predction_dfs(df_archive, df_shared, day_of_predict, delta=3):\n",
    "    \n",
    "    time_delta = dt.timedelta(days=delta)\n",
    "    cutoff_day = day_of_predict - time_delta\n",
    "    \n",
    "    df_deploy = df_archive[(df_archive.date_published >= cutoff_day) & \n",
    "                             (df_archive.date_published <= day_of_predict)]\n",
    "    \n",
    "    article_ids = df_deploy['uri']\n",
    "    date_published = df_deploy['date_published']\n",
    "#     delta_correction = [delta_dict[abs(x - prediction_day)] for x in test.date_published]\n",
    "    df_feature_deploy = df_deploy[['headline','keywords','snippet', 'paragraph', 'word_count']]\n",
    "    \n",
    "    df_top_20 = df_shared[df_shared.index == day_of_predict]\n",
    "    \n",
    "    return article_ids, date_published, df_feature_deploy, df_top_20"
   ]
  },
  {
   "cell_type": "code",
   "execution_count": 171,
   "metadata": {},
   "outputs": [],
   "source": [
    "deployed_article_ids, date_published, df_feature_deploy, df_top_20 = filter_predction_dfs(df_archive_deploy, \n",
    "                                                                          df_most_shared_deploy, \n",
    "                                                                          prediction_day, delta=3)"
   ]
  },
  {
   "cell_type": "code",
   "execution_count": 172,
   "metadata": {},
   "outputs": [
    {
     "data": {
      "text/plain": [
       "2      nyt://article/f00468d9-8c85-5141-a5a4-8b592f6a...\n",
       "5      nyt://article/45bfef70-a4e6-5211-b9f4-95c9acfc...\n",
       "6      nyt://article/09084cca-4f23-5fb1-8d82-5c01e336...\n",
       "7      nyt://article/ad52d330-1f21-51a4-98d0-b2b355d0...\n",
       "8      nyt://article/0b4e771d-ff07-5c67-98f5-4b1c0a7a...\n",
       "                             ...                        \n",
       "450    nyt://article/351e4921-0c01-57f1-97fa-8f5b688f...\n",
       "451    nyt://article/8244b19f-6ec1-5d2f-9d63-50c1b33e...\n",
       "452    nyt://article/d74b169c-2fa1-5f3e-96d9-d8f26f0a...\n",
       "453    nyt://article/d8ddfe47-3836-5a89-8761-64ad6ed3...\n",
       "454    nyt://interactive/94a3f735-2139-5b18-a23d-4386...\n",
       "Name: uri, Length: 415, dtype: object"
      ]
     },
     "execution_count": 172,
     "metadata": {},
     "output_type": "execute_result"
    }
   ],
   "source": [
    "deployed_article_ids"
   ]
  },
  {
   "cell_type": "code",
   "execution_count": 173,
   "metadata": {},
   "outputs": [
    {
     "data": {
      "text/plain": [
       "415"
      ]
     },
     "execution_count": 173,
     "metadata": {},
     "output_type": "execute_result"
    }
   ],
   "source": [
    "date_published.value_counts().sum()"
   ]
  },
  {
   "cell_type": "code",
   "execution_count": 174,
   "metadata": {},
   "outputs": [
    {
     "data": {
      "text/plain": [
       "(415, 5)"
      ]
     },
     "execution_count": 174,
     "metadata": {},
     "output_type": "execute_result"
    }
   ],
   "source": [
    "df_feature_deploy.shape"
   ]
  },
  {
   "cell_type": "code",
   "execution_count": 175,
   "metadata": {},
   "outputs": [],
   "source": [
    "def predict_with_probabilities():\n",
    "    \n",
    "    headline = df.headline\n",
    "    keywords = df.keywords\n",
    "    snippet = df.snippet\n",
    "    word_count = df.word_count\n",
    "    \n",
    "    headline_tf_vec.transform()\n",
    "    headline_tf_vec_tok.transform()\n",
    "    headline_proba_rf.predict_proba()\n",
    "    \n",
    "    keywords_tf_vec.transform\n",
    "    keywords_tf_vec_tok.transform\n",
    "    keywords_proba_rf.predict_proba\n",
    "    \n",
    "    snippet_tf_vec.transform\n",
    "    snippet_tf_vec_tok.transform\n",
    "    snippet_proba_rf.predict_proba\n",
    "    \n",
    "    word_count_log_reg.predict_proba\n",
    "\n",
    "    "
   ]
  },
  {
   "cell_type": "code",
   "execution_count": 176,
   "metadata": {},
   "outputs": [],
   "source": [
    "def predict_with_class_labels(df):\n",
    "    \n",
    "    headline = df.headline\n",
    "    keywords = df.keywords\n",
    "    snippet = df.snippet\n",
    "    word_count = df.word_count\n",
    "    \n",
    "    headline_cv_vec.transform\n",
    "    headline_cv_vec_tok.transform\n",
    "    headline_class_rf.predict\n",
    "    \n",
    "    keywords_cv_vec.transform\n",
    "    keywords_cv_vec_tok.transform\n",
    "    keywords_class_rf.predict\n",
    "    \n",
    "    snippet_cv_vec.transform\n",
    "    snippet_cv_vec_tok.transform\n",
    "    snippet_class_rf.predict\n",
    "    \n",
    "    word_count_log_reg.predict\n",
    "    \n",
    "    "
   ]
  },
  {
   "cell_type": "code",
   "execution_count": 177,
   "metadata": {},
   "outputs": [],
   "source": [
    "headline_proba_pipe = Pipeline([('headline_tf', headline_tf), \n",
    "                                ('headline_proba_rf', headline_rf_tf)])"
   ]
  },
  {
   "cell_type": "code",
   "execution_count": 178,
   "metadata": {},
   "outputs": [],
   "source": [
    "keywords_proba_pipe = Pipeline([('keywords_tf', keywords_tf), \n",
    "                                ('keywords_proba_rf', keywords_rf_tf)])"
   ]
  },
  {
   "cell_type": "code",
   "execution_count": 179,
   "metadata": {},
   "outputs": [],
   "source": [
    "snippet_proba_pipe = Pipeline([('snippet_tok_tf', snippet_tf_lem), \n",
    "                               ('snippet_proba_rf_tok', snippet_rf_tf)])"
   ]
  },
  {
   "cell_type": "code",
   "execution_count": 180,
   "metadata": {},
   "outputs": [],
   "source": [
    "paragraph_proba_pipe = Pipeline([('paragraph_cv_lem', paragraph_cv_lem), \n",
    "                               ('paragraph_rf_cv', paragraph_rf_cv)])"
   ]
  },
  {
   "cell_type": "code",
   "execution_count": 181,
   "metadata": {},
   "outputs": [],
   "source": [
    "def proba_nlp_pipeline(features, index):\n",
    "    \n",
    "    headline_probs = headline_proba_pipe.predict_proba(features.headline)\n",
    "    headline_probs = [x[1] for x in headline_probs]\n",
    "    \n",
    "    keywords_probs = keywords_proba_pipe.predict_proba(features.keywords)\n",
    "    keywords_probs = [x[1] for x in keywords_probs]\n",
    "    \n",
    "    snippet_probs  = snippet_proba_pipe.predict_proba(features.snippet)\n",
    "    snippet_probs = [x[1] for x in snippet_probs]\n",
    "    \n",
    "    word_count_probs = wc_clf.predict_proba(features.word_count.values.reshape(-1, 1))\n",
    "    word_count_probs = [x[1] for x in word_count_probs]\n",
    "    \n",
    "    paragraph_probs  = paragraph_proba_pipe.predict_proba(features.paragraph)\n",
    "    paragraph_probs = [x[1] for x in paragraph_probs]  \n",
    "    \n",
    "    \n",
    "    df = pd.DataFrame({'headline_probabilty': headline_probs, \n",
    "                       'keywords_probabilty': keywords_probs,\n",
    "                       'snippet_probabilty': snippet_probs, \n",
    "                       'paragraph_probs': paragraph_probs,\n",
    "                       'word_count_probabilty': word_count_probs}, index=index)\n",
    "        \n",
    "    scaler = StandardScaler()\n",
    "    df.iloc[:, :] = scaler.fit_transform(df.iloc[:, :].to_numpy())\n",
    "    \n",
    "    return df"
   ]
  },
  {
   "cell_type": "code",
   "execution_count": 182,
   "metadata": {},
   "outputs": [],
   "source": [
    "# test_df = pd.DataFrame(tree_details.values(), index=tree_details.keys(), columns=['Information'])"
   ]
  },
  {
   "cell_type": "code",
   "execution_count": 183,
   "metadata": {},
   "outputs": [],
   "source": [
    "# headline tfidf winners: headline_tf, headline_proba_rf, headline_proba\n",
    "# headline cv winners: headline_cv, headline_class_rf, headline_class"
   ]
  },
  {
   "cell_type": "code",
   "execution_count": 184,
   "metadata": {},
   "outputs": [],
   "source": [
    "# keywords tfidf winners: keywords_tf, keywords_proba_rf, keywords_proba\n",
    "# keywords cv winners: keywords_cv, keywords_class_rf, keywords_class"
   ]
  },
  {
   "cell_type": "code",
   "execution_count": 185,
   "metadata": {},
   "outputs": [],
   "source": [
    "# snippet tfidf winners: snippet_tok_tf, snippet_proba_rf_tok, snippet_proba_tok\n",
    "# snippet cv winners: snippet_tok_cv, snippet_class_rf_tok, snippet_class_tok"
   ]
  },
  {
   "cell_type": "code",
   "execution_count": 186,
   "metadata": {},
   "outputs": [],
   "source": [
    "headline_class_pipe = Pipeline([('headline_cv', headline_cv), \n",
    "                                ('headline_rf_cv', headline_rf_cv)])"
   ]
  },
  {
   "cell_type": "code",
   "execution_count": 187,
   "metadata": {},
   "outputs": [],
   "source": [
    "keywords_class_pipe = Pipeline([('keywords_cv', keywords_cv), \n",
    "                                ('keywords_rf_cv', keywords_rf_cv)])"
   ]
  },
  {
   "cell_type": "code",
   "execution_count": 188,
   "metadata": {},
   "outputs": [],
   "source": [
    "snippet_class_pipe = Pipeline([('snippet_cv_lem', snippet_cv_lem), \n",
    "                               ('snippet_rf_cv', snippet_rf_cv)])"
   ]
  },
  {
   "cell_type": "code",
   "execution_count": 189,
   "metadata": {},
   "outputs": [],
   "source": [
    "paragraph_class_pipe = Pipeline([('paragraph_cv_lem', paragraph_cv_lem), \n",
    "                               ('paragraph_rf_cv', paragraph_rf_cv)])"
   ]
  },
  {
   "cell_type": "code",
   "execution_count": 190,
   "metadata": {},
   "outputs": [],
   "source": [
    "def class_nlp_pipeline(features, index):\n",
    "    \n",
    "    headline_probs = headline_class_pipe.predict(features.headline)\n",
    "    keywords_probs = keywords_class_pipe.predict(features.keywords)\n",
    "    snippet_probs  = snippet_class_pipe.predict(features.snippet)\n",
    "    paragraph_probs  = paragraph_class_pipe.predict(features.paragraph)\n",
    "    word_count_probs = wc_clf.predict(features.word_count.values.reshape(-1, 1))\n",
    "    \n",
    "    df = pd.DataFrame({'headline_probabilty': headline_probs, \n",
    "                       'keywords_probabilty': keywords_probs, \n",
    "                       'snippet_probabilty': snippet_probs, \n",
    "                       'paragraph_probs': paragraph_probs,\n",
    "                       'word_count_probabilty': word_count_probs},  index=index)\n",
    "        \n",
    "    return df"
   ]
  },
  {
   "cell_type": "code",
   "execution_count": 191,
   "metadata": {},
   "outputs": [],
   "source": [
    "proba_for_pred = proba_nlp_pipeline(df_feature_deploy, df_feature_deploy.index)"
   ]
  },
  {
   "cell_type": "code",
   "execution_count": 192,
   "metadata": {},
   "outputs": [
    {
     "data": {
      "text/html": [
       "<div>\n",
       "<style scoped>\n",
       "    .dataframe tbody tr th:only-of-type {\n",
       "        vertical-align: middle;\n",
       "    }\n",
       "\n",
       "    .dataframe tbody tr th {\n",
       "        vertical-align: top;\n",
       "    }\n",
       "\n",
       "    .dataframe thead th {\n",
       "        text-align: right;\n",
       "    }\n",
       "</style>\n",
       "<table border=\"1\" class=\"dataframe\">\n",
       "  <thead>\n",
       "    <tr style=\"text-align: right;\">\n",
       "      <th></th>\n",
       "      <th>headline_probabilty</th>\n",
       "      <th>keywords_probabilty</th>\n",
       "      <th>snippet_probabilty</th>\n",
       "      <th>paragraph_probs</th>\n",
       "      <th>word_count_probabilty</th>\n",
       "    </tr>\n",
       "  </thead>\n",
       "  <tbody>\n",
       "    <tr>\n",
       "      <th>2</th>\n",
       "      <td>-0.357044</td>\n",
       "      <td>-0.34429</td>\n",
       "      <td>1.176363</td>\n",
       "      <td>0.220539</td>\n",
       "      <td>-0.191520</td>\n",
       "    </tr>\n",
       "    <tr>\n",
       "      <th>5</th>\n",
       "      <td>-0.357044</td>\n",
       "      <td>-0.34429</td>\n",
       "      <td>0.490317</td>\n",
       "      <td>-0.428009</td>\n",
       "      <td>-0.054314</td>\n",
       "    </tr>\n",
       "    <tr>\n",
       "      <th>6</th>\n",
       "      <td>-0.357044</td>\n",
       "      <td>-0.34429</td>\n",
       "      <td>-0.470149</td>\n",
       "      <td>0.090830</td>\n",
       "      <td>-0.009008</td>\n",
       "    </tr>\n",
       "    <tr>\n",
       "      <th>7</th>\n",
       "      <td>5.700348</td>\n",
       "      <td>5.62596</td>\n",
       "      <td>3.234504</td>\n",
       "      <td>6.576311</td>\n",
       "      <td>-0.204000</td>\n",
       "    </tr>\n",
       "    <tr>\n",
       "      <th>8</th>\n",
       "      <td>-0.357044</td>\n",
       "      <td>-0.34429</td>\n",
       "      <td>-0.470149</td>\n",
       "      <td>-0.428009</td>\n",
       "      <td>-0.502003</td>\n",
       "    </tr>\n",
       "  </tbody>\n",
       "</table>\n",
       "</div>"
      ],
      "text/plain": [
       "   headline_probabilty  keywords_probabilty  snippet_probabilty  \\\n",
       "2            -0.357044             -0.34429            1.176363   \n",
       "5            -0.357044             -0.34429            0.490317   \n",
       "6            -0.357044             -0.34429           -0.470149   \n",
       "7             5.700348              5.62596            3.234504   \n",
       "8            -0.357044             -0.34429           -0.470149   \n",
       "\n",
       "   paragraph_probs  word_count_probabilty  \n",
       "2         0.220539              -0.191520  \n",
       "5        -0.428009              -0.054314  \n",
       "6         0.090830              -0.009008  \n",
       "7         6.576311              -0.204000  \n",
       "8        -0.428009              -0.502003  "
      ]
     },
     "execution_count": 192,
     "metadata": {},
     "output_type": "execute_result"
    }
   ],
   "source": [
    "proba_for_pred.head()"
   ]
  },
  {
   "cell_type": "code",
   "execution_count": null,
   "metadata": {},
   "outputs": [],
   "source": [
    "tets_pred = proba_for_pred"
   ]
  },
  {
   "cell_type": "code",
   "execution_count": 182,
   "metadata": {},
   "outputs": [
    {
     "data": {
      "text/plain": [
       "2      0.019209\n",
       "5      0.021590\n",
       "6      0.021313\n",
       "7      0.024239\n",
       "8      0.016450\n",
       "         ...   \n",
       "359    0.018627\n",
       "360    0.023579\n",
       "361    0.018175\n",
       "362    0.017551\n",
       "364    0.025313\n",
       "Name: predictions_from_proba, Length: 326, dtype: float64"
      ]
     },
     "execution_count": 182,
     "metadata": {},
     "output_type": "execute_result"
    }
   ],
   "source": [
    "predictions_from_proba = clf_proba.predict_proba(proba_for_pred)\n",
    "predictions_from_proba = [x[1] for x in predictions_from_proba]\n",
    "predictions_from_proba = pd.Series(predictions_from_proba, index=deployed_article_ids.index, \n",
    "                                   name='predictions_from_proba')\n",
    "predictions_from_proba"
   ]
  },
  {
   "cell_type": "code",
   "execution_count": 193,
   "metadata": {},
   "outputs": [],
   "source": [
    "class_for_pred = class_nlp_pipeline(df_feature_deploy, df_feature_deploy.index)"
   ]
  },
  {
   "cell_type": "code",
   "execution_count": 194,
   "metadata": {},
   "outputs": [
    {
     "data": {
      "text/html": [
       "<div>\n",
       "<style scoped>\n",
       "    .dataframe tbody tr th:only-of-type {\n",
       "        vertical-align: middle;\n",
       "    }\n",
       "\n",
       "    .dataframe tbody tr th {\n",
       "        vertical-align: top;\n",
       "    }\n",
       "\n",
       "    .dataframe thead th {\n",
       "        text-align: right;\n",
       "    }\n",
       "</style>\n",
       "<table border=\"1\" class=\"dataframe\">\n",
       "  <thead>\n",
       "    <tr style=\"text-align: right;\">\n",
       "      <th></th>\n",
       "      <th>headline_probabilty</th>\n",
       "      <th>keywords_probabilty</th>\n",
       "      <th>snippet_probabilty</th>\n",
       "      <th>paragraph_probs</th>\n",
       "      <th>word_count_probabilty</th>\n",
       "    </tr>\n",
       "  </thead>\n",
       "  <tbody>\n",
       "    <tr>\n",
       "      <th>2</th>\n",
       "      <td>0</td>\n",
       "      <td>0</td>\n",
       "      <td>0</td>\n",
       "      <td>0</td>\n",
       "      <td>0</td>\n",
       "    </tr>\n",
       "    <tr>\n",
       "      <th>5</th>\n",
       "      <td>0</td>\n",
       "      <td>0</td>\n",
       "      <td>0</td>\n",
       "      <td>0</td>\n",
       "      <td>0</td>\n",
       "    </tr>\n",
       "    <tr>\n",
       "      <th>6</th>\n",
       "      <td>0</td>\n",
       "      <td>0</td>\n",
       "      <td>0</td>\n",
       "      <td>0</td>\n",
       "      <td>0</td>\n",
       "    </tr>\n",
       "    <tr>\n",
       "      <th>7</th>\n",
       "      <td>1</td>\n",
       "      <td>1</td>\n",
       "      <td>0</td>\n",
       "      <td>1</td>\n",
       "      <td>0</td>\n",
       "    </tr>\n",
       "    <tr>\n",
       "      <th>8</th>\n",
       "      <td>0</td>\n",
       "      <td>0</td>\n",
       "      <td>0</td>\n",
       "      <td>0</td>\n",
       "      <td>0</td>\n",
       "    </tr>\n",
       "  </tbody>\n",
       "</table>\n",
       "</div>"
      ],
      "text/plain": [
       "   headline_probabilty  keywords_probabilty  snippet_probabilty  \\\n",
       "2                    0                    0                   0   \n",
       "5                    0                    0                   0   \n",
       "6                    0                    0                   0   \n",
       "7                    1                    1                   0   \n",
       "8                    0                    0                   0   \n",
       "\n",
       "   paragraph_probs  word_count_probabilty  \n",
       "2                0                      0  \n",
       "5                0                      0  \n",
       "6                0                      0  \n",
       "7                1                      0  \n",
       "8                0                      0  "
      ]
     },
     "execution_count": 194,
     "metadata": {},
     "output_type": "execute_result"
    }
   ],
   "source": [
    "class_for_pred.head()"
   ]
  },
  {
   "cell_type": "code",
   "execution_count": 185,
   "metadata": {},
   "outputs": [
    {
     "data": {
      "text/plain": [
       "2      0.022266\n",
       "5      0.022266\n",
       "6      0.037119\n",
       "7      0.022266\n",
       "8      0.022266\n",
       "         ...   \n",
       "359    0.022266\n",
       "360    0.037119\n",
       "361    0.022266\n",
       "362    0.022266\n",
       "364    0.037887\n",
       "Name: predictions_from_class, Length: 326, dtype: float64"
      ]
     },
     "execution_count": 185,
     "metadata": {},
     "output_type": "execute_result"
    }
   ],
   "source": [
    "predictions_from_class = clf_class.predict_proba(class_for_pred)\n",
    "predictions_from_class = [x[1] for x in predictions_from_class]\n",
    "predictions_from_class = pd.Series(predictions_from_class, index=deployed_article_ids.index,\n",
    "                                   name='predictions_from_class')\n",
    "predictions_from_class"
   ]
  },
  {
   "cell_type": "code",
   "execution_count": 195,
   "metadata": {},
   "outputs": [
    {
     "ename": "ValueError",
     "evalue": "all the input array dimensions for the concatenation axis must match exactly, but along dimension 1, the array at index 0 has size 415 and the array at index 2 has size 5",
     "output_type": "error",
     "traceback": [
      "\u001b[0;31m-----------------------------\u001b[0m",
      "\u001b[0;31mValueError\u001b[0mTraceback (most recent call last)",
      "\u001b[0;32m<ipython-input-195-6a27ffbe2955>\u001b[0m in \u001b[0;36m<module>\u001b[0;34m\u001b[0m\n\u001b[0;32m----> 1\u001b[0;31m \u001b[0mtop_20_from_proba\u001b[0m \u001b[0;34m=\u001b[0m \u001b[0mpd\u001b[0m\u001b[0;34m.\u001b[0m\u001b[0mDataFrame\u001b[0m\u001b[0;34m(\u001b[0m\u001b[0;34m[\u001b[0m\u001b[0mdeployed_article_ids\u001b[0m\u001b[0;34m,\u001b[0m \u001b[0mdate_published\u001b[0m\u001b[0;34m,\u001b[0m \u001b[0mproba_for_pred\u001b[0m\u001b[0;34m]\u001b[0m\u001b[0;34m)\u001b[0m\u001b[0;34m.\u001b[0m\u001b[0mT\u001b[0m\u001b[0;34m\u001b[0m\u001b[0;34m\u001b[0m\u001b[0m\n\u001b[0m\u001b[1;32m      2\u001b[0m \u001b[0;34m\u001b[0m\u001b[0m\n\u001b[1;32m      3\u001b[0m \u001b[0;31m# top_20_from_proba.sort_values('predictions_from_proba', ascending=False, inplace=True)\u001b[0m\u001b[0;34m\u001b[0m\u001b[0;34m\u001b[0m\u001b[0;34m\u001b[0m\u001b[0m\n\u001b[1;32m      4\u001b[0m \u001b[0;31m# top_20_from_proba = top_20_from_proba[:20]\u001b[0m\u001b[0;34m\u001b[0m\u001b[0;34m\u001b[0m\u001b[0;34m\u001b[0m\u001b[0m\n\u001b[1;32m      5\u001b[0m \u001b[0mtop_20_from_proba\u001b[0m\u001b[0;34m\u001b[0m\u001b[0;34m\u001b[0m\u001b[0m\n",
      "\u001b[0;32m/opt/anaconda3/envs/learn-env/lib/python3.8/site-packages/pandas/core/frame.py\u001b[0m in \u001b[0;36m__init__\u001b[0;34m(self, data, index, columns, dtype, copy)\u001b[0m\n\u001b[1;32m    507\u001b[0m                     \u001b[0;32mif\u001b[0m \u001b[0mis_named_tuple\u001b[0m\u001b[0;34m(\u001b[0m\u001b[0mdata\u001b[0m\u001b[0;34m[\u001b[0m\u001b[0;36m0\u001b[0m\u001b[0;34m]\u001b[0m\u001b[0;34m)\u001b[0m \u001b[0;32mand\u001b[0m \u001b[0mcolumns\u001b[0m \u001b[0;32mis\u001b[0m \u001b[0;32mNone\u001b[0m\u001b[0;34m:\u001b[0m\u001b[0;34m\u001b[0m\u001b[0;34m\u001b[0m\u001b[0m\n\u001b[1;32m    508\u001b[0m                         \u001b[0mcolumns\u001b[0m \u001b[0;34m=\u001b[0m \u001b[0mdata\u001b[0m\u001b[0;34m[\u001b[0m\u001b[0;36m0\u001b[0m\u001b[0;34m]\u001b[0m\u001b[0;34m.\u001b[0m\u001b[0m_fields\u001b[0m\u001b[0;34m\u001b[0m\u001b[0;34m\u001b[0m\u001b[0m\n\u001b[0;32m--> 509\u001b[0;31m                     \u001b[0marrays\u001b[0m\u001b[0;34m,\u001b[0m \u001b[0mcolumns\u001b[0m \u001b[0;34m=\u001b[0m \u001b[0mto_arrays\u001b[0m\u001b[0;34m(\u001b[0m\u001b[0mdata\u001b[0m\u001b[0;34m,\u001b[0m \u001b[0mcolumns\u001b[0m\u001b[0;34m,\u001b[0m \u001b[0mdtype\u001b[0m\u001b[0;34m=\u001b[0m\u001b[0mdtype\u001b[0m\u001b[0;34m)\u001b[0m\u001b[0;34m\u001b[0m\u001b[0;34m\u001b[0m\u001b[0m\n\u001b[0m\u001b[1;32m    510\u001b[0m                     \u001b[0mcolumns\u001b[0m \u001b[0;34m=\u001b[0m \u001b[0mensure_index\u001b[0m\u001b[0;34m(\u001b[0m\u001b[0mcolumns\u001b[0m\u001b[0;34m)\u001b[0m\u001b[0;34m\u001b[0m\u001b[0;34m\u001b[0m\u001b[0m\n\u001b[1;32m    511\u001b[0m \u001b[0;34m\u001b[0m\u001b[0m\n",
      "\u001b[0;32m/opt/anaconda3/envs/learn-env/lib/python3.8/site-packages/pandas/core/internals/construction.py\u001b[0m in \u001b[0;36mto_arrays\u001b[0;34m(data, columns, coerce_float, dtype)\u001b[0m\n\u001b[1;32m    528\u001b[0m         )\n\u001b[1;32m    529\u001b[0m     \u001b[0;32melif\u001b[0m \u001b[0misinstance\u001b[0m\u001b[0;34m(\u001b[0m\u001b[0mdata\u001b[0m\u001b[0;34m[\u001b[0m\u001b[0;36m0\u001b[0m\u001b[0;34m]\u001b[0m\u001b[0;34m,\u001b[0m \u001b[0mABCSeries\u001b[0m\u001b[0;34m)\u001b[0m\u001b[0;34m:\u001b[0m\u001b[0;34m\u001b[0m\u001b[0;34m\u001b[0m\u001b[0m\n\u001b[0;32m--> 530\u001b[0;31m         return _list_of_series_to_arrays(\n\u001b[0m\u001b[1;32m    531\u001b[0m             \u001b[0mdata\u001b[0m\u001b[0;34m,\u001b[0m \u001b[0mcolumns\u001b[0m\u001b[0;34m,\u001b[0m \u001b[0mcoerce_float\u001b[0m\u001b[0;34m=\u001b[0m\u001b[0mcoerce_float\u001b[0m\u001b[0;34m,\u001b[0m \u001b[0mdtype\u001b[0m\u001b[0;34m=\u001b[0m\u001b[0mdtype\u001b[0m\u001b[0;34m\u001b[0m\u001b[0;34m\u001b[0m\u001b[0m\n\u001b[1;32m    532\u001b[0m         )\n",
      "\u001b[0;32m/opt/anaconda3/envs/learn-env/lib/python3.8/site-packages/pandas/core/internals/construction.py\u001b[0m in \u001b[0;36m_list_of_series_to_arrays\u001b[0;34m(data, columns, coerce_float, dtype)\u001b[0m\n\u001b[1;32m    596\u001b[0m         \u001b[0maligned_values\u001b[0m\u001b[0;34m.\u001b[0m\u001b[0mappend\u001b[0m\u001b[0;34m(\u001b[0m\u001b[0malgorithms\u001b[0m\u001b[0;34m.\u001b[0m\u001b[0mtake_1d\u001b[0m\u001b[0;34m(\u001b[0m\u001b[0mvalues\u001b[0m\u001b[0;34m,\u001b[0m \u001b[0mindexer\u001b[0m\u001b[0;34m)\u001b[0m\u001b[0;34m)\u001b[0m\u001b[0;34m\u001b[0m\u001b[0;34m\u001b[0m\u001b[0m\n\u001b[1;32m    597\u001b[0m \u001b[0;34m\u001b[0m\u001b[0m\n\u001b[0;32m--> 598\u001b[0;31m     \u001b[0mvalues\u001b[0m \u001b[0;34m=\u001b[0m \u001b[0mnp\u001b[0m\u001b[0;34m.\u001b[0m\u001b[0mvstack\u001b[0m\u001b[0;34m(\u001b[0m\u001b[0maligned_values\u001b[0m\u001b[0;34m)\u001b[0m\u001b[0;34m\u001b[0m\u001b[0;34m\u001b[0m\u001b[0m\n\u001b[0m\u001b[1;32m    599\u001b[0m \u001b[0;34m\u001b[0m\u001b[0m\n\u001b[1;32m    600\u001b[0m     \u001b[0;32mif\u001b[0m \u001b[0mvalues\u001b[0m\u001b[0;34m.\u001b[0m\u001b[0mdtype\u001b[0m \u001b[0;34m==\u001b[0m \u001b[0mnp\u001b[0m\u001b[0;34m.\u001b[0m\u001b[0mobject_\u001b[0m\u001b[0;34m:\u001b[0m\u001b[0;34m\u001b[0m\u001b[0;34m\u001b[0m\u001b[0m\n",
      "\u001b[0;32m<__array_function__ internals>\u001b[0m in \u001b[0;36mvstack\u001b[0;34m(*args, **kwargs)\u001b[0m\n",
      "\u001b[0;32m/opt/anaconda3/envs/learn-env/lib/python3.8/site-packages/numpy/core/shape_base.py\u001b[0m in \u001b[0;36mvstack\u001b[0;34m(tup)\u001b[0m\n\u001b[1;32m    281\u001b[0m     \u001b[0;32mif\u001b[0m \u001b[0;32mnot\u001b[0m \u001b[0misinstance\u001b[0m\u001b[0;34m(\u001b[0m\u001b[0marrs\u001b[0m\u001b[0;34m,\u001b[0m \u001b[0mlist\u001b[0m\u001b[0;34m)\u001b[0m\u001b[0;34m:\u001b[0m\u001b[0;34m\u001b[0m\u001b[0;34m\u001b[0m\u001b[0m\n\u001b[1;32m    282\u001b[0m         \u001b[0marrs\u001b[0m \u001b[0;34m=\u001b[0m \u001b[0;34m[\u001b[0m\u001b[0marrs\u001b[0m\u001b[0;34m]\u001b[0m\u001b[0;34m\u001b[0m\u001b[0;34m\u001b[0m\u001b[0m\n\u001b[0;32m--> 283\u001b[0;31m     \u001b[0;32mreturn\u001b[0m \u001b[0m_nx\u001b[0m\u001b[0;34m.\u001b[0m\u001b[0mconcatenate\u001b[0m\u001b[0;34m(\u001b[0m\u001b[0marrs\u001b[0m\u001b[0;34m,\u001b[0m \u001b[0;36m0\u001b[0m\u001b[0;34m)\u001b[0m\u001b[0;34m\u001b[0m\u001b[0;34m\u001b[0m\u001b[0m\n\u001b[0m\u001b[1;32m    284\u001b[0m \u001b[0;34m\u001b[0m\u001b[0m\n\u001b[1;32m    285\u001b[0m \u001b[0;34m\u001b[0m\u001b[0m\n",
      "\u001b[0;32m<__array_function__ internals>\u001b[0m in \u001b[0;36mconcatenate\u001b[0;34m(*args, **kwargs)\u001b[0m\n",
      "\u001b[0;31mValueError\u001b[0m: all the input array dimensions for the concatenation axis must match exactly, but along dimension 1, the array at index 0 has size 415 and the array at index 2 has size 5"
     ]
    }
   ],
   "source": [
    "top_20_from_proba = pd.DataFrame([deployed_article_ids, date_published, predictions_from_proba]).T\n",
    "\n",
    "top_20_from_proba.sort_values('predictions_from_proba', ascending=False, inplace=True) \n",
    "top_20_from_proba = top_20_from_proba[:20]\n",
    "top_20_from_proba"
   ]
  },
  {
   "cell_type": "code",
   "execution_count": 187,
   "metadata": {},
   "outputs": [
    {
     "data": {
      "text/html": [
       "<div>\n",
       "<style scoped>\n",
       "    .dataframe tbody tr th:only-of-type {\n",
       "        vertical-align: middle;\n",
       "    }\n",
       "\n",
       "    .dataframe tbody tr th {\n",
       "        vertical-align: top;\n",
       "    }\n",
       "\n",
       "    .dataframe thead th {\n",
       "        text-align: right;\n",
       "    }\n",
       "</style>\n",
       "<table border=\"1\" class=\"dataframe\">\n",
       "  <thead>\n",
       "    <tr style=\"text-align: right;\">\n",
       "      <th></th>\n",
       "      <th>uri</th>\n",
       "      <th>date_published</th>\n",
       "      <th>predictions_from_class</th>\n",
       "    </tr>\n",
       "  </thead>\n",
       "  <tbody>\n",
       "    <tr>\n",
       "      <th>364</th>\n",
       "      <td>nyt://article/24681e70-cdc8-5bf6-b07e-e4a4e4f8...</td>\n",
       "      <td>2022-01-19</td>\n",
       "      <td>0.0378866</td>\n",
       "    </tr>\n",
       "    <tr>\n",
       "      <th>28</th>\n",
       "      <td>nyt://article/2e2fc4e8-a1dd-553a-a182-cd4730bb...</td>\n",
       "      <td>2022-01-16</td>\n",
       "      <td>0.0378866</td>\n",
       "    </tr>\n",
       "    <tr>\n",
       "      <th>78</th>\n",
       "      <td>nyt://article/45c22193-cacf-591a-a40e-e5caca15...</td>\n",
       "      <td>2022-01-17</td>\n",
       "      <td>0.0378866</td>\n",
       "    </tr>\n",
       "    <tr>\n",
       "      <th>100</th>\n",
       "      <td>nyt://article/2510c6e8-da3b-53d4-abb6-f249bdcf...</td>\n",
       "      <td>2022-01-17</td>\n",
       "      <td>0.0378866</td>\n",
       "    </tr>\n",
       "    <tr>\n",
       "      <th>307</th>\n",
       "      <td>nyt://article/9f6fed60-066e-50ac-ace5-a68cc350...</td>\n",
       "      <td>2022-01-19</td>\n",
       "      <td>0.0378866</td>\n",
       "    </tr>\n",
       "    <tr>\n",
       "      <th>62</th>\n",
       "      <td>nyt://article/76c66f42-ef3d-5b5f-b12d-eb106769...</td>\n",
       "      <td>2022-01-16</td>\n",
       "      <td>0.0378866</td>\n",
       "    </tr>\n",
       "    <tr>\n",
       "      <th>295</th>\n",
       "      <td>nyt://article/7ec79304-fab7-5e66-abde-14fe5ead...</td>\n",
       "      <td>2022-01-19</td>\n",
       "      <td>0.0378866</td>\n",
       "    </tr>\n",
       "    <tr>\n",
       "      <th>290</th>\n",
       "      <td>nyt://article/fbfef231-3db8-5035-b053-051a1386...</td>\n",
       "      <td>2022-01-19</td>\n",
       "      <td>0.0378866</td>\n",
       "    </tr>\n",
       "    <tr>\n",
       "      <th>334</th>\n",
       "      <td>nyt://article/0483a5be-425d-5e1f-9ff9-0763b9a4...</td>\n",
       "      <td>2022-01-19</td>\n",
       "      <td>0.0378866</td>\n",
       "    </tr>\n",
       "    <tr>\n",
       "      <th>335</th>\n",
       "      <td>nyt://article/9406c70d-50e8-53b0-b230-ed28e1c4...</td>\n",
       "      <td>2022-01-19</td>\n",
       "      <td>0.0378866</td>\n",
       "    </tr>\n",
       "    <tr>\n",
       "      <th>159</th>\n",
       "      <td>nyt://article/0c98a959-3669-5bc2-a33e-e503c739...</td>\n",
       "      <td>2022-01-18</td>\n",
       "      <td>0.0378866</td>\n",
       "    </tr>\n",
       "    <tr>\n",
       "      <th>341</th>\n",
       "      <td>nyt://article/f0c8034c-dfcc-5513-a216-8d002e10...</td>\n",
       "      <td>2022-01-19</td>\n",
       "      <td>0.0378866</td>\n",
       "    </tr>\n",
       "    <tr>\n",
       "      <th>170</th>\n",
       "      <td>nyt://article/5e3ef205-8f6f-5ca1-840f-9135d324...</td>\n",
       "      <td>2022-01-18</td>\n",
       "      <td>0.0378866</td>\n",
       "    </tr>\n",
       "    <tr>\n",
       "      <th>255</th>\n",
       "      <td>nyt://article/dbbea7ab-22a1-5b57-a060-ce045d47...</td>\n",
       "      <td>2022-01-18</td>\n",
       "      <td>0.0378866</td>\n",
       "    </tr>\n",
       "    <tr>\n",
       "      <th>84</th>\n",
       "      <td>nyt://article/b7f649ea-964a-566a-89f5-9d0cbf38...</td>\n",
       "      <td>2022-01-17</td>\n",
       "      <td>0.0378866</td>\n",
       "    </tr>\n",
       "    <tr>\n",
       "      <th>209</th>\n",
       "      <td>nyt://article/49dfe486-5207-5e89-b661-57c1a5bc...</td>\n",
       "      <td>2022-01-18</td>\n",
       "      <td>0.0378866</td>\n",
       "    </tr>\n",
       "    <tr>\n",
       "      <th>358</th>\n",
       "      <td>nyt://article/4631a28e-88b9-5641-a392-8e13e62a...</td>\n",
       "      <td>2022-01-19</td>\n",
       "      <td>0.0378866</td>\n",
       "    </tr>\n",
       "    <tr>\n",
       "      <th>203</th>\n",
       "      <td>nyt://article/70f15787-6090-5be7-a190-30b827bd...</td>\n",
       "      <td>2022-01-18</td>\n",
       "      <td>0.0371185</td>\n",
       "    </tr>\n",
       "    <tr>\n",
       "      <th>299</th>\n",
       "      <td>nyt://article/75d306d9-09a7-5a13-91d5-8b892815...</td>\n",
       "      <td>2022-01-19</td>\n",
       "      <td>0.0371185</td>\n",
       "    </tr>\n",
       "    <tr>\n",
       "      <th>217</th>\n",
       "      <td>nyt://article/809057ea-947a-5dc8-b549-70ecb296...</td>\n",
       "      <td>2022-01-18</td>\n",
       "      <td>0.0371185</td>\n",
       "    </tr>\n",
       "  </tbody>\n",
       "</table>\n",
       "</div>"
      ],
      "text/plain": [
       "                                                   uri date_published  \\\n",
       "364  nyt://article/24681e70-cdc8-5bf6-b07e-e4a4e4f8...     2022-01-19   \n",
       "28   nyt://article/2e2fc4e8-a1dd-553a-a182-cd4730bb...     2022-01-16   \n",
       "78   nyt://article/45c22193-cacf-591a-a40e-e5caca15...     2022-01-17   \n",
       "100  nyt://article/2510c6e8-da3b-53d4-abb6-f249bdcf...     2022-01-17   \n",
       "307  nyt://article/9f6fed60-066e-50ac-ace5-a68cc350...     2022-01-19   \n",
       "62   nyt://article/76c66f42-ef3d-5b5f-b12d-eb106769...     2022-01-16   \n",
       "295  nyt://article/7ec79304-fab7-5e66-abde-14fe5ead...     2022-01-19   \n",
       "290  nyt://article/fbfef231-3db8-5035-b053-051a1386...     2022-01-19   \n",
       "334  nyt://article/0483a5be-425d-5e1f-9ff9-0763b9a4...     2022-01-19   \n",
       "335  nyt://article/9406c70d-50e8-53b0-b230-ed28e1c4...     2022-01-19   \n",
       "159  nyt://article/0c98a959-3669-5bc2-a33e-e503c739...     2022-01-18   \n",
       "341  nyt://article/f0c8034c-dfcc-5513-a216-8d002e10...     2022-01-19   \n",
       "170  nyt://article/5e3ef205-8f6f-5ca1-840f-9135d324...     2022-01-18   \n",
       "255  nyt://article/dbbea7ab-22a1-5b57-a060-ce045d47...     2022-01-18   \n",
       "84   nyt://article/b7f649ea-964a-566a-89f5-9d0cbf38...     2022-01-17   \n",
       "209  nyt://article/49dfe486-5207-5e89-b661-57c1a5bc...     2022-01-18   \n",
       "358  nyt://article/4631a28e-88b9-5641-a392-8e13e62a...     2022-01-19   \n",
       "203  nyt://article/70f15787-6090-5be7-a190-30b827bd...     2022-01-18   \n",
       "299  nyt://article/75d306d9-09a7-5a13-91d5-8b892815...     2022-01-19   \n",
       "217  nyt://article/809057ea-947a-5dc8-b549-70ecb296...     2022-01-18   \n",
       "\n",
       "    predictions_from_class  \n",
       "364              0.0378866  \n",
       "28               0.0378866  \n",
       "78               0.0378866  \n",
       "100              0.0378866  \n",
       "307              0.0378866  \n",
       "62               0.0378866  \n",
       "295              0.0378866  \n",
       "290              0.0378866  \n",
       "334              0.0378866  \n",
       "335              0.0378866  \n",
       "159              0.0378866  \n",
       "341              0.0378866  \n",
       "170              0.0378866  \n",
       "255              0.0378866  \n",
       "84               0.0378866  \n",
       "209              0.0378866  \n",
       "358              0.0378866  \n",
       "203              0.0371185  \n",
       "299              0.0371185  \n",
       "217              0.0371185  "
      ]
     },
     "execution_count": 187,
     "metadata": {},
     "output_type": "execute_result"
    }
   ],
   "source": [
    "top_20_from_class = pd.DataFrame([deployed_article_ids, date_published, predictions_from_class]).T\n",
    "\n",
    "\n",
    "top_20_from_class.sort_values('predictions_from_class', ascending=False, inplace=True)\n",
    "top_20_from_class = top_20_from_class[:20]\n",
    "top_20_from_class"
   ]
  },
  {
   "cell_type": "code",
   "execution_count": 188,
   "metadata": {},
   "outputs": [
    {
     "name": "stdout",
     "output_type": "stream",
     "text": [
      "4\n"
     ]
    },
    {
     "data": {
      "text/plain": [
       "20"
      ]
     },
     "execution_count": 188,
     "metadata": {},
     "output_type": "execute_result"
    }
   ],
   "source": [
    "proba_tf_pipe = [1 if x in df_top_20.uri.values else 0 for x in top_20_from_proba.uri.values]\n",
    "print(sum(proba_tf_pipe))\n",
    "len(proba_tf_pipe)"
   ]
  },
  {
   "cell_type": "code",
   "execution_count": 189,
   "metadata": {},
   "outputs": [
    {
     "name": "stdout",
     "output_type": "stream",
     "text": [
      "2\n"
     ]
    },
    {
     "data": {
      "text/plain": [
       "20"
      ]
     },
     "execution_count": 189,
     "metadata": {},
     "output_type": "execute_result"
    }
   ],
   "source": [
    "class_cv_pipe = [1 if x in df_top_20.uri.values else 0 for x in top_20_from_class.uri.values]\n",
    "print(sum(class_cv_pipe))\n",
    "len(class_cv_pipe)"
   ]
  },
  {
   "cell_type": "code",
   "execution_count": 190,
   "metadata": {},
   "outputs": [],
   "source": [
    "def score_top20_pred(top_20_from_proba, top_20_from_class, df_top_20):\n",
    "    \n",
    "    date = df_top_20.index[0]\n",
    "    \n",
    "    proba_tf_pipe = [1 if x in df_top_20.uri.values else 0 for x in top_20_from_proba.uri.values]\n",
    "    proba_tf_pipe = sum(proba_tf_pipe)/len(proba_tf_pipe)\n",
    "    class_cv_pipe = [1 if x in df_top_20.uri.values else 0 for x in top_20_from_class.uri.values]\n",
    "    class_cv_pipe = sum(class_cv_pipe)/len(class_cv_pipe)\n",
    "    \n",
    "    pred_series = pd.Series({'proba_tf_pipe': proba_tf_pipe, 'class_cv_pipe': class_cv_pipe}, name=str(date))\n",
    "    \n",
    "    return pred_series"
   ]
  },
  {
   "cell_type": "code",
   "execution_count": 191,
   "metadata": {},
   "outputs": [
    {
     "data": {
      "text/plain": [
       "proba_tf_pipe    0.2\n",
       "class_cv_pipe    0.1\n",
       "Name: 2022-01-19, dtype: float64"
      ]
     },
     "execution_count": 191,
     "metadata": {},
     "output_type": "execute_result"
    }
   ],
   "source": [
    "score_top20_pred(top_20_from_proba, top_20_from_class, df_top_20)"
   ]
  },
  {
   "cell_type": "code",
   "execution_count": 192,
   "metadata": {},
   "outputs": [
    {
     "data": {
      "text/html": [
       "<div>\n",
       "<style scoped>\n",
       "    .dataframe tbody tr th:only-of-type {\n",
       "        vertical-align: middle;\n",
       "    }\n",
       "\n",
       "    .dataframe tbody tr th {\n",
       "        vertical-align: top;\n",
       "    }\n",
       "\n",
       "    .dataframe thead th {\n",
       "        text-align: right;\n",
       "    }\n",
       "</style>\n",
       "<table border=\"1\" class=\"dataframe\">\n",
       "  <thead>\n",
       "    <tr style=\"text-align: right;\">\n",
       "      <th></th>\n",
       "      <th>proba_tf_pipe</th>\n",
       "      <th>class_cv_pipe</th>\n",
       "    </tr>\n",
       "  </thead>\n",
       "  <tbody>\n",
       "    <tr>\n",
       "      <th>2022-01-19</th>\n",
       "      <td>0.2</td>\n",
       "      <td>0.1</td>\n",
       "    </tr>\n",
       "  </tbody>\n",
       "</table>\n",
       "</div>"
      ],
      "text/plain": [
       "            proba_tf_pipe  class_cv_pipe\n",
       "2022-01-19            0.2            0.1"
      ]
     },
     "execution_count": 192,
     "metadata": {},
     "output_type": "execute_result"
    }
   ],
   "source": [
    "prediction_df = pd.DataFrame(score_top20_pred(top_20_from_proba, top_20_from_class, df_top_20)).T\n",
    "prediction_df"
   ]
  },
  {
   "cell_type": "code",
   "execution_count": 201,
   "metadata": {},
   "outputs": [],
   "source": [
    "prediction_df.to_csv('data/predictions.csv')"
   ]
  },
  {
   "cell_type": "code",
   "execution_count": 202,
   "metadata": {},
   "outputs": [],
   "source": [
    "pred_plot_df = pd.read_csv('data/predictions.csv', index_col=0)"
   ]
  },
  {
   "cell_type": "code",
   "execution_count": 242,
   "metadata": {},
   "outputs": [],
   "source": [
    "def plot_predictions(df):\n",
    "    \n",
    "    times = pd.date_range(pred_plot_df.index[0], periods=len(pred_plot_df.index))\n",
    "\n",
    "    proba_tf_pipe = pred_plot_df.proba_tf_pipe\n",
    "    class_cv_pipe = pred_plot_df.class_cv_pipe\n",
    "    df = pd.DataFrame({'Tfidf Pipeline': proba_tf_pipe, 'CountVectorizer Pipeline': class_cv_pipe})\n",
    "\n",
    "    ax = df.plot.bar(color=['SkyBlue','IndianRed'], rot=0, title='Too 20 Articles Predictions')\n",
    "\n",
    "    ax.set_xlabel('Prediction Day')\n",
    "    ax.set_ylabel('Percentage Correct')\n",
    "    plt.yticks([0,0.1,0.2,0.3,0.4,0.5], \n",
    "                   ['0%', '10%', '20%', '30%', '40%', '50%'])\n",
    "              \n",
    "    ax.xaxis.set_major_formatter(plt.FixedFormatter(times.strftime(\"%b %d %Y\")))\n",
    "    "
   ]
  },
  {
   "cell_type": "code",
   "execution_count": 243,
   "metadata": {},
   "outputs": [
    {
     "data": {
      "image/png": "[encoded data removed]",
      "text/plain": [
       "<Figure size 432x288 with 1 Axes>"
      ]
     },
     "metadata": {
      "needs_background": "light"
     },
     "output_type": "display_data"
    }
   ],
   "source": [
    "plot_predictions(pred_plot_df)"
   ]
  }
 ],
 "metadata": {
  "kernelspec": {
   "display_name": "Python (learn-env)",
   "language": "python",
   "name": "learn-env"
  },
  "language_info": {
   "codemirror_mode": {
    "name": "ipython",
    "version": 3
   },
   "file_extension": ".py",
   "mimetype": "text/x-python",
   "name": "python",
   "nbconvert_exporter": "python",
   "pygments_lexer": "ipython3",
   "version": "3.8.5"
  }
 },
 "nbformat": 4,
 "nbformat_minor": 4
}
