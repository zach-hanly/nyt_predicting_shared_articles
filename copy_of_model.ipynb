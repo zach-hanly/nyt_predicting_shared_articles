{
 "cells": [
  {
   "cell_type": "markdown",
   "metadata": {},
   "source": [
    "# Predicting News Article Popularity "
   ]
  },
  {
   "cell_type": "markdown",
   "metadata": {},
   "source": [
    "## Business Understanding \n",
    "\n",
    "Advertising on social media has empowered new and smaller media companies to publish textual content to a broader audience, which can then further spread their content. This presents the decision to make about which content to advertise or share in order to maximize the publisher’s reach. For even the smallest publishers, this decision can be supported with simple machine learning models analyzing content metadata. "
   ]
  },
  {
   "cell_type": "markdown",
   "metadata": {},
   "source": [
    "## Data Understanding \n",
    "\n",
    "In order to show how social media popularity for textual media can be modeled, article metadata was gathered from the New York Time's API website. Although one of the largest publishers of news articles, the data is of very high quality and should resemble what other companies have access to in-house. \n",
    "\n",
    "Two APIs were used. First, the __[NYT Archive API](https://developer.nytimes.com/docs/archive-product/1/overview)__,  which returns every article for a given range of months and years. Second, the __[NYT Most Popular API](https://developer.nytimes.com/docs/most-popular-product/1/overview)__, which returns the most popular articles on NYTimes.com based on emails, Facebook shares, or views on the NYT site. For this project Facebook shares were chosen and calls were made to the API once per day to gather that day's top 20 list. Articles in the archive that were listed on a top 20 list were then labeled as a popular article for a modeling target.  "
   ]
  },
  {
   "cell_type": "markdown",
   "metadata": {},
   "source": [
    "#### Importing the required packages"
   ]
  },
  {
   "cell_type": "code",
   "execution_count": 1,
   "metadata": {},
   "outputs": [],
   "source": [
    "# file manipulation \n",
    "import os\n",
    "\n",
    "# data manipulation \n",
    "import re\n",
    "import datetime as dt\n",
    "import pandas as pd\n",
    "import numpy as np\n",
    "import math\n",
    "from functions import *\n",
    "\n",
    "# modeling \n",
    "from sklearn.model_selection import train_test_split, GridSearchCV\n",
    "from sklearn.feature_extraction.text import TfidfVectorizer, CountVectorizer\n",
    "from sklearn.preprocessing import StandardScaler\n",
    "from sklearn.dummy import DummyClassifier\n",
    "from sklearn.ensemble import RandomForestClassifier\n",
    "from sklearn.linear_model import LogisticRegression\n",
    "from sklearn.pipeline import Pipeline\n",
    "from sklearn.metrics import accuracy_score, plot_confusion_matrix, plot_roc_curve\n",
    "\n",
    "# sampling\n",
    "from imblearn.over_sampling import SMOTE\n",
    "\n",
    "# preprocessing text\n",
    "import nltk\n",
    "from nltk.corpus import stopwords, wordnet\n",
    "from nltk.tokenize import RegexpTokenizer\n",
    "from nltk import pos_tag\n",
    "from nltk.stem import WordNetLemmatizer \n",
    "\n",
    "\n",
    "# plotting \n",
    "import matplotlib.pyplot as plt\n",
    "import seaborn as sns\n",
    "sns.set_context('notebook')"
   ]
  },
  {
   "cell_type": "markdown",
   "metadata": {},
   "source": [
    "#### Loading the data\n",
    "The scripts to request, clean and store both the article archive data and the daily top 20 most shared on Facebook lists can be found in [request_archive.py](./request_archive.py) and [request_most_shared_articles.py](./request_most_shared_articles.py). One request for a top 20 list for the previous 30 days was made to help label some articles in the archive as popular that were published before daily collection of a top 20 list was begun. \n",
    "\n",
    "The archive data contains all articles from December and all from January up to the end of the training phase on January 15th. Any rows with Null values in the archive were dropped and the date published column was changed to the datetime data type. The metadate that was collected for modeling was the headline of the article, keywords for the article, a snippet from the article and the word count for the article. Additionally the URI and date published was grabbed for each article. \n",
    "\n",
    "For each top 20 list the URI, date published and date the list was sourced was taken. "
   ]
  },
  {
   "cell_type": "code",
   "execution_count": 15,
   "metadata": {},
   "outputs": [],
   "source": [
    "# load archive articles from csv in data directory\n",
    "df = pd.read_csv('data/archive_train.csv')\n",
    "df.date_published = df.date_published.apply(lambda x: pd.to_datetime(x).date())\n",
    "cutoff_date = pd.to_datetime('2022-01-07').date()\n",
    "df = df[df.date_published >= cutoff_date]\n",
    "df.dropna(inplace=True)\n",
    "\n",
    "# load seperate top 20 lists in folder in data directory into single dataframe \n",
    "df_most_shared = load_most_shared('data/most_popular_train')\n",
    "df_most_shared = df_most_shared[df_most_shared.date_published >= cutoff_date]"
   ]
  },
  {
   "cell_type": "markdown",
   "metadata": {},
   "source": [
    "<br>\n",
    "A list was made to house the URI's, the unique index for each article, for articles appearing on a top 20 list at least once. Then a popular column was created for the archive dataframe by iterating over the list of the highly shared articles and assigning a 0 if that article's URI was not present on the list and 1 for if it was. This is the target column for the models."
   ]
  },
  {
   "cell_type": "code",
   "execution_count": 16,
   "metadata": {},
   "outputs": [],
   "source": [
    "# create list, then interate over it to make target column\n",
    "popular_list = df_most_shared.uri.values\n",
    "df['popular'] = [1 if x in popular_list else 0 for x in df['uri']]"
   ]
  },
  {
   "cell_type": "code",
   "execution_count": 17,
   "metadata": {},
   "outputs": [
    {
     "data": {
      "text/plain": [
       "132"
      ]
     },
     "execution_count": 17,
     "metadata": {},
     "output_type": "execute_result"
    }
   ],
   "source": [
    "len(set(popular_list))"
   ]
  },
  {
   "cell_type": "code",
   "execution_count": 18,
   "metadata": {},
   "outputs": [
    {
     "data": {
      "text/plain": [
       "2022-01-13    30\n",
       "2022-01-14    23\n",
       "2022-01-10    22\n",
       "2022-01-16    19\n",
       "2022-01-11    19\n",
       "2022-01-15    16\n",
       "2022-01-09    15\n",
       "2022-01-12    12\n",
       "2022-01-17     9\n",
       "2022-01-08     9\n",
       "2022-01-07     7\n",
       "Name: date_published, dtype: int64"
      ]
     },
     "execution_count": 18,
     "metadata": {},
     "output_type": "execute_result"
    }
   ],
   "source": [
    "df_most_shared.date_published.value_counts()"
   ]
  },
  {
   "cell_type": "code",
   "execution_count": 19,
   "metadata": {},
   "outputs": [
    {
     "data": {
      "text/plain": [
       "2022-01-14    166\n",
       "2022-01-07    164\n",
       "2022-01-13    157\n",
       "2022-01-10    130\n",
       "2022-01-11    129\n",
       "2022-01-12    122\n",
       "2022-01-15     63\n",
       "2022-01-08     63\n",
       "2022-01-09     55\n",
       "Name: date_published, dtype: int64"
      ]
     },
     "execution_count": 19,
     "metadata": {},
     "output_type": "execute_result"
    }
   ],
   "source": [
    "df.date_published.value_counts()"
   ]
  },
  {
   "cell_type": "code",
   "execution_count": 20,
   "metadata": {},
   "outputs": [
    {
     "data": {
      "text/html": [
       "<div>\n",
       "<style scoped>\n",
       "    .dataframe tbody tr th:only-of-type {\n",
       "        vertical-align: middle;\n",
       "    }\n",
       "\n",
       "    .dataframe tbody tr th {\n",
       "        vertical-align: top;\n",
       "    }\n",
       "\n",
       "    .dataframe thead th {\n",
       "        text-align: right;\n",
       "    }\n",
       "</style>\n",
       "<table border=\"1\" class=\"dataframe\">\n",
       "  <thead>\n",
       "    <tr style=\"text-align: right;\">\n",
       "      <th></th>\n",
       "      <th>uri</th>\n",
       "      <th>date_published</th>\n",
       "      <th>headline</th>\n",
       "      <th>keywords</th>\n",
       "      <th>snippet</th>\n",
       "      <th>word_count</th>\n",
       "      <th>popular</th>\n",
       "    </tr>\n",
       "  </thead>\n",
       "  <tbody>\n",
       "    <tr>\n",
       "      <th>4589</th>\n",
       "      <td>nyt://article/9a39725e-999c-5ca0-bd57-530b3864...</td>\n",
       "      <td>2022-01-07</td>\n",
       "      <td>jamie raskin’s year of tragedy and trump</td>\n",
       "      <td>united states politics and governmentstorming ...</td>\n",
       "      <td>We spoke to the Maryland congressman about los...</td>\n",
       "      <td>1516</td>\n",
       "      <td>0</td>\n",
       "    </tr>\n",
       "    <tr>\n",
       "      <th>4590</th>\n",
       "      <td>nyt://article/23b1e58f-74d9-5959-b63b-551d56a6...</td>\n",
       "      <td>2022-01-07</td>\n",
       "      <td>the economic case for goldilocks</td>\n",
       "      <td>inflation (economics)labor and jobscoronavirus...</td>\n",
       "      <td>In 2021, policymakers actually got it mostly r...</td>\n",
       "      <td>887</td>\n",
       "      <td>0</td>\n",
       "    </tr>\n",
       "    <tr>\n",
       "      <th>4591</th>\n",
       "      <td>nyt://article/c60e5ca3-b3ab-56dd-ae03-e64d09a3...</td>\n",
       "      <td>2022-01-07</td>\n",
       "      <td>why democrats are so bad at defending democracy</td>\n",
       "      <td>voting rights, registration and requirementsab...</td>\n",
       "      <td>They need to get busy at the grassroots.</td>\n",
       "      <td>956</td>\n",
       "      <td>0</td>\n",
       "    </tr>\n",
       "    <tr>\n",
       "      <th>4592</th>\n",
       "      <td>nyt://article/64fe533c-78bf-5e8a-8cc3-718e22f5...</td>\n",
       "      <td>2022-01-07</td>\n",
       "      <td>ignoring trump didn’t work. biden goes after ‘...</td>\n",
       "      <td>storming of the us capitol (jan, 2021)biden, j...</td>\n",
       "      <td>In a speech marking the anniversary of the Cap...</td>\n",
       "      <td>1411</td>\n",
       "      <td>0</td>\n",
       "    </tr>\n",
       "    <tr>\n",
       "      <th>4593</th>\n",
       "      <td>nyt://article/3262ab56-5372-55d5-87a5-f072bf2a...</td>\n",
       "      <td>2022-01-07</td>\n",
       "      <td>former biden advisers urge a pandemic strategy...</td>\n",
       "      <td>coronavirus (2019-ncov)biden, joseph r jrunite...</td>\n",
       "      <td>In a striking critique, six prominent health e...</td>\n",
       "      <td>1425</td>\n",
       "      <td>0</td>\n",
       "    </tr>\n",
       "  </tbody>\n",
       "</table>\n",
       "</div>"
      ],
      "text/plain": [
       "                                                    uri date_published  \\\n",
       "4589  nyt://article/9a39725e-999c-5ca0-bd57-530b3864...     2022-01-07   \n",
       "4590  nyt://article/23b1e58f-74d9-5959-b63b-551d56a6...     2022-01-07   \n",
       "4591  nyt://article/c60e5ca3-b3ab-56dd-ae03-e64d09a3...     2022-01-07   \n",
       "4592  nyt://article/64fe533c-78bf-5e8a-8cc3-718e22f5...     2022-01-07   \n",
       "4593  nyt://article/3262ab56-5372-55d5-87a5-f072bf2a...     2022-01-07   \n",
       "\n",
       "                                               headline  \\\n",
       "4589           jamie raskin’s year of tragedy and trump   \n",
       "4590                   the economic case for goldilocks   \n",
       "4591    why democrats are so bad at defending democracy   \n",
       "4592  ignoring trump didn’t work. biden goes after ‘...   \n",
       "4593  former biden advisers urge a pandemic strategy...   \n",
       "\n",
       "                                               keywords  \\\n",
       "4589  united states politics and governmentstorming ...   \n",
       "4590  inflation (economics)labor and jobscoronavirus...   \n",
       "4591  voting rights, registration and requirementsab...   \n",
       "4592  storming of the us capitol (jan, 2021)biden, j...   \n",
       "4593  coronavirus (2019-ncov)biden, joseph r jrunite...   \n",
       "\n",
       "                                                snippet  word_count  popular  \n",
       "4589  We spoke to the Maryland congressman about los...        1516        0  \n",
       "4590  In 2021, policymakers actually got it mostly r...         887        0  \n",
       "4591           They need to get busy at the grassroots.         956        0  \n",
       "4592  In a speech marking the anniversary of the Cap...        1411        0  \n",
       "4593  In a striking critique, six prominent health e...        1425        0  "
      ]
     },
     "execution_count": 20,
     "metadata": {},
     "output_type": "execute_result"
    }
   ],
   "source": [
    "# view the dataframe\n",
    "df.head()"
   ]
  },
  {
   "cell_type": "markdown",
   "metadata": {},
   "source": [
    "## Exploratory Data Analysis  \n",
    "Checking `df.info()` shows that both DataFrame individually have equal values with no Null values to take care of. It also shows that the datatypes are what we expect and want. "
   ]
  },
  {
   "cell_type": "code",
   "execution_count": 21,
   "metadata": {},
   "outputs": [
    {
     "name": "stdout",
     "output_type": "stream",
     "text": [
      "<class 'pandas.core.frame.DataFrame'>\n",
      "Int64Index: 1049 entries, 4589 to 5723\n",
      "Data columns (total 7 columns):\n",
      " #   Column          Non-Null Count  Dtype \n",
      "---  ------          --------------  ----- \n",
      " 0   uri             1049 non-null   object\n",
      " 1   date_published  1049 non-null   object\n",
      " 2   headline        1049 non-null   object\n",
      " 3   keywords        1049 non-null   object\n",
      " 4   snippet         1049 non-null   object\n",
      " 5   word_count      1049 non-null   int64 \n",
      " 6   popular         1049 non-null   int64 \n",
      "dtypes: int64(2), object(5)\n",
      "memory usage: 65.6+ KB\n",
      "None\n",
      "\n",
      "<class 'pandas.core.frame.DataFrame'>\n",
      "Index: 181 entries, 2022-01-18 to 2022-01-10\n",
      "Data columns (total 2 columns):\n",
      " #   Column          Non-Null Count  Dtype \n",
      "---  ------          --------------  ----- \n",
      " 0   uri             181 non-null    object\n",
      " 1   date_published  181 non-null    object\n",
      "dtypes: object(2)\n",
      "memory usage: 4.2+ KB\n",
      "None\n"
     ]
    }
   ],
   "source": [
    "print(df.info())\n",
    "print()\n",
    "print(df_most_shared.info())"
   ]
  },
  {
   "cell_type": "markdown",
   "metadata": {},
   "source": [
    "##### Archive articles\n",
    "Looking at the distribution of article popularity reveals massive class imbalance. Only 2% of the articles in the archive appear on a top 20 list. This is particularly because of the articles included in the archive that were published in December and January before daily top 20 lists were started to be collected. Due to the API's constraints, only the daily top 20 list from the day the request was made are available. "
   ]
  },
  {
   "cell_type": "code",
   "execution_count": 22,
   "metadata": {},
   "outputs": [
    {
     "data": {
      "text/html": [
       "<div>\n",
       "<style scoped>\n",
       "    .dataframe tbody tr th:only-of-type {\n",
       "        vertical-align: middle;\n",
       "    }\n",
       "\n",
       "    .dataframe tbody tr th {\n",
       "        vertical-align: top;\n",
       "    }\n",
       "\n",
       "    .dataframe thead th {\n",
       "        text-align: right;\n",
       "    }\n",
       "</style>\n",
       "<table border=\"1\" class=\"dataframe\">\n",
       "  <thead>\n",
       "    <tr style=\"text-align: right;\">\n",
       "      <th></th>\n",
       "      <th>sum</th>\n",
       "      <th>percentage</th>\n",
       "    </tr>\n",
       "    <tr>\n",
       "      <th>popular</th>\n",
       "      <th></th>\n",
       "      <th></th>\n",
       "    </tr>\n",
       "  </thead>\n",
       "  <tbody>\n",
       "    <tr>\n",
       "      <th>0</th>\n",
       "      <td>940</td>\n",
       "      <td>0.9</td>\n",
       "    </tr>\n",
       "    <tr>\n",
       "      <th>1</th>\n",
       "      <td>109</td>\n",
       "      <td>0.1</td>\n",
       "    </tr>\n",
       "  </tbody>\n",
       "</table>\n",
       "</div>"
      ],
      "text/plain": [
       "         sum  percentage\n",
       "popular                 \n",
       "0        940         0.9\n",
       "1        109         0.1"
      ]
     },
     "execution_count": 22,
     "metadata": {},
     "output_type": "execute_result"
    },
    {
     "data": {
      "image/png": "[encoded data removed]",
      "text/plain": [
       "<Figure size 432x288 with 1 Axes>"
      ]
     },
     "metadata": {
      "needs_background": "light"
     },
     "output_type": "display_data"
    }
   ],
   "source": [
    "# function makes a dataframe to display target variable value's sum and percentage\n",
    "# also, it plots the target variable's value distribution\n",
    "target_distribution = summerize_value_counts(df.popular)\n",
    "target_distribution"
   ]
  },
  {
   "cell_type": "markdown",
   "metadata": {},
   "source": [
    "##### Top 20 most shared articles\n",
    "Looking at each day's top 20 list and the distribution of dates when the articles were published originally shows that the majority of the articles on each list were published in the two days before the day of the list's creation, with a smaller proportion having been published three days before or on the day of creation.\n",
    "\n",
    "functions used to load, clean and plot the date are found in [functions.py](./functions.py)."
   ]
  },
  {
   "cell_type": "code",
   "execution_count": 23,
   "metadata": {},
   "outputs": [],
   "source": [
    "# load csv's into a list of dataframes \n",
    "df_list_load = load_most_shared_eda('data/most_popular_train')\n",
    "\n",
    "# change date columns to datetime dtype and sort list by date of top 20 list in ascending order \n",
    "df_list = clean_most_shared_eda(df_list_load)"
   ]
  },
  {
   "cell_type": "code",
   "execution_count": 24,
   "metadata": {},
   "outputs": [
    {
     "data": {
      "image/png": "[encoded data removed]",
      "text/plain": [
       "<Figure size 1440x1440 with 9 Axes>"
      ]
     },
     "metadata": {
      "needs_background": "light"
     },
     "output_type": "display_data"
    }
   ],
   "source": [
    "# generate correct amount of subplots based on length of list then plot each dataframe in list\n",
    "plot_most_shared(df_list)"
   ]
  },
  {
   "cell_type": "code",
   "execution_count": 25,
   "metadata": {},
   "outputs": [
    {
     "data": {
      "text/html": [
       "<div>\n",
       "<style scoped>\n",
       "    .dataframe tbody tr th:only-of-type {\n",
       "        vertical-align: middle;\n",
       "    }\n",
       "\n",
       "    .dataframe tbody tr th {\n",
       "        vertical-align: top;\n",
       "    }\n",
       "\n",
       "    .dataframe thead th {\n",
       "        text-align: right;\n",
       "    }\n",
       "</style>\n",
       "<table border=\"1\" class=\"dataframe\">\n",
       "  <thead>\n",
       "    <tr style=\"text-align: right;\">\n",
       "      <th></th>\n",
       "      <th>percentage</th>\n",
       "    </tr>\n",
       "  </thead>\n",
       "  <tbody>\n",
       "    <tr>\n",
       "      <th>0 days</th>\n",
       "      <td>3%</td>\n",
       "    </tr>\n",
       "    <tr>\n",
       "      <th>1 days</th>\n",
       "      <td>44%</td>\n",
       "    </tr>\n",
       "    <tr>\n",
       "      <th>2 days</th>\n",
       "      <td>45%</td>\n",
       "    </tr>\n",
       "    <tr>\n",
       "      <th>3 days</th>\n",
       "      <td>6%</td>\n",
       "    </tr>\n",
       "    <tr>\n",
       "      <th>4 days</th>\n",
       "      <td>2%</td>\n",
       "    </tr>\n",
       "    <tr>\n",
       "      <th>5 days</th>\n",
       "      <td>1%</td>\n",
       "    </tr>\n",
       "  </tbody>\n",
       "</table>\n",
       "</div>"
      ],
      "text/plain": [
       "       percentage\n",
       "0 days         3%\n",
       "1 days        44%\n",
       "2 days        45%\n",
       "3 days         6%\n",
       "4 days         2%\n",
       "5 days         1%"
      ]
     },
     "execution_count": 25,
     "metadata": {},
     "output_type": "execute_result"
    },
    {
     "data": {
      "image/png": "[encoded data removed]",
      "text/plain": [
       "<Figure size 432x288 with 1 Axes>"
      ]
     },
     "metadata": {
      "needs_background": "light"
     },
     "output_type": "display_data"
    }
   ],
   "source": [
    "time_delta, top_20_df = top_20_delta_perc(df_list)\n",
    "top_20_df"
   ]
  },
  {
   "cell_type": "markdown",
   "metadata": {},
   "source": [
    "## Data Preperation"
   ]
  },
  {
   "cell_type": "markdown",
   "metadata": {},
   "source": [
    "##### Train-Test Split\n",
    "Features are separated from the target and a test size of 40% is selected. This is because the final model is trained with the testing data results of the models before it. To ensure it has enough training data, a relatively high test size proportion was chosen. \n",
    "\n",
    "Also, the random state is established as 0, which will be the state for all models going forward. "
   ]
  },
  {
   "cell_type": "code",
   "execution_count": 26,
   "metadata": {},
   "outputs": [],
   "source": [
    "# features = X, target = y\n",
    "X = df.drop('popular', axis=1)\n",
    "y = df.popular"
   ]
  },
  {
   "cell_type": "code",
   "execution_count": 27,
   "metadata": {},
   "outputs": [],
   "source": [
    "# random state of 0 is established for the data\n",
    "X_train, X_test, y_train, y_test = train_test_split(X, y, random_state=0, test_size=0.40)"
   ]
  },
  {
   "cell_type": "markdown",
   "metadata": {},
   "source": [
    "## Dummy classifier\n",
    "A baseline model is established with the data."
   ]
  },
  {
   "cell_type": "code",
   "execution_count": 28,
   "metadata": {},
   "outputs": [],
   "source": [
    "# initialize baseline model\n",
    "dummy = DummyClassifier(random_state=0, strategy='stratified') \n",
    "\n",
    "# fit with training data and predict with test set\n",
    "dummy.fit(X_train, y_train)\n",
    "y_pred = dummy.predict(X_test)"
   ]
  },
  {
   "cell_type": "code",
   "execution_count": 29,
   "metadata": {},
   "outputs": [
    {
     "name": "stdout",
     "output_type": "stream",
     "text": [
      "Accuracy Score: 0.8\n"
     ]
    }
   ],
   "source": [
    "# baseline model accuracy \n",
    "print(\"Accuracy Score: {}\".format(accuracy_score(y_test, y_pred)))"
   ]
  },
  {
   "cell_type": "code",
   "execution_count": 30,
   "metadata": {},
   "outputs": [
    {
     "data": {
      "text/plain": [
       "47"
      ]
     },
     "execution_count": 30,
     "metadata": {},
     "output_type": "execute_result"
    }
   ],
   "source": [
    "# count how many articles are labeled popular by predicitng probabilities\n",
    "dummy_prob = dummy.predict_proba(X_test)\n",
    "dummy_predict_popular = [x[1] for x in dummy_prob if x[1] == 1]\n",
    "len(dummy_predict_popular)"
   ]
  },
  {
   "cell_type": "code",
   "execution_count": 31,
   "metadata": {},
   "outputs": [
    {
     "data": {
      "image/png": "[encoded data removed]",
      "text/plain": [
       "<Figure size 432x288 with 2 Axes>"
      ]
     },
     "metadata": {
      "needs_background": "light"
     },
     "output_type": "display_data"
    }
   ],
   "source": [
    "# plot confusion matrix to show error of the model\n",
    "# 0: 'not popular', 1: 'popular'\n",
    "plot_confusion_matrix(dummy, X_test, y_test);"
   ]
  },
  {
   "cell_type": "markdown",
   "metadata": {},
   "source": [
    "The baseline model achieved a 95% accuracy rate, but this is due to the massive class imbalance towards articles that are not featured on the most shared list. The bottom right box in the confusion matrix shows that the baseline model correctly predicted  only 1 of the articles that were on a top 20 list."
   ]
  },
  {
   "cell_type": "markdown",
   "metadata": {},
   "source": [
    "## Data Preprocessing \n",
    "\n",
    "The following section will take care of both converting the textual data into numerical data and resampling the training data to address the class imbalance. This will be done separately for each feature, separating them and transforming the text features before every feature goes into their own model that will convert their values to numeric scores. After this they will eventually be rejoined in the final model for prediction of a top 20 list. \n",
    "\n",
    "The first differentiated preprocessing method for the textual data is how to tokenize each feature, or condense each string of text into a more meaningful version. Each of the features will be differentiated this way, with one similarity being the removal of stopwords. Stopwords are words that provide very little lexical context to a string of text based on their use in sentence construction. These words, such as \"i\", \"me\", \"you\", \"isn't\", and \"wouldn't\", will be removed in both of the different tokenized streams for the training data. At this point, one version of the data, the regular vectorizer, has completed tokenization. Another version will go through the extra step of lemmatization. This process' goal is to convert words in each string to a lexical stem with the help of the word's part of speech. This can combine words whose spelling differences are a reflection of being different inflected forms of the same word, rather than words with completely different meanings. This can help to further identify underlying patterns in the data. \n",
    "\n",
    "\n",
    "The second differentiated preprocessing method for the textual data, vectorizing each of the text features into a numeric matrix, will be done in two different ways for each of the two different tokenization methods, making four different streams for each of the three columns with text. This is in order to find the best preprocessing techniques for the final deployment pipelines. To differentiate vectorization, each feature will have one version go through a TfidfVectorizer and one version through a CountVectorizer. While both vectorizers transform the column of text data into a matrix where each column becomes a unique word that appears in the entire feature's column and each row a different article with numeric values under the words that appear in that article, they differ on how that numeric value is calculated. The CountVectorizer does so by  assigning a binary value of 0 and 1 to each word, where 0 indicates that the word does not appear in the article and a 1 indicates that it does. The TfidfVectorizer, on the other hand, assigns a floating point value to each word. This value is calculated by multiplying two different frequency measures together. The first measure is the words frequency in each feature of the article, or the amount of times it occurs in that article for that feature divided by the total amount of words in that feature for that article. This is then multiplied by the second measure, the Inverse Document Frequency, or the amount of articles there are in total divided by the amount of articles that contain that word for that feature.\n",
    "\n",
    "After these preprocessing steps have occured, the class imbalance of the target variable, 'popular', is handled with SMOTE, Synthetic Minority Over-sampling Technique, resampling. This will resample the training data to include more data from the positive target class, meaning more articles that are labeled as having been featured on a top 20 most shared list will be included in order to better train the models to identify those articles. This will be done separately for each of the four distinct preprocessing methods that each of the three textual features go through. It is also the step where the fourth and final feature from the original dataset, 'word_count', is joined into this section as it is already in a numeric value that does not need any preprocessing."
   ]
  },
  {
   "cell_type": "markdown",
   "metadata": {},
   "source": [
    "### Headline"
   ]
  },
  {
   "cell_type": "markdown",
   "metadata": {},
   "source": [
    "##### TfidfVectorizer"
   ]
  },
  {
   "cell_type": "code",
   "execution_count": 32,
   "metadata": {},
   "outputs": [
    {
     "data": {
      "image/png": "[encoded data removed]",
      "text/plain": [
       "<Figure size 360x360 with 1 Axes>"
      ]
     },
     "metadata": {
      "needs_background": "light"
     },
     "output_type": "display_data"
    },
    {
     "data": {
      "image/png": "[encoded data removed]",
      "text/plain": [
       "<Figure size 360x360 with 1 Axes>"
      ]
     },
     "metadata": {
      "needs_background": "light"
     },
     "output_type": "display_data"
    }
   ],
   "source": [
    "# regular vectorizer\n",
    "headline_tf, X_train_headline_tf, X_test_headline_tf = vectorize_feature(TfidfVectorizer, \n",
    "                                                                         X_train.headline, X_test.headline)\n",
    "# smote vectorized training data\n",
    "X_train_headline_tf_sm, y_train_headline_tf_sm = smote_data(X_train_headline_tf, y_train,\n",
    "                                                            sampling_strategy='auto',random_state=0)\n",
    "\n",
    "# used later\n",
    "# vectorizor: headline_tf\n",
    "# data : X_train_headline_tf_sm, y_train_headline_tf_sm, X_test_headline_tf\n",
    "\n",
    "\n",
    "\n",
    "# tokenize and lemmatize before vectorization\n",
    "headline_tok_tf, X_train_headline_tok_tf, X_test_headline_tok_tf = tokenize_vector(TfidfVectorizer, \n",
    "                                                                                   X_train.headline, \n",
    "                                                                                   X_test.headline)\n",
    "# smote preprocessed vectorized training data\n",
    "X_train_headline_tok_tf_sm, y_train_headline_tok_tf_sm = smote_data(X_train_headline_tok_tf, y_train,\n",
    "                                                                    sampling_strategy='auto',random_state=0)\n",
    "\n",
    "# used later\n",
    "# vectorizor: headline_tok_tf\n",
    "# data : X_train_headline_tok_tf_sm, y_train_headline_tok_tf_sm, X_test_headline_tok_tf\n",
    "\n",
    "plot_top_words(headline_tf, X_train_headline_tf, 'Regular Vectorizer');\n",
    "plot_top_words(headline_tok_tf, X_train_headline_tok_tf, 'Preprocessed Vectorizer');"
   ]
  },
  {
   "cell_type": "markdown",
   "metadata": {},
   "source": [
    "##### CountVectorizer"
   ]
  },
  {
   "cell_type": "code",
   "execution_count": 33,
   "metadata": {},
   "outputs": [
    {
     "data": {
      "image/png": "[encoded data removed]",
      "text/plain": [
       "<Figure size 360x360 with 1 Axes>"
      ]
     },
     "metadata": {
      "needs_background": "light"
     },
     "output_type": "display_data"
    },
    {
     "data": {
      "image/png": "[encoded data removed]",
      "text/plain": [
       "<Figure size 360x360 with 1 Axes>"
      ]
     },
     "metadata": {
      "needs_background": "light"
     },
     "output_type": "display_data"
    }
   ],
   "source": [
    "# regular vectorizer\n",
    "headline_cv, X_train_headline_cv, X_test_headline_cv = vectorize_feature(CountVectorizer, \n",
    "                                                                         X_train.headline, X_test.headline)\n",
    "# smote vectorized training data\n",
    "X_train_headline_cv_sm, y_train_headline_cv_sm = smote_data(X_train_headline_cv, y_train, \n",
    "                                                            sampling_strategy='auto',random_state=0)\n",
    "\n",
    "# used later\n",
    "# vectorizor: headline_cv\n",
    "# data: X_train_headline_cv_sm, y_train_headline_cv_sm, X_test_headline_cv\n",
    "\n",
    "\n",
    "\n",
    "# tokenize and lemmatize before vectorization\n",
    "headline_tok_cv, X_train_headline_tok_cv, X_test_headline_tok_cv = tokenize_vector(CountVectorizer, \n",
    "                                                                                   X_train.headline, \n",
    "                                                                                   X_test.headline)\n",
    "# smote preprocessed vectorized training data\n",
    "X_train_headline_tok_cv_sm, y_train_headline_tok_cv_sm = smote_data(X_train_headline_tok_cv, y_train,\n",
    "                                                                    sampling_strategy='auto',random_state=0)\n",
    "\n",
    "# used later\n",
    "# vectorizor: headline_tok_cv\n",
    "# data: X_train_headline_tok_cv_sm, y_train_headline_tok_cv_sm, X_test_headline_tok_cv\n",
    "\n",
    "plot_top_words(headline_cv, X_train_headline_cv, 'Regular Vectorizer');\n",
    "plot_top_words(headline_tok_cv, X_train_headline_tok_cv, 'Preprocessed Vectorizer');"
   ]
  },
  {
   "cell_type": "markdown",
   "metadata": {},
   "source": [
    "### Keywords"
   ]
  },
  {
   "cell_type": "markdown",
   "metadata": {},
   "source": [
    "##### TfidfVectorizer"
   ]
  },
  {
   "cell_type": "code",
   "execution_count": 34,
   "metadata": {},
   "outputs": [
    {
     "data": {
      "image/png": "[encoded data removed]",
      "text/plain": [
       "<Figure size 360x360 with 1 Axes>"
      ]
     },
     "metadata": {
      "needs_background": "light"
     },
     "output_type": "display_data"
    },
    {
     "data": {
      "image/png": "[encoded data removed]",
      "text/plain": [
       "<Figure size 360x360 with 1 Axes>"
      ]
     },
     "metadata": {
      "needs_background": "light"
     },
     "output_type": "display_data"
    }
   ],
   "source": [
    "# regular vectorizer\n",
    "keywords_tf, X_train_keywords_tf, X_test_keywords_tf = vectorize_feature(TfidfVectorizer, \n",
    "                                                                         X_train.keywords, X_test.keywords)\n",
    "# smote vectorized training data\n",
    "X_train_keywords_tf_sm, y_train_keywords_tf_sm = smote_data(X_train_keywords_tf, y_train, \n",
    "                                                            sampling_strategy='auto',random_state=0)\n",
    "\n",
    "# used later\n",
    "# vectorizor: keywords_tf\n",
    "# data: X_train_keywords_tf_sm, y_train_keywords_tf_sm, X_test_keywords_tf\n",
    "\n",
    "\n",
    "\n",
    "# tokenize and lemmatize before vectorization\n",
    "keywords_tok_tf, X_train_keywords_tok_tf, X_test_keywords_tok_tf = tokenize_vector(TfidfVectorizer, \n",
    "                                                                                   X_train.keywords, \n",
    "                                                                                   X_test.keywords)\n",
    "# smote preprocessed vectorized training data\n",
    "X_train_keywords_tok_tf_sm, y_train_keywords_tok_tf_sm = smote_data(X_train_keywords_tok_tf, y_train, \n",
    "                                                                    sampling_strategy='auto',random_state=0)\n",
    "\n",
    "# used later\n",
    "# vectorizor: keywords_tok_tf\n",
    "# data: X_train_keywords_tok_tf_sm, y_train_keywords_tok_tf_sm, X_test_keywords_tok_tf\n",
    "\n",
    "plot_top_words(keywords_tf, X_train_keywords_tf, 'Regular Vectorizer');\n",
    "plot_top_words(keywords_tok_tf, X_train_keywords_tok_tf, 'Preprocessed Vectorizer');"
   ]
  },
  {
   "cell_type": "markdown",
   "metadata": {},
   "source": [
    "##### CountVectorizer"
   ]
  },
  {
   "cell_type": "code",
   "execution_count": 35,
   "metadata": {},
   "outputs": [
    {
     "data": {
      "image/png": "[encoded data removed]",
      "text/plain": [
       "<Figure size 360x360 with 1 Axes>"
      ]
     },
     "metadata": {
      "needs_background": "light"
     },
     "output_type": "display_data"
    },
    {
     "data": {
      "image/png": "[encoded data removed]",
      "text/plain": [
       "<Figure size 360x360 with 1 Axes>"
      ]
     },
     "metadata": {
      "needs_background": "light"
     },
     "output_type": "display_data"
    }
   ],
   "source": [
    "# regular vectorizer\n",
    "keywords_cv, X_train_keywords_cv, X_test_keywords_cv = vectorize_feature(CountVectorizer, \n",
    "                                                                         X_train.keywords, X_test.keywords)\n",
    "# smote vectorized training data\n",
    "X_train_keywords_cv_sm, y_train_keywords_cv_sm = smote_data(X_train_keywords_cv, y_train, \n",
    "                                                            sampling_strategy='auto',random_state=0)\n",
    "\n",
    "# used later\n",
    "# vectorizor: keywords_cv\n",
    "# data: X_train_keywords_cv_sm, y_train_keywords_cv_sm, X_test_keywords_cv\n",
    "\n",
    "\n",
    "\n",
    "# tokenize and lemmatize before vectorization\n",
    "keywords_tok_cv, X_train_keywords_tok_cv, X_test_keywords_tok_cv = tokenize_vector(CountVectorizer, \n",
    "                                                                                   X_train.keywords, \n",
    "                                                                                   X_test.keywords)\n",
    "# smote preprocessed vectorized training data\n",
    "X_train_keywords_tok_cv_sm, y_train_keywords_tok_cv_sm = smote_data(X_train_keywords_tok_cv, y_train, \n",
    "                                                                    sampling_strategy='auto',random_state=0)\n",
    "\n",
    "# used later\n",
    "# vectorizor: keywords_tok_cv\n",
    "# data: X_train_keywords_tok_cv_sm, y_train_keywords_tok_cv_sm, X_test_keywords_tok_cv\n",
    "\n",
    "plot_top_words(keywords_cv, X_train_keywords_cv, 'Regular Vectorizer');\n",
    "plot_top_words(keywords_tok_cv, X_train_keywords_tok_cv, 'Preprocessed Vectorizer');"
   ]
  },
  {
   "cell_type": "markdown",
   "metadata": {},
   "source": [
    "### Snippet"
   ]
  },
  {
   "cell_type": "markdown",
   "metadata": {},
   "source": [
    "##### TfidfVectorizer"
   ]
  },
  {
   "cell_type": "code",
   "execution_count": 36,
   "metadata": {},
   "outputs": [
    {
     "data": {
      "image/png": "[encoded data removed]",
      "text/plain": [
       "<Figure size 360x360 with 1 Axes>"
      ]
     },
     "metadata": {
      "needs_background": "light"
     },
     "output_type": "display_data"
    },
    {
     "data": {
      "image/png": "[encoded data removed]",
      "text/plain": [
       "<Figure size 360x360 with 1 Axes>"
      ]
     },
     "metadata": {
      "needs_background": "light"
     },
     "output_type": "display_data"
    }
   ],
   "source": [
    "# regular vectorizer\n",
    "snippet_tf, X_train_snippet_tf, X_test_snippet_tf = vectorize_feature(TfidfVectorizer, \n",
    "                                                                         X_train.snippet, X_test.snippet)\n",
    "# smote vectorized training data\n",
    "X_train_snippet_tf_sm, y_train_snippet_tf_sm = smote_data(X_train_snippet_tf, y_train, \n",
    "                                                          sampling_strategy='auto',random_state=0)\n",
    "\n",
    "# used later\n",
    "# vectorizor: snippet_tf\n",
    "# data: X_train_snippet_tf_sm, y_train_snippet_tf_sm, X_test_snippet_tf\n",
    "\n",
    "\n",
    "\n",
    "# tokenize and lemmatize before vectorization\n",
    "snippet_tok_tf, X_train_snippet_tok_tf, X_test_snippet_tok_tf = tokenize_vector(TfidfVectorizer, \n",
    "                                                                                X_train.snippet, \n",
    "                                                                                X_test.snippet)\n",
    "# smote preprocessed vectorized training data\n",
    "X_train_snippet_tok_tf_sm, y_train_snippet_tok_tf_sm = smote_data(X_train_snippet_tok_tf, y_train, \n",
    "                                                                  sampling_strategy='auto',random_state=0)\n",
    "\n",
    "# used later\n",
    "# vectorizor: snippet_tok_tf\n",
    "# data: X_train_snippet_tok_tf_sm, y_train_snippet_tok_tf_sm, X_test_snippet_tok_tf\n",
    "\n",
    "plot_top_words(snippet_tf, X_train_snippet_tf, 'Regular Vectorizer');\n",
    "plot_top_words(snippet_tok_tf, X_train_snippet_tok_tf, 'Preprocessed Vectorizer');"
   ]
  },
  {
   "cell_type": "markdown",
   "metadata": {},
   "source": [
    "##### CountVectorizer"
   ]
  },
  {
   "cell_type": "code",
   "execution_count": 37,
   "metadata": {},
   "outputs": [
    {
     "data": {
      "image/png": "[encoded data removed]",
      "text/plain": [
       "<Figure size 360x360 with 1 Axes>"
      ]
     },
     "metadata": {
      "needs_background": "light"
     },
     "output_type": "display_data"
    },
    {
     "data": {
      "image/png": "[encoded data removed]",
      "text/plain": [
       "<Figure size 360x360 with 1 Axes>"
      ]
     },
     "metadata": {
      "needs_background": "light"
     },
     "output_type": "display_data"
    }
   ],
   "source": [
    "# regular vectorizer\n",
    "snippet_cv, X_train_snippet_cv, X_test_snippet_cv = vectorize_feature(CountVectorizer,\n",
    "                                                                      X_train.snippet, X_test.snippet)\n",
    "# smote vectorized training data\n",
    "X_train_snippet_cv_sm, y_train_snippet_cv_sm = smote_data(X_train_snippet_cv, y_train, \n",
    "                                                          sampling_strategy='auto', random_state=0)\n",
    "# used later\n",
    "# vectorizor: snippet_cv\n",
    "# data: X_train_snippet_cv_sm, y_train_snippet_cv_sm, X_test_snippet_cv\n",
    "\n",
    "\n",
    "\n",
    "# tokenize and lemmatize before vectorization\n",
    "snippet_tok_cv, X_train_snippet_tok_cv, X_test_snippet_tok_cv = tokenize_vector(CountVectorizer, \n",
    "                                                                                X_train.snippet, \n",
    "                                                                                X_test.snippet)\n",
    "# smote preprocessed vectorized training data\n",
    "X_train_snippet_tok_cv_sm, y_train_snippet_tok_cv_sm = smote_data(X_train_snippet_tok_cv, y_train, \n",
    "                                                                  sampling_strategy='auto', random_state=0)\n",
    "# used later\n",
    "# vectorizor: snippet_tok_cv\n",
    "# data: X_train_snippet_tok_cv_sm, y_train_snippet_tok_cv_sm, X_test_snippet_tok_cv\n",
    "\n",
    "# plot \n",
    "plot_top_words(snippet_cv, X_train_snippet_cv, 'Regular Vectorizer');\n",
    "plot_top_words(snippet_tok_cv, X_train_snippet_tok_cv, 'Preprocessed Vectorizer');"
   ]
  },
  {
   "cell_type": "markdown",
   "metadata": {},
   "source": [
    "### Word Count"
   ]
  },
  {
   "cell_type": "code",
   "execution_count": 38,
   "metadata": {},
   "outputs": [],
   "source": [
    "# smote the word_count data\n",
    "X_train_word_count_sm, y_train_word_count_sm = smote_data(X_train.word_count.values.reshape(-1, 1), \n",
    "                                                          y_train, sampling_strategy='auto',\n",
    "                                                          random_state=0)"
   ]
  },
  {
   "cell_type": "markdown",
   "metadata": {},
   "source": [
    "## Model Training - Text"
   ]
  },
  {
   "cell_type": "code",
   "execution_count": 39,
   "metadata": {},
   "outputs": [],
   "source": [
    "# function to run a random forrest \n",
    "# returns the model and a list of proabilities \n",
    "def random_forrest_proba(X_train, y_train, X_test, y_test):\n",
    "    \n",
    "    # initiate random forrest and search grid for number of trees in forrest\n",
    "    forrest = RandomForestClassifier(random_state=0)\n",
    "    grid = {'n_estimators': [50,75,100]}\n",
    "    \n",
    "    # create grid search and fit model with training data\n",
    "    gs = GridSearchCV(estimator=forrest, param_grid=grid, cv=5, scoring='accuracy')\n",
    "    gs.fit(X_train, y_train)\n",
    "    \n",
    "    # store predicted probabilities that article is a popular article in a list \n",
    "    class_probability = gs.predict_proba(X_test)\n",
    "    target_probability = [x[1] for x in class_probability]\n",
    "    \n",
    "    # print model accuracy \n",
    "    score = gs.score(X_test, y_test)\n",
    "    print(f'mean accuracy: {score}')\n",
    "    \n",
    "    # plot an ROC curve \n",
    "    fig, ax = plt.subplots()\n",
    "    plt.title('ROC Curve')\n",
    "    plot_roc_curve(gs, X_train, y_train, name='Train', ax=ax)\n",
    "    plot_roc_curve(gs, X_test, y_test, name='Test', ax=ax)\n",
    "    \n",
    "    # plot confusion matrix\n",
    "    plot_confusion_matrix(gs, X_test, y_test)\n",
    "    \n",
    "    return gs, target_probability"
   ]
  },
  {
   "cell_type": "code",
   "execution_count": 40,
   "metadata": {},
   "outputs": [],
   "source": [
    "# function to run a random forrest \n",
    "# returns the model and a list of class labels \n",
    "def random_forrest_class(X_train, y_train, X_test, y_test):\n",
    "    \n",
    "    # initiate random forrest and search grid for number of trees in forrest\n",
    "    forrest = RandomForestClassifier(random_state=0)\n",
    "    grid = {'n_estimators': [50,75,100]}\n",
    "    \n",
    "    # create grid search and fit model with training data\n",
    "    gs = GridSearchCV(estimator=forrest, param_grid=grid, cv=5, scoring='accuracy')\n",
    "    gs.fit(X_train, y_train)\n",
    "    \n",
    "    # store predicted class labels in list \n",
    "    class_prediction = gs.predict(X_test)\n",
    "    \n",
    "    # print model accuracy\n",
    "    score = gs.score(X_test, y_test)\n",
    "    print(f'mean accuracy: {score}')\n",
    "    \n",
    "    # plot an ROC curve\n",
    "    fig, ax = plt.subplots()\n",
    "    plt.title('ROC Curve')\n",
    "    plot_roc_curve(gs, X_train, y_train, name='Train', ax=ax)\n",
    "    plot_roc_curve(gs, X_test, y_test, name='Test', ax=ax)\n",
    "    \n",
    "    # plot confusion matrix\n",
    "    plot_confusion_matrix(gs, X_test, y_test)\n",
    "    \n",
    "    return gs, class_prediction"
   ]
  },
  {
   "cell_type": "markdown",
   "metadata": {},
   "source": [
    "### Headline"
   ]
  },
  {
   "cell_type": "markdown",
   "metadata": {},
   "source": [
    "##### Predict Probability after TfidfVectorizer"
   ]
  },
  {
   "cell_type": "code",
   "execution_count": 41,
   "metadata": {},
   "outputs": [
    {
     "name": "stdout",
     "output_type": "stream",
     "text": [
      "mean accuracy: 0.9071428571428571\n",
      "number of probabilities: 420\n",
      "\n"
     ]
    },
    {
     "data": {
      "image/png": "[encoded data removed]",
      "text/plain": [
       "<Figure size 432x288 with 1 Axes>"
      ]
     },
     "metadata": {
      "needs_background": "light"
     },
     "output_type": "display_data"
    },
    {
     "data": {
      "image/png": "[encoded data removed]",
      "text/plain": [
       "<Figure size 432x288 with 2 Axes>"
      ]
     },
     "metadata": {
      "needs_background": "light"
     },
     "output_type": "display_data"
    }
   ],
   "source": [
    "# run random forrest\n",
    "headline_proba_rf, headline_proba = random_forrest_proba(X_train_headline_tf_sm, y_train_headline_tf_sm, \n",
    "                                                         X_test_headline_tf, y_test)\n",
    "# check output length for rejoining of data\n",
    "print(f'number of probabilities: {len(headline_proba)}')\n",
    "print()"
   ]
  },
  {
   "cell_type": "markdown",
   "metadata": {},
   "source": [
    "##### Predict Probability after Preprocessed TfidfVectorizer"
   ]
  },
  {
   "cell_type": "code",
   "execution_count": 42,
   "metadata": {},
   "outputs": [
    {
     "name": "stdout",
     "output_type": "stream",
     "text": [
      "mean accuracy: 0.9071428571428571\n",
      "number of probabilities: 420\n",
      "\n"
     ]
    },
    {
     "data": {
      "image/png": "[encoded data removed]",
      "text/plain": [
       "<Figure size 432x288 with 1 Axes>"
      ]
     },
     "metadata": {
      "needs_background": "light"
     },
     "output_type": "display_data"
    },
    {
     "data": {
      "image/png": "[encoded data removed]",
      "text/plain": [
       "<Figure size 432x288 with 2 Axes>"
      ]
     },
     "metadata": {
      "needs_background": "light"
     },
     "output_type": "display_data"
    }
   ],
   "source": [
    "# run random forrest\n",
    "headline_proba_rf_tok, headline_proba_tok = random_forrest_proba(X_train_headline_tok_tf_sm, \n",
    "                                                                 y_train_headline_tok_tf_sm,\n",
    "                                                                 X_test_headline_tok_tf, y_test)\n",
    "# check output length for rejoining of data\n",
    "print(f'number of probabilities: {len(headline_proba_tok)}')\n",
    "print()"
   ]
  },
  {
   "cell_type": "markdown",
   "metadata": {},
   "source": [
    "##### Predict Class after CountVectorizer"
   ]
  },
  {
   "cell_type": "code",
   "execution_count": 43,
   "metadata": {},
   "outputs": [
    {
     "name": "stdout",
     "output_type": "stream",
     "text": [
      "mean accuracy: 0.42857142857142855\n",
      "number of class predictions: 420\n",
      "\n"
     ]
    },
    {
     "data": {
      "image/png": "[encoded data removed]",
      "text/plain": [
       "<Figure size 432x288 with 1 Axes>"
      ]
     },
     "metadata": {
      "needs_background": "light"
     },
     "output_type": "display_data"
    },
    {
     "data": {
      "image/png": "[encoded data removed]",
      "text/plain": [
       "<Figure size 432x288 with 2 Axes>"
      ]
     },
     "metadata": {
      "needs_background": "light"
     },
     "output_type": "display_data"
    }
   ],
   "source": [
    "# run random forrest\n",
    "headline_class_rf, headline_class = random_forrest_class(X_train_headline_cv_sm, y_train_headline_cv_sm, \n",
    "                                                         X_test_headline_cv, y_test)\n",
    "# check output length for rejoining of data\n",
    "print(f'number of class predictions: {len(headline_class)}')\n",
    "print()"
   ]
  },
  {
   "cell_type": "markdown",
   "metadata": {},
   "source": [
    "##### Predict Class after Preprocessed CountVectorizer"
   ]
  },
  {
   "cell_type": "code",
   "execution_count": 44,
   "metadata": {},
   "outputs": [
    {
     "name": "stdout",
     "output_type": "stream",
     "text": [
      "mean accuracy: 0.4023809523809524\n",
      "number of class predictions: 420\n",
      "\n"
     ]
    },
    {
     "data": {
      "image/png": "[encoded data removed]",
      "text/plain": [
       "<Figure size 432x288 with 1 Axes>"
      ]
     },
     "metadata": {
      "needs_background": "light"
     },
     "output_type": "display_data"
    },
    {
     "data": {
      "image/png": "[encoded data removed]",
      "text/plain": [
       "<Figure size 432x288 with 2 Axes>"
      ]
     },
     "metadata": {
      "needs_background": "light"
     },
     "output_type": "display_data"
    }
   ],
   "source": [
    "# run random forrest\n",
    "headline_class_rf_tok, headline_class_tok = random_forrest_class(X_train_headline_tok_cv_sm, \n",
    "                                                                 y_train_headline_tok_cv_sm,\n",
    "                                                                 X_test_headline_tok_cv, y_test)\n",
    "# check output length for rejoining of data\n",
    "print(f'number of class predictions: {len(headline_class_tok)}')\n",
    "print()"
   ]
  },
  {
   "cell_type": "markdown",
   "metadata": {},
   "source": [
    "### Keywords"
   ]
  },
  {
   "cell_type": "markdown",
   "metadata": {},
   "source": [
    "##### Predict Probability after TfidfVectorizer"
   ]
  },
  {
   "cell_type": "code",
   "execution_count": 45,
   "metadata": {},
   "outputs": [
    {
     "name": "stdout",
     "output_type": "stream",
     "text": [
      "mean accuracy: 0.9119047619047619\n",
      "number of probabilities: 420\n",
      "\n"
     ]
    },
    {
     "data": {
      "image/png": "[encoded data removed]",
      "text/plain": [
       "<Figure size 432x288 with 1 Axes>"
      ]
     },
     "metadata": {
      "needs_background": "light"
     },
     "output_type": "display_data"
    },
    {
     "data": {
      "image/png": "[encoded data removed]",
      "text/plain": [
       "<Figure size 432x288 with 2 Axes>"
      ]
     },
     "metadata": {
      "needs_background": "light"
     },
     "output_type": "display_data"
    }
   ],
   "source": [
    "# run random forrest\n",
    "keywords_proba_rf, keywords_proba = random_forrest_proba(X_train_keywords_tf_sm, y_train_keywords_tf_sm, \n",
    "                                                         X_test_keywords_tf, y_test)\n",
    "# check output length for rejoining of data\n",
    "print(f'number of probabilities: {len(keywords_proba)}')\n",
    "print()"
   ]
  },
  {
   "cell_type": "markdown",
   "metadata": {},
   "source": [
    "##### Predict Probability after Preprocessed TfidfVectorizer"
   ]
  },
  {
   "cell_type": "code",
   "execution_count": 46,
   "metadata": {},
   "outputs": [
    {
     "name": "stdout",
     "output_type": "stream",
     "text": [
      "mean accuracy: 0.9071428571428571\n",
      "number of probabilities: 420\n",
      "\n"
     ]
    },
    {
     "data": {
      "image/png": "[encoded data removed]",
      "text/plain": [
       "<Figure size 432x288 with 1 Axes>"
      ]
     },
     "metadata": {
      "needs_background": "light"
     },
     "output_type": "display_data"
    },
    {
     "data": {
      "image/png": "[encoded data removed]",
      "text/plain": [
       "<Figure size 432x288 with 2 Axes>"
      ]
     },
     "metadata": {
      "needs_background": "light"
     },
     "output_type": "display_data"
    }
   ],
   "source": [
    "# run random forrest\n",
    "keywords_proba_rf_tok, keywords_proba_tok = random_forrest_proba(X_train_keywords_tok_tf_sm, \n",
    "                                                                 y_train_keywords_tok_tf_sm, \n",
    "                                                                 X_test_keywords_tok_tf, y_test)\n",
    "# check output length for rejoining of data\n",
    "print(f'number of probabilities: {len(keywords_proba_tok)}')\n",
    "print()"
   ]
  },
  {
   "cell_type": "markdown",
   "metadata": {},
   "source": [
    "##### Predict Class after CountVectorizer"
   ]
  },
  {
   "cell_type": "code",
   "execution_count": 47,
   "metadata": {},
   "outputs": [
    {
     "name": "stdout",
     "output_type": "stream",
     "text": [
      "mean accuracy: 0.6190476190476191\n",
      "number of class predictions: 420\n",
      "\n"
     ]
    },
    {
     "data": {
      "image/png": "[encoded data removed]",
      "text/plain": [
       "<Figure size 432x288 with 1 Axes>"
      ]
     },
     "metadata": {
      "needs_background": "light"
     },
     "output_type": "display_data"
    },
    {
     "data": {
      "image/png": "[encoded data removed]",
      "text/plain": [
       "<Figure size 432x288 with 2 Axes>"
      ]
     },
     "metadata": {
      "needs_background": "light"
     },
     "output_type": "display_data"
    }
   ],
   "source": [
    "# run random forrest\n",
    "keywords_class_rf, keywords_class = random_forrest_class(X_train_keywords_cv_sm, y_train_keywords_cv_sm, \n",
    "                                                         X_test_keywords_cv, y_test)\n",
    "# check output length for rejoining of data\n",
    "print(f'number of class predictions: {len(keywords_class)}')\n",
    "print()"
   ]
  },
  {
   "cell_type": "markdown",
   "metadata": {},
   "source": [
    "##### Predict Class after Preprocessed CountVectorizer"
   ]
  },
  {
   "cell_type": "code",
   "execution_count": 48,
   "metadata": {},
   "outputs": [
    {
     "name": "stdout",
     "output_type": "stream",
     "text": [
      "mean accuracy: 0.5476190476190477\n",
      "number of class predictions: 420\n",
      "\n"
     ]
    },
    {
     "data": {
      "image/png": "[encoded data removed]",
      "text/plain": [
       "<Figure size 432x288 with 1 Axes>"
      ]
     },
     "metadata": {
      "needs_background": "light"
     },
     "output_type": "display_data"
    },
    {
     "data": {
      "image/png": "[encoded data removed]",
      "text/plain": [
       "<Figure size 432x288 with 2 Axes>"
      ]
     },
     "metadata": {
      "needs_background": "light"
     },
     "output_type": "display_data"
    }
   ],
   "source": [
    "# run random forrest\n",
    "keywords_class_rf_tok, keywords_class_tok = random_forrest_class(X_train_keywords_tok_cv_sm, \n",
    "                                                                 y_train_keywords_tok_cv_sm, \n",
    "                                                                 X_test_keywords_tok_cv, y_test)\n",
    "# check output length for rejoining of data\n",
    "print(f'number of class predictions: {len(keywords_class_tok)}')\n",
    "print()"
   ]
  },
  {
   "cell_type": "markdown",
   "metadata": {},
   "source": [
    "### Snippet "
   ]
  },
  {
   "cell_type": "markdown",
   "metadata": {},
   "source": [
    "##### Predict Probability after TfidfVectorizer"
   ]
  },
  {
   "cell_type": "code",
   "execution_count": 49,
   "metadata": {},
   "outputs": [
    {
     "name": "stdout",
     "output_type": "stream",
     "text": [
      "mean accuracy: 0.9119047619047619\n",
      "number of probabilities: 420\n",
      "\n"
     ]
    },
    {
     "data": {
      "image/png": "[encoded data removed]",
      "text/plain": [
       "<Figure size 432x288 with 1 Axes>"
      ]
     },
     "metadata": {
      "needs_background": "light"
     },
     "output_type": "display_data"
    },
    {
     "data": {
      "image/png": "[encoded data removed]",
      "text/plain": [
       "<Figure size 432x288 with 2 Axes>"
      ]
     },
     "metadata": {
      "needs_background": "light"
     },
     "output_type": "display_data"
    }
   ],
   "source": [
    "# run random forrest\n",
    "snippet_proba_rf, snippet_proba = random_forrest_proba(X_train_snippet_tf_sm, y_train_snippet_tf_sm, \n",
    "                                                       X_test_snippet_tf, y_test)\n",
    "# check output length for rejoining of data\n",
    "print(f'number of probabilities: {len(snippet_proba)}')\n",
    "print()"
   ]
  },
  {
   "cell_type": "markdown",
   "metadata": {},
   "source": [
    "##### Predict Probability after Preprocessed TfidfVectorizer"
   ]
  },
  {
   "cell_type": "code",
   "execution_count": 50,
   "metadata": {},
   "outputs": [
    {
     "name": "stdout",
     "output_type": "stream",
     "text": [
      "mean accuracy: 0.9119047619047619\n",
      "number of probabilities: 420\n",
      "\n"
     ]
    },
    {
     "data": {
      "image/png": "[encoded data removed]",
      "text/plain": [
       "<Figure size 432x288 with 1 Axes>"
      ]
     },
     "metadata": {
      "needs_background": "light"
     },
     "output_type": "display_data"
    },
    {
     "data": {
      "image/png": "[encoded data removed]",
      "text/plain": [
       "<Figure size 432x288 with 2 Axes>"
      ]
     },
     "metadata": {
      "needs_background": "light"
     },
     "output_type": "display_data"
    }
   ],
   "source": [
    "# run random forrest\n",
    "snippet_proba_rf_tok, snippet_proba_tok = random_forrest_proba(X_train_snippet_tok_tf_sm, \n",
    "                                                               y_train_snippet_tok_tf_sm,\n",
    "                                                               X_test_snippet_tok_tf, y_test)\n",
    "# check output length for rejoining of data\n",
    "print(f'number of probabilities: {len(snippet_proba_tok)}')\n",
    "print()"
   ]
  },
  {
   "cell_type": "markdown",
   "metadata": {},
   "source": [
    "##### Predict Class after CountVectorizer"
   ]
  },
  {
   "cell_type": "code",
   "execution_count": 51,
   "metadata": {},
   "outputs": [
    {
     "name": "stdout",
     "output_type": "stream",
     "text": [
      "mean accuracy: 0.6404761904761904\n",
      "number of class predictions: 420\n",
      "\n"
     ]
    },
    {
     "data": {
      "image/png": "[encoded data removed]",
      "text/plain": [
       "<Figure size 432x288 with 1 Axes>"
      ]
     },
     "metadata": {
      "needs_background": "light"
     },
     "output_type": "display_data"
    },
    {
     "data": {
      "image/png": "[encoded data removed]",
      "text/plain": [
       "<Figure size 432x288 with 2 Axes>"
      ]
     },
     "metadata": {
      "needs_background": "light"
     },
     "output_type": "display_data"
    }
   ],
   "source": [
    "# run random forrest\n",
    "snippet_class_rf, snippet_class = random_forrest_class(X_train_snippet_cv_sm, y_train_snippet_cv_sm, \n",
    "                                                       X_test_snippet_cv, y_test)\n",
    "# check output length for rejoining of data\n",
    "print(f'number of class predictions: {len(snippet_class)}')\n",
    "print()"
   ]
  },
  {
   "cell_type": "markdown",
   "metadata": {},
   "source": [
    "##### Predict Class after Preprocessed CountVectorizer"
   ]
  },
  {
   "cell_type": "code",
   "execution_count": 52,
   "metadata": {},
   "outputs": [
    {
     "name": "stdout",
     "output_type": "stream",
     "text": [
      "mean accuracy: 0.5785714285714286\n",
      "number of class predictions: 420\n",
      "\n"
     ]
    },
    {
     "data": {
      "image/png": "[encoded data removed]",
      "text/plain": [
       "<Figure size 432x288 with 1 Axes>"
      ]
     },
     "metadata": {
      "needs_background": "light"
     },
     "output_type": "display_data"
    },
    {
     "data": {
      "image/png": "[encoded data removed]",
      "text/plain": [
       "<Figure size 432x288 with 2 Axes>"
      ]
     },
     "metadata": {
      "needs_background": "light"
     },
     "output_type": "display_data"
    }
   ],
   "source": [
    "# run random forrest\n",
    "snippet_class_rf_tok, snippet_class_tok = random_forrest_class(X_train_snippet_tok_cv_sm, \n",
    "                                                               y_train_snippet_tok_cv_sm,\n",
    "                                                               X_test_snippet_tok_cv, y_test)\n",
    "# check output length for rejoining of data\n",
    "print(f'number of class predictions: {len(snippet_class_tok)}')\n",
    "print()"
   ]
  },
  {
   "cell_type": "markdown",
   "metadata": {},
   "source": [
    "## Model Training - Numeric"
   ]
  },
  {
   "cell_type": "markdown",
   "metadata": {},
   "source": [
    "### Word Count"
   ]
  },
  {
   "cell_type": "code",
   "execution_count": 53,
   "metadata": {},
   "outputs": [],
   "source": [
    "# function to run a logistic regression \n",
    "# returns the model, a list of proabilities, and a list of class labels \n",
    "def log_regression_word_count(X_train, y_train, X_test, y_test):\n",
    "    \n",
    "    # initiate logsitic regression and fit with training data \n",
    "    clf = LogisticRegression(random_state=0)\n",
    "    clf.fit(X_train, y_train)\n",
    "    \n",
    "    # store predicted class labels in list \n",
    "    class_prediction = clf.predict(X_test.values.reshape(-1, 1))\n",
    "    \n",
    "    # store predicted probabilities that article is a popular article in a list\n",
    "    probabilities = clf.predict_proba(X_test.values.reshape(-1, 1))\n",
    "    probabilities = [x[1] for x in probabilities]\n",
    "    \n",
    "    # print model accuracy\n",
    "    score = clf.score(X_test.values.reshape(-1, 1), y_test)\n",
    "    print(f'mean accuracy: {score}')\n",
    "    \n",
    "    # plot an ROC curve\n",
    "    fig, ax = plt.subplots()\n",
    "    plt.title('ROC Curve')\n",
    "    plot_roc_curve(clf, X_train, y_train, name='Train', ax=ax)\n",
    "    plot_roc_curve(clf, X_test.values.reshape(-1, 1), y_test, name='Test', ax=ax);\n",
    "    \n",
    "    # plot confusion matrix\n",
    "    plot_confusion_matrix(clf, X_test.values.reshape(-1, 1), y_test)\n",
    "    \n",
    "    return clf, probabilities, class_prediction"
   ]
  },
  {
   "cell_type": "code",
   "execution_count": 54,
   "metadata": {},
   "outputs": [
    {
     "name": "stdout",
     "output_type": "stream",
     "text": [
      "mean accuracy: 0.5571428571428572\n",
      "number of probabilities: 420\n",
      "number of class predictions: 420\n",
      "\n"
     ]
    },
    {
     "data": {
      "image/png": "[encoded data removed]",
      "text/plain": [
       "<Figure size 432x288 with 1 Axes>"
      ]
     },
     "metadata": {
      "needs_background": "light"
     },
     "output_type": "display_data"
    },
    {
     "data": {
      "image/png": "[encoded data removed]",
      "text/plain": [
       "<Figure size 432x288 with 2 Axes>"
      ]
     },
     "metadata": {
      "needs_background": "light"
     },
     "output_type": "display_data"
    }
   ],
   "source": [
    "# run logistic regression\n",
    "word_count_log_reg, word_count_proba, word_count_class = log_regression_word_count(X_train_word_count_sm, \n",
    "                                                                                   y_train_word_count_sm, \n",
    "                                                                                   X_test.word_count, y_test)\n",
    "# check output length for rejoining of data\n",
    "print(f'number of probabilities: {len(word_count_proba)}')\n",
    "print(f'number of class predictions: {len(word_count_class)}')\n",
    "print()"
   ]
  },
  {
   "cell_type": "markdown",
   "metadata": {},
   "source": [
    "## Cumulative Model "
   ]
  },
  {
   "cell_type": "markdown",
   "metadata": {},
   "source": [
    "### Cleaning "
   ]
  },
  {
   "cell_type": "markdown",
   "metadata": {},
   "source": [
    "##### Proability Data"
   ]
  },
  {
   "cell_type": "code",
   "execution_count": 55,
   "metadata": {},
   "outputs": [],
   "source": [
    "df_predict_proba = pd.DataFrame({'headline_prob': headline_proba, \n",
    "                                 'keywords_prob': keywords_proba, \n",
    "                                 'snippet_prob': snippet_proba_tok, \n",
    "                                 'word_count_prob': word_count_proba})"
   ]
  },
  {
   "cell_type": "code",
   "execution_count": 56,
   "metadata": {},
   "outputs": [
    {
     "data": {
      "text/html": [
       "<div>\n",
       "<style scoped>\n",
       "    .dataframe tbody tr th:only-of-type {\n",
       "        vertical-align: middle;\n",
       "    }\n",
       "\n",
       "    .dataframe tbody tr th {\n",
       "        vertical-align: top;\n",
       "    }\n",
       "\n",
       "    .dataframe thead th {\n",
       "        text-align: right;\n",
       "    }\n",
       "</style>\n",
       "<table border=\"1\" class=\"dataframe\">\n",
       "  <thead>\n",
       "    <tr style=\"text-align: right;\">\n",
       "      <th></th>\n",
       "      <th>headline_prob</th>\n",
       "      <th>keywords_prob</th>\n",
       "      <th>snippet_prob</th>\n",
       "      <th>word_count_prob</th>\n",
       "    </tr>\n",
       "  </thead>\n",
       "  <tbody>\n",
       "    <tr>\n",
       "      <th>0</th>\n",
       "      <td>0.133333</td>\n",
       "      <td>0.00</td>\n",
       "      <td>0.0</td>\n",
       "      <td>0.526157</td>\n",
       "    </tr>\n",
       "    <tr>\n",
       "      <th>1</th>\n",
       "      <td>0.146667</td>\n",
       "      <td>0.15</td>\n",
       "      <td>0.1</td>\n",
       "      <td>0.477943</td>\n",
       "    </tr>\n",
       "    <tr>\n",
       "      <th>2</th>\n",
       "      <td>0.000000</td>\n",
       "      <td>0.18</td>\n",
       "      <td>0.1</td>\n",
       "      <td>0.486542</td>\n",
       "    </tr>\n",
       "    <tr>\n",
       "      <th>3</th>\n",
       "      <td>0.106667</td>\n",
       "      <td>0.01</td>\n",
       "      <td>0.0</td>\n",
       "      <td>0.325881</td>\n",
       "    </tr>\n",
       "    <tr>\n",
       "      <th>4</th>\n",
       "      <td>0.013333</td>\n",
       "      <td>0.13</td>\n",
       "      <td>0.1</td>\n",
       "      <td>0.472038</td>\n",
       "    </tr>\n",
       "  </tbody>\n",
       "</table>\n",
       "</div>"
      ],
      "text/plain": [
       "   headline_prob  keywords_prob  snippet_prob  word_count_prob\n",
       "0       0.133333           0.00           0.0         0.526157\n",
       "1       0.146667           0.15           0.1         0.477943\n",
       "2       0.000000           0.18           0.1         0.486542\n",
       "3       0.106667           0.01           0.0         0.325881\n",
       "4       0.013333           0.13           0.1         0.472038"
      ]
     },
     "execution_count": 56,
     "metadata": {},
     "output_type": "execute_result"
    }
   ],
   "source": [
    "df_predict_proba.head()"
   ]
  },
  {
   "cell_type": "code",
   "execution_count": 57,
   "metadata": {},
   "outputs": [],
   "source": [
    "scaler = StandardScaler()"
   ]
  },
  {
   "cell_type": "code",
   "execution_count": 58,
   "metadata": {},
   "outputs": [],
   "source": [
    "df_predict_proba.iloc[:,:] = scaler.fit_transform(df_predict_proba.iloc[:,:].to_numpy())"
   ]
  },
  {
   "cell_type": "code",
   "execution_count": 59,
   "metadata": {},
   "outputs": [
    {
     "data": {
      "text/html": [
       "<div>\n",
       "<style scoped>\n",
       "    .dataframe tbody tr th:only-of-type {\n",
       "        vertical-align: middle;\n",
       "    }\n",
       "\n",
       "    .dataframe tbody tr th {\n",
       "        vertical-align: top;\n",
       "    }\n",
       "\n",
       "    .dataframe thead th {\n",
       "        text-align: right;\n",
       "    }\n",
       "</style>\n",
       "<table border=\"1\" class=\"dataframe\">\n",
       "  <thead>\n",
       "    <tr style=\"text-align: right;\">\n",
       "      <th></th>\n",
       "      <th>headline_prob</th>\n",
       "      <th>keywords_prob</th>\n",
       "      <th>snippet_prob</th>\n",
       "      <th>word_count_prob</th>\n",
       "    </tr>\n",
       "  </thead>\n",
       "  <tbody>\n",
       "    <tr>\n",
       "      <th>0</th>\n",
       "      <td>0.662108</td>\n",
       "      <td>-0.878753</td>\n",
       "      <td>-0.996195</td>\n",
       "      <td>0.336180</td>\n",
       "    </tr>\n",
       "    <tr>\n",
       "      <th>1</th>\n",
       "      <td>0.799842</td>\n",
       "      <td>0.664557</td>\n",
       "      <td>0.118355</td>\n",
       "      <td>-0.149173</td>\n",
       "    </tr>\n",
       "    <tr>\n",
       "      <th>2</th>\n",
       "      <td>-0.715234</td>\n",
       "      <td>0.973219</td>\n",
       "      <td>0.118355</td>\n",
       "      <td>-0.062610</td>\n",
       "    </tr>\n",
       "    <tr>\n",
       "      <th>3</th>\n",
       "      <td>0.386640</td>\n",
       "      <td>-0.775866</td>\n",
       "      <td>-0.996195</td>\n",
       "      <td>-1.679904</td>\n",
       "    </tr>\n",
       "    <tr>\n",
       "      <th>4</th>\n",
       "      <td>-0.577500</td>\n",
       "      <td>0.458782</td>\n",
       "      <td>0.118355</td>\n",
       "      <td>-0.208612</td>\n",
       "    </tr>\n",
       "  </tbody>\n",
       "</table>\n",
       "</div>"
      ],
      "text/plain": [
       "   headline_prob  keywords_prob  snippet_prob  word_count_prob\n",
       "0       0.662108      -0.878753     -0.996195         0.336180\n",
       "1       0.799842       0.664557      0.118355        -0.149173\n",
       "2      -0.715234       0.973219      0.118355        -0.062610\n",
       "3       0.386640      -0.775866     -0.996195        -1.679904\n",
       "4      -0.577500       0.458782      0.118355        -0.208612"
      ]
     },
     "execution_count": 59,
     "metadata": {},
     "output_type": "execute_result"
    }
   ],
   "source": [
    "df_predict_proba.head()"
   ]
  },
  {
   "cell_type": "code",
   "execution_count": 60,
   "metadata": {},
   "outputs": [
    {
     "name": "stdout",
     "output_type": "stream",
     "text": [
      "<class 'pandas.core.frame.DataFrame'>\n",
      "RangeIndex: 420 entries, 0 to 419\n",
      "Data columns (total 4 columns):\n",
      " #   Column           Non-Null Count  Dtype  \n",
      "---  ------           --------------  -----  \n",
      " 0   headline_prob    420 non-null    float64\n",
      " 1   keywords_prob    420 non-null    float64\n",
      " 2   snippet_prob     420 non-null    float64\n",
      " 3   word_count_prob  420 non-null    float64\n",
      "dtypes: float64(4)\n",
      "memory usage: 13.2 KB\n"
     ]
    }
   ],
   "source": [
    "df_predict_proba.info()"
   ]
  },
  {
   "cell_type": "markdown",
   "metadata": {},
   "source": [
    "<br>\n",
    "\n",
    "##### Class Labeled Data "
   ]
  },
  {
   "cell_type": "code",
   "execution_count": 61,
   "metadata": {},
   "outputs": [],
   "source": [
    "df_predict_class = pd.DataFrame({'headline_prob': headline_class, \n",
    "                                 'keywords_prob': keywords_class, \n",
    "                                 'snippet_prob': snippet_class_tok, \n",
    "                                 'word_count_class': word_count_class})"
   ]
  },
  {
   "cell_type": "code",
   "execution_count": 62,
   "metadata": {},
   "outputs": [
    {
     "data": {
      "text/html": [
       "<div>\n",
       "<style scoped>\n",
       "    .dataframe tbody tr th:only-of-type {\n",
       "        vertical-align: middle;\n",
       "    }\n",
       "\n",
       "    .dataframe tbody tr th {\n",
       "        vertical-align: top;\n",
       "    }\n",
       "\n",
       "    .dataframe thead th {\n",
       "        text-align: right;\n",
       "    }\n",
       "</style>\n",
       "<table border=\"1\" class=\"dataframe\">\n",
       "  <thead>\n",
       "    <tr style=\"text-align: right;\">\n",
       "      <th></th>\n",
       "      <th>headline_prob</th>\n",
       "      <th>keywords_prob</th>\n",
       "      <th>snippet_prob</th>\n",
       "      <th>word_count_class</th>\n",
       "    </tr>\n",
       "  </thead>\n",
       "  <tbody>\n",
       "    <tr>\n",
       "      <th>0</th>\n",
       "      <td>1</td>\n",
       "      <td>0</td>\n",
       "      <td>0</td>\n",
       "      <td>1</td>\n",
       "    </tr>\n",
       "    <tr>\n",
       "      <th>1</th>\n",
       "      <td>1</td>\n",
       "      <td>0</td>\n",
       "      <td>0</td>\n",
       "      <td>0</td>\n",
       "    </tr>\n",
       "    <tr>\n",
       "      <th>2</th>\n",
       "      <td>0</td>\n",
       "      <td>0</td>\n",
       "      <td>1</td>\n",
       "      <td>0</td>\n",
       "    </tr>\n",
       "    <tr>\n",
       "      <th>3</th>\n",
       "      <td>0</td>\n",
       "      <td>0</td>\n",
       "      <td>0</td>\n",
       "      <td>0</td>\n",
       "    </tr>\n",
       "    <tr>\n",
       "      <th>4</th>\n",
       "      <td>1</td>\n",
       "      <td>0</td>\n",
       "      <td>1</td>\n",
       "      <td>0</td>\n",
       "    </tr>\n",
       "  </tbody>\n",
       "</table>\n",
       "</div>"
      ],
      "text/plain": [
       "   headline_prob  keywords_prob  snippet_prob  word_count_class\n",
       "0              1              0             0                 1\n",
       "1              1              0             0                 0\n",
       "2              0              0             1                 0\n",
       "3              0              0             0                 0\n",
       "4              1              0             1                 0"
      ]
     },
     "execution_count": 62,
     "metadata": {},
     "output_type": "execute_result"
    }
   ],
   "source": [
    "df_predict_class.head()"
   ]
  },
  {
   "cell_type": "code",
   "execution_count": 63,
   "metadata": {},
   "outputs": [
    {
     "name": "stdout",
     "output_type": "stream",
     "text": [
      "<class 'pandas.core.frame.DataFrame'>\n",
      "RangeIndex: 420 entries, 0 to 419\n",
      "Data columns (total 4 columns):\n",
      " #   Column            Non-Null Count  Dtype\n",
      "---  ------            --------------  -----\n",
      " 0   headline_prob     420 non-null    int64\n",
      " 1   keywords_prob     420 non-null    int64\n",
      " 2   snippet_prob      420 non-null    int64\n",
      " 3   word_count_class  420 non-null    int64\n",
      "dtypes: int64(4)\n",
      "memory usage: 13.2 KB\n"
     ]
    }
   ],
   "source": [
    "df_predict_class.info()"
   ]
  },
  {
   "cell_type": "markdown",
   "metadata": {},
   "source": [
    "<br>\n",
    "\n",
    "### Training model"
   ]
  },
  {
   "cell_type": "code",
   "execution_count": 64,
   "metadata": {},
   "outputs": [
    {
     "data": {
      "text/html": [
       "<div>\n",
       "<style scoped>\n",
       "    .dataframe tbody tr th:only-of-type {\n",
       "        vertical-align: middle;\n",
       "    }\n",
       "\n",
       "    .dataframe tbody tr th {\n",
       "        vertical-align: top;\n",
       "    }\n",
       "\n",
       "    .dataframe thead th {\n",
       "        text-align: right;\n",
       "    }\n",
       "</style>\n",
       "<table border=\"1\" class=\"dataframe\">\n",
       "  <thead>\n",
       "    <tr style=\"text-align: right;\">\n",
       "      <th></th>\n",
       "      <th>sum</th>\n",
       "      <th>percentage</th>\n",
       "    </tr>\n",
       "    <tr>\n",
       "      <th>popular</th>\n",
       "      <th></th>\n",
       "      <th></th>\n",
       "    </tr>\n",
       "  </thead>\n",
       "  <tbody>\n",
       "    <tr>\n",
       "      <th>0</th>\n",
       "      <td>383</td>\n",
       "      <td>0.91</td>\n",
       "    </tr>\n",
       "    <tr>\n",
       "      <th>1</th>\n",
       "      <td>37</td>\n",
       "      <td>0.09</td>\n",
       "    </tr>\n",
       "  </tbody>\n",
       "</table>\n",
       "</div>"
      ],
      "text/plain": [
       "         sum  percentage\n",
       "popular                 \n",
       "0        383        0.91\n",
       "1         37        0.09"
      ]
     },
     "execution_count": 64,
     "metadata": {},
     "output_type": "execute_result"
    },
    {
     "data": {
      "image/png": "[encoded data removed]",
      "text/plain": [
       "<Figure size 432x288 with 1 Axes>"
      ]
     },
     "metadata": {
      "needs_background": "light"
     },
     "output_type": "display_data"
    }
   ],
   "source": [
    "target_distribution_deploy = summerize_value_counts(y_test)\n",
    "target_distribution_deploy"
   ]
  },
  {
   "cell_type": "markdown",
   "metadata": {},
   "source": [
    "\n",
    "\n",
    "##### Predicting with Probabilities "
   ]
  },
  {
   "cell_type": "code",
   "execution_count": 65,
   "metadata": {},
   "outputs": [],
   "source": [
    "clf_proba = LogisticRegression()"
   ]
  },
  {
   "cell_type": "code",
   "execution_count": 66,
   "metadata": {},
   "outputs": [
    {
     "data": {
      "text/plain": [
       "LogisticRegression()"
      ]
     },
     "execution_count": 66,
     "metadata": {},
     "output_type": "execute_result"
    }
   ],
   "source": [
    "clf_proba.fit(df_predict_proba, y_test)"
   ]
  },
  {
   "cell_type": "markdown",
   "metadata": {},
   "source": [
    "<br>\n",
    "\n",
    "##### Predicitng with class labels"
   ]
  },
  {
   "cell_type": "code",
   "execution_count": 67,
   "metadata": {},
   "outputs": [],
   "source": [
    "clf_class = LogisticRegression()"
   ]
  },
  {
   "cell_type": "code",
   "execution_count": 68,
   "metadata": {},
   "outputs": [
    {
     "data": {
      "text/plain": [
       "LogisticRegression()"
      ]
     },
     "execution_count": 68,
     "metadata": {},
     "output_type": "execute_result"
    }
   ],
   "source": [
    "clf_class.fit(df_predict_class, y_test)"
   ]
  },
  {
   "cell_type": "markdown",
   "metadata": {},
   "source": [
    "## Model Deployment"
   ]
  },
  {
   "cell_type": "code",
   "execution_count": 69,
   "metadata": {},
   "outputs": [
    {
     "data": {
      "text/plain": [
       "datetime.date(2022, 1, 18)"
      ]
     },
     "execution_count": 69,
     "metadata": {},
     "output_type": "execute_result"
    }
   ],
   "source": [
    "pd.to_datetime('01/18/22').date()"
   ]
  },
  {
   "cell_type": "code",
   "execution_count": 70,
   "metadata": {},
   "outputs": [],
   "source": [
    "df_archive_deploy = pd.read_csv('data/archive_deploy.csv')\n",
    "df_archive_deploy.date_published = df_archive_deploy.date_published.apply(lambda x: pd.to_datetime(x).date())\n",
    "df_archive_deploy.dropna(inplace=True)\n",
    "\n",
    "df_most_shared_deploy = load_most_shared('data/most_popular_deploy')"
   ]
  },
  {
   "cell_type": "code",
   "execution_count": 71,
   "metadata": {},
   "outputs": [
    {
     "data": {
      "text/plain": [
       "datetime.date(2022, 1, 18)"
      ]
     },
     "execution_count": 71,
     "metadata": {},
     "output_type": "execute_result"
    }
   ],
   "source": [
    "prediction_day = '01/18/22'\n",
    "prediction_day = pd.to_datetime(prediction_day).date()\n",
    "prediction_day"
   ]
  },
  {
   "cell_type": "code",
   "execution_count": 72,
   "metadata": {},
   "outputs": [],
   "source": [
    "# delta_dict = time_delta.to_dict()\n",
    "# delta_dict"
   ]
  },
  {
   "cell_type": "code",
   "execution_count": 73,
   "metadata": {},
   "outputs": [],
   "source": [
    "def filter_predction_dfs(df_archive, df_shared, day_of_predict, delta=3):\n",
    "    \n",
    "#     day_of_predict = pd.to_datetime(day_of_predict).date()\n",
    "    time_delta = dt.timedelta(days=delta)\n",
    "    cutoff_day = day_of_predict - time_delta\n",
    "    \n",
    "    df_deploy = df_archive[(df_archive.date_published >= cutoff_day) & \n",
    "                             (df_archive.date_published <= day_of_predict)]\n",
    "    \n",
    "    article_ids = df_deploy['uri']\n",
    "    date_published = df_deploy['date_published']\n",
    "#     delta_correction = [delta_dict[abs(x - prediction_day)] for x in test.date_published]\n",
    "    df_feature_deploy = df_deploy[['headline','keywords','snippet','word_count']]\n",
    "    \n",
    "    df_top_20 = df_shared[df_shared.index == day_of_predict]\n",
    "    \n",
    "    return article_ids, date_published, df_feature_deploy, df_top_20"
   ]
  },
  {
   "cell_type": "code",
   "execution_count": 74,
   "metadata": {},
   "outputs": [],
   "source": [
    "deployed_article_ids, date_published, df_feature_deploy, df_top_20 = filter_predction_dfs(df_archive_deploy, \n",
    "                                                                          df_most_shared_deploy, \n",
    "                                                                          prediction_day, delta=3)"
   ]
  },
  {
   "cell_type": "code",
   "execution_count": 75,
   "metadata": {},
   "outputs": [
    {
     "data": {
      "text/plain": [
       "2      nyt://article/f00468d9-8c85-5141-a5a4-8b592f6a...\n",
       "5      nyt://article/45bfef70-a4e6-5211-b9f4-95c9acfc...\n",
       "6      nyt://article/09084cca-4f23-5fb1-8d82-5c01e336...\n",
       "7      nyt://article/ad52d330-1f21-51a4-98d0-b2b355d0...\n",
       "8      nyt://article/0b4e771d-ff07-5c67-98f5-4b1c0a7a...\n",
       "                             ...                        \n",
       "196    nyt://article/50ea7f23-2811-5d80-a872-748ea973...\n",
       "197    nyt://article/23ad6087-6b87-5148-b167-1caa40f6...\n",
       "198    nyt://interactive/b5bb2160-b42e-511b-832f-0ca1...\n",
       "199    nyt://article/375569b6-c59b-53a4-8bd7-ceb3f90a...\n",
       "201    nyt://article/d0bdb21b-ea5d-516a-9022-c6444040...\n",
       "Name: uri, Length: 181, dtype: object"
      ]
     },
     "execution_count": 75,
     "metadata": {},
     "output_type": "execute_result"
    }
   ],
   "source": [
    "deployed_article_ids"
   ]
  },
  {
   "cell_type": "code",
   "execution_count": 76,
   "metadata": {},
   "outputs": [
    {
     "data": {
      "text/plain": [
       "2    2022-01-16\n",
       "5    2022-01-16\n",
       "6    2022-01-16\n",
       "7    2022-01-16\n",
       "8    2022-01-16\n",
       "Name: date_published, dtype: object"
      ]
     },
     "execution_count": 76,
     "metadata": {},
     "output_type": "execute_result"
    }
   ],
   "source": [
    "date_published.head()"
   ]
  },
  {
   "cell_type": "code",
   "execution_count": 77,
   "metadata": {},
   "outputs": [
    {
     "data": {
      "text/html": [
       "<div>\n",
       "<style scoped>\n",
       "    .dataframe tbody tr th:only-of-type {\n",
       "        vertical-align: middle;\n",
       "    }\n",
       "\n",
       "    .dataframe tbody tr th {\n",
       "        vertical-align: top;\n",
       "    }\n",
       "\n",
       "    .dataframe thead th {\n",
       "        text-align: right;\n",
       "    }\n",
       "</style>\n",
       "<table border=\"1\" class=\"dataframe\">\n",
       "  <thead>\n",
       "    <tr style=\"text-align: right;\">\n",
       "      <th></th>\n",
       "      <th>headline</th>\n",
       "      <th>keywords</th>\n",
       "      <th>snippet</th>\n",
       "      <th>word_count</th>\n",
       "    </tr>\n",
       "  </thead>\n",
       "  <tbody>\n",
       "    <tr>\n",
       "      <th>2</th>\n",
       "      <td>how sunday’s games affect the n.f.l. playoff m...</td>\n",
       "      <td>footballplayoff gamesdallas cowboyspittsburgh ...</td>\n",
       "      <td>Kansas City and Tampa Bay’s blowout victories,...</td>\n",
       "      <td>755</td>\n",
       "    </tr>\n",
       "    <tr>\n",
       "      <th>5</th>\n",
       "      <td>josh allen’s bills nearly perfect in dismantli...</td>\n",
       "      <td>footballplayoff gamesbuffalo billsnew england ...</td>\n",
       "      <td>Paced by Allen’s five touchdown passes, the Bi...</td>\n",
       "      <td>1003</td>\n",
       "    </tr>\n",
       "    <tr>\n",
       "      <th>6</th>\n",
       "      <td>microsoft warns of destructive cyberattack on ...</td>\n",
       "      <td>computers and the internetcyberattacks and hac...</td>\n",
       "      <td>The malware was revealed as Russian troops rem...</td>\n",
       "      <td>1083</td>\n",
       "    </tr>\n",
       "    <tr>\n",
       "      <th>7</th>\n",
       "      <td>trump’s covid and election falsehoods at arizo...</td>\n",
       "      <td>storming of the us capitol (jan, 2021)rumors a...</td>\n",
       "      <td>The former president falsely claimed that whit...</td>\n",
       "      <td>732</td>\n",
       "    </tr>\n",
       "    <tr>\n",
       "      <th>8</th>\n",
       "      <td>spelling bee forum</td>\n",
       "      <td>spelling bee (game)</td>\n",
       "      <td>Feeling stuck on today’s puzzle? We can help.</td>\n",
       "      <td>159</td>\n",
       "    </tr>\n",
       "  </tbody>\n",
       "</table>\n",
       "</div>"
      ],
      "text/plain": [
       "                                            headline  \\\n",
       "2  how sunday’s games affect the n.f.l. playoff m...   \n",
       "5  josh allen’s bills nearly perfect in dismantli...   \n",
       "6  microsoft warns of destructive cyberattack on ...   \n",
       "7  trump’s covid and election falsehoods at arizo...   \n",
       "8                                 spelling bee forum   \n",
       "\n",
       "                                            keywords  \\\n",
       "2  footballplayoff gamesdallas cowboyspittsburgh ...   \n",
       "5  footballplayoff gamesbuffalo billsnew england ...   \n",
       "6  computers and the internetcyberattacks and hac...   \n",
       "7  storming of the us capitol (jan, 2021)rumors a...   \n",
       "8                                spelling bee (game)   \n",
       "\n",
       "                                             snippet  word_count  \n",
       "2  Kansas City and Tampa Bay’s blowout victories,...         755  \n",
       "5  Paced by Allen’s five touchdown passes, the Bi...        1003  \n",
       "6  The malware was revealed as Russian troops rem...        1083  \n",
       "7  The former president falsely claimed that whit...         732  \n",
       "8      Feeling stuck on today’s puzzle? We can help.         159  "
      ]
     },
     "execution_count": 77,
     "metadata": {},
     "output_type": "execute_result"
    }
   ],
   "source": [
    "df_feature_deploy.head()"
   ]
  },
  {
   "cell_type": "code",
   "execution_count": 78,
   "metadata": {},
   "outputs": [
    {
     "data": {
      "text/html": [
       "<div>\n",
       "<style scoped>\n",
       "    .dataframe tbody tr th:only-of-type {\n",
       "        vertical-align: middle;\n",
       "    }\n",
       "\n",
       "    .dataframe tbody tr th {\n",
       "        vertical-align: top;\n",
       "    }\n",
       "\n",
       "    .dataframe thead th {\n",
       "        text-align: right;\n",
       "    }\n",
       "</style>\n",
       "<table border=\"1\" class=\"dataframe\">\n",
       "  <thead>\n",
       "    <tr style=\"text-align: right;\">\n",
       "      <th></th>\n",
       "      <th>uri</th>\n",
       "      <th>date_published</th>\n",
       "    </tr>\n",
       "    <tr>\n",
       "      <th>date_sourced</th>\n",
       "      <th></th>\n",
       "      <th></th>\n",
       "    </tr>\n",
       "  </thead>\n",
       "  <tbody>\n",
       "    <tr>\n",
       "      <th>2022-01-18</th>\n",
       "      <td>nyt://article/f0eae40a-c7c9-584f-a85d-d68544f5...</td>\n",
       "      <td>2022-01-17</td>\n",
       "    </tr>\n",
       "    <tr>\n",
       "      <th>2022-01-18</th>\n",
       "      <td>nyt://article/a8cd2b1d-beab-5c35-a403-6395feaa...</td>\n",
       "      <td>2022-01-16</td>\n",
       "    </tr>\n",
       "    <tr>\n",
       "      <th>2022-01-18</th>\n",
       "      <td>nyt://article/aeff9a74-2a9b-58f3-b7ad-27aec0bb...</td>\n",
       "      <td>2022-01-16</td>\n",
       "    </tr>\n",
       "    <tr>\n",
       "      <th>2022-01-18</th>\n",
       "      <td>nyt://article/3e9f24a2-4313-57d0-bff3-e900f930...</td>\n",
       "      <td>2022-01-15</td>\n",
       "    </tr>\n",
       "    <tr>\n",
       "      <th>2022-01-18</th>\n",
       "      <td>nyt://article/32042f84-b000-5027-aadf-8d55047b...</td>\n",
       "      <td>2022-01-16</td>\n",
       "    </tr>\n",
       "  </tbody>\n",
       "</table>\n",
       "</div>"
      ],
      "text/plain": [
       "                                                            uri date_published\n",
       "date_sourced                                                                  \n",
       "2022-01-18    nyt://article/f0eae40a-c7c9-584f-a85d-d68544f5...     2022-01-17\n",
       "2022-01-18    nyt://article/a8cd2b1d-beab-5c35-a403-6395feaa...     2022-01-16\n",
       "2022-01-18    nyt://article/aeff9a74-2a9b-58f3-b7ad-27aec0bb...     2022-01-16\n",
       "2022-01-18    nyt://article/3e9f24a2-4313-57d0-bff3-e900f930...     2022-01-15\n",
       "2022-01-18    nyt://article/32042f84-b000-5027-aadf-8d55047b...     2022-01-16"
      ]
     },
     "execution_count": 78,
     "metadata": {},
     "output_type": "execute_result"
    }
   ],
   "source": [
    "df_top_20.head()"
   ]
  },
  {
   "cell_type": "code",
   "execution_count": 79,
   "metadata": {},
   "outputs": [],
   "source": [
    "def predict_with_probabilities():\n",
    "    \n",
    "    headline = df.headline\n",
    "    keywords = df.keywords\n",
    "    snippet = df.snippet\n",
    "    word_count = df.word_count\n",
    "    \n",
    "    headline_tf_vec.transform()\n",
    "    headline_tf_vec_tok.transform()\n",
    "    headline_proba_rf.predict_proba()\n",
    "    \n",
    "    keywords_tf_vec.transform\n",
    "    keywords_tf_vec_tok.transform\n",
    "    keywords_proba_rf.predict_proba\n",
    "    \n",
    "    snippet_tf_vec.transform\n",
    "    snippet_tf_vec_tok.transform\n",
    "    snippet_proba_rf.predict_proba\n",
    "    \n",
    "    word_count_log_reg.predict_proba\n",
    "\n",
    "    "
   ]
  },
  {
   "cell_type": "code",
   "execution_count": 80,
   "metadata": {},
   "outputs": [],
   "source": [
    "def predict_with_class_labels(df):\n",
    "    \n",
    "    headline = df.headline\n",
    "    keywords = df.keywords\n",
    "    snippet = df.snippet\n",
    "    word_count = df.word_count\n",
    "    \n",
    "    headline_cv_vec.transform\n",
    "    headline_cv_vec_tok.transform\n",
    "    headline_class_rf.predict\n",
    "    \n",
    "    keywords_cv_vec.transform\n",
    "    keywords_cv_vec_tok.transform\n",
    "    keywords_class_rf.predict\n",
    "    \n",
    "    snippet_cv_vec.transform\n",
    "    snippet_cv_vec_tok.transform\n",
    "    snippet_class_rf.predict\n",
    "    \n",
    "    word_count_log_reg.predict\n",
    "    \n",
    "    "
   ]
  },
  {
   "cell_type": "code",
   "execution_count": 81,
   "metadata": {},
   "outputs": [],
   "source": [
    "headline_proba_pipe = Pipeline([('headline_tf', headline_tf), \n",
    "                                ('headline_proba_rf',headline_proba_rf)])"
   ]
  },
  {
   "cell_type": "code",
   "execution_count": 82,
   "metadata": {},
   "outputs": [],
   "source": [
    "keywords_proba_pipe = Pipeline([('keywords_tf', keywords_tf), \n",
    "                                ('keywords_proba_rf', keywords_proba_rf)])"
   ]
  },
  {
   "cell_type": "code",
   "execution_count": 83,
   "metadata": {},
   "outputs": [],
   "source": [
    "snippet_proba_pipe = Pipeline([('snippet_tok_tf', snippet_tok_tf), \n",
    "                               ('snippet_proba_rf_tok', snippet_proba_rf_tok)])"
   ]
  },
  {
   "cell_type": "code",
   "execution_count": 84,
   "metadata": {},
   "outputs": [],
   "source": [
    "def proba_nlp_pipeline(features, index):\n",
    "    \n",
    "    headline_probs = headline_proba_pipe.predict_proba(features.headline)\n",
    "    headline_probs = [x[1] for x in headline_probs]\n",
    "    \n",
    "    keywords_probs = keywords_proba_pipe.predict_proba(features.keywords)\n",
    "    keywords_probs = [x[1] for x in keywords_probs]\n",
    "    \n",
    "    snippet_probs  = snippet_proba_pipe.predict_proba(features.snippet)\n",
    "    snippet_probs = [x[1] for x in snippet_probs]\n",
    "    \n",
    "    word_count_probs = word_count_log_reg.predict_proba(features.word_count.values.reshape(-1, 1))\n",
    "    word_count_probs = [x[1] for x in word_count_probs]\n",
    "    \n",
    "    df = pd.DataFrame({'headline_probabilty': headline_probs, \n",
    "                       'keywords_probabilty': keywords_probs,\n",
    "                       'snippet_probabilty': snippet_probs,\n",
    "                       'word_count_probabilty': word_count_probs}, \n",
    "                      index=index)\n",
    "    \n",
    "    scaler = StandardScaler()\n",
    "    df.iloc[:, :] = scaler.fit_transform(df.iloc[:, :].to_numpy())\n",
    "    \n",
    "    return df"
   ]
  },
  {
   "cell_type": "code",
   "execution_count": 85,
   "metadata": {},
   "outputs": [],
   "source": [
    "# test_df = pd.DataFrame(tree_details.values(), index=tree_details.keys(), columns=['Information'])"
   ]
  },
  {
   "cell_type": "code",
   "execution_count": 86,
   "metadata": {},
   "outputs": [],
   "source": [
    "# headline tfidf winners: headline_tf, headline_proba_rf, headline_proba\n",
    "# headline cv winners: headline_cv, headline_class_rf, headline_class"
   ]
  },
  {
   "cell_type": "code",
   "execution_count": 87,
   "metadata": {},
   "outputs": [],
   "source": [
    "# keywords tfidf winners: keywords_tf, keywords_proba_rf, keywords_proba\n",
    "# keywords cv winners: keywords_cv, keywords_class_rf, keywords_class"
   ]
  },
  {
   "cell_type": "code",
   "execution_count": 88,
   "metadata": {},
   "outputs": [],
   "source": [
    "# snippet tfidf winners: snippet_tok_tf, snippet_proba_rf_tok, snippet_proba_tok\n",
    "# snippet cv winners: snippet_tok_cv, snippet_class_rf_tok, snippet_class_tok"
   ]
  },
  {
   "cell_type": "code",
   "execution_count": 89,
   "metadata": {},
   "outputs": [],
   "source": [
    "headline_class_pipe = Pipeline([('headline_cv', headline_cv), \n",
    "                                ('headline_class_rf', headline_class_rf)])"
   ]
  },
  {
   "cell_type": "code",
   "execution_count": 90,
   "metadata": {},
   "outputs": [],
   "source": [
    "keywords_class_pipe = Pipeline([('keywords_cv', keywords_cv), \n",
    "                                ('keywords_class_rf', keywords_class_rf)])"
   ]
  },
  {
   "cell_type": "code",
   "execution_count": 91,
   "metadata": {},
   "outputs": [],
   "source": [
    "snippet_class_pipe = Pipeline([('snippet_tok_cv', snippet_tok_cv), \n",
    "                               ('snippet_class_rf_tok', snippet_class_rf_tok)])"
   ]
  },
  {
   "cell_type": "code",
   "execution_count": 115,
   "metadata": {},
   "outputs": [],
   "source": [
    "def class_nlp_pipeline(features, index):\n",
    "    \n",
    "    headline_probs = headline_class_pipe.predict(features.headline)\n",
    "#     headline_probs = [x[1] for x in headline_probs] \n",
    "    \n",
    "    keywords_probs = keywords_class_pipe.predict(features.keywords)\n",
    "#     keywords_probs = [x[1] for x in keywords_probs]\n",
    "   \n",
    "    snippet_probs  = snippet_class_pipe.predict(features.snippet)\n",
    "#     snippet_probs = [x[1] for x in snippet_probs]\n",
    "    \n",
    "    word_count_probs = word_count_log_reg.predict(features.word_count.values.reshape(-1, 1))\n",
    "#     word_count_probs = [x[1] for x in word_count_probs]\n",
    "    \n",
    "    df = pd.DataFrame({'headline_probabilty': headline_probs, \n",
    "                       'keywords_probabilty': keywords_probs, \n",
    "                       'snippet_probabilty': snippet_probs, \n",
    "                       'word_count_probabilty': word_count_probs}, \n",
    "                      index=index)\n",
    "    return df"
   ]
  },
  {
   "cell_type": "code",
   "execution_count": 116,
   "metadata": {},
   "outputs": [],
   "source": [
    "proba_for_pred = proba_nlp_pipeline(df_feature_deploy, df_feature_deploy.index)"
   ]
  },
  {
   "cell_type": "code",
   "execution_count": 117,
   "metadata": {},
   "outputs": [
    {
     "data": {
      "text/html": [
       "<div>\n",
       "<style scoped>\n",
       "    .dataframe tbody tr th:only-of-type {\n",
       "        vertical-align: middle;\n",
       "    }\n",
       "\n",
       "    .dataframe tbody tr th {\n",
       "        vertical-align: top;\n",
       "    }\n",
       "\n",
       "    .dataframe thead th {\n",
       "        text-align: right;\n",
       "    }\n",
       "</style>\n",
       "<table border=\"1\" class=\"dataframe\">\n",
       "  <thead>\n",
       "    <tr style=\"text-align: right;\">\n",
       "      <th></th>\n",
       "      <th>headline_probabilty</th>\n",
       "      <th>keywords_probabilty</th>\n",
       "      <th>snippet_probabilty</th>\n",
       "      <th>word_count_probabilty</th>\n",
       "    </tr>\n",
       "  </thead>\n",
       "  <tbody>\n",
       "    <tr>\n",
       "      <th>2</th>\n",
       "      <td>-0.773085</td>\n",
       "      <td>-0.863198</td>\n",
       "      <td>-0.338760</td>\n",
       "      <td>-0.510628</td>\n",
       "    </tr>\n",
       "    <tr>\n",
       "      <th>5</th>\n",
       "      <td>-0.773085</td>\n",
       "      <td>-0.872026</td>\n",
       "      <td>1.767502</td>\n",
       "      <td>-0.036308</td>\n",
       "    </tr>\n",
       "    <tr>\n",
       "      <th>6</th>\n",
       "      <td>-0.773085</td>\n",
       "      <td>-0.863198</td>\n",
       "      <td>-0.338760</td>\n",
       "      <td>0.117124</td>\n",
       "    </tr>\n",
       "    <tr>\n",
       "      <th>7</th>\n",
       "      <td>2.415158</td>\n",
       "      <td>2.517755</td>\n",
       "      <td>0.597356</td>\n",
       "      <td>-0.554338</td>\n",
       "    </tr>\n",
       "    <tr>\n",
       "      <th>8</th>\n",
       "      <td>-0.773085</td>\n",
       "      <td>-0.872026</td>\n",
       "      <td>-1.040848</td>\n",
       "      <td>-1.605910</td>\n",
       "    </tr>\n",
       "  </tbody>\n",
       "</table>\n",
       "</div>"
      ],
      "text/plain": [
       "   headline_probabilty  keywords_probabilty  snippet_probabilty  \\\n",
       "2            -0.773085            -0.863198           -0.338760   \n",
       "5            -0.773085            -0.872026            1.767502   \n",
       "6            -0.773085            -0.863198           -0.338760   \n",
       "7             2.415158             2.517755            0.597356   \n",
       "8            -0.773085            -0.872026           -1.040848   \n",
       "\n",
       "   word_count_probabilty  \n",
       "2              -0.510628  \n",
       "5              -0.036308  \n",
       "6               0.117124  \n",
       "7              -0.554338  \n",
       "8              -1.605910  "
      ]
     },
     "execution_count": 117,
     "metadata": {},
     "output_type": "execute_result"
    }
   ],
   "source": [
    "proba_for_pred.head()"
   ]
  },
  {
   "cell_type": "code",
   "execution_count": 95,
   "metadata": {},
   "outputs": [
    {
     "data": {
      "text/plain": [
       "2      0.051137\n",
       "5      0.081232\n",
       "6      0.057894\n",
       "7      0.164496\n",
       "8      0.036046\n",
       "         ...   \n",
       "196    0.084029\n",
       "197    0.107893\n",
       "198    0.069402\n",
       "199    0.082406\n",
       "201    0.097941\n",
       "Name: predictions_from_proba, Length: 181, dtype: float64"
      ]
     },
     "execution_count": 95,
     "metadata": {},
     "output_type": "execute_result"
    }
   ],
   "source": [
    "predictions_from_proba = clf_proba.predict_proba(proba_for_pred)\n",
    "predictions_from_proba = [x[1] for x in predictions_from_proba]\n",
    "predictions_from_proba = pd.Series(predictions_from_proba, index=deployed_article_ids.index, \n",
    "                                   name='predictions_from_proba')\n",
    "predictions_from_proba"
   ]
  },
  {
   "cell_type": "code",
   "execution_count": 118,
   "metadata": {},
   "outputs": [],
   "source": [
    "class_for_pred = class_nlp_pipeline(df_feature_deploy, df_feature_deploy.index)"
   ]
  },
  {
   "cell_type": "code",
   "execution_count": 119,
   "metadata": {},
   "outputs": [
    {
     "data": {
      "text/html": [
       "<div>\n",
       "<style scoped>\n",
       "    .dataframe tbody tr th:only-of-type {\n",
       "        vertical-align: middle;\n",
       "    }\n",
       "\n",
       "    .dataframe tbody tr th {\n",
       "        vertical-align: top;\n",
       "    }\n",
       "\n",
       "    .dataframe thead th {\n",
       "        text-align: right;\n",
       "    }\n",
       "</style>\n",
       "<table border=\"1\" class=\"dataframe\">\n",
       "  <thead>\n",
       "    <tr style=\"text-align: right;\">\n",
       "      <th></th>\n",
       "      <th>headline_probabilty</th>\n",
       "      <th>keywords_probabilty</th>\n",
       "      <th>snippet_probabilty</th>\n",
       "      <th>word_count_probabilty</th>\n",
       "    </tr>\n",
       "  </thead>\n",
       "  <tbody>\n",
       "    <tr>\n",
       "      <th>2</th>\n",
       "      <td>1</td>\n",
       "      <td>1</td>\n",
       "      <td>1</td>\n",
       "      <td>0</td>\n",
       "    </tr>\n",
       "    <tr>\n",
       "      <th>5</th>\n",
       "      <td>1</td>\n",
       "      <td>0</td>\n",
       "      <td>0</td>\n",
       "      <td>0</td>\n",
       "    </tr>\n",
       "    <tr>\n",
       "      <th>6</th>\n",
       "      <td>1</td>\n",
       "      <td>1</td>\n",
       "      <td>1</td>\n",
       "      <td>1</td>\n",
       "    </tr>\n",
       "    <tr>\n",
       "      <th>7</th>\n",
       "      <td>1</td>\n",
       "      <td>0</td>\n",
       "      <td>0</td>\n",
       "      <td>0</td>\n",
       "    </tr>\n",
       "    <tr>\n",
       "      <th>8</th>\n",
       "      <td>0</td>\n",
       "      <td>0</td>\n",
       "      <td>0</td>\n",
       "      <td>0</td>\n",
       "    </tr>\n",
       "  </tbody>\n",
       "</table>\n",
       "</div>"
      ],
      "text/plain": [
       "   headline_probabilty  keywords_probabilty  snippet_probabilty  \\\n",
       "2                    1                    1                   1   \n",
       "5                    1                    0                   0   \n",
       "6                    1                    1                   1   \n",
       "7                    1                    0                   0   \n",
       "8                    0                    0                   0   \n",
       "\n",
       "   word_count_probabilty  \n",
       "2                      0  \n",
       "5                      0  \n",
       "6                      1  \n",
       "7                      0  \n",
       "8                      0  "
      ]
     },
     "execution_count": 119,
     "metadata": {},
     "output_type": "execute_result"
    }
   ],
   "source": [
    "class_for_pred.head()"
   ]
  },
  {
   "cell_type": "code",
   "execution_count": 120,
   "metadata": {},
   "outputs": [
    {
     "data": {
      "text/plain": [
       "2      0.046574\n",
       "5      0.029847\n",
       "6      0.083984\n",
       "7      0.029847\n",
       "8      0.074844\n",
       "         ...   \n",
       "196    0.040854\n",
       "197    0.110552\n",
       "198    0.046574\n",
       "199    0.029847\n",
       "201    0.083984\n",
       "Name: predictions_from_class, Length: 181, dtype: float64"
      ]
     },
     "execution_count": 120,
     "metadata": {},
     "output_type": "execute_result"
    }
   ],
   "source": [
    "predictions_from_class = clf_class.predict_proba(class_for_pred)\n",
    "predictions_from_class = [x[1] for x in predictions_from_class]\n",
    "predictions_from_class = pd.Series(predictions_from_class, index=deployed_article_ids.index,\n",
    "                                   name='predictions_from_class')\n",
    "predictions_from_class"
   ]
  },
  {
   "cell_type": "code",
   "execution_count": 99,
   "metadata": {},
   "outputs": [
    {
     "data": {
      "text/html": [
       "<div>\n",
       "<style scoped>\n",
       "    .dataframe tbody tr th:only-of-type {\n",
       "        vertical-align: middle;\n",
       "    }\n",
       "\n",
       "    .dataframe tbody tr th {\n",
       "        vertical-align: top;\n",
       "    }\n",
       "\n",
       "    .dataframe thead th {\n",
       "        text-align: right;\n",
       "    }\n",
       "</style>\n",
       "<table border=\"1\" class=\"dataframe\">\n",
       "  <thead>\n",
       "    <tr style=\"text-align: right;\">\n",
       "      <th></th>\n",
       "      <th>uri</th>\n",
       "      <th>date_published</th>\n",
       "      <th>predictions_from_proba</th>\n",
       "    </tr>\n",
       "  </thead>\n",
       "  <tbody>\n",
       "    <tr>\n",
       "      <th>129</th>\n",
       "      <td>nyt://article/96a0640a-78f6-556a-985b-5ca2881c...</td>\n",
       "      <td>2022-01-17</td>\n",
       "      <td>0.317376</td>\n",
       "    </tr>\n",
       "    <tr>\n",
       "      <th>38</th>\n",
       "      <td>nyt://article/47ae1e8e-64e9-5d46-96df-5edfb972...</td>\n",
       "      <td>2022-01-16</td>\n",
       "      <td>0.255603</td>\n",
       "    </tr>\n",
       "    <tr>\n",
       "      <th>83</th>\n",
       "      <td>nyt://article/b7f649ea-964a-566a-89f5-9d0cbf38...</td>\n",
       "      <td>2022-01-17</td>\n",
       "      <td>0.253418</td>\n",
       "    </tr>\n",
       "    <tr>\n",
       "      <th>182</th>\n",
       "      <td>nyt://article/325d8e75-4d50-5277-856f-980a5b9d...</td>\n",
       "      <td>2022-01-18</td>\n",
       "      <td>0.238128</td>\n",
       "    </tr>\n",
       "    <tr>\n",
       "      <th>55</th>\n",
       "      <td>nyt://article/505ace74-61e5-5377-af29-7e2a25dc...</td>\n",
       "      <td>2022-01-16</td>\n",
       "      <td>0.214137</td>\n",
       "    </tr>\n",
       "    <tr>\n",
       "      <th>97</th>\n",
       "      <td>nyt://article/e28a1219-771c-5233-8cec-51674bff...</td>\n",
       "      <td>2022-01-17</td>\n",
       "      <td>0.202685</td>\n",
       "    </tr>\n",
       "    <tr>\n",
       "      <th>13</th>\n",
       "      <td>nyt://article/d7fafe18-cecb-5ca7-91da-ac86e943...</td>\n",
       "      <td>2022-01-16</td>\n",
       "      <td>0.198367</td>\n",
       "    </tr>\n",
       "    <tr>\n",
       "      <th>168</th>\n",
       "      <td>nyt://article/95a8de39-99e5-53d9-acbf-5053b155...</td>\n",
       "      <td>2022-01-18</td>\n",
       "      <td>0.198224</td>\n",
       "    </tr>\n",
       "    <tr>\n",
       "      <th>130</th>\n",
       "      <td>nyt://article/29177d24-632b-533d-bee0-5a4bcf69...</td>\n",
       "      <td>2022-01-17</td>\n",
       "      <td>0.192314</td>\n",
       "    </tr>\n",
       "    <tr>\n",
       "      <th>66</th>\n",
       "      <td>nyt://article/0b018061-56cb-5893-b627-bd8672f8...</td>\n",
       "      <td>2022-01-16</td>\n",
       "      <td>0.190904</td>\n",
       "    </tr>\n",
       "    <tr>\n",
       "      <th>148</th>\n",
       "      <td>nyt://article/a33a7dc3-532d-5d5d-9c9e-8a935c4a...</td>\n",
       "      <td>2022-01-18</td>\n",
       "      <td>0.187576</td>\n",
       "    </tr>\n",
       "    <tr>\n",
       "      <th>192</th>\n",
       "      <td>nyt://article/a135cf06-2332-5434-a9b1-5e919e60...</td>\n",
       "      <td>2022-01-18</td>\n",
       "      <td>0.187099</td>\n",
       "    </tr>\n",
       "    <tr>\n",
       "      <th>150</th>\n",
       "      <td>nyt://article/f68a0d2d-93ca-5a69-a12d-53708088...</td>\n",
       "      <td>2022-01-18</td>\n",
       "      <td>0.185477</td>\n",
       "    </tr>\n",
       "    <tr>\n",
       "      <th>54</th>\n",
       "      <td>nyt://article/f60c2c42-854b-595d-a23a-50b6eb1d...</td>\n",
       "      <td>2022-01-16</td>\n",
       "      <td>0.18188</td>\n",
       "    </tr>\n",
       "    <tr>\n",
       "      <th>9</th>\n",
       "      <td>nyt://article/73e801a9-d932-5899-96ec-11d092bb...</td>\n",
       "      <td>2022-01-16</td>\n",
       "      <td>0.17886</td>\n",
       "    </tr>\n",
       "    <tr>\n",
       "      <th>22</th>\n",
       "      <td>nyt://article/f733e3f7-4925-5411-b1bd-36741401...</td>\n",
       "      <td>2022-01-16</td>\n",
       "      <td>0.175685</td>\n",
       "    </tr>\n",
       "    <tr>\n",
       "      <th>143</th>\n",
       "      <td>nyt://article/dddfa813-98d5-5c51-9e64-727e101f...</td>\n",
       "      <td>2022-01-17</td>\n",
       "      <td>0.172682</td>\n",
       "    </tr>\n",
       "    <tr>\n",
       "      <th>36</th>\n",
       "      <td>nyt://article/30308d6e-514f-5142-a51a-fec33bad...</td>\n",
       "      <td>2022-01-16</td>\n",
       "      <td>0.170486</td>\n",
       "    </tr>\n",
       "    <tr>\n",
       "      <th>181</th>\n",
       "      <td>nyt://article/bc667358-0f97-5b5d-a469-ed42e813...</td>\n",
       "      <td>2022-01-18</td>\n",
       "      <td>0.165643</td>\n",
       "    </tr>\n",
       "    <tr>\n",
       "      <th>7</th>\n",
       "      <td>nyt://article/ad52d330-1f21-51a4-98d0-b2b355d0...</td>\n",
       "      <td>2022-01-16</td>\n",
       "      <td>0.164496</td>\n",
       "    </tr>\n",
       "  </tbody>\n",
       "</table>\n",
       "</div>"
      ],
      "text/plain": [
       "                                                   uri date_published  \\\n",
       "129  nyt://article/96a0640a-78f6-556a-985b-5ca2881c...     2022-01-17   \n",
       "38   nyt://article/47ae1e8e-64e9-5d46-96df-5edfb972...     2022-01-16   \n",
       "83   nyt://article/b7f649ea-964a-566a-89f5-9d0cbf38...     2022-01-17   \n",
       "182  nyt://article/325d8e75-4d50-5277-856f-980a5b9d...     2022-01-18   \n",
       "55   nyt://article/505ace74-61e5-5377-af29-7e2a25dc...     2022-01-16   \n",
       "97   nyt://article/e28a1219-771c-5233-8cec-51674bff...     2022-01-17   \n",
       "13   nyt://article/d7fafe18-cecb-5ca7-91da-ac86e943...     2022-01-16   \n",
       "168  nyt://article/95a8de39-99e5-53d9-acbf-5053b155...     2022-01-18   \n",
       "130  nyt://article/29177d24-632b-533d-bee0-5a4bcf69...     2022-01-17   \n",
       "66   nyt://article/0b018061-56cb-5893-b627-bd8672f8...     2022-01-16   \n",
       "148  nyt://article/a33a7dc3-532d-5d5d-9c9e-8a935c4a...     2022-01-18   \n",
       "192  nyt://article/a135cf06-2332-5434-a9b1-5e919e60...     2022-01-18   \n",
       "150  nyt://article/f68a0d2d-93ca-5a69-a12d-53708088...     2022-01-18   \n",
       "54   nyt://article/f60c2c42-854b-595d-a23a-50b6eb1d...     2022-01-16   \n",
       "9    nyt://article/73e801a9-d932-5899-96ec-11d092bb...     2022-01-16   \n",
       "22   nyt://article/f733e3f7-4925-5411-b1bd-36741401...     2022-01-16   \n",
       "143  nyt://article/dddfa813-98d5-5c51-9e64-727e101f...     2022-01-17   \n",
       "36   nyt://article/30308d6e-514f-5142-a51a-fec33bad...     2022-01-16   \n",
       "181  nyt://article/bc667358-0f97-5b5d-a469-ed42e813...     2022-01-18   \n",
       "7    nyt://article/ad52d330-1f21-51a4-98d0-b2b355d0...     2022-01-16   \n",
       "\n",
       "    predictions_from_proba  \n",
       "129               0.317376  \n",
       "38                0.255603  \n",
       "83                0.253418  \n",
       "182               0.238128  \n",
       "55                0.214137  \n",
       "97                0.202685  \n",
       "13                0.198367  \n",
       "168               0.198224  \n",
       "130               0.192314  \n",
       "66                0.190904  \n",
       "148               0.187576  \n",
       "192               0.187099  \n",
       "150               0.185477  \n",
       "54                 0.18188  \n",
       "9                  0.17886  \n",
       "22                0.175685  \n",
       "143               0.172682  \n",
       "36                0.170486  \n",
       "181               0.165643  \n",
       "7                 0.164496  "
      ]
     },
     "execution_count": 99,
     "metadata": {},
     "output_type": "execute_result"
    }
   ],
   "source": [
    "top_20_from_proba = pd.DataFrame([deployed_article_ids, date_published, predictions_from_proba]).T\n",
    "\n",
    "top_20_from_proba.sort_values('predictions_from_proba', ascending=False, inplace=True) \n",
    "top_20_from_proba = top_20_from_proba[:20]\n",
    "top_20_from_proba"
   ]
  },
  {
   "cell_type": "code",
   "execution_count": 121,
   "metadata": {},
   "outputs": [
    {
     "data": {
      "text/html": [
       "<div>\n",
       "<style scoped>\n",
       "    .dataframe tbody tr th:only-of-type {\n",
       "        vertical-align: middle;\n",
       "    }\n",
       "\n",
       "    .dataframe tbody tr th {\n",
       "        vertical-align: top;\n",
       "    }\n",
       "\n",
       "    .dataframe thead th {\n",
       "        text-align: right;\n",
       "    }\n",
       "</style>\n",
       "<table border=\"1\" class=\"dataframe\">\n",
       "  <thead>\n",
       "    <tr style=\"text-align: right;\">\n",
       "      <th></th>\n",
       "      <th>uri</th>\n",
       "      <th>date_published</th>\n",
       "      <th>predictions_from_class</th>\n",
       "    </tr>\n",
       "  </thead>\n",
       "  <tbody>\n",
       "    <tr>\n",
       "      <th>123</th>\n",
       "      <td>nyt://article/9b5162b5-ab55-552a-adac-2b9e3233...</td>\n",
       "      <td>2022-01-17</td>\n",
       "      <td>0.246326</td>\n",
       "    </tr>\n",
       "    <tr>\n",
       "      <th>113</th>\n",
       "      <td>nyt://article/128345df-a557-54fd-a3e4-7f825e95...</td>\n",
       "      <td>2022-01-17</td>\n",
       "      <td>0.246326</td>\n",
       "    </tr>\n",
       "    <tr>\n",
       "      <th>74</th>\n",
       "      <td>nyt://article/b188134c-c7da-55bf-aa40-c18d13b1...</td>\n",
       "      <td>2022-01-17</td>\n",
       "      <td>0.246326</td>\n",
       "    </tr>\n",
       "    <tr>\n",
       "      <th>85</th>\n",
       "      <td>nyt://article/e1b92e4e-46fd-5173-87c0-589b3036...</td>\n",
       "      <td>2022-01-17</td>\n",
       "      <td>0.246326</td>\n",
       "    </tr>\n",
       "    <tr>\n",
       "      <th>37</th>\n",
       "      <td>nyt://article/4d849488-0a33-5bdb-a36b-2d2b68a5...</td>\n",
       "      <td>2022-01-16</td>\n",
       "      <td>0.246326</td>\n",
       "    </tr>\n",
       "    <tr>\n",
       "      <th>176</th>\n",
       "      <td>nyt://article/18fe0b46-c595-56ed-8fd8-e4a81c6e...</td>\n",
       "      <td>2022-01-18</td>\n",
       "      <td>0.246326</td>\n",
       "    </tr>\n",
       "    <tr>\n",
       "      <th>143</th>\n",
       "      <td>nyt://article/dddfa813-98d5-5c51-9e64-727e101f...</td>\n",
       "      <td>2022-01-17</td>\n",
       "      <td>0.194256</td>\n",
       "    </tr>\n",
       "    <tr>\n",
       "      <th>95</th>\n",
       "      <td>nyt://article/55f6b605-3986-58e8-8105-72070a0e...</td>\n",
       "      <td>2022-01-17</td>\n",
       "      <td>0.194256</td>\n",
       "    </tr>\n",
       "    <tr>\n",
       "      <th>57</th>\n",
       "      <td>nyt://article/0f048161-03a7-57e4-bc29-9c818a72...</td>\n",
       "      <td>2022-01-16</td>\n",
       "      <td>0.194256</td>\n",
       "    </tr>\n",
       "    <tr>\n",
       "      <th>11</th>\n",
       "      <td>nyt://article/4bfd4759-50e5-5817-b6ec-4b453e57...</td>\n",
       "      <td>2022-01-16</td>\n",
       "      <td>0.194256</td>\n",
       "    </tr>\n",
       "    <tr>\n",
       "      <th>98</th>\n",
       "      <td>nyt://article/0e409278-cac6-5622-9017-1384909d...</td>\n",
       "      <td>2022-01-17</td>\n",
       "      <td>0.194256</td>\n",
       "    </tr>\n",
       "    <tr>\n",
       "      <th>66</th>\n",
       "      <td>nyt://article/0b018061-56cb-5893-b627-bd8672f8...</td>\n",
       "      <td>2022-01-16</td>\n",
       "      <td>0.194256</td>\n",
       "    </tr>\n",
       "    <tr>\n",
       "      <th>187</th>\n",
       "      <td>nyt://article/da8b9cd0-a4bb-5b36-93e8-1027b1d3...</td>\n",
       "      <td>2022-01-18</td>\n",
       "      <td>0.194256</td>\n",
       "    </tr>\n",
       "    <tr>\n",
       "      <th>30</th>\n",
       "      <td>nyt://article/07f73558-bcfe-5647-9398-5a6c445c...</td>\n",
       "      <td>2022-01-16</td>\n",
       "      <td>0.194256</td>\n",
       "    </tr>\n",
       "    <tr>\n",
       "      <th>185</th>\n",
       "      <td>nyt://article/fefd2ada-1e95-5285-9cb9-f6f1bc25...</td>\n",
       "      <td>2022-01-18</td>\n",
       "      <td>0.194256</td>\n",
       "    </tr>\n",
       "    <tr>\n",
       "      <th>112</th>\n",
       "      <td>nyt://slideshow/ba684a41-ff71-5e72-aa31-a39570...</td>\n",
       "      <td>2022-01-17</td>\n",
       "      <td>0.14831</td>\n",
       "    </tr>\n",
       "    <tr>\n",
       "      <th>45</th>\n",
       "      <td>nyt://article/a5d89472-99c8-5776-b921-704182b2...</td>\n",
       "      <td>2022-01-16</td>\n",
       "      <td>0.14831</td>\n",
       "    </tr>\n",
       "    <tr>\n",
       "      <th>120</th>\n",
       "      <td>nyt://article/b4f85de3-46e5-5cde-90a2-f5c50ac6...</td>\n",
       "      <td>2022-01-17</td>\n",
       "      <td>0.14831</td>\n",
       "    </tr>\n",
       "    <tr>\n",
       "      <th>159</th>\n",
       "      <td>nyt://article/9666ae43-0367-52cd-9211-0fe753c0...</td>\n",
       "      <td>2022-01-18</td>\n",
       "      <td>0.14831</td>\n",
       "    </tr>\n",
       "    <tr>\n",
       "      <th>32</th>\n",
       "      <td>nyt://article/b24f375a-8d8c-56e5-8929-4a094ab5...</td>\n",
       "      <td>2022-01-16</td>\n",
       "      <td>0.14831</td>\n",
       "    </tr>\n",
       "  </tbody>\n",
       "</table>\n",
       "</div>"
      ],
      "text/plain": [
       "                                                   uri date_published  \\\n",
       "123  nyt://article/9b5162b5-ab55-552a-adac-2b9e3233...     2022-01-17   \n",
       "113  nyt://article/128345df-a557-54fd-a3e4-7f825e95...     2022-01-17   \n",
       "74   nyt://article/b188134c-c7da-55bf-aa40-c18d13b1...     2022-01-17   \n",
       "85   nyt://article/e1b92e4e-46fd-5173-87c0-589b3036...     2022-01-17   \n",
       "37   nyt://article/4d849488-0a33-5bdb-a36b-2d2b68a5...     2022-01-16   \n",
       "176  nyt://article/18fe0b46-c595-56ed-8fd8-e4a81c6e...     2022-01-18   \n",
       "143  nyt://article/dddfa813-98d5-5c51-9e64-727e101f...     2022-01-17   \n",
       "95   nyt://article/55f6b605-3986-58e8-8105-72070a0e...     2022-01-17   \n",
       "57   nyt://article/0f048161-03a7-57e4-bc29-9c818a72...     2022-01-16   \n",
       "11   nyt://article/4bfd4759-50e5-5817-b6ec-4b453e57...     2022-01-16   \n",
       "98   nyt://article/0e409278-cac6-5622-9017-1384909d...     2022-01-17   \n",
       "66   nyt://article/0b018061-56cb-5893-b627-bd8672f8...     2022-01-16   \n",
       "187  nyt://article/da8b9cd0-a4bb-5b36-93e8-1027b1d3...     2022-01-18   \n",
       "30   nyt://article/07f73558-bcfe-5647-9398-5a6c445c...     2022-01-16   \n",
       "185  nyt://article/fefd2ada-1e95-5285-9cb9-f6f1bc25...     2022-01-18   \n",
       "112  nyt://slideshow/ba684a41-ff71-5e72-aa31-a39570...     2022-01-17   \n",
       "45   nyt://article/a5d89472-99c8-5776-b921-704182b2...     2022-01-16   \n",
       "120  nyt://article/b4f85de3-46e5-5cde-90a2-f5c50ac6...     2022-01-17   \n",
       "159  nyt://article/9666ae43-0367-52cd-9211-0fe753c0...     2022-01-18   \n",
       "32   nyt://article/b24f375a-8d8c-56e5-8929-4a094ab5...     2022-01-16   \n",
       "\n",
       "    predictions_from_class  \n",
       "123               0.246326  \n",
       "113               0.246326  \n",
       "74                0.246326  \n",
       "85                0.246326  \n",
       "37                0.246326  \n",
       "176               0.246326  \n",
       "143               0.194256  \n",
       "95                0.194256  \n",
       "57                0.194256  \n",
       "11                0.194256  \n",
       "98                0.194256  \n",
       "66                0.194256  \n",
       "187               0.194256  \n",
       "30                0.194256  \n",
       "185               0.194256  \n",
       "112                0.14831  \n",
       "45                 0.14831  \n",
       "120                0.14831  \n",
       "159                0.14831  \n",
       "32                 0.14831  "
      ]
     },
     "execution_count": 121,
     "metadata": {},
     "output_type": "execute_result"
    }
   ],
   "source": [
    "top_20_from_class = pd.DataFrame([deployed_article_ids, date_published, predictions_from_class]).T\n",
    "\n",
    "\n",
    "top_20_from_class.sort_values('predictions_from_class', ascending=False, inplace=True)\n",
    "top_20_from_class = top_20_from_class[:20]\n",
    "top_20_from_class"
   ]
  },
  {
   "cell_type": "code",
   "execution_count": null,
   "metadata": {},
   "outputs": [],
   "source": []
  },
  {
   "cell_type": "code",
   "execution_count": 204,
   "metadata": {},
   "outputs": [
    {
     "data": {
      "text/plain": [
       "(20, 2)"
      ]
     },
     "execution_count": 204,
     "metadata": {},
     "output_type": "execute_result"
    }
   ],
   "source": [
    "df_top_20.shape"
   ]
  },
  {
   "cell_type": "code",
   "execution_count": 205,
   "metadata": {},
   "outputs": [
    {
     "data": {
      "text/plain": [
       "(20, 3)"
      ]
     },
     "execution_count": 205,
     "metadata": {},
     "output_type": "execute_result"
    }
   ],
   "source": [
    "top_20_from_proba.shape"
   ]
  },
  {
   "cell_type": "code",
   "execution_count": null,
   "metadata": {},
   "outputs": [],
   "source": []
  },
  {
   "cell_type": "code",
   "execution_count": 113,
   "metadata": {},
   "outputs": [
    {
     "name": "stdout",
     "output_type": "stream",
     "text": [
      "5\n"
     ]
    },
    {
     "data": {
      "text/plain": [
       "20"
      ]
     },
     "execution_count": 113,
     "metadata": {},
     "output_type": "execute_result"
    }
   ],
   "source": [
    "proba_tf_pipe = [1 if x in df_top_20.uri.values else 0 for x in top_20_from_proba.uri.values]\n",
    "print(sum(proba_tf_pipe))\n",
    "len(proba_tf_pipe)"
   ]
  },
  {
   "cell_type": "code",
   "execution_count": 122,
   "metadata": {},
   "outputs": [
    {
     "name": "stdout",
     "output_type": "stream",
     "text": [
      "2\n"
     ]
    },
    {
     "data": {
      "text/plain": [
       "20"
      ]
     },
     "execution_count": 122,
     "metadata": {},
     "output_type": "execute_result"
    }
   ],
   "source": [
    "class_cv_pipe = [1 if x in df_top_20.uri.values else 0 for x in top_20_from_class.uri.values]\n",
    "print(sum(class_cv_pipe))\n",
    "len(class_cv_pipe)"
   ]
  },
  {
   "cell_type": "code",
   "execution_count": null,
   "metadata": {},
   "outputs": [],
   "source": [
    "def score_top20_pred(top_20_from_proba, top_20_from_class, df_top_20):\n",
    "    \n",
    "    proba_tf_pipe = [1 for x in df_top_20.uri for x in top_20_from_proba.uri]\n",
    "    \n",
    "    \n",
    "    \n",
    "    \n",
    "    \n",
    "    "
   ]
  },
  {
   "cell_type": "code",
   "execution_count": null,
   "metadata": {},
   "outputs": [],
   "source": [
    "[1 if x in popular_list else 0 for x in df['uri']]"
   ]
  },
  {
   "cell_type": "code",
   "execution_count": null,
   "metadata": {},
   "outputs": [],
   "source": [
    "def save_predictions(prediction_day, proba_top_20, class_top_20):\n",
    "    \n",
    "    proba_top_20.to_csv(f'data/predctions/proba_top_20_{prediction_day}.csv')\n",
    "    class_top_20.to_csv(f'data/predctions/proba_top_20_{prediction_day}.csv')"
   ]
  },
  {
   "cell_type": "code",
   "execution_count": null,
   "metadata": {},
   "outputs": [],
   "source": []
  },
  {
   "cell_type": "code",
   "execution_count": null,
   "metadata": {},
   "outputs": [],
   "source": [
    "def test_predictions(prediction_day):\n",
    "    \n",
    "    \n",
    "    \n",
    "    "
   ]
  },
  {
   "cell_type": "code",
   "execution_count": null,
   "metadata": {},
   "outputs": [],
   "source": []
  },
  {
   "cell_type": "code",
   "execution_count": null,
   "metadata": {},
   "outputs": [],
   "source": []
  },
  {
   "cell_type": "code",
   "execution_count": null,
   "metadata": {},
   "outputs": [],
   "source": []
  },
  {
   "cell_type": "code",
   "execution_count": null,
   "metadata": {},
   "outputs": [],
   "source": []
  },
  {
   "cell_type": "code",
   "execution_count": null,
   "metadata": {},
   "outputs": [],
   "source": [
    "test_idx = pd.Index([23,46,78])"
   ]
  },
  {
   "cell_type": "code",
   "execution_count": null,
   "metadata": {},
   "outputs": [],
   "source": [
    "col1 = pd.Series([1,2,3], index=test_idx)\n",
    "col2 = [4,5,6]"
   ]
  },
  {
   "cell_type": "code",
   "execution_count": null,
   "metadata": {},
   "outputs": [],
   "source": [
    "col1"
   ]
  },
  {
   "cell_type": "code",
   "execution_count": null,
   "metadata": {},
   "outputs": [],
   "source": [
    "test_df = pd.DataFrame([col1, pd.Series(col2, index=col1.index)]).T.sort_values(1, ascending=False)\n",
    "test_df"
   ]
  },
  {
   "cell_type": "code",
   "execution_count": null,
   "metadata": {},
   "outputs": [],
   "source": [
    "test_df.iloc[:, -1:]"
   ]
  },
  {
   "cell_type": "code",
   "execution_count": null,
   "metadata": {},
   "outputs": [],
   "source": []
  }
 ],
 "metadata": {
  "kernelspec": {
   "display_name": "Python (learn-env)",
   "language": "python",
   "name": "learn-env"
  },
  "language_info": {
   "codemirror_mode": {
    "name": "ipython",
    "version": 3
   },
   "file_extension": ".py",
   "mimetype": "text/x-python",
   "name": "python",
   "nbconvert_exporter": "python",
   "pygments_lexer": "ipython3",
   "version": "3.8.5"
  }
 },
 "nbformat": 4,
 "nbformat_minor": 4
}
