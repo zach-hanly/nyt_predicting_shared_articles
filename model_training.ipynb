{
 "cells": [
  {
   "cell_type": "markdown",
   "metadata": {},
   "source": [
    "# Modeling Training and Deployment"
   ]
  },
  {
   "cell_type": "code",
   "execution_count": 1,
   "metadata": {},
   "outputs": [],
   "source": [
    "import os\n",
    "import re\n",
    "\n",
    "import pandas as pd\n",
    "import numpy as np\n",
    "from functions import *\n",
    "\n",
    "from sklearn.model_selection import train_test_split, GridSearchCV, cross_val_score\n",
    "from sklearn.dummy import DummyClassifier\n",
    "from sklearn.feature_extraction.text import TfidfVectorizer, CountVectorizer\n",
    "from sklearn.preprocessing import OneHotEncoder\n",
    "from sklearn.tree import DecisionTreeClassifier\n",
    "from sklearn.ensemble import RandomForestClassifier\n",
    "from sklearn.linear_model import LogisticRegression\n",
    "from sklearn.naive_bayes import GaussianNB, BernoulliNB, MultinomialNB\n",
    "from sklearn.metrics import accuracy_score, precision_score, recall_score, f1_score\n",
    "from sklearn.metrics import plot_confusion_matrix, plot_roc_curve, confusion_matrix\n",
    "\n",
    "from imblearn.over_sampling import SMOTE\n",
    "\n",
    "import nltk\n",
    "from nltk.probability import FreqDist\n",
    "from nltk.corpus import stopwords, wordnet\n",
    "from nltk.tokenize import RegexpTokenizer\n",
    "from nltk import pos_tag\n",
    "from nltk.stem import WordNetLemmatizer \n",
    "\n",
    "import matplotlib.pyplot as plt"
   ]
  },
  {
   "cell_type": "markdown",
   "metadata": {},
   "source": [
    "## Exploratory Data Analysis  "
   ]
  },
  {
   "cell_type": "code",
   "execution_count": 2,
   "metadata": {},
   "outputs": [],
   "source": [
    "df = pd.read_csv('data/archive_train.csv')\n",
    "df.dropna(inplace=True)\n",
    "\n",
    "df_most_shared = load_most_shared('data/most_popular_train')\n",
    "df.date_published = df.date_published.apply(lambda x: pd.to_datetime(x).date())"
   ]
  },
  {
   "cell_type": "code",
   "execution_count": 3,
   "metadata": {},
   "outputs": [],
   "source": [
    "popular_list = df_most_shared.uri.values\n",
    "df['popular'] = [1 if x in popular_list else 0 for x in df['uri']]"
   ]
  },
  {
   "cell_type": "code",
   "execution_count": 4,
   "metadata": {},
   "outputs": [
    {
     "data": {
      "text/html": [
       "<div>\n",
       "<style scoped>\n",
       "    .dataframe tbody tr th:only-of-type {\n",
       "        vertical-align: middle;\n",
       "    }\n",
       "\n",
       "    .dataframe tbody tr th {\n",
       "        vertical-align: top;\n",
       "    }\n",
       "\n",
       "    .dataframe thead th {\n",
       "        text-align: right;\n",
       "    }\n",
       "</style>\n",
       "<table border=\"1\" class=\"dataframe\">\n",
       "  <thead>\n",
       "    <tr style=\"text-align: right;\">\n",
       "      <th></th>\n",
       "      <th>uri</th>\n",
       "      <th>date_published</th>\n",
       "      <th>headline</th>\n",
       "      <th>keywords</th>\n",
       "      <th>snippet</th>\n",
       "      <th>word_count</th>\n",
       "      <th>popular</th>\n",
       "    </tr>\n",
       "  </thead>\n",
       "  <tbody>\n",
       "    <tr>\n",
       "      <th>0</th>\n",
       "      <td>nyt://article/4e2abcbc-9563-56c0-bf18-c93ce4e7...</td>\n",
       "      <td>2021-12-01</td>\n",
       "      <td>let’s end the covid blame games</td>\n",
       "      <td>coronavirus omicron variantcoronavirus (2019-n...</td>\n",
       "      <td>Finger pointing is pointless, divisive and dumb.</td>\n",
       "      <td>918</td>\n",
       "      <td>0</td>\n",
       "    </tr>\n",
       "    <tr>\n",
       "      <th>1</th>\n",
       "      <td>nyt://article/f7a5e7ef-e4cd-575c-a0e1-ff4d18d5...</td>\n",
       "      <td>2021-12-01</td>\n",
       "      <td>trump’s iran policy has become a disaster for ...</td>\n",
       "      <td>irannuclear weaponsembargoes and sanctionsunit...</td>\n",
       "      <td>Withdrawing from the Iran nuclear deal was a m...</td>\n",
       "      <td>1560</td>\n",
       "      <td>0</td>\n",
       "    </tr>\n",
       "    <tr>\n",
       "      <th>2</th>\n",
       "      <td>nyt://article/778af86c-b600-5aeb-be98-0a9a1aa1...</td>\n",
       "      <td>2021-12-01</td>\n",
       "      <td>this extinct eagle may have gulped guts like a...</td>\n",
       "      <td>eagles (birds)vultures (birds)condorsendangere...</td>\n",
       "      <td>Scientists suggest the largest eagle that ever...</td>\n",
       "      <td>913</td>\n",
       "      <td>0</td>\n",
       "    </tr>\n",
       "    <tr>\n",
       "      <th>3</th>\n",
       "      <td>nyt://article/fb7763c2-0f41-5c81-9ecf-17607ba5...</td>\n",
       "      <td>2021-12-01</td>\n",
       "      <td>republican recriminations point to a rocky pat...</td>\n",
       "      <td>republican partyhouse of representativesboeber...</td>\n",
       "      <td>Simmering tensions between the far-right flank...</td>\n",
       "      <td>1172</td>\n",
       "      <td>0</td>\n",
       "    </tr>\n",
       "    <tr>\n",
       "      <th>4</th>\n",
       "      <td>nyt://article/ba0afd37-0c00-5535-8868-21130e28...</td>\n",
       "      <td>2021-12-01</td>\n",
       "      <td>a times editor who attended oxford recalls a d...</td>\n",
       "      <td>school shootings and armed attacks</td>\n",
       "      <td>Three teenage students were killed on Tuesday ...</td>\n",
       "      <td>309</td>\n",
       "      <td>0</td>\n",
       "    </tr>\n",
       "  </tbody>\n",
       "</table>\n",
       "</div>"
      ],
      "text/plain": [
       "                                                 uri date_published  \\\n",
       "0  nyt://article/4e2abcbc-9563-56c0-bf18-c93ce4e7...     2021-12-01   \n",
       "1  nyt://article/f7a5e7ef-e4cd-575c-a0e1-ff4d18d5...     2021-12-01   \n",
       "2  nyt://article/778af86c-b600-5aeb-be98-0a9a1aa1...     2021-12-01   \n",
       "3  nyt://article/fb7763c2-0f41-5c81-9ecf-17607ba5...     2021-12-01   \n",
       "4  nyt://article/ba0afd37-0c00-5535-8868-21130e28...     2021-12-01   \n",
       "\n",
       "                                            headline  \\\n",
       "0                    let’s end the covid blame games   \n",
       "1  trump’s iran policy has become a disaster for ...   \n",
       "2  this extinct eagle may have gulped guts like a...   \n",
       "3  republican recriminations point to a rocky pat...   \n",
       "4  a times editor who attended oxford recalls a d...   \n",
       "\n",
       "                                            keywords  \\\n",
       "0  coronavirus omicron variantcoronavirus (2019-n...   \n",
       "1  irannuclear weaponsembargoes and sanctionsunit...   \n",
       "2  eagles (birds)vultures (birds)condorsendangere...   \n",
       "3  republican partyhouse of representativesboeber...   \n",
       "4                 school shootings and armed attacks   \n",
       "\n",
       "                                             snippet  word_count  popular  \n",
       "0  Finger pointing is pointless, divisive and dumb.          918        0  \n",
       "1  Withdrawing from the Iran nuclear deal was a m...        1560        0  \n",
       "2  Scientists suggest the largest eagle that ever...         913        0  \n",
       "3  Simmering tensions between the far-right flank...        1172        0  \n",
       "4  Three teenage students were killed on Tuesday ...         309        0  "
      ]
     },
     "execution_count": 4,
     "metadata": {},
     "output_type": "execute_result"
    }
   ],
   "source": [
    "df.head()"
   ]
  },
  {
   "cell_type": "code",
   "execution_count": 5,
   "metadata": {},
   "outputs": [
    {
     "data": {
      "text/plain": [
       "datetime.date(2021, 12, 1)"
      ]
     },
     "execution_count": 5,
     "metadata": {},
     "output_type": "execute_result"
    }
   ],
   "source": [
    "df.date_published[0]"
   ]
  },
  {
   "cell_type": "code",
   "execution_count": 6,
   "metadata": {},
   "outputs": [
    {
     "name": "stdout",
     "output_type": "stream",
     "text": [
      "<class 'pandas.core.frame.DataFrame'>\n",
      "Int64Index: 4693 entries, 0 to 5233\n",
      "Data columns (total 7 columns):\n",
      " #   Column          Non-Null Count  Dtype \n",
      "---  ------          --------------  ----- \n",
      " 0   uri             4693 non-null   object\n",
      " 1   date_published  4693 non-null   object\n",
      " 2   headline        4693 non-null   object\n",
      " 3   keywords        4693 non-null   object\n",
      " 4   snippet         4693 non-null   object\n",
      " 5   word_count      4693 non-null   int64 \n",
      " 6   popular         4693 non-null   int64 \n",
      "dtypes: int64(2), object(5)\n",
      "memory usage: 453.3+ KB\n"
     ]
    }
   ],
   "source": [
    "df.info()"
   ]
  },
  {
   "cell_type": "code",
   "execution_count": 7,
   "metadata": {},
   "outputs": [
    {
     "data": {
      "text/plain": [
       "0    0.98615\n",
       "1    0.01385\n",
       "Name: popular, dtype: float64"
      ]
     },
     "execution_count": 7,
     "metadata": {},
     "output_type": "execute_result"
    }
   ],
   "source": [
    "df.popular.value_counts(normalize=True)"
   ]
  },
  {
   "cell_type": "markdown",
   "metadata": {},
   "source": [
    "## Train-Test Split"
   ]
  },
  {
   "cell_type": "code",
   "execution_count": 8,
   "metadata": {},
   "outputs": [],
   "source": [
    "X = df.drop('popular', axis=1)\n",
    "y = df.popular"
   ]
  },
  {
   "cell_type": "code",
   "execution_count": 9,
   "metadata": {},
   "outputs": [],
   "source": [
    "X_train, X_test, y_train, y_test = train_test_split(X, y, random_state=0, test_size=0.25)"
   ]
  },
  {
   "cell_type": "markdown",
   "metadata": {},
   "source": [
    "## Dummy classifier"
   ]
  },
  {
   "cell_type": "code",
   "execution_count": 10,
   "metadata": {},
   "outputs": [],
   "source": [
    "dummy = DummyClassifier(random_state=0, strategy='stratified') \n",
    "\n",
    "#establishing random_state for reproducibility\n",
    "\n",
    "dummy.fit(X_train, y_train)\n",
    "y_pred = dummy.predict(X_test)"
   ]
  },
  {
   "cell_type": "code",
   "execution_count": 11,
   "metadata": {},
   "outputs": [
    {
     "name": "stdout",
     "output_type": "stream",
     "text": [
      "Accuracy Score: 0.9770017035775128\n"
     ]
    }
   ],
   "source": [
    "print(\"Accuracy Score: {}\".format(accuracy_score(y_test, y_pred)))"
   ]
  },
  {
   "cell_type": "code",
   "execution_count": 12,
   "metadata": {},
   "outputs": [
    {
     "data": {
      "text/plain": [
       "17"
      ]
     },
     "execution_count": 12,
     "metadata": {},
     "output_type": "execute_result"
    }
   ],
   "source": [
    "dummy_prob = dummy.predict_proba(X_test)\n",
    "dummy_prob = [x[1] for x in dummy_prob if x[1] == 1]\n",
    "len(dummy_prob)"
   ]
  },
  {
   "cell_type": "code",
   "execution_count": 13,
   "metadata": {},
   "outputs": [
    {
     "data": {
      "image/png": "[encoded data removed]",
      "text/plain": [
       "<Figure size 432x288 with 2 Axes>"
      ]
     },
     "metadata": {
      "needs_background": "light"
     },
     "output_type": "display_data"
    }
   ],
   "source": [
    "plot_confusion_matrix(estimator=dummy, X=X_test, y_true=y_test, normalize='true');"
   ]
  },
  {
   "cell_type": "markdown",
   "metadata": {},
   "source": [
    "## Data Preprocessing "
   ]
  },
  {
   "cell_type": "markdown",
   "metadata": {},
   "source": [
    "#### Headline"
   ]
  },
  {
   "cell_type": "markdown",
   "metadata": {},
   "source": [
    "##### TfidfVectorizer"
   ]
  },
  {
   "cell_type": "code",
   "execution_count": 14,
   "metadata": {},
   "outputs": [
    {
     "data": {
      "image/png": "[encoded data removed]",
      "text/plain": [
       "<Figure size 576x720 with 1 Axes>"
      ]
     },
     "metadata": {
      "needs_background": "light"
     },
     "output_type": "display_data"
    }
   ],
   "source": [
    "headline_tf, X_train_headline_tf, X_test_headline_tf = vectorize_feature(TfidfVectorizer, \n",
    "                                                                         X_train.headline, X_test.headline)\n",
    "\n",
    "X_train_headline_tf, X_test_headline_tf = vector_tokenized(headline_tf, X_train.headline, X_test.headline)\n",
    "\n",
    "\n",
    "X_train_headline_tf_sm, y_train_headline_tf_sm = smote_data(X_train_headline_tf, y_train, \n",
    "                                                  sampling_strategy='auto',random_state=0)\n",
    "\n",
    "# used later: X_train_headline_tf_sm, y_train_headline_tf_sm, X_test_headline_tf\n",
    "\n",
    "plot_top_words(headline_tf, X_train_headline_tf);"
   ]
  },
  {
   "cell_type": "markdown",
   "metadata": {},
   "source": [
    "##### CountVectorizer"
   ]
  },
  {
   "cell_type": "code",
   "execution_count": 15,
   "metadata": {},
   "outputs": [
    {
     "data": {
      "image/png": "[encoded data removed]",
      "text/plain": [
       "<Figure size 576x720 with 1 Axes>"
      ]
     },
     "metadata": {
      "needs_background": "light"
     },
     "output_type": "display_data"
    }
   ],
   "source": [
    "headline_cv, X_train_headline_cv, X_test_headline_cv = vectorize_feature(CountVectorizer, \n",
    "                                                                         X_train.headline, X_test.headline)\n",
    "\n",
    "X_train_headline_cv, X_test_headline_cv = vector_tokenized(headline_cv, X_train.headline, X_test.headline)\n",
    "\n",
    "X_train_headline_cv_sm, y_train_headline_cv_sm = smote_data(X_train_headline_cv, y_train, \n",
    "                                                  sampling_strategy='auto',random_state=0)\n",
    "\n",
    "# used later: X_train_headline_cv_sm, y_train_headline_cv_sm, X_test_headline_cv\n",
    "\n",
    "plot_top_words(headline_cv, X_train_headline_cv);"
   ]
  },
  {
   "cell_type": "markdown",
   "metadata": {},
   "source": [
    "#### Keywords"
   ]
  },
  {
   "cell_type": "markdown",
   "metadata": {},
   "source": [
    "##### TfidfVectorizer"
   ]
  },
  {
   "cell_type": "code",
   "execution_count": 16,
   "metadata": {},
   "outputs": [
    {
     "data": {
      "image/png": "[encoded data removed]",
      "text/plain": [
       "<Figure size 576x720 with 1 Axes>"
      ]
     },
     "metadata": {
      "needs_background": "light"
     },
     "output_type": "display_data"
    }
   ],
   "source": [
    "keywords_tf, X_train_keywords_tf, X_test_keywords_tf = vectorize_feature(TfidfVectorizer, \n",
    "                                                                         X_train.keywords, X_test.keywords)\n",
    "\n",
    "X_train_keywords_tf, X_test_keywords_tf = vector_tokenized(keywords_tf, X_train.keywords, X_test.keywords)\n",
    "\n",
    "X_train_keywords_tf_sm, y_train_keywords_tf_sm = smote_data(X_train_keywords_tf, y_train, \n",
    "                                                  sampling_strategy='auto',random_state=0)\n",
    "\n",
    "# used later: X_train_keywords_tf_sm, y_train_keywords_tf_sm, X_test_keywords_tf\n",
    "\n",
    "plot_top_words(keywords_tf, X_train_keywords_tf);"
   ]
  },
  {
   "cell_type": "markdown",
   "metadata": {},
   "source": [
    "##### CountVectorizer"
   ]
  },
  {
   "cell_type": "code",
   "execution_count": 17,
   "metadata": {},
   "outputs": [
    {
     "data": {
      "image/png": "[encoded data removed]",
      "text/plain": [
       "<Figure size 576x720 with 1 Axes>"
      ]
     },
     "metadata": {
      "needs_background": "light"
     },
     "output_type": "display_data"
    }
   ],
   "source": [
    "keywords_cv, X_train_keywords_cv, X_test_keywords_cv = vectorize_feature(CountVectorizer, \n",
    "                                                                         X_train.keywords, X_test.keywords)\n",
    "\n",
    "X_train_keywords_cv, X_test_keywords_cv = vector_tokenized(keywords_cv, X_train.keywords, X_test.keywords)\n",
    "\n",
    "X_train_keywords_cv_sm, y_train_keywords_cv_sm = smote_data(X_train_keywords_cv, y_train, \n",
    "                                                  sampling_strategy='auto',random_state=0)\n",
    "\n",
    "# used later: X_train_keywords_cv_sm, y_train_keywords_cv_sm, X_test_keywords_cv\n",
    "\n",
    "plot_top_words(keywords_cv, X_train_keywords_cv);"
   ]
  },
  {
   "cell_type": "markdown",
   "metadata": {},
   "source": [
    "#### Snippet"
   ]
  },
  {
   "cell_type": "markdown",
   "metadata": {},
   "source": [
    "##### TfidfVectorizer"
   ]
  },
  {
   "cell_type": "code",
   "execution_count": 18,
   "metadata": {},
   "outputs": [
    {
     "data": {
      "image/png": "[encoded data removed]",
      "text/plain": [
       "<Figure size 576x720 with 1 Axes>"
      ]
     },
     "metadata": {
      "needs_background": "light"
     },
     "output_type": "display_data"
    }
   ],
   "source": [
    "snippet_tf, X_train_snippet_tf, X_test_snippet_tf = vectorize_feature(TfidfVectorizer, \n",
    "                                                                         X_train.snippet, X_test.snippet)\n",
    "\n",
    "X_train_snippet_tf, X_test_snippet_tf = vector_tokenized(snippet_tf, X_train.snippet, X_test.snippet)\n",
    "\n",
    "X_train_snippet_tf_sm, y_train_snippet_tf_sm = smote_data(X_train_snippet_tf, y_train, \n",
    "                                                  sampling_strategy='auto',random_state=0)\n",
    "\n",
    "# used later: X_train_snippet_tf_sm, y_train_snippet_tf_sm, X_test_snippet_tf\n",
    "\n",
    "plot_top_words(snippet_tf, X_train_snippet_tf);"
   ]
  },
  {
   "cell_type": "markdown",
   "metadata": {},
   "source": [
    "##### CountVectorizer"
   ]
  },
  {
   "cell_type": "code",
   "execution_count": 19,
   "metadata": {},
   "outputs": [
    {
     "data": {
      "image/png": "[encoded data removed]",
      "text/plain": [
       "<Figure size 576x720 with 1 Axes>"
      ]
     },
     "metadata": {
      "needs_background": "light"
     },
     "output_type": "display_data"
    }
   ],
   "source": [
    "snippet_cv, X_train_snippet_cv, X_test_snippet_cv = vectorize_feature(CountVectorizer, \n",
    "                                                                         X_train.snippet, X_test.snippet)\n",
    "\n",
    "X_train_snippet_cv, X_test_snippet_cv = vector_tokenized(snippet_cv, X_train.snippet, X_test.snippet)\n",
    "\n",
    "X_train_snippet_cv_sm, y_train_snippet_cv_sm = smote_data(X_train_snippet_cv, y_train, \n",
    "                                                  sampling_strategy='auto',random_state=0)\n",
    "\n",
    "# used later: X_train_snippet_cv_sm, y_train_snippet_cv_sm, X_test_snippet_cv\n",
    "\n",
    "plot_top_words(snippet_cv, X_train_snippet_cv);"
   ]
  },
  {
   "cell_type": "markdown",
   "metadata": {},
   "source": [
    "#### Word Count"
   ]
  },
  {
   "cell_type": "code",
   "execution_count": 20,
   "metadata": {},
   "outputs": [],
   "source": [
    "X_train_word_count_sm, y_train_word_count_sm = smote_data(X_train.word_count.values.reshape(-1, 1), \n",
    "                                                          y_train, sampling_strategy='auto',\n",
    "                                                          random_state=0)"
   ]
  },
  {
   "cell_type": "markdown",
   "metadata": {},
   "source": [
    "## Model Training"
   ]
  },
  {
   "cell_type": "code",
   "execution_count": 21,
   "metadata": {},
   "outputs": [],
   "source": [
    "def random_forrest_tf(X_train, y_train, X_test, y_test):\n",
    "    \n",
    "    forrest = RandomForestClassifier()\n",
    "    grid = {'n_estimators': [50,75,100]}\n",
    "    \n",
    "    gs = GridSearchCV(estimator=forrest, param_grid=grid, cv=5, scoring='accuracy')\n",
    "    gs.fit(X_train, y_train)\n",
    "\n",
    "    score = gs.score(X_test, y_test)\n",
    "    print(f'mean accuracy: {score}')\n",
    "    \n",
    "    class_probability = gs.predict_proba(X_test)\n",
    "    target_probability = [x[1] for x in class_probability]\n",
    "    \n",
    "    # Plot an ROC curve (only works with binary data)\n",
    "    fig, ax = plt.subplots()\n",
    "    plt.title('ROC Curve')\n",
    "    plot_roc_curve(gs, X_train, y_train, name='Train', ax=ax)\n",
    "    plot_roc_curve(gs, X_test, y_test, name='Test', ax=ax)\n",
    "    \n",
    "    # Plot Confusion Matrix\n",
    "    plot_confusion_matrix(gs, X_test, y_test)\n",
    "    \n",
    "    return target_probability"
   ]
  },
  {
   "cell_type": "code",
   "execution_count": null,
   "metadata": {},
   "outputs": [],
   "source": [
    "def random_forrest_cv(X_train, y_train, X_test, y_test):\n",
    "    \n",
    "    forrest = RandomForestClassifier()\n",
    "    grid = {'n_estimators': [50,75,100]}\n",
    "    \n",
    "    gs = GridSearchCV(estimator=forrest, param_grid=grid, cv=5, scoring='accuracy')\n",
    "    gs.fit(X_train, y_train)\n",
    "\n",
    "    score = gs.score(X_test, y_test)\n",
    "    print(f'mean accuracy: {score}')\n",
    "    \n",
    "    class_probability = gs.predict_proba(X_test)\n",
    "    target_probability = [x[1] for x in class_probability]\n",
    "    \n",
    "    # Plot an ROC curve (only works with binary data)\n",
    "    fig, ax = plt.subplots()\n",
    "    plt.title('ROC Curve')\n",
    "    plot_roc_curve(gs, X_train, y_train, name='Train', ax=ax)\n",
    "    plot_roc_curve(gs, X_test, y_test, name='Test', ax=ax)\n",
    "    \n",
    "    # Plot Confusion Matrix\n",
    "    plot_confusion_matrix(gs, X_test, y_test)\n",
    "    \n",
    "    return target_probability"
   ]
  },
  {
   "cell_type": "code",
   "execution_count": 36,
   "metadata": {},
   "outputs": [
    {
     "data": {
      "text/plain": [
       "GridSearchCV(cv=5, estimator=RandomForestClassifier(),\n",
       "             param_grid={'n_estimators': [50, 75, 100]}, scoring='accuracy')"
      ]
     },
     "execution_count": 36,
     "metadata": {},
     "output_type": "execute_result"
    }
   ],
   "source": [
    "forrest = RandomForestClassifier()\n",
    "grid = {'n_estimators': [50,75,100]}\n",
    "gs = GridSearchCV(estimator=forrest, param_grid=grid, cv=5, scoring='accuracy')\n",
    "gs.fit(X_train_headline_cv_sm, y_train_headline_cv_sm)"
   ]
  },
  {
   "cell_type": "code",
   "execution_count": 37,
   "metadata": {},
   "outputs": [],
   "source": [
    "y_pred = gs.predict(X_test_headline_cv)"
   ]
  },
  {
   "cell_type": "code",
   "execution_count": 39,
   "metadata": {},
   "outputs": [
    {
     "data": {
      "text/plain": [
       "1174"
      ]
     },
     "execution_count": 39,
     "metadata": {},
     "output_type": "execute_result"
    }
   ],
   "source": [
    "len(y_pred)"
   ]
  },
  {
   "cell_type": "code",
   "execution_count": 40,
   "metadata": {},
   "outputs": [
    {
     "data": {
      "text/plain": [
       "0.74190800681431"
      ]
     },
     "execution_count": 40,
     "metadata": {},
     "output_type": "execute_result"
    }
   ],
   "source": [
    "accuracy_score(y_test, y_pred)"
   ]
  },
  {
   "cell_type": "code",
   "execution_count": 41,
   "metadata": {},
   "outputs": [
    {
     "data": {
      "text/plain": [
       "<sklearn.metrics._plot.confusion_matrix.ConfusionMatrixDisplay at 0x7fbf261e5220>"
      ]
     },
     "execution_count": 41,
     "metadata": {},
     "output_type": "execute_result"
    },
    {
     "data": {
      "image/png": "[encoded data removed]",
      "text/plain": [
       "<Figure size 432x288 with 2 Axes>"
      ]
     },
     "metadata": {
      "needs_background": "light"
     },
     "output_type": "display_data"
    }
   ],
   "source": [
    "plot_confusion_matrix(gs, X_test_headline_cv, y_test)"
   ]
  },
  {
   "cell_type": "markdown",
   "metadata": {},
   "source": [
    "### Headline"
   ]
  },
  {
   "cell_type": "markdown",
   "metadata": {},
   "source": [
    "##### TfidfVectorizer"
   ]
  },
  {
   "cell_type": "code",
   "execution_count": 22,
   "metadata": {},
   "outputs": [
    {
     "name": "stdout",
     "output_type": "stream",
     "text": [
      "mean accuracy: 0.9914821124361158\n",
      "number of probabilities: 1174\n",
      "\n"
     ]
    },
    {
     "data": {
      "image/png": "[encoded data removed]",
      "text/plain": [
       "<Figure size 432x288 with 1 Axes>"
      ]
     },
     "metadata": {
      "needs_background": "light"
     },
     "output_type": "display_data"
    },
    {
     "data": {
      "image/png": "[encoded data removed]",
      "text/plain": [
       "<Figure size 432x288 with 2 Axes>"
      ]
     },
     "metadata": {
      "needs_background": "light"
     },
     "output_type": "display_data"
    }
   ],
   "source": [
    "headline_tf_prob = random_forrest(X_train_headline_tf_sm, y_train_headline_tf_sm, X_test_headline_tf, y_test)\n",
    "print(f'number of probabilities: {len(headline_tf_prob)}')\n",
    "print()"
   ]
  },
  {
   "cell_type": "markdown",
   "metadata": {},
   "source": [
    "##### CountVectorizer"
   ]
  },
  {
   "cell_type": "code",
   "execution_count": 23,
   "metadata": {},
   "outputs": [
    {
     "name": "stdout",
     "output_type": "stream",
     "text": [
      "mean accuracy: 0.7367972742759795\n",
      "number of probabilities: 1174\n",
      "\n"
     ]
    },
    {
     "data": {
      "image/png": "[encoded data removed]",
      "text/plain": [
       "<Figure size 432x288 with 1 Axes>"
      ]
     },
     "metadata": {
      "needs_background": "light"
     },
     "output_type": "display_data"
    },
    {
     "data": {
      "image/png": "[encoded data removed]",
      "text/plain": [
       "<Figure size 432x288 with 2 Axes>"
      ]
     },
     "metadata": {
      "needs_background": "light"
     },
     "output_type": "display_data"
    }
   ],
   "source": [
    "headline_cv_prob = random_forrest(X_train_headline_cv_sm, y_train_headline_cv_sm, X_test_headline_cv, y_test)\n",
    "print(f'number of probabilities: {len(headline_cv_prob)}')\n",
    "print()"
   ]
  },
  {
   "cell_type": "markdown",
   "metadata": {},
   "source": [
    "### Keywords"
   ]
  },
  {
   "cell_type": "markdown",
   "metadata": {},
   "source": [
    "##### TfidfVectorizer"
   ]
  },
  {
   "cell_type": "code",
   "execution_count": 24,
   "metadata": {},
   "outputs": [
    {
     "name": "stdout",
     "output_type": "stream",
     "text": [
      "mean accuracy: 0.9906303236797275\n",
      "number of probabilities: 1174\n",
      "\n"
     ]
    },
    {
     "data": {
      "image/png": "[encoded data removed]",
      "text/plain": [
       "<Figure size 432x288 with 1 Axes>"
      ]
     },
     "metadata": {
      "needs_background": "light"
     },
     "output_type": "display_data"
    },
    {
     "data": {
      "image/png": "[encoded data removed]",
      "text/plain": [
       "<Figure size 432x288 with 2 Axes>"
      ]
     },
     "metadata": {
      "needs_background": "light"
     },
     "output_type": "display_data"
    }
   ],
   "source": [
    "keywords_tf_prob = random_forrest(X_train_keywords_tf_sm, y_train_keywords_tf_sm, X_test_keywords_tf, y_test)\n",
    "print(f'number of probabilities: {len(keywords_tf_prob)}')\n",
    "print()"
   ]
  },
  {
   "cell_type": "markdown",
   "metadata": {},
   "source": [
    "##### CountVectorizer"
   ]
  },
  {
   "cell_type": "code",
   "execution_count": 25,
   "metadata": {},
   "outputs": [
    {
     "name": "stdout",
     "output_type": "stream",
     "text": [
      "mean accuracy: 0.8253833049403748\n",
      "number of probabilities: 1174\n",
      "\n"
     ]
    },
    {
     "data": {
      "image/png": "[encoded data removed]",
      "text/plain": [
       "<Figure size 432x288 with 1 Axes>"
      ]
     },
     "metadata": {
      "needs_background": "light"
     },
     "output_type": "display_data"
    },
    {
     "data": {
      "image/png": "[encoded data removed]",
      "text/plain": [
       "<Figure size 432x288 with 2 Axes>"
      ]
     },
     "metadata": {
      "needs_background": "light"
     },
     "output_type": "display_data"
    }
   ],
   "source": [
    "keywords_cv_prob = random_forrest(X_train_keywords_cv_sm, y_train_keywords_cv_sm, X_test_keywords_cv, y_test)\n",
    "print(f'number of probabilities: {len(keywords_cv_prob)}')\n",
    "print()"
   ]
  },
  {
   "cell_type": "markdown",
   "metadata": {},
   "source": [
    "### Snippet "
   ]
  },
  {
   "cell_type": "markdown",
   "metadata": {},
   "source": [
    "##### TfidfVectorizer"
   ]
  },
  {
   "cell_type": "code",
   "execution_count": 26,
   "metadata": {},
   "outputs": [
    {
     "name": "stdout",
     "output_type": "stream",
     "text": [
      "mean accuracy: 0.9914821124361158\n",
      "number of probabilities: 1174\n",
      "\n"
     ]
    },
    {
     "data": {
      "image/png": "[encoded data removed]",
      "text/plain": [
       "<Figure size 432x288 with 1 Axes>"
      ]
     },
     "metadata": {
      "needs_background": "light"
     },
     "output_type": "display_data"
    },
    {
     "data": {
      "image/png": "[encoded data removed]",
      "text/plain": [
       "<Figure size 432x288 with 2 Axes>"
      ]
     },
     "metadata": {
      "needs_background": "light"
     },
     "output_type": "display_data"
    }
   ],
   "source": [
    "snippet_tf_prob = random_forrest(X_train_snippet_tf_sm, y_train_snippet_tf_sm, X_test_snippet_tf, y_test)\n",
    "print(f'number of probabilities: {len(snippet_tf_prob)}')\n",
    "print()"
   ]
  },
  {
   "cell_type": "markdown",
   "metadata": {},
   "source": [
    "##### CountVectorizer"
   ]
  },
  {
   "cell_type": "code",
   "execution_count": 27,
   "metadata": {},
   "outputs": [
    {
     "name": "stdout",
     "output_type": "stream",
     "text": [
      "mean accuracy: 0.8637137989778535\n",
      "number of probabilities: 1174\n",
      "\n"
     ]
    },
    {
     "data": {
      "image/png": "[encoded data removed]",
      "text/plain": [
       "<Figure size 432x288 with 1 Axes>"
      ]
     },
     "metadata": {
      "needs_background": "light"
     },
     "output_type": "display_data"
    },
    {
     "data": {
      "image/png": "[encoded data removed]",
      "text/plain": [
       "<Figure size 432x288 with 2 Axes>"
      ]
     },
     "metadata": {
      "needs_background": "light"
     },
     "output_type": "display_data"
    }
   ],
   "source": [
    "snippet_cv_prob = random_forrest(X_train_snippet_cv_sm, y_train_snippet_cv_sm, X_test_snippet_cv, y_test)\n",
    "print(f'number of probabilities: {len(snippet_cv_prob)}')\n",
    "print()"
   ]
  },
  {
   "cell_type": "markdown",
   "metadata": {},
   "source": [
    "## Word Count Logistic"
   ]
  },
  {
   "cell_type": "code",
   "execution_count": 28,
   "metadata": {},
   "outputs": [],
   "source": [
    "clf_word_count = LogisticRegression()"
   ]
  },
  {
   "cell_type": "code",
   "execution_count": 29,
   "metadata": {},
   "outputs": [
    {
     "data": {
      "text/plain": [
       "LogisticRegression()"
      ]
     },
     "execution_count": 29,
     "metadata": {},
     "output_type": "execute_result"
    }
   ],
   "source": [
    "clf_word_count.fit(X_train_word_count_sm, y_train_word_count_sm)"
   ]
  },
  {
   "cell_type": "code",
   "execution_count": 30,
   "metadata": {},
   "outputs": [
    {
     "data": {
      "text/plain": [
       "1174"
      ]
     },
     "execution_count": 30,
     "metadata": {},
     "output_type": "execute_result"
    }
   ],
   "source": [
    "word_count_prob = clf_word_count.predict_proba(X_test.word_count.values.reshape(-1, 1))\n",
    "word_count_prob = [x[1] for x in word_count_prob]\n",
    "len(word_count_prob)"
   ]
  },
  {
   "cell_type": "code",
   "execution_count": 31,
   "metadata": {},
   "outputs": [
    {
     "data": {
      "text/plain": [
       "0.530664395229983"
      ]
     },
     "execution_count": 31,
     "metadata": {},
     "output_type": "execute_result"
    }
   ],
   "source": [
    "clf_word_count.score(X_test.word_count.values.reshape(-1, 1), y_test)"
   ]
  },
  {
   "cell_type": "code",
   "execution_count": 32,
   "metadata": {},
   "outputs": [
    {
     "data": {
      "image/png": "[encoded data removed]",
      "text/plain": [
       "<Figure size 432x288 with 1 Axes>"
      ]
     },
     "metadata": {
      "needs_background": "light"
     },
     "output_type": "display_data"
    }
   ],
   "source": [
    "# Plot an ROC curve (only works with binary data)\n",
    "fig, ax = plt.subplots()\n",
    "plt.title('ROC Curve')\n",
    "plot_roc_curve(clf_word_count, X_train_word_count_sm, y_train_word_count_sm, name='Train', ax=ax)\n",
    "plot_roc_curve(clf_word_count, X_test.word_count.values.reshape(-1, 1), y_test, name='Test', ax=ax);"
   ]
  },
  {
   "cell_type": "markdown",
   "metadata": {},
   "source": [
    "### Logistic Regression"
   ]
  },
  {
   "cell_type": "markdown",
   "metadata": {},
   "source": [
    "##### Cleaning"
   ]
  },
  {
   "cell_type": "code",
   "execution_count": 33,
   "metadata": {},
   "outputs": [],
   "source": [
    "df_predict_tf = pd.DataFrame({'headline_prob': headline_tf_prob, \n",
    "                           'keywords_prob': keywords_tf_prob, \n",
    "                           'snippet_prob': snippet_tf_prob,\n",
    "                           'word_count_prob': word_count_prob, \n",
    "                           'popular': y_test})"
   ]
  },
  {
   "cell_type": "code",
   "execution_count": 34,
   "metadata": {},
   "outputs": [
    {
     "data": {
      "text/html": [
       "<div>\n",
       "<style scoped>\n",
       "    .dataframe tbody tr th:only-of-type {\n",
       "        vertical-align: middle;\n",
       "    }\n",
       "\n",
       "    .dataframe tbody tr th {\n",
       "        vertical-align: top;\n",
       "    }\n",
       "\n",
       "    .dataframe thead th {\n",
       "        text-align: right;\n",
       "    }\n",
       "</style>\n",
       "<table border=\"1\" class=\"dataframe\">\n",
       "  <thead>\n",
       "    <tr style=\"text-align: right;\">\n",
       "      <th></th>\n",
       "      <th>headline_prob</th>\n",
       "      <th>keywords_prob</th>\n",
       "      <th>snippet_prob</th>\n",
       "      <th>word_count_prob</th>\n",
       "      <th>popular</th>\n",
       "    </tr>\n",
       "  </thead>\n",
       "  <tbody>\n",
       "    <tr>\n",
       "      <th>3934</th>\n",
       "      <td>0.01</td>\n",
       "      <td>0.000000</td>\n",
       "      <td>0.0</td>\n",
       "      <td>0.476415</td>\n",
       "      <td>0</td>\n",
       "    </tr>\n",
       "    <tr>\n",
       "      <th>604</th>\n",
       "      <td>0.01</td>\n",
       "      <td>0.133333</td>\n",
       "      <td>0.0</td>\n",
       "      <td>0.546910</td>\n",
       "      <td>0</td>\n",
       "    </tr>\n",
       "    <tr>\n",
       "      <th>48</th>\n",
       "      <td>0.00</td>\n",
       "      <td>0.013333</td>\n",
       "      <td>0.0</td>\n",
       "      <td>0.481230</td>\n",
       "      <td>0</td>\n",
       "    </tr>\n",
       "    <tr>\n",
       "      <th>963</th>\n",
       "      <td>0.00</td>\n",
       "      <td>0.000000</td>\n",
       "      <td>0.0</td>\n",
       "      <td>0.468326</td>\n",
       "      <td>0</td>\n",
       "    </tr>\n",
       "    <tr>\n",
       "      <th>2167</th>\n",
       "      <td>0.00</td>\n",
       "      <td>0.000000</td>\n",
       "      <td>0.0</td>\n",
       "      <td>0.495125</td>\n",
       "      <td>0</td>\n",
       "    </tr>\n",
       "  </tbody>\n",
       "</table>\n",
       "</div>"
      ],
      "text/plain": [
       "      headline_prob  keywords_prob  snippet_prob  word_count_prob  popular\n",
       "3934           0.01       0.000000           0.0         0.476415        0\n",
       "604            0.01       0.133333           0.0         0.546910        0\n",
       "48             0.00       0.013333           0.0         0.481230        0\n",
       "963            0.00       0.000000           0.0         0.468326        0\n",
       "2167           0.00       0.000000           0.0         0.495125        0"
      ]
     },
     "execution_count": 34,
     "metadata": {},
     "output_type": "execute_result"
    }
   ],
   "source": [
    "df_predict_tf.head()"
   ]
  },
  {
   "cell_type": "code",
   "execution_count": 35,
   "metadata": {},
   "outputs": [
    {
     "ename": "NameError",
     "evalue": "name 'df_predict' is not defined",
     "output_type": "error",
     "traceback": [
      "\u001b[0;31m-----------------------------\u001b[0m",
      "\u001b[0;31mNameError\u001b[0mTraceback (most recent call last)",
      "\u001b[0;32m<ipython-input-35-0cdfe8a589f0>\u001b[0m in \u001b[0;36m<module>\u001b[0;34m\u001b[0m\n\u001b[0;32m----> 1\u001b[0;31m \u001b[0mdf_predict\u001b[0m\u001b[0;34m.\u001b[0m\u001b[0minfo\u001b[0m\u001b[0;34m(\u001b[0m\u001b[0;34m)\u001b[0m\u001b[0;34m\u001b[0m\u001b[0;34m\u001b[0m\u001b[0m\n\u001b[0m",
      "\u001b[0;31mNameError\u001b[0m: name 'df_predict' is not defined"
     ]
    }
   ],
   "source": [
    "df_predict.info()"
   ]
  },
  {
   "cell_type": "code",
   "execution_count": null,
   "metadata": {},
   "outputs": [],
   "source": [
    "df_predict_tf.popular.value_counts(normalize=True)"
   ]
  },
  {
   "cell_type": "code",
   "execution_count": null,
   "metadata": {},
   "outputs": [],
   "source": [
    "df_predict_cv = pd.DataFrame({'headline_prob': headline_cv_prob, \n",
    "                           'keywords_prob': keywords_cv_prob, \n",
    "                           'snippet_prob': snippet_cv_prob,\n",
    "                           'word_count_prob': word_count_prob, \n",
    "                           'popular': y_test})"
   ]
  },
  {
   "cell_type": "code",
   "execution_count": null,
   "metadata": {},
   "outputs": [],
   "source": [
    "df_predict_cv.head()"
   ]
  },
  {
   "cell_type": "code",
   "execution_count": null,
   "metadata": {},
   "outputs": [],
   "source": [
    "df_predict_cv.info()"
   ]
  },
  {
   "cell_type": "code",
   "execution_count": null,
   "metadata": {},
   "outputs": [],
   "source": [
    "df_predict_cv.popular.value_counts(normalize=True)"
   ]
  },
  {
   "cell_type": "markdown",
   "metadata": {},
   "source": [
    "##### Modeling"
   ]
  },
  {
   "cell_type": "code",
   "execution_count": null,
   "metadata": {},
   "outputs": [],
   "source": [
    "features_tf = df_predict_tf.drop('popular', axis=1)\n",
    "target_tf = df_predict_tf.popular"
   ]
  },
  {
   "cell_type": "code",
   "execution_count": null,
   "metadata": {},
   "outputs": [],
   "source": [
    "clf_tf = LogisticRegression()"
   ]
  },
  {
   "cell_type": "code",
   "execution_count": null,
   "metadata": {},
   "outputs": [],
   "source": [
    "clf_tf.fit(features_tf, target_tf)"
   ]
  },
  {
   "cell_type": "code",
   "execution_count": null,
   "metadata": {},
   "outputs": [],
   "source": [
    "# clf_tf.predict_proba()"
   ]
  },
  {
   "cell_type": "code",
   "execution_count": null,
   "metadata": {},
   "outputs": [],
   "source": []
  },
  {
   "cell_type": "code",
   "execution_count": null,
   "metadata": {},
   "outputs": [],
   "source": [
    "features_cv = df_predict_cv.drop('popular', axis=1)\n",
    "target_cv = df_predict_cv.popular"
   ]
  },
  {
   "cell_type": "code",
   "execution_count": null,
   "metadata": {},
   "outputs": [],
   "source": [
    "clf_cv = LogisticRegression()"
   ]
  },
  {
   "cell_type": "code",
   "execution_count": null,
   "metadata": {},
   "outputs": [],
   "source": [
    "clf_cv.fit(features_cv, target_cv)"
   ]
  },
  {
   "cell_type": "code",
   "execution_count": null,
   "metadata": {},
   "outputs": [],
   "source": []
  },
  {
   "cell_type": "code",
   "execution_count": null,
   "metadata": {},
   "outputs": [],
   "source": [
    "# clf_tf.predict_proba()"
   ]
  },
  {
   "cell_type": "code",
   "execution_count": null,
   "metadata": {},
   "outputs": [],
   "source": [
    "# y_hat = pd.Series(clf.predict(features))"
   ]
  },
  {
   "cell_type": "code",
   "execution_count": null,
   "metadata": {},
   "outputs": [],
   "source": [
    "# y_hat.value_counts()"
   ]
  },
  {
   "cell_type": "code",
   "execution_count": null,
   "metadata": {},
   "outputs": [],
   "source": [
    "# X_test.uri.index"
   ]
  },
  {
   "cell_type": "code",
   "execution_count": null,
   "metadata": {},
   "outputs": [],
   "source": [
    "# index = X_test.uri.index"
   ]
  },
  {
   "cell_type": "code",
   "execution_count": null,
   "metadata": {},
   "outputs": [],
   "source": [
    "# test_df = pd.DataFrame({'uri': X_test.uri, 'popular':y_hat}, index=index)"
   ]
  },
  {
   "cell_type": "code",
   "execution_count": null,
   "metadata": {},
   "outputs": [],
   "source": [
    "# test_df.head()"
   ]
  },
  {
   "cell_type": "code",
   "execution_count": null,
   "metadata": {},
   "outputs": [],
   "source": [
    "# test_df.popular.value_counts()"
   ]
  },
  {
   "cell_type": "markdown",
   "metadata": {},
   "source": [
    "## Model Deployment"
   ]
  },
  {
   "cell_type": "code",
   "execution_count": null,
   "metadata": {},
   "outputs": [],
   "source": []
  },
  {
   "cell_type": "code",
   "execution_count": null,
   "metadata": {},
   "outputs": [],
   "source": []
  },
  {
   "cell_type": "code",
   "execution_count": null,
   "metadata": {},
   "outputs": [],
   "source": []
  }
 ],
 "metadata": {
  "kernelspec": {
   "display_name": "Python (learn-env)",
   "language": "python",
   "name": "learn-env"
  },
  "language_info": {
   "codemirror_mode": {
    "name": "ipython",
    "version": 3
   },
   "file_extension": ".py",
   "mimetype": "text/x-python",
   "name": "python",
   "nbconvert_exporter": "python",
   "pygments_lexer": "ipython3",
   "version": "3.8.5"
  }
 },
 "nbformat": 4,
 "nbformat_minor": 4
}
