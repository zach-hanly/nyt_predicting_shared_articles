{
 "cells": [
  {
   "cell_type": "markdown",
   "metadata": {},
   "source": [
    "# Modeling Training and Deployment"
   ]
  },
  {
   "cell_type": "code",
   "execution_count": 376,
   "metadata": {},
   "outputs": [],
   "source": [
    "import os\n",
    "import re\n",
    "\n",
    "import pandas as pd\n",
    "import numpy as np\n",
    "from functions import *\n",
    "\n",
    "from sklearn.model_selection import train_test_split, GridSearchCV, cross_val_score\n",
    "from sklearn.dummy import DummyClassifier\n",
    "from sklearn.feature_extraction.text import TfidfVectorizer, CountVectorizer\n",
    "from sklearn.preprocessing import OneHotEncoder\n",
    "from sklearn.tree import DecisionTreeClassifier\n",
    "from sklearn.ensemble import RandomForestClassifier\n",
    "from sklearn.linear_model import LogisticRegression\n",
    "from sklearn.naive_bayes import GaussianNB, BernoulliNB, MultinomialNB\n",
    "from sklearn.metrics import accuracy_score, precision_score, recall_score, f1_score\n",
    "from sklearn.metrics import plot_confusion_matrix, plot_roc_curve, confusion_matrix\n",
    "\n",
    "from imblearn.over_sampling import SMOTE\n",
    "\n",
    "import nltk\n",
    "from nltk.probability import FreqDist\n",
    "from nltk.corpus import stopwords,wordnet\n",
    "from nltk.tokenize import RegexpTokenizer\n",
    "from nltk import pos_tag\n",
    "from nltk.stem import WordNetLemmatizer \n",
    "\n",
    "import matplotlib.pyplot as plt"
   ]
  },
  {
   "cell_type": "code",
   "execution_count": 377,
   "metadata": {},
   "outputs": [],
   "source": [
    "df = pd.read_csv('data/article_archive.csv')\n",
    "df.dropna(inplace=True)\n",
    "df_most_shared = load_most_shared('data/most_popular')"
   ]
  },
  {
   "cell_type": "code",
   "execution_count": 378,
   "metadata": {},
   "outputs": [],
   "source": [
    "popular_list = df_most_shared.uri.values\n",
    "df['popular'] = [1 if x in popular_list else 0 for x in df['uri']]"
   ]
  },
  {
   "cell_type": "code",
   "execution_count": 379,
   "metadata": {},
   "outputs": [
    {
     "data": {
      "text/html": [
       "<div>\n",
       "<style scoped>\n",
       "    .dataframe tbody tr th:only-of-type {\n",
       "        vertical-align: middle;\n",
       "    }\n",
       "\n",
       "    .dataframe tbody tr th {\n",
       "        vertical-align: top;\n",
       "    }\n",
       "\n",
       "    .dataframe thead th {\n",
       "        text-align: right;\n",
       "    }\n",
       "</style>\n",
       "<table border=\"1\" class=\"dataframe\">\n",
       "  <thead>\n",
       "    <tr style=\"text-align: right;\">\n",
       "      <th></th>\n",
       "      <th>uri</th>\n",
       "      <th>date_published</th>\n",
       "      <th>headline</th>\n",
       "      <th>keywords</th>\n",
       "      <th>snippet</th>\n",
       "      <th>word_count</th>\n",
       "      <th>popular</th>\n",
       "    </tr>\n",
       "  </thead>\n",
       "  <tbody>\n",
       "    <tr>\n",
       "      <th>0</th>\n",
       "      <td>nyt://article/4e2abcbc-9563-56c0-bf18-c93ce4e7...</td>\n",
       "      <td>2021-12-01T00:00:07+0000</td>\n",
       "      <td>let’s end the covid blame games</td>\n",
       "      <td>coronavirus omicron variantcoronavirus (2019-n...</td>\n",
       "      <td>Finger pointing is pointless, divisive and dumb.</td>\n",
       "      <td>918</td>\n",
       "      <td>0</td>\n",
       "    </tr>\n",
       "    <tr>\n",
       "      <th>1</th>\n",
       "      <td>nyt://article/f7a5e7ef-e4cd-575c-a0e1-ff4d18d5...</td>\n",
       "      <td>2021-12-01T00:00:07+0000</td>\n",
       "      <td>trump’s iran policy has become a disaster for ...</td>\n",
       "      <td>irannuclear weaponsembargoes and sanctionsunit...</td>\n",
       "      <td>Withdrawing from the Iran nuclear deal was a m...</td>\n",
       "      <td>1560</td>\n",
       "      <td>0</td>\n",
       "    </tr>\n",
       "    <tr>\n",
       "      <th>2</th>\n",
       "      <td>nyt://article/778af86c-b600-5aeb-be98-0a9a1aa1...</td>\n",
       "      <td>2021-12-01T00:00:10+0000</td>\n",
       "      <td>this extinct eagle may have gulped guts like a...</td>\n",
       "      <td>eagles (birds)vultures (birds)condorsendangere...</td>\n",
       "      <td>Scientists suggest the largest eagle that ever...</td>\n",
       "      <td>913</td>\n",
       "      <td>0</td>\n",
       "    </tr>\n",
       "    <tr>\n",
       "      <th>3</th>\n",
       "      <td>nyt://article/fb7763c2-0f41-5c81-9ecf-17607ba5...</td>\n",
       "      <td>2021-12-01T00:14:33+0000</td>\n",
       "      <td>republican recriminations point to a rocky pat...</td>\n",
       "      <td>republican partyhouse of representativesboeber...</td>\n",
       "      <td>Simmering tensions between the far-right flank...</td>\n",
       "      <td>1172</td>\n",
       "      <td>0</td>\n",
       "    </tr>\n",
       "    <tr>\n",
       "      <th>4</th>\n",
       "      <td>nyt://article/ba0afd37-0c00-5535-8868-21130e28...</td>\n",
       "      <td>2021-12-01T00:17:02+0000</td>\n",
       "      <td>a times editor who attended oxford recalls a d...</td>\n",
       "      <td>school shootings and armed attacks</td>\n",
       "      <td>Three teenage students were killed on Tuesday ...</td>\n",
       "      <td>309</td>\n",
       "      <td>0</td>\n",
       "    </tr>\n",
       "  </tbody>\n",
       "</table>\n",
       "</div>"
      ],
      "text/plain": [
       "                                                 uri  \\\n",
       "0  nyt://article/4e2abcbc-9563-56c0-bf18-c93ce4e7...   \n",
       "1  nyt://article/f7a5e7ef-e4cd-575c-a0e1-ff4d18d5...   \n",
       "2  nyt://article/778af86c-b600-5aeb-be98-0a9a1aa1...   \n",
       "3  nyt://article/fb7763c2-0f41-5c81-9ecf-17607ba5...   \n",
       "4  nyt://article/ba0afd37-0c00-5535-8868-21130e28...   \n",
       "\n",
       "             date_published  \\\n",
       "0  2021-12-01T00:00:07+0000   \n",
       "1  2021-12-01T00:00:07+0000   \n",
       "2  2021-12-01T00:00:10+0000   \n",
       "3  2021-12-01T00:14:33+0000   \n",
       "4  2021-12-01T00:17:02+0000   \n",
       "\n",
       "                                            headline  \\\n",
       "0                    let’s end the covid blame games   \n",
       "1  trump’s iran policy has become a disaster for ...   \n",
       "2  this extinct eagle may have gulped guts like a...   \n",
       "3  republican recriminations point to a rocky pat...   \n",
       "4  a times editor who attended oxford recalls a d...   \n",
       "\n",
       "                                            keywords  \\\n",
       "0  coronavirus omicron variantcoronavirus (2019-n...   \n",
       "1  irannuclear weaponsembargoes and sanctionsunit...   \n",
       "2  eagles (birds)vultures (birds)condorsendangere...   \n",
       "3  republican partyhouse of representativesboeber...   \n",
       "4                 school shootings and armed attacks   \n",
       "\n",
       "                                             snippet  word_count  popular  \n",
       "0  Finger pointing is pointless, divisive and dumb.          918        0  \n",
       "1  Withdrawing from the Iran nuclear deal was a m...        1560        0  \n",
       "2  Scientists suggest the largest eagle that ever...         913        0  \n",
       "3  Simmering tensions between the far-right flank...        1172        0  \n",
       "4  Three teenage students were killed on Tuesday ...         309        0  "
      ]
     },
     "execution_count": 379,
     "metadata": {},
     "output_type": "execute_result"
    }
   ],
   "source": [
    "df.head()"
   ]
  },
  {
   "cell_type": "code",
   "execution_count": 380,
   "metadata": {},
   "outputs": [
    {
     "name": "stdout",
     "output_type": "stream",
     "text": [
      "<class 'pandas.core.frame.DataFrame'>\n",
      "Int64Index: 4564 entries, 0 to 5095\n",
      "Data columns (total 7 columns):\n",
      " #   Column          Non-Null Count  Dtype \n",
      "---  ------          --------------  ----- \n",
      " 0   uri             4564 non-null   object\n",
      " 1   date_published  4564 non-null   object\n",
      " 2   headline        4564 non-null   object\n",
      " 3   keywords        4564 non-null   object\n",
      " 4   snippet         4564 non-null   object\n",
      " 5   word_count      4564 non-null   int64 \n",
      " 6   popular         4564 non-null   int64 \n",
      "dtypes: int64(2), object(5)\n",
      "memory usage: 285.2+ KB\n"
     ]
    }
   ],
   "source": [
    "df.info()"
   ]
  },
  {
   "cell_type": "code",
   "execution_count": 381,
   "metadata": {},
   "outputs": [
    {
     "data": {
      "text/plain": [
       "0    4513\n",
       "1      51\n",
       "Name: popular, dtype: int64"
      ]
     },
     "execution_count": 381,
     "metadata": {},
     "output_type": "execute_result"
    }
   ],
   "source": [
    "df.popular.value_counts()"
   ]
  },
  {
   "cell_type": "markdown",
   "metadata": {},
   "source": [
    "## Train-Test Split"
   ]
  },
  {
   "cell_type": "code",
   "execution_count": 382,
   "metadata": {},
   "outputs": [],
   "source": [
    "X = df.drop('popular', axis=1)\n",
    "y = df.popular"
   ]
  },
  {
   "cell_type": "code",
   "execution_count": 383,
   "metadata": {},
   "outputs": [],
   "source": [
    "X_train, X_test, y_train, y_test = train_test_split(X, y, random_state=0, test_size=0.25)"
   ]
  },
  {
   "cell_type": "markdown",
   "metadata": {},
   "source": [
    "## Dummy classifier"
   ]
  },
  {
   "cell_type": "code",
   "execution_count": 384,
   "metadata": {},
   "outputs": [],
   "source": [
    "dummy = DummyClassifier(random_state=0, strategy='stratified') \n",
    "\n",
    "#establishing random_state for reproducibility\n",
    "\n",
    "dummy.fit(X_train, y_train)\n",
    "y_pred = dummy.predict(X_test)"
   ]
  },
  {
   "cell_type": "code",
   "execution_count": 385,
   "metadata": {},
   "outputs": [
    {
     "data": {
      "image/png": "[encoded data removed]",
      "text/plain": [
       "<Figure size 432x288 with 2 Axes>"
      ]
     },
     "metadata": {
      "needs_background": "light"
     },
     "output_type": "display_data"
    }
   ],
   "source": [
    "plot_confusion_matrix(estimator=dummy, X=X_test, y_true=y_test, normalize='true');"
   ]
  },
  {
   "cell_type": "code",
   "execution_count": 386,
   "metadata": {},
   "outputs": [
    {
     "name": "stdout",
     "output_type": "stream",
     "text": [
      "Accuracy Score: 0.978965819456617\n"
     ]
    }
   ],
   "source": [
    "print(\"Accuracy Score: {}\".format(accuracy_score(y_test, y_pred)))"
   ]
  },
  {
   "cell_type": "markdown",
   "metadata": {},
   "source": [
    "## Data Preprocessing "
   ]
  },
  {
   "cell_type": "code",
   "execution_count": 430,
   "metadata": {},
   "outputs": [],
   "source": [
    "def vectorize_feature(vectorizer, X_train, X_test ):\n",
    "    sw = stopwords.words('english')\n",
    "    vectorizer = vectorizer(stop_words=sw)\n",
    "    \n",
    "    X_train_vec = vectorizer.fit_transform(X_train)\n",
    "    X_test_vec = vectorizer.transform(X_test)\n",
    "    \n",
    "    return vectorizer, X_train_vec, X_test_vec"
   ]
  },
  {
   "cell_type": "code",
   "execution_count": 439,
   "metadata": {},
   "outputs": [],
   "source": [
    "def plot_top_words(vectorizer, X_train):\n",
    "    \n",
    "    df = pd.DataFrame(X_train.toarray(), columns=vectorizer.get_feature_names())\n",
    "    limit = 10\n",
    "\n",
    "    plt.figure(figsize=(8,10))\n",
    "    plot = plt.barh(df.sum().sort_values(ascending=False)[:limit].index, \n",
    "             df.sum().sort_values(ascending=False)[:limit]);\n",
    "    \n",
    "    return plot"
   ]
  },
  {
   "cell_type": "code",
   "execution_count": 452,
   "metadata": {},
   "outputs": [],
   "source": [
    "def vector_tokenized(vectorizer, X_train, X_test):\n",
    "    sw = stopwords.words('english')\n",
    "    \n",
    "    vector_tokenized = [text_prep(text, sw) for text in X_train]\n",
    "    X_train_token_vec = vectorizer.fit_transform(vector_tokenized)\n",
    "    X_test_token_vec = vectorizer.transform(X_test)\n",
    "    \n",
    "    return X_train_token_vec, X_test_token_vec\n",
    "    "
   ]
  },
  {
   "cell_type": "markdown",
   "metadata": {},
   "source": [
    "#### Headline"
   ]
  },
  {
   "cell_type": "code",
   "execution_count": 465,
   "metadata": {},
   "outputs": [
    {
     "data": {
      "image/png": "[encoded data removed]",
      "text/plain": [
       "<Figure size 576x720 with 1 Axes>"
      ]
     },
     "metadata": {
      "needs_background": "light"
     },
     "output_type": "display_data"
    }
   ],
   "source": [
    "headline_tf, X_train_headline_tf, X_test_headline_tf = vectorize_feature(TfidfVectorizer, \n",
    "                                                                         X_train.headline, X_test.headline)\n",
    "\n",
    "X_train_headline_tf, X_test_headline_tf = vector_tokenized(headline_tf, X_train.headline, X_test.headline)\n",
    "\n",
    "\n",
    "X_train_headline_tf_sm, y_train_headline_tf_sm = smote_data(X_train_headline_tf, y_train, \n",
    "                                                  sampling_strategy='auto',random_state=0)\n",
    "\n",
    "# used later: X_train_headline_tf_sm, y_train_headline_tf_sm, X_test_headline_tf\n",
    "\n",
    "plot_top_words(headline_tf, X_train_headline_tf);"
   ]
  },
  {
   "cell_type": "code",
   "execution_count": 466,
   "metadata": {},
   "outputs": [
    {
     "data": {
      "image/png": "[encoded data removed]",
      "text/plain": [
       "<Figure size 576x720 with 1 Axes>"
      ]
     },
     "metadata": {
      "needs_background": "light"
     },
     "output_type": "display_data"
    }
   ],
   "source": [
    "headline_cv, X_train_headline_cv, X_test_headline_cv = vectorize_feature(CountVectorizer, \n",
    "                                                                         X_train.headline, X_test.headline)\n",
    "\n",
    "X_train_headline_cv, X_test_headline_cv = vector_tokenized(headline_cv, X_train.headline, X_test.headline)\n",
    "\n",
    "X_train_headline_cv_sm, y_train_headline_cv_sm = smote_data(X_train_headline_cv, y_train, \n",
    "                                                  sampling_strategy='auto',random_state=0)\n",
    "\n",
    "# used later: X_train_headline_cv_sm, y_train_headline_cv_sm, X_test_headline_cv\n",
    "\n",
    "plot_top_words(headline_cv, X_train_headline_cv);"
   ]
  },
  {
   "cell_type": "markdown",
   "metadata": {},
   "source": [
    "#### Keywords"
   ]
  },
  {
   "cell_type": "code",
   "execution_count": 467,
   "metadata": {},
   "outputs": [
    {
     "data": {
      "image/png": "[encoded data removed]",
      "text/plain": [
       "<Figure size 576x720 with 1 Axes>"
      ]
     },
     "metadata": {
      "needs_background": "light"
     },
     "output_type": "display_data"
    }
   ],
   "source": [
    "keywords_tf, X_train_keywords_tf, X_test_keywords_tf = vectorize_feature(TfidfVectorizer, \n",
    "                                                                         X_train.keywords, X_test.keywords)\n",
    "\n",
    "X_train_keywords_tf, X_test_keywords_tf = vector_tokenized(keywords_tf, X_train.keywords, X_test.keywords)\n",
    "\n",
    "X_train_keywords_tf_sm, y_train_keywords_tf_sm = smote_data(X_train_keywords_tf, y_train, \n",
    "                                                  sampling_strategy='auto',random_state=0)\n",
    "\n",
    "# used later: X_train_keywords_tf_sm, y_train_keywords_tf_sm, X_test_keywords_tf\n",
    "\n",
    "plot_top_words(keywords_tf, X_train_keywords_tf);"
   ]
  },
  {
   "cell_type": "code",
   "execution_count": 468,
   "metadata": {},
   "outputs": [
    {
     "data": {
      "image/png": "[encoded data removed]",
      "text/plain": [
       "<Figure size 576x720 with 1 Axes>"
      ]
     },
     "metadata": {
      "needs_background": "light"
     },
     "output_type": "display_data"
    }
   ],
   "source": [
    "keywords_cv, X_train_keywords_cv, X_test_keywords_cv = vectorize_feature(CountVectorizer, \n",
    "                                                                         X_train.keywords, X_test.keywords)\n",
    "\n",
    "X_train_keywords_cv, X_test_keywords_cv = vector_tokenized(keywords_cv, X_train.keywords, X_test.keywords)\n",
    "\n",
    "X_train_keywords_cv_sm, y_train_keywords_cv_sm = smote_data(X_train_keywords_cv, y_train, \n",
    "                                                  sampling_strategy='auto',random_state=0)\n",
    "\n",
    "# used later: X_train_keywords_cv_sm, y_train_keywords_cv_sm, X_test_keywords_cv\n",
    "\n",
    "plot_top_words(keywords_cv, X_train_keywords_cv);"
   ]
  },
  {
   "cell_type": "markdown",
   "metadata": {},
   "source": [
    "#### Snippet"
   ]
  },
  {
   "cell_type": "code",
   "execution_count": 469,
   "metadata": {},
   "outputs": [
    {
     "data": {
      "image/png": "[encoded data removed]",
      "text/plain": [
       "<Figure size 576x720 with 1 Axes>"
      ]
     },
     "metadata": {
      "needs_background": "light"
     },
     "output_type": "display_data"
    }
   ],
   "source": [
    "snippet_tf, X_train_snippet_tf, X_test_snippet_tf = vectorize_feature(TfidfVectorizer, \n",
    "                                                                         X_train.snippet, X_test.snippet)\n",
    "\n",
    "X_train_snippet_tf, X_test_snippet_tf = vector_tokenized(snippet_tf, X_train.snippet, X_test.snippet)\n",
    "\n",
    "X_train_snippet_tf_sm, y_train_snippet_tf_sm = smote_data(X_train_snippet_tf, y_train, \n",
    "                                                  sampling_strategy='auto',random_state=0)\n",
    "\n",
    "# used later: X_train_snippet_tf_sm, y_train_snippet_tf_sm, X_test_snippet_tf\n",
    "\n",
    "plot_top_words(snippet_tf, X_train_snippet_tf);"
   ]
  },
  {
   "cell_type": "code",
   "execution_count": 470,
   "metadata": {},
   "outputs": [
    {
     "data": {
      "image/png": "[encoded data removed]",
      "text/plain": [
       "<Figure size 576x720 with 1 Axes>"
      ]
     },
     "metadata": {
      "needs_background": "light"
     },
     "output_type": "display_data"
    }
   ],
   "source": [
    "snippet_cv, X_train_snippet_cv, X_test_snippet_cv = vectorize_feature(CountVectorizer, \n",
    "                                                                         X_train.snippet, X_test.snippet)\n",
    "\n",
    "X_train_snippet_cv, X_test_snippet_cv = vector_tokenized(snippet_cv, X_train.snippet, X_test.snippet)\n",
    "\n",
    "X_train_snippet_cv_sm, y_train_snippet_cv_sm = smote_data(X_train_snippet_cv, y_train, \n",
    "                                                  sampling_strategy='auto',random_state=0)\n",
    "\n",
    "# used later: X_train_snippet_cv_sm, y_train_snippet_cv_sm, X_test_snippet_cv\n",
    "\n",
    "plot_top_words(snippet_cv, X_train_snippet_cv);"
   ]
  },
  {
   "cell_type": "markdown",
   "metadata": {},
   "source": [
    "#### Word Count"
   ]
  },
  {
   "cell_type": "code",
   "execution_count": 471,
   "metadata": {},
   "outputs": [],
   "source": [
    "X_train_word_count_sm, y_train_word_count_sm = smote_data(X_train.word_count.values.reshape(-1, 1), \n",
    "                                                          y_train, sampling_strategy='auto',\n",
    "                                                          random_state=0)"
   ]
  },
  {
   "cell_type": "markdown",
   "metadata": {},
   "source": [
    "## Modeling"
   ]
  },
  {
   "cell_type": "code",
   "execution_count": 478,
   "metadata": {},
   "outputs": [],
   "source": [
    "def random_forrest(X_train, y_train, X_test, y_test):\n",
    "    \n",
    "    forrest = RandomForestClassifier()\n",
    "    grid = {'n_estimators': [50,75,100]}\n",
    "    \n",
    "    gs = GridSearchCV(estimator=forrest, param_grid=grid, cv=5, scoring='accuracy')\n",
    "    gs.fit(X_train, y_train)\n",
    "\n",
    "    score = gs.score(X_test, y_test)\n",
    "    print(f'mean accuracy: {score}')\n",
    "    \n",
    "    class_probability = gs.predict_proba(X_test)\n",
    "    target_probability = [x[1] for x in class_probability]\n",
    "    \n",
    "    # Plot an ROC curve (only works with binary data)\n",
    "    fig, ax = plt.subplots()\n",
    "    plt.title('ROC Curve')\n",
    "    plot_roc_curve(gs, X_train, y_train, name='Train', ax=ax)\n",
    "    plot_roc_curve(gs, X_test, y_test, name='Test', ax=ax)\n",
    "    \n",
    "    # Plot Confusion Matrix\n",
    "    plot_confusion_matrix(gs, X_test, y_test)\n",
    "    \n",
    "    return target_probability"
   ]
  },
  {
   "cell_type": "markdown",
   "metadata": {},
   "source": [
    "#### Headline"
   ]
  },
  {
   "cell_type": "markdown",
   "metadata": {},
   "source": [
    "##### TfidfVectorizer"
   ]
  },
  {
   "cell_type": "code",
   "execution_count": 479,
   "metadata": {},
   "outputs": [
    {
     "name": "stdout",
     "output_type": "stream",
     "text": [
      "mean accuracy: 0.9894829097283085\n",
      "number of probabilities: 1141\n",
      "\n"
     ]
    },
    {
     "data": {
      "image/png": "[encoded data removed]",
      "text/plain": [
       "<Figure size 432x288 with 1 Axes>"
      ]
     },
     "metadata": {
      "needs_background": "light"
     },
     "output_type": "display_data"
    },
    {
     "data": {
      "image/png": "[encoded data removed]",
      "text/plain": [
       "<Figure size 432x288 with 2 Axes>"
      ]
     },
     "metadata": {
      "needs_background": "light"
     },
     "output_type": "display_data"
    }
   ],
   "source": [
    "headline_tf_prob = random_forrest(X_train_headline_tf_sm, y_train_headline_tf_sm, X_test_headline_tf, y_test)\n",
    "print(f'number of probabilities: {len(headline_tf_prob)}')\n",
    "print()"
   ]
  },
  {
   "cell_type": "markdown",
   "metadata": {},
   "source": [
    "##### CountVectorizer"
   ]
  },
  {
   "cell_type": "code",
   "execution_count": 480,
   "metadata": {},
   "outputs": [
    {
     "name": "stdout",
     "output_type": "stream",
     "text": [
      "mean accuracy: 0.7730061349693251\n",
      "number of probabilities: 1141\n",
      "\n"
     ]
    },
    {
     "data": {
      "image/png": "[encoded data removed]",
      "text/plain": [
       "<Figure size 432x288 with 1 Axes>"
      ]
     },
     "metadata": {
      "needs_background": "light"
     },
     "output_type": "display_data"
    },
    {
     "data": {
      "image/png": "[encoded data removed]",
      "text/plain": [
       "<Figure size 432x288 with 2 Axes>"
      ]
     },
     "metadata": {
      "needs_background": "light"
     },
     "output_type": "display_data"
    }
   ],
   "source": [
    "headline_cv_prob = random_forrest(X_train_headline_cv_sm, y_train_headline_cv_sm, X_test_headline_cv, y_test)\n",
    "print(f'number of probabilities: {len(headline_cv_prob)}')\n",
    "print()"
   ]
  },
  {
   "cell_type": "markdown",
   "metadata": {},
   "source": [
    "#### Keywords"
   ]
  },
  {
   "cell_type": "markdown",
   "metadata": {},
   "source": []
  },
  {
   "cell_type": "code",
   "execution_count": 479,
   "metadata": {},
   "outputs": [
    {
     "name": "stdout",
     "output_type": "stream",
     "text": [
      "mean accuracy: 0.9894829097283085\n",
      "number of probabilities: 1141\n",
      "\n"
     ]
    },
    {
     "data": {
      "image/png": "[encoded data removed]",
      "text/plain": [
       "<Figure size 432x288 with 1 Axes>"
      ]
     },
     "metadata": {
      "needs_background": "light"
     },
     "output_type": "display_data"
    },
    {
     "data": {
      "image/png": "[encoded data removed]",
      "text/plain": [
       "<Figure size 432x288 with 2 Axes>"
      ]
     },
     "metadata": {
      "needs_background": "light"
     },
     "output_type": "display_data"
    }
   ],
   "source": [
    "headline_tf_prob = random_forrest(X_train_headline_tf_sm, y_train_headline_tf_sm, X_test_headline_tf, y_test)\n",
    "print(f'number of probabilities: {len(headline_tf_prob)}')\n",
    "print()"
   ]
  },
  {
   "cell_type": "markdown",
   "metadata": {},
   "source": [
    "##### CountVectorizer"
   ]
  },
  {
   "cell_type": "code",
   "execution_count": 480,
   "metadata": {},
   "outputs": [
    {
     "name": "stdout",
     "output_type": "stream",
     "text": [
      "mean accuracy: 0.7730061349693251\n",
      "number of probabilities: 1141\n",
      "\n"
     ]
    },
    {
     "data": {
      "image/png": "[encoded data removed]",
      "text/plain": [
       "<Figure size 432x288 with 1 Axes>"
      ]
     },
     "metadata": {
      "needs_background": "light"
     },
     "output_type": "display_data"
    },
    {
     "data": {
      "image/png": "[encoded data removed]",
      "text/plain": [
       "<Figure size 432x288 with 2 Axes>"
      ]
     },
     "metadata": {
      "needs_background": "light"
     },
     "output_type": "display_data"
    }
   ],
   "source": [
    "headline_cv_prob = random_forrest(X_train_headline_cv_sm, y_train_headline_cv_sm, X_test_headline_cv, y_test)\n",
    "print(f'number of probabilities: {len(headline_cv_prob)}')\n",
    "print()"
   ]
  },
  {
   "cell_type": "code",
   "execution_count": 319,
   "metadata": {},
   "outputs": [],
   "source": [
    "# Create the random grid\n",
    "keywords_grid = {'n_estimators': [50,75,100]}"
   ]
  },
  {
   "cell_type": "markdown",
   "metadata": {},
   "source": [
    "## Snippet Random Forrest"
   ]
  },
  {
   "cell_type": "code",
   "execution_count": 331,
   "metadata": {},
   "outputs": [],
   "source": [
    "forest_snippet = RandomForestClassifier()"
   ]
  },
  {
   "cell_type": "code",
   "execution_count": 332,
   "metadata": {},
   "outputs": [],
   "source": [
    "# Create the random grid\n",
    "snippet_grid = {'n_estimators': [50,75,100]}"
   ]
  },
  {
   "cell_type": "code",
   "execution_count": 333,
   "metadata": {},
   "outputs": [
    {
     "data": {
      "text/plain": [
       "GridSearchCV(cv=5, estimator=RandomForestClassifier(),\n",
       "             param_grid={'n_estimators': [50, 75, 100]}, scoring='accuracy')"
      ]
     },
     "execution_count": 333,
     "metadata": {},
     "output_type": "execute_result"
    }
   ],
   "source": [
    "# Instantiate & fit GridSearchCV with accuracy scoring\n",
    "gs_snippet = GridSearchCV(estimator=forest_snippet, param_grid=snippet_grid, cv=5, scoring='accuracy')\n",
    "gs_snippet.fit(X_train_snippet_sm, y_train_snippet_sm)"
   ]
  },
  {
   "cell_type": "code",
   "execution_count": 334,
   "metadata": {},
   "outputs": [
    {
     "data": {
      "text/plain": [
       "{'n_estimators': 100}"
      ]
     },
     "execution_count": 334,
     "metadata": {},
     "output_type": "execute_result"
    }
   ],
   "source": [
    "gs_snippet.best_params_"
   ]
  },
  {
   "cell_type": "code",
   "execution_count": 335,
   "metadata": {},
   "outputs": [
    {
     "data": {
      "text/plain": [
       "1141"
      ]
     },
     "execution_count": 335,
     "metadata": {},
     "output_type": "execute_result"
    }
   ],
   "source": [
    "snippet_prob = gs_snippet.predict_proba(X_test_snippet_vec)\n",
    "snippet_prob = [x[1] for x in snippet_prob]\n",
    "len(snippet_prob)"
   ]
  },
  {
   "cell_type": "code",
   "execution_count": 336,
   "metadata": {},
   "outputs": [
    {
     "data": {
      "text/plain": [
       "array([0, 1])"
      ]
     },
     "execution_count": 336,
     "metadata": {},
     "output_type": "execute_result"
    }
   ],
   "source": [
    "gs_snippet.best_estimator_.classes_"
   ]
  },
  {
   "cell_type": "code",
   "execution_count": 337,
   "metadata": {},
   "outputs": [
    {
     "data": {
      "text/plain": [
       "1.0"
      ]
     },
     "execution_count": 337,
     "metadata": {},
     "output_type": "execute_result"
    }
   ],
   "source": [
    "max(snippet_prob)"
   ]
  },
  {
   "cell_type": "markdown",
   "metadata": {},
   "source": [
    "## Word Count Logistic"
   ]
  },
  {
   "cell_type": "code",
   "execution_count": 345,
   "metadata": {},
   "outputs": [],
   "source": [
    "clf_word_count = LogisticRegression()"
   ]
  },
  {
   "cell_type": "code",
   "execution_count": 346,
   "metadata": {},
   "outputs": [
    {
     "data": {
      "text/plain": [
       "LogisticRegression()"
      ]
     },
     "execution_count": 346,
     "metadata": {},
     "output_type": "execute_result"
    }
   ],
   "source": [
    "clf_word_count.fit(X_train_word_count_sm, y_train_word_count_sm)"
   ]
  },
  {
   "cell_type": "code",
   "execution_count": 347,
   "metadata": {},
   "outputs": [
    {
     "data": {
      "text/plain": [
       "1141"
      ]
     },
     "execution_count": 347,
     "metadata": {},
     "output_type": "execute_result"
    }
   ],
   "source": [
    "word_count_prob = clf_word_count.predict_proba(X_test.word_count.values.reshape(-1, 1))\n",
    "word_count_prob = [x[1] for x in word_count_prob]\n",
    "len(word_count_prob)"
   ]
  },
  {
   "cell_type": "code",
   "execution_count": 348,
   "metadata": {},
   "outputs": [
    {
     "data": {
      "text/plain": [
       "0.7491310076735012"
      ]
     },
     "execution_count": 348,
     "metadata": {},
     "output_type": "execute_result"
    }
   ],
   "source": [
    "max(word_count_prob)"
   ]
  },
  {
   "cell_type": "markdown",
   "metadata": {},
   "source": [
    "### Logistic Regression"
   ]
  },
  {
   "cell_type": "code",
   "execution_count": 349,
   "metadata": {},
   "outputs": [],
   "source": [
    "df_predict = pd.DataFrame({'headline_prob': headline_prob, \n",
    "                           'keywords_prob': headline_prob, \n",
    "                           'snippet_prob': snippet_prob,\n",
    "                           'word_count_prob': word_count_prob, \n",
    "                           'popular': y_test})"
   ]
  },
  {
   "cell_type": "code",
   "execution_count": 350,
   "metadata": {},
   "outputs": [
    {
     "data": {
      "text/html": [
       "<div>\n",
       "<style scoped>\n",
       "    .dataframe tbody tr th:only-of-type {\n",
       "        vertical-align: middle;\n",
       "    }\n",
       "\n",
       "    .dataframe tbody tr th {\n",
       "        vertical-align: top;\n",
       "    }\n",
       "\n",
       "    .dataframe thead th {\n",
       "        text-align: right;\n",
       "    }\n",
       "</style>\n",
       "<table border=\"1\" class=\"dataframe\">\n",
       "  <thead>\n",
       "    <tr style=\"text-align: right;\">\n",
       "      <th></th>\n",
       "      <th>headline_prob</th>\n",
       "      <th>keywords_prob</th>\n",
       "      <th>snippet_prob</th>\n",
       "      <th>word_count_prob</th>\n",
       "      <th>popular</th>\n",
       "    </tr>\n",
       "  </thead>\n",
       "  <tbody>\n",
       "    <tr>\n",
       "      <th>2177</th>\n",
       "      <td>0.420000</td>\n",
       "      <td>0.420000</td>\n",
       "      <td>0.04</td>\n",
       "      <td>0.468788</td>\n",
       "      <td>0</td>\n",
       "    </tr>\n",
       "    <tr>\n",
       "      <th>1480</th>\n",
       "      <td>0.000000</td>\n",
       "      <td>0.000000</td>\n",
       "      <td>0.07</td>\n",
       "      <td>0.508206</td>\n",
       "      <td>0</td>\n",
       "    </tr>\n",
       "    <tr>\n",
       "      <th>2422</th>\n",
       "      <td>0.119974</td>\n",
       "      <td>0.119974</td>\n",
       "      <td>1.00</td>\n",
       "      <td>0.456294</td>\n",
       "      <td>0</td>\n",
       "    </tr>\n",
       "    <tr>\n",
       "      <th>3821</th>\n",
       "      <td>0.680000</td>\n",
       "      <td>0.680000</td>\n",
       "      <td>0.00</td>\n",
       "      <td>0.523595</td>\n",
       "      <td>0</td>\n",
       "    </tr>\n",
       "    <tr>\n",
       "      <th>3698</th>\n",
       "      <td>0.140000</td>\n",
       "      <td>0.140000</td>\n",
       "      <td>0.12</td>\n",
       "      <td>0.480290</td>\n",
       "      <td>0</td>\n",
       "    </tr>\n",
       "  </tbody>\n",
       "</table>\n",
       "</div>"
      ],
      "text/plain": [
       "      headline_prob  keywords_prob  snippet_prob  word_count_prob  popular\n",
       "2177       0.420000       0.420000          0.04         0.468788        0\n",
       "1480       0.000000       0.000000          0.07         0.508206        0\n",
       "2422       0.119974       0.119974          1.00         0.456294        0\n",
       "3821       0.680000       0.680000          0.00         0.523595        0\n",
       "3698       0.140000       0.140000          0.12         0.480290        0"
      ]
     },
     "execution_count": 350,
     "metadata": {},
     "output_type": "execute_result"
    }
   ],
   "source": [
    "df_predict.head()"
   ]
  },
  {
   "cell_type": "code",
   "execution_count": 351,
   "metadata": {},
   "outputs": [
    {
     "name": "stdout",
     "output_type": "stream",
     "text": [
      "<class 'pandas.core.frame.DataFrame'>\n",
      "Int64Index: 1141 entries, 2177 to 3540\n",
      "Data columns (total 5 columns):\n",
      " #   Column           Non-Null Count  Dtype  \n",
      "---  ------           --------------  -----  \n",
      " 0   headline_prob    1141 non-null   float64\n",
      " 1   keywords_prob    1141 non-null   float64\n",
      " 2   snippet_prob     1141 non-null   float64\n",
      " 3   word_count_prob  1141 non-null   float64\n",
      " 4   popular          1141 non-null   int64  \n",
      "dtypes: float64(4), int64(1)\n",
      "memory usage: 53.5 KB\n"
     ]
    }
   ],
   "source": [
    "df_predict.info()"
   ]
  },
  {
   "cell_type": "code",
   "execution_count": 352,
   "metadata": {},
   "outputs": [],
   "source": [
    "features = df_predict.drop('popular', axis=1)\n",
    "target = df_predict.popular"
   ]
  },
  {
   "cell_type": "code",
   "execution_count": 353,
   "metadata": {},
   "outputs": [],
   "source": [
    "clf = LogisticRegression()"
   ]
  },
  {
   "cell_type": "code",
   "execution_count": 354,
   "metadata": {},
   "outputs": [
    {
     "data": {
      "text/plain": [
       "LogisticRegression()"
      ]
     },
     "execution_count": 354,
     "metadata": {},
     "output_type": "execute_result"
    }
   ],
   "source": [
    "clf.fit(features, target)"
   ]
  },
  {
   "cell_type": "code",
   "execution_count": null,
   "metadata": {},
   "outputs": [],
   "source": [
    "clf.predict()"
   ]
  }
 ],
 "metadata": {
  "kernelspec": {
   "display_name": "Python (learn-env)",
   "language": "python",
   "name": "learn-env"
  },
  "language_info": {
   "codemirror_mode": {
    "name": "ipython",
    "version": 3
   },
   "file_extension": ".py",
   "mimetype": "text/x-python",
   "name": "python",
   "nbconvert_exporter": "python",
   "pygments_lexer": "ipython3",
   "version": "3.8.5"
  }
 },
 "nbformat": 4,
 "nbformat_minor": 4
}
