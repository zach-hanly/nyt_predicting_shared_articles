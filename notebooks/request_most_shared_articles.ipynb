{
 "cells": [
  {
   "cell_type": "markdown",
   "metadata": {},
   "source": [
    "## Request, clean and save Top 20 most shared NYT articles"
   ]
  },
  {
   "cell_type": "code",
   "execution_count": 1,
   "metadata": {},
   "outputs": [],
   "source": [
    " # import required packages  \n",
    "import requests \n",
    "import json\n",
    "import pandas as pd"
   ]
  },
  {
   "cell_type": "code",
   "execution_count": 2,
   "metadata": {},
   "outputs": [],
   "source": [
    "#function to access private API key\n",
    "def get_api_key(path):\n",
    "    with open(path) as f:\n",
    "        return json.load(f)"
   ]
  },
  {
   "cell_type": "code",
   "execution_count": 3,
   "metadata": {},
   "outputs": [],
   "source": [
    "# function to get a list of most shared articles for provided time period (in days)\n",
    "def get_most_shared_articles(search_period):\n",
    "    most_shared_articles = []\n",
    "    period = str(search_period)\n",
    "    \n",
    "    # get API key from private folder in director out of repo\n",
    "    api_key = get_api_key(\"../../.nyt_api.json\")['api_key']\n",
    "    url = f'https://api.nytimes.com/svc/mostpopular/v2/shared/{period}/facebook.json?api-key={api_key}'\n",
    "    response = requests.get(url)\n",
    "    response_json = response.json()\n",
    "    most_shared_articles = response_json['results']\n",
    "    \n",
    "    return most_shared_articles"
   ]
  },
  {
   "cell_type": "code",
   "execution_count": 4,
   "metadata": {},
   "outputs": [],
   "source": [
    "# function to extract only needed information and make strings lowercase \n",
    "def cleaned_shared_articles(most_shared_articles):\n",
    "    cleaned_articles = []\n",
    "    \n",
    "    # loop through every article and append to empty list \n",
    "    for article in most_shared_articles:\n",
    "        date = pd.Timestamp(\"today\").strftime(\"%m/%d/%Y\")\n",
    "        idx = pd.to_datetime(date)\n",
    "        uri = article['uri']\n",
    "        date_published = pd.to_datetime(article['published_date'])\n",
    "        cleaned_articles.append([idx, uri, date_published])\n",
    "        \n",
    "    return cleaned_articles"
   ]
  },
  {
   "cell_type": "code",
   "execution_count": 5,
   "metadata": {},
   "outputs": [],
   "source": [
    "# access current day to label data with the day it was accessed \n",
    "date_sourced = pd.Timestamp(\"today\").strftime(\"%m/%d/%Y\")\n",
    "date_sourced = date_sourced.replace('/','_')"
   ]
  },
  {
   "cell_type": "code",
   "execution_count": 6,
   "metadata": {},
   "outputs": [],
   "source": [
    "# uncomment to initalize some data from the past 30 days\n",
    "# most_shared_before = get_most_shared_articles(30)"
   ]
  },
  {
   "cell_type": "code",
   "execution_count": 7,
   "metadata": {},
   "outputs": [],
   "source": [
    "# cleaned_most_shared_before = cleaned_shared_articles(most_shared_before)"
   ]
  },
  {
   "cell_type": "code",
   "execution_count": 8,
   "metadata": {},
   "outputs": [],
   "source": [
    "# df_shared_before = pd.DataFrame(cleaned_most_shared_before)"
   ]
  },
  {
   "cell_type": "code",
   "execution_count": 9,
   "metadata": {},
   "outputs": [],
   "source": [
    "# df_shared_before.columns = ['date_sourced', 'uri', 'date_published']"
   ]
  },
  {
   "cell_type": "code",
   "execution_count": 10,
   "metadata": {},
   "outputs": [],
   "source": [
    "# df_shared_before.head()"
   ]
  },
  {
   "cell_type": "code",
   "execution_count": 11,
   "metadata": {},
   "outputs": [],
   "source": [
    "# df_shared_before.shape"
   ]
  },
  {
   "cell_type": "code",
   "execution_count": 12,
   "metadata": {},
   "outputs": [],
   "source": [
    "# df_shared_before.to_csv(f'data/most_popular/most_shared_before{date_sourced}.csv', index=False)"
   ]
  },
  {
   "cell_type": "code",
   "execution_count": 13,
   "metadata": {},
   "outputs": [],
   "source": [
    "# make API call with function to get most shared articles from previous day \n",
    "most_shared_articles = get_most_shared_articles(1)"
   ]
  },
  {
   "cell_type": "code",
   "execution_count": 14,
   "metadata": {},
   "outputs": [],
   "source": [
    "# pass list of articles through cleaning function \n",
    "cleaned_most_shared = cleaned_shared_articles(most_shared_articles)"
   ]
  },
  {
   "cell_type": "code",
   "execution_count": 15,
   "metadata": {},
   "outputs": [],
   "source": [
    "# put articles in dataframe\n",
    "df_shared = pd.DataFrame(cleaned_most_shared)"
   ]
  },
  {
   "cell_type": "code",
   "execution_count": 16,
   "metadata": {},
   "outputs": [],
   "source": [
    "# rename columns to strings \n",
    "df_shared.columns = ['date_sourced', 'uri', 'date_published']"
   ]
  },
  {
   "cell_type": "code",
   "execution_count": 17,
   "metadata": {},
   "outputs": [
    {
     "data": {
      "text/html": [
       "<div>\n",
       "<style scoped>\n",
       "    .dataframe tbody tr th:only-of-type {\n",
       "        vertical-align: middle;\n",
       "    }\n",
       "\n",
       "    .dataframe tbody tr th {\n",
       "        vertical-align: top;\n",
       "    }\n",
       "\n",
       "    .dataframe thead th {\n",
       "        text-align: right;\n",
       "    }\n",
       "</style>\n",
       "<table border=\"1\" class=\"dataframe\">\n",
       "  <thead>\n",
       "    <tr style=\"text-align: right;\">\n",
       "      <th></th>\n",
       "      <th>date_sourced</th>\n",
       "      <th>uri</th>\n",
       "      <th>date_published</th>\n",
       "    </tr>\n",
       "  </thead>\n",
       "  <tbody>\n",
       "    <tr>\n",
       "      <th>0</th>\n",
       "      <td>2022-01-18</td>\n",
       "      <td>nyt://article/f0eae40a-c7c9-584f-a85d-d68544f5...</td>\n",
       "      <td>2022-01-17</td>\n",
       "    </tr>\n",
       "    <tr>\n",
       "      <th>1</th>\n",
       "      <td>2022-01-18</td>\n",
       "      <td>nyt://article/a8cd2b1d-beab-5c35-a403-6395feaa...</td>\n",
       "      <td>2022-01-16</td>\n",
       "    </tr>\n",
       "    <tr>\n",
       "      <th>2</th>\n",
       "      <td>2022-01-18</td>\n",
       "      <td>nyt://article/47ae1e8e-64e9-5d46-96df-5edfb972...</td>\n",
       "      <td>2022-01-16</td>\n",
       "    </tr>\n",
       "    <tr>\n",
       "      <th>3</th>\n",
       "      <td>2022-01-18</td>\n",
       "      <td>nyt://article/3e9f24a2-4313-57d0-bff3-e900f930...</td>\n",
       "      <td>2022-01-15</td>\n",
       "    </tr>\n",
       "    <tr>\n",
       "      <th>4</th>\n",
       "      <td>2022-01-18</td>\n",
       "      <td>nyt://article/32042f84-b000-5027-aadf-8d55047b...</td>\n",
       "      <td>2022-01-16</td>\n",
       "    </tr>\n",
       "  </tbody>\n",
       "</table>\n",
       "</div>"
      ],
      "text/plain": [
       "  date_sourced                                                uri  \\\n",
       "0   2022-01-18  nyt://article/f0eae40a-c7c9-584f-a85d-d68544f5...   \n",
       "1   2022-01-18  nyt://article/a8cd2b1d-beab-5c35-a403-6395feaa...   \n",
       "2   2022-01-18  nyt://article/47ae1e8e-64e9-5d46-96df-5edfb972...   \n",
       "3   2022-01-18  nyt://article/3e9f24a2-4313-57d0-bff3-e900f930...   \n",
       "4   2022-01-18  nyt://article/32042f84-b000-5027-aadf-8d55047b...   \n",
       "\n",
       "  date_published  \n",
       "0     2022-01-17  \n",
       "1     2022-01-16  \n",
       "2     2022-01-16  \n",
       "3     2022-01-15  \n",
       "4     2022-01-16  "
      ]
     },
     "execution_count": 17,
     "metadata": {},
     "output_type": "execute_result"
    }
   ],
   "source": [
    "df_shared.head()"
   ]
  },
  {
   "cell_type": "code",
   "execution_count": 20,
   "metadata": {},
   "outputs": [
    {
     "data": {
      "text/plain": [
       "(20, 4)"
      ]
     },
     "execution_count": 20,
     "metadata": {},
     "output_type": "execute_result"
    }
   ],
   "source": [
    "df_shared.shape"
   ]
  },
  {
   "cell_type": "code",
   "execution_count": 21,
   "metadata": {},
   "outputs": [],
   "source": [
    "# df_shared.to_csv(f'../data/most_popular/most_shared_{date_sourced}.csv', index=False) "
   ]
  },
  {
   "cell_type": "code",
   "execution_count": 22,
   "metadata": {},
   "outputs": [
    {
     "data": {
      "text/plain": [
       "' uncoment and unindent next line to divert top 20 lists for deployment into a different folder.\\n    comment line above to prevent delpoyment data from leaking into training folder.\\n'"
      ]
     },
     "execution_count": 22,
     "metadata": {},
     "output_type": "execute_result"
    }
   ],
   "source": [
    "\"\"\" uncoment and unindent next line to divert top 20 lists for deployment into a different folder.\n",
    "    comment line above to prevent delpoyment data from leaking into training folder.\n",
    "\"\"\"\n",
    "    # df_shared.to_csv(f'../data/most_popular_deploy/most_shared_{date_sourced}.csv', index=False)"
   ]
  }
 ],
 "metadata": {
  "kernelspec": {
   "display_name": "Python (learn-env)",
   "language": "python",
   "name": "learn-env"
  },
  "language_info": {
   "codemirror_mode": {
    "name": "ipython",
    "version": 3
   },
   "file_extension": ".py",
   "mimetype": "text/x-python",
   "name": "python",
   "nbconvert_exporter": "python",
   "pygments_lexer": "ipython3",
   "version": "3.8.5"
  }
 },
 "nbformat": 4,
 "nbformat_minor": 4
}
